{
 "cells": [
  {
   "attachments": {},
   "cell_type": "markdown",
   "metadata": {},
   "source": [
    "# 1. Nhập dữ liệu"
   ]
  },
  {
   "cell_type": "code",
   "execution_count": 77,
   "metadata": {},
   "outputs": [],
   "source": [
    "from rdkit.Chem import AllChem\n",
    "from rdkit import Chem\n",
    "from rdkit.Chem import Descriptors\n",
    "from rdkit.ML.Descriptors import MoleculeDescriptors\n",
    "\n",
    "import pandas as pd\n",
    "import numpy as np\n",
    "import matplotlib.pyplot as plt\n",
    "import seaborn as sns\n",
    "\n",
    "from mordred import Calculator, descriptors"
   ]
  },
  {
   "cell_type": "code",
   "execution_count": 78,
   "metadata": {},
   "outputs": [],
   "source": [
    "from sklearn.model_selection import train_test_split\n",
    "dataset = pd.read_excel(\"../data_for_modeling/filter_data/v1/HDAC2_data_after_filtering_raw.xlsx\", sheet_name=\"Final data to train\")\n",
    "train_df, test_df = train_test_split(dataset, test_size=0.2, random_state=42)\n",
    "\n",
    "# Save train and test sets to files\n",
    "train_df.to_csv(\"../data_for_modeling/filter_data/v1/train.csv\", index=False)\n",
    "test_df.to_csv(\"../data_for_modeling/filter_data/v1/test.csv\", index=False)"
   ]
  },
  {
   "cell_type": "code",
   "execution_count": 79,
   "metadata": {},
   "outputs": [],
   "source": [
    "test_dataset = pd.read_csv(\"../data_for_modeling/filter_data/v1/test.csv\")\n",
    "train_dataset = pd.read_csv(\"../data_for_modeling/filter_data/v1/train.csv\")"
   ]
  },
  {
   "attachments": {},
   "cell_type": "markdown",
   "metadata": {},
   "source": [
    "# 2. Xây dựng mô hình với Modred descriptors"
   ]
  },
  {
   "cell_type": "markdown",
   "metadata": {},
   "source": [
    "## 2.1. Tính toán mordred descriptors"
   ]
  },
  {
   "attachments": {},
   "cell_type": "markdown",
   "metadata": {},
   "source": [
    "__Mã hóa cấu trúc phân tử bằng Modred descriptors__"
   ]
  },
  {
   "cell_type": "code",
   "execution_count": 80,
   "metadata": {},
   "outputs": [],
   "source": [
    "def process_modred(data):\n",
    "    calc = Calculator(descriptors, ignore_3D=True)\n",
    "    mols = [Chem.MolFromSmiles(smi) for smi in data]\n",
    "    # pandas df\n",
    "    df = calc.pandas(mols)\n",
    "    return df"
   ]
  },
  {
   "cell_type": "code",
   "execution_count": 82,
   "metadata": {},
   "outputs": [
    {
     "name": "stderr",
     "output_type": "stream",
     "text": [
      " 10%|▉         | 77/794 [00:05<00:38, 18.44it/s]"
     ]
    },
    {
     "name": "stdout",
     "output_type": "stream",
     "text": [
      "/home/mrcong/anaconda3/envs/my-rdkit-env/lib/python3.11/site-packages/numpy/core/fromnumeric.py:86: RuntimeWarning: overflow encountered in reduce\n",
      "  return ufunc.reduce(obj, axis, dtype, out, **passkwargs)\n"
     ]
    },
    {
     "name": "stderr",
     "output_type": "stream",
     "text": [
      " 60%|█████▉    | 474/794 [00:33<00:16, 19.82it/s]"
     ]
    },
    {
     "name": "stdout",
     "output_type": "stream",
     "text": [
      "/home/mrcong/anaconda3/envs/my-rdkit-env/lib/python3.11/site-packages/numpy/core/fromnumeric.py:86: RuntimeWarning: overflow encountered in reduce\n",
      "  return ufunc.reduce(obj, axis, dtype, out, **passkwargs)\n"
     ]
    },
    {
     "name": "stderr",
     "output_type": "stream",
     "text": [
      " 92%|█████████▏| 733/794 [00:52<00:04, 13.91it/s]"
     ]
    },
    {
     "name": "stdout",
     "output_type": "stream",
     "text": [
      "/home/mrcong/anaconda3/envs/my-rdkit-env/lib/python3.11/site-packages/numpy/core/fromnumeric.py:86: RuntimeWarning: overflow encountered in reduce\n",
      "  return ufunc.reduce(obj, axis, dtype, out, **passkwargs)\n"
     ]
    },
    {
     "name": "stderr",
     "output_type": "stream",
     "text": [
      "100%|██████████| 794/794 [00:56<00:00, 14.05it/s]\n",
      " 20%|█▉        | 39/199 [00:04<00:12, 12.36it/s]"
     ]
    },
    {
     "name": "stdout",
     "output_type": "stream",
     "text": [
      "/home/mrcong/anaconda3/envs/my-rdkit-env/lib/python3.11/site-packages/numpy/core/fromnumeric.py:86: RuntimeWarning: overflow encountered in reduce\n",
      "  return ufunc.reduce(obj, axis, dtype, out, **passkwargs)\n"
     ]
    },
    {
     "name": "stderr",
     "output_type": "stream",
     "text": [
      "100%|██████████| 199/199 [00:16<00:00, 12.40it/s]\n"
     ]
    }
   ],
   "source": [
    "#Tìm các dữ liệu (2'18s) \n",
    "train_modred_descriptors = process_modred(train_dataset['SMILES'])\n",
    "test_mordred_descriptors = process_modred(test_dataset['SMILES'])"
   ]
  },
  {
   "cell_type": "code",
   "execution_count": 83,
   "metadata": {},
   "outputs": [],
   "source": [
    "train_modred_descriptors = pd.DataFrame(train_modred_descriptors)\n",
    "test_mordred_descriptors = pd.DataFrame(test_mordred_descriptors)"
   ]
  },
  {
   "attachments": {},
   "cell_type": "markdown",
   "metadata": {},
   "source": [
    "__Làm sạch dữ liệu__"
   ]
  },
  {
   "attachments": {},
   "cell_type": "markdown",
   "metadata": {},
   "source": [
    "- Do thuật toán mã hóa Modred không thể tìm được mọi features của SMILES nên sẽ có một số chỗ không phải là số thực mà là một object báo lỗi, ta sẽ loại bỏ tất cả object báo lỗi này.\n",
    "- Các dữ liệu sau khi xử lý có giá trị khác numpy.float64 và numpy.int64 thì cho bằng 0.\n",
    "- Toàn bộ dữ liệu ta xử lý đều là dữ liệu số, vì vậy ta sẽ đặt những object này với giá trị bằng 0."
   ]
  },
  {
   "cell_type": "code",
   "execution_count": 90,
   "metadata": {},
   "outputs": [],
   "source": [
    "train_np = np.array(train_modred_descriptors)\n",
    "test_np = np.array(test_mordred_descriptors)"
   ]
  },
  {
   "cell_type": "code",
   "execution_count": 85,
   "metadata": {},
   "outputs": [],
   "source": [
    "for (row, col), value in np.ndenumerate(train_np):\n",
    "    if not (value.__class__ in [int, float, np.float64, np.float32, np.int64, np.int32]):\n",
    "        train_np[row, col] = 0\n",
    "        \n",
    "for (row, col), value in np.ndenumerate(test_np):\n",
    "    if not (value.__class__ in [int, float, np.float64, np.float32, np.int64, np.int32]):\n",
    "        test_np[row, col] = 0"
   ]
  },
  {
   "attachments": {},
   "cell_type": "markdown",
   "metadata": {},
   "source": [
    "## 2.2 Tiền xử lý dữ liệu"
   ]
  },
  {
   "cell_type": "markdown",
   "metadata": {},
   "source": [
    "__Sử dụng Standard Scaler nhằm chuẩn hóa dữ liệu__"
   ]
  },
  {
   "cell_type": "code",
   "execution_count": 86,
   "metadata": {},
   "outputs": [
    {
     "data": {
      "text/html": [
       "<div>\n",
       "<style scoped>\n",
       "    .dataframe tbody tr th:only-of-type {\n",
       "        vertical-align: middle;\n",
       "    }\n",
       "\n",
       "    .dataframe tbody tr th {\n",
       "        vertical-align: top;\n",
       "    }\n",
       "\n",
       "    .dataframe thead th {\n",
       "        text-align: right;\n",
       "    }\n",
       "</style>\n",
       "<table border=\"1\" class=\"dataframe\">\n",
       "  <thead>\n",
       "    <tr style=\"text-align: right;\">\n",
       "      <th></th>\n",
       "      <th>ABC</th>\n",
       "      <th>ABCGG</th>\n",
       "      <th>nAcid</th>\n",
       "      <th>nBase</th>\n",
       "      <th>SpAbs_A</th>\n",
       "      <th>SpMax_A</th>\n",
       "      <th>SpDiam_A</th>\n",
       "      <th>SpAD_A</th>\n",
       "      <th>SpMAD_A</th>\n",
       "      <th>LogEE_A</th>\n",
       "      <th>...</th>\n",
       "      <th>SRW10</th>\n",
       "      <th>TSRW10</th>\n",
       "      <th>MW</th>\n",
       "      <th>AMW</th>\n",
       "      <th>WPath</th>\n",
       "      <th>WPol</th>\n",
       "      <th>Zagreb1</th>\n",
       "      <th>Zagreb2</th>\n",
       "      <th>mZagreb1</th>\n",
       "      <th>mZagreb2</th>\n",
       "    </tr>\n",
       "  </thead>\n",
       "  <tbody>\n",
       "    <tr>\n",
       "      <th>0</th>\n",
       "      <td>0</td>\n",
       "      <td>0</td>\n",
       "      <td>1</td>\n",
       "      <td>0</td>\n",
       "      <td>43.826598</td>\n",
       "      <td>2.50223</td>\n",
       "      <td>4.80224</td>\n",
       "      <td>43.826598</td>\n",
       "      <td>1.328079</td>\n",
       "      <td>4.44278</td>\n",
       "      <td>...</td>\n",
       "      <td>10.381118</td>\n",
       "      <td>86.193519</td>\n",
       "      <td>474.05688</td>\n",
       "      <td>10.086317</td>\n",
       "      <td>3400</td>\n",
       "      <td>50</td>\n",
       "      <td>178.0</td>\n",
       "      <td>212.0</td>\n",
       "      <td>8.972222</td>\n",
       "      <td>7.194444</td>\n",
       "    </tr>\n",
       "    <tr>\n",
       "      <th>1</th>\n",
       "      <td>0</td>\n",
       "      <td>0</td>\n",
       "      <td>0</td>\n",
       "      <td>2</td>\n",
       "      <td>20.99779</td>\n",
       "      <td>2.476066</td>\n",
       "      <td>4.952133</td>\n",
       "      <td>20.99779</td>\n",
       "      <td>1.312362</td>\n",
       "      <td>3.734361</td>\n",
       "      <td>...</td>\n",
       "      <td>9.911803</td>\n",
       "      <td>49.166623</td>\n",
       "      <td>311.939052</td>\n",
       "      <td>12.477562</td>\n",
       "      <td>391</td>\n",
       "      <td>27</td>\n",
       "      <td>88.0</td>\n",
       "      <td>106.0</td>\n",
       "      <td>4.666667</td>\n",
       "      <td>3.444444</td>\n",
       "    </tr>\n",
       "    <tr>\n",
       "      <th>2</th>\n",
       "      <td>0</td>\n",
       "      <td>0</td>\n",
       "      <td>0</td>\n",
       "      <td>0</td>\n",
       "      <td>32.483259</td>\n",
       "      <td>2.384006</td>\n",
       "      <td>4.726846</td>\n",
       "      <td>32.483259</td>\n",
       "      <td>1.203084</td>\n",
       "      <td>4.198266</td>\n",
       "      <td>...</td>\n",
       "      <td>10.042249</td>\n",
       "      <td>75.356076</td>\n",
       "      <td>394.111597</td>\n",
       "      <td>9.165386</td>\n",
       "      <td>2449</td>\n",
       "      <td>36</td>\n",
       "      <td>136.0</td>\n",
       "      <td>152.0</td>\n",
       "      <td>10.930556</td>\n",
       "      <td>5.777778</td>\n",
       "    </tr>\n",
       "    <tr>\n",
       "      <th>3</th>\n",
       "      <td>0</td>\n",
       "      <td>0</td>\n",
       "      <td>0</td>\n",
       "      <td>0</td>\n",
       "      <td>39.769689</td>\n",
       "      <td>2.421887</td>\n",
       "      <td>4.843774</td>\n",
       "      <td>39.769689</td>\n",
       "      <td>1.282893</td>\n",
       "      <td>4.345721</td>\n",
       "      <td>...</td>\n",
       "      <td>10.269761</td>\n",
       "      <td>66.673476</td>\n",
       "      <td>443.09512</td>\n",
       "      <td>9.042758</td>\n",
       "      <td>2736</td>\n",
       "      <td>48</td>\n",
       "      <td>158.0</td>\n",
       "      <td>182.0</td>\n",
       "      <td>10.951389</td>\n",
       "      <td>6.875</td>\n",
       "    </tr>\n",
       "    <tr>\n",
       "      <th>4</th>\n",
       "      <td>0</td>\n",
       "      <td>0</td>\n",
       "      <td>0</td>\n",
       "      <td>2</td>\n",
       "      <td>21.035989</td>\n",
       "      <td>2.489758</td>\n",
       "      <td>4.979516</td>\n",
       "      <td>21.035989</td>\n",
       "      <td>1.314749</td>\n",
       "      <td>3.734613</td>\n",
       "      <td>...</td>\n",
       "      <td>9.948318</td>\n",
       "      <td>49.234108</td>\n",
       "      <td>311.939052</td>\n",
       "      <td>12.477562</td>\n",
       "      <td>379</td>\n",
       "      <td>28</td>\n",
       "      <td>88.0</td>\n",
       "      <td>107.0</td>\n",
       "      <td>4.666667</td>\n",
       "      <td>3.472222</td>\n",
       "    </tr>\n",
       "  </tbody>\n",
       "</table>\n",
       "<p>5 rows × 1613 columns</p>\n",
       "</div>"
      ],
      "text/plain": [
       "  ABC ABCGG nAcid nBase    SpAbs_A   SpMax_A  SpDiam_A     SpAD_A   SpMAD_A  \\\n",
       "0   0     0     1     0  43.826598   2.50223   4.80224  43.826598  1.328079   \n",
       "1   0     0     0     2   20.99779  2.476066  4.952133   20.99779  1.312362   \n",
       "2   0     0     0     0  32.483259  2.384006  4.726846  32.483259  1.203084   \n",
       "3   0     0     0     0  39.769689  2.421887  4.843774  39.769689  1.282893   \n",
       "4   0     0     0     2  21.035989  2.489758  4.979516  21.035989  1.314749   \n",
       "\n",
       "    LogEE_A  ...      SRW10     TSRW10          MW        AMW WPath WPol  \\\n",
       "0   4.44278  ...  10.381118  86.193519   474.05688  10.086317  3400   50   \n",
       "1  3.734361  ...   9.911803  49.166623  311.939052  12.477562   391   27   \n",
       "2  4.198266  ...  10.042249  75.356076  394.111597   9.165386  2449   36   \n",
       "3  4.345721  ...  10.269761  66.673476   443.09512   9.042758  2736   48   \n",
       "4  3.734613  ...   9.948318  49.234108  311.939052  12.477562   379   28   \n",
       "\n",
       "  Zagreb1 Zagreb2   mZagreb1  mZagreb2  \n",
       "0   178.0   212.0   8.972222  7.194444  \n",
       "1    88.0   106.0   4.666667  3.444444  \n",
       "2   136.0   152.0  10.930556  5.777778  \n",
       "3   158.0   182.0  10.951389     6.875  \n",
       "4    88.0   107.0   4.666667  3.472222  \n",
       "\n",
       "[5 rows x 1613 columns]"
      ]
     },
     "execution_count": 86,
     "metadata": {},
     "output_type": "execute_result"
    }
   ],
   "source": [
    "train_modred_descriptors = pd.DataFrame(train_np, columns=train_modred_descriptors.columns)\n",
    "train_modred_descriptors.head()"
   ]
  },
  {
   "cell_type": "code",
   "execution_count": 87,
   "metadata": {},
   "outputs": [
    {
     "data": {
      "text/html": [
       "<div>\n",
       "<style scoped>\n",
       "    .dataframe tbody tr th:only-of-type {\n",
       "        vertical-align: middle;\n",
       "    }\n",
       "\n",
       "    .dataframe tbody tr th {\n",
       "        vertical-align: top;\n",
       "    }\n",
       "\n",
       "    .dataframe thead th {\n",
       "        text-align: right;\n",
       "    }\n",
       "</style>\n",
       "<table border=\"1\" class=\"dataframe\">\n",
       "  <thead>\n",
       "    <tr style=\"text-align: right;\">\n",
       "      <th></th>\n",
       "      <th>ABC</th>\n",
       "      <th>ABCGG</th>\n",
       "      <th>nAcid</th>\n",
       "      <th>nBase</th>\n",
       "      <th>SpAbs_A</th>\n",
       "      <th>SpMax_A</th>\n",
       "      <th>SpDiam_A</th>\n",
       "      <th>SpAD_A</th>\n",
       "      <th>SpMAD_A</th>\n",
       "      <th>LogEE_A</th>\n",
       "      <th>...</th>\n",
       "      <th>SRW10</th>\n",
       "      <th>TSRW10</th>\n",
       "      <th>MW</th>\n",
       "      <th>AMW</th>\n",
       "      <th>WPath</th>\n",
       "      <th>WPol</th>\n",
       "      <th>Zagreb1</th>\n",
       "      <th>Zagreb2</th>\n",
       "      <th>mZagreb1</th>\n",
       "      <th>mZagreb2</th>\n",
       "    </tr>\n",
       "  </thead>\n",
       "  <tbody>\n",
       "    <tr>\n",
       "      <th>0</th>\n",
       "      <td>0</td>\n",
       "      <td>0</td>\n",
       "      <td>0</td>\n",
       "      <td>2</td>\n",
       "      <td>21.339303</td>\n",
       "      <td>2.476893</td>\n",
       "      <td>4.953787</td>\n",
       "      <td>21.339303</td>\n",
       "      <td>1.333706</td>\n",
       "      <td>3.734361</td>\n",
       "      <td>...</td>\n",
       "      <td>9.912299</td>\n",
       "      <td>49.167119</td>\n",
       "      <td>267.989568</td>\n",
       "      <td>10.719583</td>\n",
       "      <td>388</td>\n",
       "      <td>27</td>\n",
       "      <td>88.0</td>\n",
       "      <td>106.0</td>\n",
       "      <td>4.666667</td>\n",
       "      <td>3.444444</td>\n",
       "    </tr>\n",
       "    <tr>\n",
       "      <th>1</th>\n",
       "      <td>0</td>\n",
       "      <td>0</td>\n",
       "      <td>0</td>\n",
       "      <td>1</td>\n",
       "      <td>45.439683</td>\n",
       "      <td>2.438207</td>\n",
       "      <td>4.876414</td>\n",
       "      <td>45.439683</td>\n",
       "      <td>1.262213</td>\n",
       "      <td>4.48089</td>\n",
       "      <td>...</td>\n",
       "      <td>10.260007</td>\n",
       "      <td>71.964066</td>\n",
       "      <td>496.232185</td>\n",
       "      <td>7.297532</td>\n",
       "      <td>5313</td>\n",
       "      <td>52</td>\n",
       "      <td>176.0</td>\n",
       "      <td>199.0</td>\n",
       "      <td>12.111111</td>\n",
       "      <td>8.194444</td>\n",
       "    </tr>\n",
       "    <tr>\n",
       "      <th>2</th>\n",
       "      <td>0</td>\n",
       "      <td>0</td>\n",
       "      <td>0</td>\n",
       "      <td>0</td>\n",
       "      <td>31.883744</td>\n",
       "      <td>2.321122</td>\n",
       "      <td>4.597131</td>\n",
       "      <td>31.883744</td>\n",
       "      <td>1.27535</td>\n",
       "      <td>4.105922</td>\n",
       "      <td>...</td>\n",
       "      <td>9.586239</td>\n",
       "      <td>71.55087</td>\n",
       "      <td>359.130363</td>\n",
       "      <td>7.807182</td>\n",
       "      <td>2085</td>\n",
       "      <td>29</td>\n",
       "      <td>116.0</td>\n",
       "      <td>127.0</td>\n",
       "      <td>7.805556</td>\n",
       "      <td>5.861111</td>\n",
       "    </tr>\n",
       "    <tr>\n",
       "      <th>3</th>\n",
       "      <td>0</td>\n",
       "      <td>0</td>\n",
       "      <td>0</td>\n",
       "      <td>1</td>\n",
       "      <td>32.620416</td>\n",
       "      <td>2.353445</td>\n",
       "      <td>4.627752</td>\n",
       "      <td>32.620416</td>\n",
       "      <td>1.304817</td>\n",
       "      <td>4.137741</td>\n",
       "      <td>...</td>\n",
       "      <td>9.891162</td>\n",
       "      <td>72.83589</td>\n",
       "      <td>342.112819</td>\n",
       "      <td>8.55282</td>\n",
       "      <td>1891</td>\n",
       "      <td>34</td>\n",
       "      <td>126.0</td>\n",
       "      <td>144.0</td>\n",
       "      <td>7.527778</td>\n",
       "      <td>5.638889</td>\n",
       "    </tr>\n",
       "    <tr>\n",
       "      <th>4</th>\n",
       "      <td>0</td>\n",
       "      <td>0</td>\n",
       "      <td>0</td>\n",
       "      <td>0</td>\n",
       "      <td>31.325797</td>\n",
       "      <td>2.200811</td>\n",
       "      <td>4.401621</td>\n",
       "      <td>31.325797</td>\n",
       "      <td>1.253032</td>\n",
       "      <td>4.07569</td>\n",
       "      <td>...</td>\n",
       "      <td>9.404343</td>\n",
       "      <td>57.852392</td>\n",
       "      <td>348.241293</td>\n",
       "      <td>6.109496</td>\n",
       "      <td>1988</td>\n",
       "      <td>29</td>\n",
       "      <td>108.0</td>\n",
       "      <td>115.0</td>\n",
       "      <td>8.694444</td>\n",
       "      <td>6.111111</td>\n",
       "    </tr>\n",
       "  </tbody>\n",
       "</table>\n",
       "<p>5 rows × 1613 columns</p>\n",
       "</div>"
      ],
      "text/plain": [
       "  ABC ABCGG nAcid nBase    SpAbs_A   SpMax_A  SpDiam_A     SpAD_A   SpMAD_A  \\\n",
       "0   0     0     0     2  21.339303  2.476893  4.953787  21.339303  1.333706   \n",
       "1   0     0     0     1  45.439683  2.438207  4.876414  45.439683  1.262213   \n",
       "2   0     0     0     0  31.883744  2.321122  4.597131  31.883744   1.27535   \n",
       "3   0     0     0     1  32.620416  2.353445  4.627752  32.620416  1.304817   \n",
       "4   0     0     0     0  31.325797  2.200811  4.401621  31.325797  1.253032   \n",
       "\n",
       "    LogEE_A  ...      SRW10     TSRW10          MW        AMW WPath WPol  \\\n",
       "0  3.734361  ...   9.912299  49.167119  267.989568  10.719583   388   27   \n",
       "1   4.48089  ...  10.260007  71.964066  496.232185   7.297532  5313   52   \n",
       "2  4.105922  ...   9.586239   71.55087  359.130363   7.807182  2085   29   \n",
       "3  4.137741  ...   9.891162   72.83589  342.112819    8.55282  1891   34   \n",
       "4   4.07569  ...   9.404343  57.852392  348.241293   6.109496  1988   29   \n",
       "\n",
       "  Zagreb1 Zagreb2   mZagreb1  mZagreb2  \n",
       "0    88.0   106.0   4.666667  3.444444  \n",
       "1   176.0   199.0  12.111111  8.194444  \n",
       "2   116.0   127.0   7.805556  5.861111  \n",
       "3   126.0   144.0   7.527778  5.638889  \n",
       "4   108.0   115.0   8.694444  6.111111  \n",
       "\n",
       "[5 rows x 1613 columns]"
      ]
     },
     "execution_count": 87,
     "metadata": {},
     "output_type": "execute_result"
    }
   ],
   "source": [
    "test_mordred_descriptors = pd.DataFrame(test_np, columns=test_mordred_descriptors.columns)\n",
    "test_mordred_descriptors.head()"
   ]
  },
  {
   "cell_type": "code",
   "execution_count": 88,
   "metadata": {},
   "outputs": [
    {
     "data": {
      "text/html": [
       "<div>\n",
       "<style scoped>\n",
       "    .dataframe tbody tr th:only-of-type {\n",
       "        vertical-align: middle;\n",
       "    }\n",
       "\n",
       "    .dataframe tbody tr th {\n",
       "        vertical-align: top;\n",
       "    }\n",
       "\n",
       "    .dataframe thead th {\n",
       "        text-align: right;\n",
       "    }\n",
       "</style>\n",
       "<table border=\"1\" class=\"dataframe\">\n",
       "  <thead>\n",
       "    <tr style=\"text-align: right;\">\n",
       "      <th></th>\n",
       "      <th>ABC</th>\n",
       "      <th>ABCGG</th>\n",
       "      <th>nAcid</th>\n",
       "      <th>nBase</th>\n",
       "      <th>SpAbs_A</th>\n",
       "      <th>SpMax_A</th>\n",
       "      <th>SpDiam_A</th>\n",
       "      <th>SpAD_A</th>\n",
       "      <th>SpMAD_A</th>\n",
       "      <th>LogEE_A</th>\n",
       "      <th>...</th>\n",
       "      <th>SRW10</th>\n",
       "      <th>TSRW10</th>\n",
       "      <th>MW</th>\n",
       "      <th>AMW</th>\n",
       "      <th>WPath</th>\n",
       "      <th>WPol</th>\n",
       "      <th>Zagreb1</th>\n",
       "      <th>Zagreb2</th>\n",
       "      <th>mZagreb1</th>\n",
       "      <th>mZagreb2</th>\n",
       "    </tr>\n",
       "  </thead>\n",
       "  <tbody>\n",
       "    <tr>\n",
       "      <th>0</th>\n",
       "      <td>0</td>\n",
       "      <td>0</td>\n",
       "      <td>0</td>\n",
       "      <td>2</td>\n",
       "      <td>21.339303</td>\n",
       "      <td>2.476893</td>\n",
       "      <td>4.953787</td>\n",
       "      <td>21.339303</td>\n",
       "      <td>1.333706</td>\n",
       "      <td>3.734361</td>\n",
       "      <td>...</td>\n",
       "      <td>9.912299</td>\n",
       "      <td>49.167119</td>\n",
       "      <td>267.989568</td>\n",
       "      <td>10.719583</td>\n",
       "      <td>388</td>\n",
       "      <td>27</td>\n",
       "      <td>88.0</td>\n",
       "      <td>106.0</td>\n",
       "      <td>4.666667</td>\n",
       "      <td>3.444444</td>\n",
       "    </tr>\n",
       "    <tr>\n",
       "      <th>1</th>\n",
       "      <td>0</td>\n",
       "      <td>0</td>\n",
       "      <td>0</td>\n",
       "      <td>1</td>\n",
       "      <td>45.439683</td>\n",
       "      <td>2.438207</td>\n",
       "      <td>4.876414</td>\n",
       "      <td>45.439683</td>\n",
       "      <td>1.262213</td>\n",
       "      <td>4.48089</td>\n",
       "      <td>...</td>\n",
       "      <td>10.260007</td>\n",
       "      <td>71.964066</td>\n",
       "      <td>496.232185</td>\n",
       "      <td>7.297532</td>\n",
       "      <td>5313</td>\n",
       "      <td>52</td>\n",
       "      <td>176.0</td>\n",
       "      <td>199.0</td>\n",
       "      <td>12.111111</td>\n",
       "      <td>8.194444</td>\n",
       "    </tr>\n",
       "    <tr>\n",
       "      <th>2</th>\n",
       "      <td>0</td>\n",
       "      <td>0</td>\n",
       "      <td>0</td>\n",
       "      <td>0</td>\n",
       "      <td>31.883744</td>\n",
       "      <td>2.321122</td>\n",
       "      <td>4.597131</td>\n",
       "      <td>31.883744</td>\n",
       "      <td>1.27535</td>\n",
       "      <td>4.105922</td>\n",
       "      <td>...</td>\n",
       "      <td>9.586239</td>\n",
       "      <td>71.55087</td>\n",
       "      <td>359.130363</td>\n",
       "      <td>7.807182</td>\n",
       "      <td>2085</td>\n",
       "      <td>29</td>\n",
       "      <td>116.0</td>\n",
       "      <td>127.0</td>\n",
       "      <td>7.805556</td>\n",
       "      <td>5.861111</td>\n",
       "    </tr>\n",
       "    <tr>\n",
       "      <th>3</th>\n",
       "      <td>0</td>\n",
       "      <td>0</td>\n",
       "      <td>0</td>\n",
       "      <td>1</td>\n",
       "      <td>32.620416</td>\n",
       "      <td>2.353445</td>\n",
       "      <td>4.627752</td>\n",
       "      <td>32.620416</td>\n",
       "      <td>1.304817</td>\n",
       "      <td>4.137741</td>\n",
       "      <td>...</td>\n",
       "      <td>9.891162</td>\n",
       "      <td>72.83589</td>\n",
       "      <td>342.112819</td>\n",
       "      <td>8.55282</td>\n",
       "      <td>1891</td>\n",
       "      <td>34</td>\n",
       "      <td>126.0</td>\n",
       "      <td>144.0</td>\n",
       "      <td>7.527778</td>\n",
       "      <td>5.638889</td>\n",
       "    </tr>\n",
       "    <tr>\n",
       "      <th>4</th>\n",
       "      <td>0</td>\n",
       "      <td>0</td>\n",
       "      <td>0</td>\n",
       "      <td>0</td>\n",
       "      <td>31.325797</td>\n",
       "      <td>2.200811</td>\n",
       "      <td>4.401621</td>\n",
       "      <td>31.325797</td>\n",
       "      <td>1.253032</td>\n",
       "      <td>4.07569</td>\n",
       "      <td>...</td>\n",
       "      <td>9.404343</td>\n",
       "      <td>57.852392</td>\n",
       "      <td>348.241293</td>\n",
       "      <td>6.109496</td>\n",
       "      <td>1988</td>\n",
       "      <td>29</td>\n",
       "      <td>108.0</td>\n",
       "      <td>115.0</td>\n",
       "      <td>8.694444</td>\n",
       "      <td>6.111111</td>\n",
       "    </tr>\n",
       "  </tbody>\n",
       "</table>\n",
       "<p>5 rows × 1613 columns</p>\n",
       "</div>"
      ],
      "text/plain": [
       "  ABC ABCGG nAcid nBase    SpAbs_A   SpMax_A  SpDiam_A     SpAD_A   SpMAD_A  \\\n",
       "0   0     0     0     2  21.339303  2.476893  4.953787  21.339303  1.333706   \n",
       "1   0     0     0     1  45.439683  2.438207  4.876414  45.439683  1.262213   \n",
       "2   0     0     0     0  31.883744  2.321122  4.597131  31.883744   1.27535   \n",
       "3   0     0     0     1  32.620416  2.353445  4.627752  32.620416  1.304817   \n",
       "4   0     0     0     0  31.325797  2.200811  4.401621  31.325797  1.253032   \n",
       "\n",
       "    LogEE_A  ...      SRW10     TSRW10          MW        AMW WPath WPol  \\\n",
       "0  3.734361  ...   9.912299  49.167119  267.989568  10.719583   388   27   \n",
       "1   4.48089  ...  10.260007  71.964066  496.232185   7.297532  5313   52   \n",
       "2  4.105922  ...   9.586239   71.55087  359.130363   7.807182  2085   29   \n",
       "3  4.137741  ...   9.891162   72.83589  342.112819    8.55282  1891   34   \n",
       "4   4.07569  ...   9.404343  57.852392  348.241293   6.109496  1988   29   \n",
       "\n",
       "  Zagreb1 Zagreb2   mZagreb1  mZagreb2  \n",
       "0    88.0   106.0   4.666667  3.444444  \n",
       "1   176.0   199.0  12.111111  8.194444  \n",
       "2   116.0   127.0   7.805556  5.861111  \n",
       "3   126.0   144.0   7.527778  5.638889  \n",
       "4   108.0   115.0   8.694444  6.111111  \n",
       "\n",
       "[5 rows x 1613 columns]"
      ]
     },
     "execution_count": 88,
     "metadata": {},
     "output_type": "execute_result"
    }
   ],
   "source": [
    "all_mordred_descriptors = pd.concat([test_mordred_descriptors, train_modred_descriptors], ignore_index=False)\n",
    "all_mordred_descriptors.head()"
   ]
  },
  {
   "attachments": {},
   "cell_type": "markdown",
   "metadata": {},
   "source": [
    "__Ứng dụng Features selection với hàm selectKBest để chọn ra 27 features có ảnh hưởng nhất__\n",
    "- 27 là số features mà tác giả tìm ra sau khi lọc"
   ]
  },
  {
   "cell_type": "code",
   "execution_count": 130,
   "metadata": {},
   "outputs": [],
   "source": [
    "y_Train_des = np.array(train_dataset['FINAL_LABEL'])\n",
    "y_Test_des = np.array(test_dataset['FINAL_LABEL'])"
   ]
  },
  {
   "cell_type": "code",
   "execution_count": 131,
   "metadata": {},
   "outputs": [],
   "source": [
    "from sklearn.compose import ColumnTransformer\n",
    "from sklearn.preprocessing import OneHotEncoder\n",
    "\n",
    "y_Train_des_2d = y_Train_des.reshape(-1, 1)\n",
    "encoder = OneHotEncoder()\n",
    "encoder.fit(y_Train_des_2d)\n",
    "one_hot_encoded_data = encoder.transform(y_Train_des_2d).toarray()\n",
    "y_Train_des = one_hot_encoded_data[:, 0]\n",
    "\n",
    "y_Test_des_2d = y_Test_des.reshape(-1, 1)\n",
    "encoder.fit(y_Test_des_2d)\n",
    "one_hot_encoded_data = encoder.transform(y_Test_des_2d).toarray()\n",
    "y_Test_des = one_hot_encoded_data[:, 0]"
   ]
  },
  {
   "attachments": {},
   "cell_type": "markdown",
   "metadata": {},
   "source": [
    "__Sử dụng Variance Threshold nhằm loại bỏ các features có low variance__"
   ]
  },
  {
   "attachments": {},
   "cell_type": "markdown",
   "metadata": {},
   "source": [
    "- Tác giả có nói về việc sử dụng Pearson CC và Recursive features elimination để thực hiện việc lọc features. \n",
    "- Với Recursive features elimination, phần quan trọng nhất là thuật toán để kiểm tra và số lượng Features còn lại sau kiểm tra thì tác giả không nói rõ cho lắm.\n",
    "- Tác giả có ý là \"Following features/descriptors calculation, the descriptors\n",
    "with all the values equal to null or zero, or with all the values less than 0.05, were removed.\" giá trị mà tác giả nhắc đến ở đây là giá trị p-values.\n",
    "- Ở đây có thể tác giả dùng Backward Elimination trước rồi mới dùng Recursive features elimination và sau khi dùng 2 phương pháp đó, tác giả có 27 features cuối cùng có ảnh hưởng lớn nhất.\n",
    "- Thay vì đó, em dùng thẳng Recursive Features Elimination luôn với đầu vào là 27 features và thuật toán để lọc là SVC (support vector classifier)."
   ]
  },
  {
   "attachments": {},
   "cell_type": "markdown",
   "metadata": {},
   "source": [
    "__Tập dữ liệu đầu vào X của tác giả__"
   ]
  },
  {
   "cell_type": "code",
   "execution_count": 132,
   "metadata": {},
   "outputs": [
    {
     "data": {
      "text/html": [
       "<div>\n",
       "<style scoped>\n",
       "    .dataframe tbody tr th:only-of-type {\n",
       "        vertical-align: middle;\n",
       "    }\n",
       "\n",
       "    .dataframe tbody tr th {\n",
       "        vertical-align: top;\n",
       "    }\n",
       "\n",
       "    .dataframe thead th {\n",
       "        text-align: right;\n",
       "    }\n",
       "</style>\n",
       "<table border=\"1\" class=\"dataframe\">\n",
       "  <thead>\n",
       "    <tr style=\"text-align: right;\">\n",
       "      <th></th>\n",
       "      <th>Xc-4dv</th>\n",
       "      <th>MATS4s</th>\n",
       "      <th>GATS1dv</th>\n",
       "      <th>SdssC</th>\n",
       "      <th>BCUTd-1h</th>\n",
       "      <th>GATS1s</th>\n",
       "      <th>GATS1are</th>\n",
       "      <th>AATSC3d</th>\n",
       "      <th>PEOE_VSA2</th>\n",
       "      <th>AATS4v</th>\n",
       "      <th>...</th>\n",
       "      <th>RotRatio</th>\n",
       "      <th>SsNH2</th>\n",
       "      <th>ETA_epsilon_5</th>\n",
       "      <th>SlogP_VSA2</th>\n",
       "      <th>MID_N</th>\n",
       "      <th>EState_VSA5</th>\n",
       "      <th>Xc-5dv</th>\n",
       "      <th>JGI5</th>\n",
       "      <th>GATS5pe</th>\n",
       "      <th>AATSC4d</th>\n",
       "    </tr>\n",
       "  </thead>\n",
       "  <tbody>\n",
       "    <tr>\n",
       "      <th>0</th>\n",
       "      <td>0.0</td>\n",
       "      <td>-0.115177</td>\n",
       "      <td>0.651126</td>\n",
       "      <td>1.889604</td>\n",
       "      <td>3.223923</td>\n",
       "      <td>0.822531</td>\n",
       "      <td>0.755289</td>\n",
       "      <td>-0.020000</td>\n",
       "      <td>4.992405</td>\n",
       "      <td>234.087411</td>\n",
       "      <td>...</td>\n",
       "      <td>0.000000</td>\n",
       "      <td>0.000000</td>\n",
       "      <td>0.826190</td>\n",
       "      <td>28.145576</td>\n",
       "      <td>4.298616</td>\n",
       "      <td>0.000000</td>\n",
       "      <td>0.201728</td>\n",
       "      <td>0.025608</td>\n",
       "      <td>0.794145</td>\n",
       "      <td>-0.171321</td>\n",
       "    </tr>\n",
       "    <tr>\n",
       "      <th>1</th>\n",
       "      <td>0.0</td>\n",
       "      <td>-0.069296</td>\n",
       "      <td>0.476806</td>\n",
       "      <td>-0.434781</td>\n",
       "      <td>3.234608</td>\n",
       "      <td>0.591890</td>\n",
       "      <td>0.653562</td>\n",
       "      <td>0.013289</td>\n",
       "      <td>19.703393</td>\n",
       "      <td>164.220744</td>\n",
       "      <td>...</td>\n",
       "      <td>0.342105</td>\n",
       "      <td>5.979012</td>\n",
       "      <td>0.815000</td>\n",
       "      <td>42.538032</td>\n",
       "      <td>7.809911</td>\n",
       "      <td>6.076020</td>\n",
       "      <td>0.068843</td>\n",
       "      <td>0.025709</td>\n",
       "      <td>1.062264</td>\n",
       "      <td>-0.015324</td>\n",
       "    </tr>\n",
       "    <tr>\n",
       "      <th>2</th>\n",
       "      <td>0.0</td>\n",
       "      <td>-0.102895</td>\n",
       "      <td>0.599231</td>\n",
       "      <td>-0.558135</td>\n",
       "      <td>3.141602</td>\n",
       "      <td>0.615504</td>\n",
       "      <td>0.658497</td>\n",
       "      <td>-0.014391</td>\n",
       "      <td>14.796327</td>\n",
       "      <td>163.077130</td>\n",
       "      <td>...</td>\n",
       "      <td>0.346154</td>\n",
       "      <td>0.000000</td>\n",
       "      <td>0.791667</td>\n",
       "      <td>23.236213</td>\n",
       "      <td>5.852757</td>\n",
       "      <td>4.877147</td>\n",
       "      <td>0.058926</td>\n",
       "      <td>0.023563</td>\n",
       "      <td>1.191786</td>\n",
       "      <td>0.013994</td>\n",
       "    </tr>\n",
       "    <tr>\n",
       "      <th>3</th>\n",
       "      <td>0.0</td>\n",
       "      <td>-0.108292</td>\n",
       "      <td>0.492933</td>\n",
       "      <td>-0.556767</td>\n",
       "      <td>3.146105</td>\n",
       "      <td>0.624878</td>\n",
       "      <td>0.642393</td>\n",
       "      <td>-0.060685</td>\n",
       "      <td>10.001790</td>\n",
       "      <td>171.993252</td>\n",
       "      <td>...</td>\n",
       "      <td>0.222222</td>\n",
       "      <td>0.000000</td>\n",
       "      <td>0.836224</td>\n",
       "      <td>21.255075</td>\n",
       "      <td>8.003931</td>\n",
       "      <td>12.132734</td>\n",
       "      <td>0.033677</td>\n",
       "      <td>0.032280</td>\n",
       "      <td>1.129322</td>\n",
       "      <td>-0.013619</td>\n",
       "    </tr>\n",
       "    <tr>\n",
       "      <th>4</th>\n",
       "      <td>0.0</td>\n",
       "      <td>-0.044896</td>\n",
       "      <td>0.613076</td>\n",
       "      <td>-0.255800</td>\n",
       "      <td>3.124655</td>\n",
       "      <td>0.611689</td>\n",
       "      <td>0.733834</td>\n",
       "      <td>-0.009868</td>\n",
       "      <td>14.796327</td>\n",
       "      <td>132.996188</td>\n",
       "      <td>...</td>\n",
       "      <td>0.520000</td>\n",
       "      <td>0.000000</td>\n",
       "      <td>0.767857</td>\n",
       "      <td>17.021612</td>\n",
       "      <td>3.870082</td>\n",
       "      <td>12.841643</td>\n",
       "      <td>0.029463</td>\n",
       "      <td>0.015224</td>\n",
       "      <td>1.225303</td>\n",
       "      <td>-0.019241</td>\n",
       "    </tr>\n",
       "  </tbody>\n",
       "</table>\n",
       "<p>5 rows × 27 columns</p>\n",
       "</div>"
      ],
      "text/plain": [
       "   Xc-4dv    MATS4s   GATS1dv     SdssC  BCUTd-1h    GATS1s  GATS1are  \\\n",
       "0     0.0 -0.115177  0.651126  1.889604  3.223923  0.822531  0.755289   \n",
       "1     0.0 -0.069296  0.476806 -0.434781  3.234608  0.591890  0.653562   \n",
       "2     0.0 -0.102895  0.599231 -0.558135  3.141602  0.615504  0.658497   \n",
       "3     0.0 -0.108292  0.492933 -0.556767  3.146105  0.624878  0.642393   \n",
       "4     0.0 -0.044896  0.613076 -0.255800  3.124655  0.611689  0.733834   \n",
       "\n",
       "    AATSC3d  PEOE_VSA2      AATS4v  ...  RotRatio     SsNH2  ETA_epsilon_5  \\\n",
       "0 -0.020000   4.992405  234.087411  ...  0.000000  0.000000       0.826190   \n",
       "1  0.013289  19.703393  164.220744  ...  0.342105  5.979012       0.815000   \n",
       "2 -0.014391  14.796327  163.077130  ...  0.346154  0.000000       0.791667   \n",
       "3 -0.060685  10.001790  171.993252  ...  0.222222  0.000000       0.836224   \n",
       "4 -0.009868  14.796327  132.996188  ...  0.520000  0.000000       0.767857   \n",
       "\n",
       "   SlogP_VSA2     MID_N  EState_VSA5    Xc-5dv      JGI5   GATS5pe   AATSC4d  \n",
       "0   28.145576  4.298616     0.000000  0.201728  0.025608  0.794145 -0.171321  \n",
       "1   42.538032  7.809911     6.076020  0.068843  0.025709  1.062264 -0.015324  \n",
       "2   23.236213  5.852757     4.877147  0.058926  0.023563  1.191786  0.013994  \n",
       "3   21.255075  8.003931    12.132734  0.033677  0.032280  1.129322 -0.013619  \n",
       "4   17.021612  3.870082    12.841643  0.029463  0.015224  1.225303 -0.019241  \n",
       "\n",
       "[5 rows x 27 columns]"
      ]
     },
     "execution_count": 132,
     "metadata": {},
     "output_type": "execute_result"
    }
   ],
   "source": [
    "authors_features = ['Xc-4dv', 'MATS4s', 'GATS1dv', 'SdssC', 'BCUTd-1h', 'GATS1s', 'GATS1are', 'AATSC3d'\n",
    "                    , 'PEOE_VSA2', 'AATS4v', 'AATS4Z', 'GATS3d', 'MATS3m', 'AXp-5dv', 'EState_VSA4',\n",
    "                    'ETA_eta_L', 'ATSC5m', 'RotRatio', 'SsNH2', 'ETA_epsilon_5', 'SlogP_VSA2',\n",
    "                    'MID_N', 'EState_VSA5', 'Xc-5dv', 'JGI5', 'GATS5pe', 'AATSC4d']\n",
    "X_author = pd.DataFrame()\n",
    "for feature in authors_features:\n",
    "    X_author[feature] = all_mordred_descriptors[feature]\n",
    "X_author = X_author.astype(float)\n",
    "X_author.head()"
   ]
  },
  {
   "cell_type": "code",
   "execution_count": 133,
   "metadata": {},
   "outputs": [
    {
     "data": {
      "text/html": [
       "<div>\n",
       "<style scoped>\n",
       "    .dataframe tbody tr th:only-of-type {\n",
       "        vertical-align: middle;\n",
       "    }\n",
       "\n",
       "    .dataframe tbody tr th {\n",
       "        vertical-align: top;\n",
       "    }\n",
       "\n",
       "    .dataframe thead th {\n",
       "        text-align: right;\n",
       "    }\n",
       "</style>\n",
       "<table border=\"1\" class=\"dataframe\">\n",
       "  <thead>\n",
       "    <tr style=\"text-align: right;\">\n",
       "      <th></th>\n",
       "      <th>Xc-4dv</th>\n",
       "      <th>MATS4s</th>\n",
       "      <th>GATS1dv</th>\n",
       "      <th>SdssC</th>\n",
       "      <th>BCUTd-1h</th>\n",
       "      <th>GATS1s</th>\n",
       "      <th>GATS1are</th>\n",
       "      <th>AATSC3d</th>\n",
       "      <th>PEOE_VSA2</th>\n",
       "      <th>AATS4v</th>\n",
       "      <th>...</th>\n",
       "      <th>RotRatio</th>\n",
       "      <th>SsNH2</th>\n",
       "      <th>ETA_epsilon_5</th>\n",
       "      <th>SlogP_VSA2</th>\n",
       "      <th>MID_N</th>\n",
       "      <th>EState_VSA5</th>\n",
       "      <th>Xc-5dv</th>\n",
       "      <th>JGI5</th>\n",
       "      <th>GATS5pe</th>\n",
       "      <th>AATSC4d</th>\n",
       "    </tr>\n",
       "  </thead>\n",
       "  <tbody>\n",
       "    <tr>\n",
       "      <th>0</th>\n",
       "      <td>0.000000</td>\n",
       "      <td>-0.094188</td>\n",
       "      <td>0.517091</td>\n",
       "      <td>-0.994131</td>\n",
       "      <td>3.280570</td>\n",
       "      <td>0.671559</td>\n",
       "      <td>0.697186</td>\n",
       "      <td>-0.063603</td>\n",
       "      <td>9.893219</td>\n",
       "      <td>234.427100</td>\n",
       "      <td>...</td>\n",
       "      <td>0.162162</td>\n",
       "      <td>0.0</td>\n",
       "      <td>0.826667</td>\n",
       "      <td>30.824274</td>\n",
       "      <td>12.556425</td>\n",
       "      <td>39.488109</td>\n",
       "      <td>0.123776</td>\n",
       "      <td>0.026632</td>\n",
       "      <td>1.194530</td>\n",
       "      <td>0.063105</td>\n",
       "    </tr>\n",
       "    <tr>\n",
       "      <th>1</th>\n",
       "      <td>0.000000</td>\n",
       "      <td>-0.094666</td>\n",
       "      <td>0.659419</td>\n",
       "      <td>1.973657</td>\n",
       "      <td>3.223668</td>\n",
       "      <td>0.823617</td>\n",
       "      <td>0.771613</td>\n",
       "      <td>-0.036667</td>\n",
       "      <td>4.992405</td>\n",
       "      <td>239.199897</td>\n",
       "      <td>...</td>\n",
       "      <td>0.000000</td>\n",
       "      <td>0.0</td>\n",
       "      <td>0.787500</td>\n",
       "      <td>28.145576</td>\n",
       "      <td>4.298916</td>\n",
       "      <td>10.458935</td>\n",
       "      <td>0.201728</td>\n",
       "      <td>0.027315</td>\n",
       "      <td>1.134669</td>\n",
       "      <td>-0.156226</td>\n",
       "    </tr>\n",
       "    <tr>\n",
       "      <th>2</th>\n",
       "      <td>0.026997</td>\n",
       "      <td>-0.125595</td>\n",
       "      <td>0.281086</td>\n",
       "      <td>-1.721681</td>\n",
       "      <td>4.023577</td>\n",
       "      <td>0.601447</td>\n",
       "      <td>0.529712</td>\n",
       "      <td>-0.007665</td>\n",
       "      <td>4.794537</td>\n",
       "      <td>159.462261</td>\n",
       "      <td>...</td>\n",
       "      <td>0.285714</td>\n",
       "      <td>0.0</td>\n",
       "      <td>1.034039</td>\n",
       "      <td>22.100185</td>\n",
       "      <td>4.115089</td>\n",
       "      <td>12.132734</td>\n",
       "      <td>0.083310</td>\n",
       "      <td>0.033211</td>\n",
       "      <td>1.141444</td>\n",
       "      <td>0.025771</td>\n",
       "    </tr>\n",
       "    <tr>\n",
       "      <th>3</th>\n",
       "      <td>0.051031</td>\n",
       "      <td>-0.177777</td>\n",
       "      <td>0.670152</td>\n",
       "      <td>-1.572823</td>\n",
       "      <td>4.043828</td>\n",
       "      <td>0.691683</td>\n",
       "      <td>0.655214</td>\n",
       "      <td>-0.022614</td>\n",
       "      <td>14.796327</td>\n",
       "      <td>195.686050</td>\n",
       "      <td>...</td>\n",
       "      <td>0.212121</td>\n",
       "      <td>0.0</td>\n",
       "      <td>0.837551</td>\n",
       "      <td>25.439409</td>\n",
       "      <td>5.918444</td>\n",
       "      <td>35.811932</td>\n",
       "      <td>0.173152</td>\n",
       "      <td>0.031046</td>\n",
       "      <td>0.928667</td>\n",
       "      <td>-0.017268</td>\n",
       "    </tr>\n",
       "    <tr>\n",
       "      <th>4</th>\n",
       "      <td>0.000000</td>\n",
       "      <td>-0.070093</td>\n",
       "      <td>0.648725</td>\n",
       "      <td>1.959745</td>\n",
       "      <td>3.258059</td>\n",
       "      <td>0.808388</td>\n",
       "      <td>0.771613</td>\n",
       "      <td>-0.030000</td>\n",
       "      <td>4.992405</td>\n",
       "      <td>251.529546</td>\n",
       "      <td>...</td>\n",
       "      <td>0.000000</td>\n",
       "      <td>0.0</td>\n",
       "      <td>0.787500</td>\n",
       "      <td>28.145576</td>\n",
       "      <td>4.297486</td>\n",
       "      <td>10.458935</td>\n",
       "      <td>0.263826</td>\n",
       "      <td>0.026042</td>\n",
       "      <td>1.246093</td>\n",
       "      <td>-0.186415</td>\n",
       "    </tr>\n",
       "  </tbody>\n",
       "</table>\n",
       "<p>5 rows × 27 columns</p>\n",
       "</div>"
      ],
      "text/plain": [
       "     Xc-4dv    MATS4s   GATS1dv     SdssC  BCUTd-1h    GATS1s  GATS1are  \\\n",
       "0  0.000000 -0.094188  0.517091 -0.994131  3.280570  0.671559  0.697186   \n",
       "1  0.000000 -0.094666  0.659419  1.973657  3.223668  0.823617  0.771613   \n",
       "2  0.026997 -0.125595  0.281086 -1.721681  4.023577  0.601447  0.529712   \n",
       "3  0.051031 -0.177777  0.670152 -1.572823  4.043828  0.691683  0.655214   \n",
       "4  0.000000 -0.070093  0.648725  1.959745  3.258059  0.808388  0.771613   \n",
       "\n",
       "    AATSC3d  PEOE_VSA2      AATS4v  ...  RotRatio  SsNH2  ETA_epsilon_5  \\\n",
       "0 -0.063603   9.893219  234.427100  ...  0.162162    0.0       0.826667   \n",
       "1 -0.036667   4.992405  239.199897  ...  0.000000    0.0       0.787500   \n",
       "2 -0.007665   4.794537  159.462261  ...  0.285714    0.0       1.034039   \n",
       "3 -0.022614  14.796327  195.686050  ...  0.212121    0.0       0.837551   \n",
       "4 -0.030000   4.992405  251.529546  ...  0.000000    0.0       0.787500   \n",
       "\n",
       "   SlogP_VSA2      MID_N  EState_VSA5    Xc-5dv      JGI5   GATS5pe   AATSC4d  \n",
       "0   30.824274  12.556425    39.488109  0.123776  0.026632  1.194530  0.063105  \n",
       "1   28.145576   4.298916    10.458935  0.201728  0.027315  1.134669 -0.156226  \n",
       "2   22.100185   4.115089    12.132734  0.083310  0.033211  1.141444  0.025771  \n",
       "3   25.439409   5.918444    35.811932  0.173152  0.031046  0.928667 -0.017268  \n",
       "4   28.145576   4.297486    10.458935  0.263826  0.026042  1.246093 -0.186415  \n",
       "\n",
       "[5 rows x 27 columns]"
      ]
     },
     "execution_count": 133,
     "metadata": {},
     "output_type": "execute_result"
    }
   ],
   "source": [
    "\n",
    "X_Train_author = pd.DataFrame()\n",
    "for feature in authors_features:\n",
    "    X_Train_author[feature] = train_modred_descriptors[feature]\n",
    "X_Train_author = X_Train_author.astype(float)\n",
    "X_Train_author.head()"
   ]
  },
  {
   "cell_type": "code",
   "execution_count": 138,
   "metadata": {},
   "outputs": [
    {
     "data": {
      "text/html": [
       "<div>\n",
       "<style scoped>\n",
       "    .dataframe tbody tr th:only-of-type {\n",
       "        vertical-align: middle;\n",
       "    }\n",
       "\n",
       "    .dataframe tbody tr th {\n",
       "        vertical-align: top;\n",
       "    }\n",
       "\n",
       "    .dataframe thead th {\n",
       "        text-align: right;\n",
       "    }\n",
       "</style>\n",
       "<table border=\"1\" class=\"dataframe\">\n",
       "  <thead>\n",
       "    <tr style=\"text-align: right;\">\n",
       "      <th></th>\n",
       "      <th>Xc-4dv</th>\n",
       "      <th>MATS4s</th>\n",
       "      <th>GATS1dv</th>\n",
       "      <th>SdssC</th>\n",
       "      <th>BCUTd-1h</th>\n",
       "      <th>GATS1s</th>\n",
       "      <th>GATS1are</th>\n",
       "      <th>AATSC3d</th>\n",
       "      <th>PEOE_VSA2</th>\n",
       "      <th>AATS4v</th>\n",
       "      <th>...</th>\n",
       "      <th>RotRatio</th>\n",
       "      <th>SsNH2</th>\n",
       "      <th>ETA_epsilon_5</th>\n",
       "      <th>SlogP_VSA2</th>\n",
       "      <th>MID_N</th>\n",
       "      <th>EState_VSA5</th>\n",
       "      <th>Xc-5dv</th>\n",
       "      <th>JGI5</th>\n",
       "      <th>GATS5pe</th>\n",
       "      <th>AATSC4d</th>\n",
       "    </tr>\n",
       "  </thead>\n",
       "  <tbody>\n",
       "    <tr>\n",
       "      <th>0</th>\n",
       "      <td>0.0</td>\n",
       "      <td>-0.115177</td>\n",
       "      <td>0.651126</td>\n",
       "      <td>1.889604</td>\n",
       "      <td>3.223923</td>\n",
       "      <td>0.822531</td>\n",
       "      <td>0.755289</td>\n",
       "      <td>-0.020000</td>\n",
       "      <td>4.992405</td>\n",
       "      <td>234.087411</td>\n",
       "      <td>...</td>\n",
       "      <td>0.000000</td>\n",
       "      <td>0.000000</td>\n",
       "      <td>0.826190</td>\n",
       "      <td>28.145576</td>\n",
       "      <td>4.298616</td>\n",
       "      <td>0.000000</td>\n",
       "      <td>0.201728</td>\n",
       "      <td>0.025608</td>\n",
       "      <td>0.794145</td>\n",
       "      <td>-0.171321</td>\n",
       "    </tr>\n",
       "    <tr>\n",
       "      <th>1</th>\n",
       "      <td>0.0</td>\n",
       "      <td>-0.069296</td>\n",
       "      <td>0.476806</td>\n",
       "      <td>-0.434781</td>\n",
       "      <td>3.234608</td>\n",
       "      <td>0.591890</td>\n",
       "      <td>0.653562</td>\n",
       "      <td>0.013289</td>\n",
       "      <td>19.703393</td>\n",
       "      <td>164.220744</td>\n",
       "      <td>...</td>\n",
       "      <td>0.342105</td>\n",
       "      <td>5.979012</td>\n",
       "      <td>0.815000</td>\n",
       "      <td>42.538032</td>\n",
       "      <td>7.809911</td>\n",
       "      <td>6.076020</td>\n",
       "      <td>0.068843</td>\n",
       "      <td>0.025709</td>\n",
       "      <td>1.062264</td>\n",
       "      <td>-0.015324</td>\n",
       "    </tr>\n",
       "    <tr>\n",
       "      <th>2</th>\n",
       "      <td>0.0</td>\n",
       "      <td>-0.102895</td>\n",
       "      <td>0.599231</td>\n",
       "      <td>-0.558135</td>\n",
       "      <td>3.141602</td>\n",
       "      <td>0.615504</td>\n",
       "      <td>0.658497</td>\n",
       "      <td>-0.014391</td>\n",
       "      <td>14.796327</td>\n",
       "      <td>163.077130</td>\n",
       "      <td>...</td>\n",
       "      <td>0.346154</td>\n",
       "      <td>0.000000</td>\n",
       "      <td>0.791667</td>\n",
       "      <td>23.236213</td>\n",
       "      <td>5.852757</td>\n",
       "      <td>4.877147</td>\n",
       "      <td>0.058926</td>\n",
       "      <td>0.023563</td>\n",
       "      <td>1.191786</td>\n",
       "      <td>0.013994</td>\n",
       "    </tr>\n",
       "    <tr>\n",
       "      <th>3</th>\n",
       "      <td>0.0</td>\n",
       "      <td>-0.108292</td>\n",
       "      <td>0.492933</td>\n",
       "      <td>-0.556767</td>\n",
       "      <td>3.146105</td>\n",
       "      <td>0.624878</td>\n",
       "      <td>0.642393</td>\n",
       "      <td>-0.060685</td>\n",
       "      <td>10.001790</td>\n",
       "      <td>171.993252</td>\n",
       "      <td>...</td>\n",
       "      <td>0.222222</td>\n",
       "      <td>0.000000</td>\n",
       "      <td>0.836224</td>\n",
       "      <td>21.255075</td>\n",
       "      <td>8.003931</td>\n",
       "      <td>12.132734</td>\n",
       "      <td>0.033677</td>\n",
       "      <td>0.032280</td>\n",
       "      <td>1.129322</td>\n",
       "      <td>-0.013619</td>\n",
       "    </tr>\n",
       "    <tr>\n",
       "      <th>4</th>\n",
       "      <td>0.0</td>\n",
       "      <td>-0.044896</td>\n",
       "      <td>0.613076</td>\n",
       "      <td>-0.255800</td>\n",
       "      <td>3.124655</td>\n",
       "      <td>0.611689</td>\n",
       "      <td>0.733834</td>\n",
       "      <td>-0.009868</td>\n",
       "      <td>14.796327</td>\n",
       "      <td>132.996188</td>\n",
       "      <td>...</td>\n",
       "      <td>0.520000</td>\n",
       "      <td>0.000000</td>\n",
       "      <td>0.767857</td>\n",
       "      <td>17.021612</td>\n",
       "      <td>3.870082</td>\n",
       "      <td>12.841643</td>\n",
       "      <td>0.029463</td>\n",
       "      <td>0.015224</td>\n",
       "      <td>1.225303</td>\n",
       "      <td>-0.019241</td>\n",
       "    </tr>\n",
       "  </tbody>\n",
       "</table>\n",
       "<p>5 rows × 27 columns</p>\n",
       "</div>"
      ],
      "text/plain": [
       "   Xc-4dv    MATS4s   GATS1dv     SdssC  BCUTd-1h    GATS1s  GATS1are  \\\n",
       "0     0.0 -0.115177  0.651126  1.889604  3.223923  0.822531  0.755289   \n",
       "1     0.0 -0.069296  0.476806 -0.434781  3.234608  0.591890  0.653562   \n",
       "2     0.0 -0.102895  0.599231 -0.558135  3.141602  0.615504  0.658497   \n",
       "3     0.0 -0.108292  0.492933 -0.556767  3.146105  0.624878  0.642393   \n",
       "4     0.0 -0.044896  0.613076 -0.255800  3.124655  0.611689  0.733834   \n",
       "\n",
       "    AATSC3d  PEOE_VSA2      AATS4v  ...  RotRatio     SsNH2  ETA_epsilon_5  \\\n",
       "0 -0.020000   4.992405  234.087411  ...  0.000000  0.000000       0.826190   \n",
       "1  0.013289  19.703393  164.220744  ...  0.342105  5.979012       0.815000   \n",
       "2 -0.014391  14.796327  163.077130  ...  0.346154  0.000000       0.791667   \n",
       "3 -0.060685  10.001790  171.993252  ...  0.222222  0.000000       0.836224   \n",
       "4 -0.009868  14.796327  132.996188  ...  0.520000  0.000000       0.767857   \n",
       "\n",
       "   SlogP_VSA2     MID_N  EState_VSA5    Xc-5dv      JGI5   GATS5pe   AATSC4d  \n",
       "0   28.145576  4.298616     0.000000  0.201728  0.025608  0.794145 -0.171321  \n",
       "1   42.538032  7.809911     6.076020  0.068843  0.025709  1.062264 -0.015324  \n",
       "2   23.236213  5.852757     4.877147  0.058926  0.023563  1.191786  0.013994  \n",
       "3   21.255075  8.003931    12.132734  0.033677  0.032280  1.129322 -0.013619  \n",
       "4   17.021612  3.870082    12.841643  0.029463  0.015224  1.225303 -0.019241  \n",
       "\n",
       "[5 rows x 27 columns]"
      ]
     },
     "execution_count": 138,
     "metadata": {},
     "output_type": "execute_result"
    }
   ],
   "source": [
    "X_Test_author = pd.DataFrame()\n",
    "for feature in X_Train_author.columns:\n",
    "    X_Test_author[feature] = test_mordred_descriptors[feature]\n",
    "X_Test_author = X_Test_author.astype(float)\n",
    "X_Test_author.head()"
   ]
  },
  {
   "cell_type": "code",
   "execution_count": 139,
   "metadata": {},
   "outputs": [
    {
     "data": {
      "text/plain": [
       "199"
      ]
     },
     "execution_count": 139,
     "metadata": {},
     "output_type": "execute_result"
    }
   ],
   "source": [
    "len(X_Test_author)"
   ]
  },
  {
   "cell_type": "code",
   "execution_count": 140,
   "metadata": {},
   "outputs": [
    {
     "data": {
      "text/plain": [
       "794"
      ]
     },
     "execution_count": 140,
     "metadata": {},
     "output_type": "execute_result"
    }
   ],
   "source": [
    "len(X_Train_author)"
   ]
  },
  {
   "cell_type": "code",
   "execution_count": 142,
   "metadata": {},
   "outputs": [],
   "source": [
    "from sklearn.preprocessing import StandardScaler\n",
    "sc = StandardScaler()\n",
    "X_author = sc.fit_transform(X_author)\n",
    "\n",
    "X_train_np = sc.transform(X_Train_author)\n",
    "X_test_np = sc.transform(X_Test_author)\n",
    "X_author = pd.DataFrame(X_author, columns=authors_features)\n",
    "X_Train_author = pd.DataFrame(X_train_np, columns = authors_features)\n",
    "X_Test_author_des = pd.DataFrame(X_test_np, columns = authors_features)"
   ]
  },
  {
   "cell_type": "code",
   "execution_count": 143,
   "metadata": {},
   "outputs": [
    {
     "data": {
      "text/plain": [
       "<Axes: >"
      ]
     },
     "execution_count": 143,
     "metadata": {},
     "output_type": "execute_result"
    },
    {
     "data": {
      "image/png": "[encoded data removed]",
      "text/plain": [
       "<Figure size 640x480 with 2 Axes>"
      ]
     },
     "metadata": {},
     "output_type": "display_data"
    }
   ],
   "source": [
    "sns.heatmap(X_Train_author.corr())"
   ]
  },
  {
   "cell_type": "code",
   "execution_count": 144,
   "metadata": {},
   "outputs": [
    {
     "data": {
      "text/plain": [
       "(794, 27)"
      ]
     },
     "execution_count": 144,
     "metadata": {},
     "output_type": "execute_result"
    }
   ],
   "source": [
    "X_Train_author.shape"
   ]
  },
  {
   "cell_type": "code",
   "execution_count": 145,
   "metadata": {},
   "outputs": [
    {
     "data": {
      "text/plain": [
       "(794,)"
      ]
     },
     "execution_count": 145,
     "metadata": {},
     "output_type": "execute_result"
    }
   ],
   "source": [
    "y_Train_des.shape"
   ]
  },
  {
   "cell_type": "code",
   "execution_count": 146,
   "metadata": {},
   "outputs": [
    {
     "data": {
      "text/plain": [
       "(199, 27)"
      ]
     },
     "execution_count": 146,
     "metadata": {},
     "output_type": "execute_result"
    }
   ],
   "source": [
    "X_Test_author.shape"
   ]
  },
  {
   "attachments": {},
   "cell_type": "markdown",
   "metadata": {},
   "source": [
    "## 2.3. Xây dựng mô hình"
   ]
  },
  {
   "attachments": {},
   "cell_type": "markdown",
   "metadata": {},
   "source": [
    "- Có 5 mô hình cần được xây dựng đó là Random Forest, K-nearest neighbors, SVM, XGBoost và Deep Neural Network. Nhưng vì chưa học đến phần Deep Learning, nên em tạm thời bỏ qua DNN.\n",
    "- Các đặt tên của các mô hình sau sẽ là <tên mô hình>_<cách mã hóa>\n",
    "- VD: rf_des, XGBoost_morgan2, ..."
   ]
  },
  {
   "attachments": {},
   "cell_type": "markdown",
   "metadata": {},
   "source": [
    "#### Random Forest Classifier"
   ]
  },
  {
   "cell_type": "code",
   "execution_count": 147,
   "metadata": {},
   "outputs": [
    {
     "data": {
      "text/html": [
       "<style>#sk-container-id-7 {color: black;background-color: white;}#sk-container-id-7 pre{padding: 0;}#sk-container-id-7 div.sk-toggleable {background-color: white;}#sk-container-id-7 label.sk-toggleable__label {cursor: pointer;display: block;width: 100%;margin-bottom: 0;padding: 0.3em;box-sizing: border-box;text-align: center;}#sk-container-id-7 label.sk-toggleable__label-arrow:before {content: \"▸\";float: left;margin-right: 0.25em;color: #696969;}#sk-container-id-7 label.sk-toggleable__label-arrow:hover:before {color: black;}#sk-container-id-7 div.sk-estimator:hover label.sk-toggleable__label-arrow:before {color: black;}#sk-container-id-7 div.sk-toggleable__content {max-height: 0;max-width: 0;overflow: hidden;text-align: left;background-color: #f0f8ff;}#sk-container-id-7 div.sk-toggleable__content pre {margin: 0.2em;color: black;border-radius: 0.25em;background-color: #f0f8ff;}#sk-container-id-7 input.sk-toggleable__control:checked~div.sk-toggleable__content {max-height: 200px;max-width: 100%;overflow: auto;}#sk-container-id-7 input.sk-toggleable__control:checked~label.sk-toggleable__label-arrow:before {content: \"▾\";}#sk-container-id-7 div.sk-estimator input.sk-toggleable__control:checked~label.sk-toggleable__label {background-color: #d4ebff;}#sk-container-id-7 div.sk-label input.sk-toggleable__control:checked~label.sk-toggleable__label {background-color: #d4ebff;}#sk-container-id-7 input.sk-hidden--visually {border: 0;clip: rect(1px 1px 1px 1px);clip: rect(1px, 1px, 1px, 1px);height: 1px;margin: -1px;overflow: hidden;padding: 0;position: absolute;width: 1px;}#sk-container-id-7 div.sk-estimator {font-family: monospace;background-color: #f0f8ff;border: 1px dotted black;border-radius: 0.25em;box-sizing: border-box;margin-bottom: 0.5em;}#sk-container-id-7 div.sk-estimator:hover {background-color: #d4ebff;}#sk-container-id-7 div.sk-parallel-item::after {content: \"\";width: 100%;border-bottom: 1px solid gray;flex-grow: 1;}#sk-container-id-7 div.sk-label:hover label.sk-toggleable__label {background-color: #d4ebff;}#sk-container-id-7 div.sk-serial::before {content: \"\";position: absolute;border-left: 1px solid gray;box-sizing: border-box;top: 0;bottom: 0;left: 50%;z-index: 0;}#sk-container-id-7 div.sk-serial {display: flex;flex-direction: column;align-items: center;background-color: white;padding-right: 0.2em;padding-left: 0.2em;position: relative;}#sk-container-id-7 div.sk-item {position: relative;z-index: 1;}#sk-container-id-7 div.sk-parallel {display: flex;align-items: stretch;justify-content: center;background-color: white;position: relative;}#sk-container-id-7 div.sk-item::before, #sk-container-id-7 div.sk-parallel-item::before {content: \"\";position: absolute;border-left: 1px solid gray;box-sizing: border-box;top: 0;bottom: 0;left: 50%;z-index: -1;}#sk-container-id-7 div.sk-parallel-item {display: flex;flex-direction: column;z-index: 1;position: relative;background-color: white;}#sk-container-id-7 div.sk-parallel-item:first-child::after {align-self: flex-end;width: 50%;}#sk-container-id-7 div.sk-parallel-item:last-child::after {align-self: flex-start;width: 50%;}#sk-container-id-7 div.sk-parallel-item:only-child::after {width: 0;}#sk-container-id-7 div.sk-dashed-wrapped {border: 1px dashed gray;margin: 0 0.4em 0.5em 0.4em;box-sizing: border-box;padding-bottom: 0.4em;background-color: white;}#sk-container-id-7 div.sk-label label {font-family: monospace;font-weight: bold;display: inline-block;line-height: 1.2em;}#sk-container-id-7 div.sk-label-container {text-align: center;}#sk-container-id-7 div.sk-container {/* jupyter's `normalize.less` sets `[hidden] { display: none; }` but bootstrap.min.css set `[hidden] { display: none !important; }` so we also need the `!important` here to be able to override the default hidden behavior on the sphinx rendered scikit-learn.org. See: https://github.com/scikit-learn/scikit-learn/issues/21755 */display: inline-block !important;position: relative;}#sk-container-id-7 div.sk-text-repr-fallback {display: none;}</style><div id=\"sk-container-id-7\" class=\"sk-top-container\"><div class=\"sk-text-repr-fallback\"><pre>RandomForestClassifier(criterion=&#x27;entropy&#x27;, random_state=0)</pre><b>In a Jupyter environment, please rerun this cell to show the HTML representation or trust the notebook. <br />On GitHub, the HTML representation is unable to render, please try loading this page with nbviewer.org.</b></div><div class=\"sk-container\" hidden><div class=\"sk-item\"><div class=\"sk-estimator sk-toggleable\"><input class=\"sk-toggleable__control sk-hidden--visually\" id=\"sk-estimator-id-7\" type=\"checkbox\" checked><label for=\"sk-estimator-id-7\" class=\"sk-toggleable__label sk-toggleable__label-arrow\">RandomForestClassifier</label><div class=\"sk-toggleable__content\"><pre>RandomForestClassifier(criterion=&#x27;entropy&#x27;, random_state=0)</pre></div></div></div></div></div>"
      ],
      "text/plain": [
       "RandomForestClassifier(criterion='entropy', random_state=0)"
      ]
     },
     "execution_count": 147,
     "metadata": {},
     "output_type": "execute_result"
    }
   ],
   "source": [
    "from sklearn.ensemble import RandomForestClassifier\n",
    "rf_des_author = RandomForestClassifier(n_estimators=100, criterion='entropy', random_state=0)\n",
    "rf_des_author.fit(X_Train_author, y_Train_des.reshape(len(y_Train_des)))"
   ]
  },
  {
   "attachments": {},
   "cell_type": "markdown",
   "metadata": {},
   "source": [
    "#### K-nearest neighbors"
   ]
  },
  {
   "cell_type": "code",
   "execution_count": 148,
   "metadata": {},
   "outputs": [
    {
     "data": {
      "text/html": [
       "<style>#sk-container-id-8 {color: black;background-color: white;}#sk-container-id-8 pre{padding: 0;}#sk-container-id-8 div.sk-toggleable {background-color: white;}#sk-container-id-8 label.sk-toggleable__label {cursor: pointer;display: block;width: 100%;margin-bottom: 0;padding: 0.3em;box-sizing: border-box;text-align: center;}#sk-container-id-8 label.sk-toggleable__label-arrow:before {content: \"▸\";float: left;margin-right: 0.25em;color: #696969;}#sk-container-id-8 label.sk-toggleable__label-arrow:hover:before {color: black;}#sk-container-id-8 div.sk-estimator:hover label.sk-toggleable__label-arrow:before {color: black;}#sk-container-id-8 div.sk-toggleable__content {max-height: 0;max-width: 0;overflow: hidden;text-align: left;background-color: #f0f8ff;}#sk-container-id-8 div.sk-toggleable__content pre {margin: 0.2em;color: black;border-radius: 0.25em;background-color: #f0f8ff;}#sk-container-id-8 input.sk-toggleable__control:checked~div.sk-toggleable__content {max-height: 200px;max-width: 100%;overflow: auto;}#sk-container-id-8 input.sk-toggleable__control:checked~label.sk-toggleable__label-arrow:before {content: \"▾\";}#sk-container-id-8 div.sk-estimator input.sk-toggleable__control:checked~label.sk-toggleable__label {background-color: #d4ebff;}#sk-container-id-8 div.sk-label input.sk-toggleable__control:checked~label.sk-toggleable__label {background-color: #d4ebff;}#sk-container-id-8 input.sk-hidden--visually {border: 0;clip: rect(1px 1px 1px 1px);clip: rect(1px, 1px, 1px, 1px);height: 1px;margin: -1px;overflow: hidden;padding: 0;position: absolute;width: 1px;}#sk-container-id-8 div.sk-estimator {font-family: monospace;background-color: #f0f8ff;border: 1px dotted black;border-radius: 0.25em;box-sizing: border-box;margin-bottom: 0.5em;}#sk-container-id-8 div.sk-estimator:hover {background-color: #d4ebff;}#sk-container-id-8 div.sk-parallel-item::after {content: \"\";width: 100%;border-bottom: 1px solid gray;flex-grow: 1;}#sk-container-id-8 div.sk-label:hover label.sk-toggleable__label {background-color: #d4ebff;}#sk-container-id-8 div.sk-serial::before {content: \"\";position: absolute;border-left: 1px solid gray;box-sizing: border-box;top: 0;bottom: 0;left: 50%;z-index: 0;}#sk-container-id-8 div.sk-serial {display: flex;flex-direction: column;align-items: center;background-color: white;padding-right: 0.2em;padding-left: 0.2em;position: relative;}#sk-container-id-8 div.sk-item {position: relative;z-index: 1;}#sk-container-id-8 div.sk-parallel {display: flex;align-items: stretch;justify-content: center;background-color: white;position: relative;}#sk-container-id-8 div.sk-item::before, #sk-container-id-8 div.sk-parallel-item::before {content: \"\";position: absolute;border-left: 1px solid gray;box-sizing: border-box;top: 0;bottom: 0;left: 50%;z-index: -1;}#sk-container-id-8 div.sk-parallel-item {display: flex;flex-direction: column;z-index: 1;position: relative;background-color: white;}#sk-container-id-8 div.sk-parallel-item:first-child::after {align-self: flex-end;width: 50%;}#sk-container-id-8 div.sk-parallel-item:last-child::after {align-self: flex-start;width: 50%;}#sk-container-id-8 div.sk-parallel-item:only-child::after {width: 0;}#sk-container-id-8 div.sk-dashed-wrapped {border: 1px dashed gray;margin: 0 0.4em 0.5em 0.4em;box-sizing: border-box;padding-bottom: 0.4em;background-color: white;}#sk-container-id-8 div.sk-label label {font-family: monospace;font-weight: bold;display: inline-block;line-height: 1.2em;}#sk-container-id-8 div.sk-label-container {text-align: center;}#sk-container-id-8 div.sk-container {/* jupyter's `normalize.less` sets `[hidden] { display: none; }` but bootstrap.min.css set `[hidden] { display: none !important; }` so we also need the `!important` here to be able to override the default hidden behavior on the sphinx rendered scikit-learn.org. See: https://github.com/scikit-learn/scikit-learn/issues/21755 */display: inline-block !important;position: relative;}#sk-container-id-8 div.sk-text-repr-fallback {display: none;}</style><div id=\"sk-container-id-8\" class=\"sk-top-container\"><div class=\"sk-text-repr-fallback\"><pre>KNeighborsClassifier()</pre><b>In a Jupyter environment, please rerun this cell to show the HTML representation or trust the notebook. <br />On GitHub, the HTML representation is unable to render, please try loading this page with nbviewer.org.</b></div><div class=\"sk-container\" hidden><div class=\"sk-item\"><div class=\"sk-estimator sk-toggleable\"><input class=\"sk-toggleable__control sk-hidden--visually\" id=\"sk-estimator-id-8\" type=\"checkbox\" checked><label for=\"sk-estimator-id-8\" class=\"sk-toggleable__label sk-toggleable__label-arrow\">KNeighborsClassifier</label><div class=\"sk-toggleable__content\"><pre>KNeighborsClassifier()</pre></div></div></div></div></div>"
      ],
      "text/plain": [
       "KNeighborsClassifier()"
      ]
     },
     "execution_count": 148,
     "metadata": {},
     "output_type": "execute_result"
    }
   ],
   "source": [
    "from sklearn.neighbors import KNeighborsClassifier\n",
    "knn_des_author = KNeighborsClassifier(n_neighbors=5, metric='minkowski', p=2)\n",
    "knn_des_author.fit(X_Train_author, y_Train_des.reshape(len(y_Train_des)))"
   ]
  },
  {
   "attachments": {},
   "cell_type": "markdown",
   "metadata": {},
   "source": [
    "#### Support Vector Machine"
   ]
  },
  {
   "cell_type": "code",
   "execution_count": 149,
   "metadata": {},
   "outputs": [
    {
     "data": {
      "text/html": [
       "<style>#sk-container-id-9 {color: black;background-color: white;}#sk-container-id-9 pre{padding: 0;}#sk-container-id-9 div.sk-toggleable {background-color: white;}#sk-container-id-9 label.sk-toggleable__label {cursor: pointer;display: block;width: 100%;margin-bottom: 0;padding: 0.3em;box-sizing: border-box;text-align: center;}#sk-container-id-9 label.sk-toggleable__label-arrow:before {content: \"▸\";float: left;margin-right: 0.25em;color: #696969;}#sk-container-id-9 label.sk-toggleable__label-arrow:hover:before {color: black;}#sk-container-id-9 div.sk-estimator:hover label.sk-toggleable__label-arrow:before {color: black;}#sk-container-id-9 div.sk-toggleable__content {max-height: 0;max-width: 0;overflow: hidden;text-align: left;background-color: #f0f8ff;}#sk-container-id-9 div.sk-toggleable__content pre {margin: 0.2em;color: black;border-radius: 0.25em;background-color: #f0f8ff;}#sk-container-id-9 input.sk-toggleable__control:checked~div.sk-toggleable__content {max-height: 200px;max-width: 100%;overflow: auto;}#sk-container-id-9 input.sk-toggleable__control:checked~label.sk-toggleable__label-arrow:before {content: \"▾\";}#sk-container-id-9 div.sk-estimator input.sk-toggleable__control:checked~label.sk-toggleable__label {background-color: #d4ebff;}#sk-container-id-9 div.sk-label input.sk-toggleable__control:checked~label.sk-toggleable__label {background-color: #d4ebff;}#sk-container-id-9 input.sk-hidden--visually {border: 0;clip: rect(1px 1px 1px 1px);clip: rect(1px, 1px, 1px, 1px);height: 1px;margin: -1px;overflow: hidden;padding: 0;position: absolute;width: 1px;}#sk-container-id-9 div.sk-estimator {font-family: monospace;background-color: #f0f8ff;border: 1px dotted black;border-radius: 0.25em;box-sizing: border-box;margin-bottom: 0.5em;}#sk-container-id-9 div.sk-estimator:hover {background-color: #d4ebff;}#sk-container-id-9 div.sk-parallel-item::after {content: \"\";width: 100%;border-bottom: 1px solid gray;flex-grow: 1;}#sk-container-id-9 div.sk-label:hover label.sk-toggleable__label {background-color: #d4ebff;}#sk-container-id-9 div.sk-serial::before {content: \"\";position: absolute;border-left: 1px solid gray;box-sizing: border-box;top: 0;bottom: 0;left: 50%;z-index: 0;}#sk-container-id-9 div.sk-serial {display: flex;flex-direction: column;align-items: center;background-color: white;padding-right: 0.2em;padding-left: 0.2em;position: relative;}#sk-container-id-9 div.sk-item {position: relative;z-index: 1;}#sk-container-id-9 div.sk-parallel {display: flex;align-items: stretch;justify-content: center;background-color: white;position: relative;}#sk-container-id-9 div.sk-item::before, #sk-container-id-9 div.sk-parallel-item::before {content: \"\";position: absolute;border-left: 1px solid gray;box-sizing: border-box;top: 0;bottom: 0;left: 50%;z-index: -1;}#sk-container-id-9 div.sk-parallel-item {display: flex;flex-direction: column;z-index: 1;position: relative;background-color: white;}#sk-container-id-9 div.sk-parallel-item:first-child::after {align-self: flex-end;width: 50%;}#sk-container-id-9 div.sk-parallel-item:last-child::after {align-self: flex-start;width: 50%;}#sk-container-id-9 div.sk-parallel-item:only-child::after {width: 0;}#sk-container-id-9 div.sk-dashed-wrapped {border: 1px dashed gray;margin: 0 0.4em 0.5em 0.4em;box-sizing: border-box;padding-bottom: 0.4em;background-color: white;}#sk-container-id-9 div.sk-label label {font-family: monospace;font-weight: bold;display: inline-block;line-height: 1.2em;}#sk-container-id-9 div.sk-label-container {text-align: center;}#sk-container-id-9 div.sk-container {/* jupyter's `normalize.less` sets `[hidden] { display: none; }` but bootstrap.min.css set `[hidden] { display: none !important; }` so we also need the `!important` here to be able to override the default hidden behavior on the sphinx rendered scikit-learn.org. See: https://github.com/scikit-learn/scikit-learn/issues/21755 */display: inline-block !important;position: relative;}#sk-container-id-9 div.sk-text-repr-fallback {display: none;}</style><div id=\"sk-container-id-9\" class=\"sk-top-container\"><div class=\"sk-text-repr-fallback\"><pre>SVC(random_state=0)</pre><b>In a Jupyter environment, please rerun this cell to show the HTML representation or trust the notebook. <br />On GitHub, the HTML representation is unable to render, please try loading this page with nbviewer.org.</b></div><div class=\"sk-container\" hidden><div class=\"sk-item\"><div class=\"sk-estimator sk-toggleable\"><input class=\"sk-toggleable__control sk-hidden--visually\" id=\"sk-estimator-id-9\" type=\"checkbox\" checked><label for=\"sk-estimator-id-9\" class=\"sk-toggleable__label sk-toggleable__label-arrow\">SVC</label><div class=\"sk-toggleable__content\"><pre>SVC(random_state=0)</pre></div></div></div></div></div>"
      ],
      "text/plain": [
       "SVC(random_state=0)"
      ]
     },
     "execution_count": 149,
     "metadata": {},
     "output_type": "execute_result"
    }
   ],
   "source": [
    "from sklearn.svm import SVC\n",
    "svm_des_author = SVC(kernel='rbf', random_state=0)\n",
    "svm_des_author.fit(X_Train_author, y_Train_des)"
   ]
  },
  {
   "attachments": {},
   "cell_type": "markdown",
   "metadata": {},
   "source": [
    "#### XGBoost"
   ]
  },
  {
   "cell_type": "code",
   "execution_count": 150,
   "metadata": {},
   "outputs": [
    {
     "data": {
      "text/html": [
       "<style>#sk-container-id-10 {color: black;background-color: white;}#sk-container-id-10 pre{padding: 0;}#sk-container-id-10 div.sk-toggleable {background-color: white;}#sk-container-id-10 label.sk-toggleable__label {cursor: pointer;display: block;width: 100%;margin-bottom: 0;padding: 0.3em;box-sizing: border-box;text-align: center;}#sk-container-id-10 label.sk-toggleable__label-arrow:before {content: \"▸\";float: left;margin-right: 0.25em;color: #696969;}#sk-container-id-10 label.sk-toggleable__label-arrow:hover:before {color: black;}#sk-container-id-10 div.sk-estimator:hover label.sk-toggleable__label-arrow:before {color: black;}#sk-container-id-10 div.sk-toggleable__content {max-height: 0;max-width: 0;overflow: hidden;text-align: left;background-color: #f0f8ff;}#sk-container-id-10 div.sk-toggleable__content pre {margin: 0.2em;color: black;border-radius: 0.25em;background-color: #f0f8ff;}#sk-container-id-10 input.sk-toggleable__control:checked~div.sk-toggleable__content {max-height: 200px;max-width: 100%;overflow: auto;}#sk-container-id-10 input.sk-toggleable__control:checked~label.sk-toggleable__label-arrow:before {content: \"▾\";}#sk-container-id-10 div.sk-estimator input.sk-toggleable__control:checked~label.sk-toggleable__label {background-color: #d4ebff;}#sk-container-id-10 div.sk-label input.sk-toggleable__control:checked~label.sk-toggleable__label {background-color: #d4ebff;}#sk-container-id-10 input.sk-hidden--visually {border: 0;clip: rect(1px 1px 1px 1px);clip: rect(1px, 1px, 1px, 1px);height: 1px;margin: -1px;overflow: hidden;padding: 0;position: absolute;width: 1px;}#sk-container-id-10 div.sk-estimator {font-family: monospace;background-color: #f0f8ff;border: 1px dotted black;border-radius: 0.25em;box-sizing: border-box;margin-bottom: 0.5em;}#sk-container-id-10 div.sk-estimator:hover {background-color: #d4ebff;}#sk-container-id-10 div.sk-parallel-item::after {content: \"\";width: 100%;border-bottom: 1px solid gray;flex-grow: 1;}#sk-container-id-10 div.sk-label:hover label.sk-toggleable__label {background-color: #d4ebff;}#sk-container-id-10 div.sk-serial::before {content: \"\";position: absolute;border-left: 1px solid gray;box-sizing: border-box;top: 0;bottom: 0;left: 50%;z-index: 0;}#sk-container-id-10 div.sk-serial {display: flex;flex-direction: column;align-items: center;background-color: white;padding-right: 0.2em;padding-left: 0.2em;position: relative;}#sk-container-id-10 div.sk-item {position: relative;z-index: 1;}#sk-container-id-10 div.sk-parallel {display: flex;align-items: stretch;justify-content: center;background-color: white;position: relative;}#sk-container-id-10 div.sk-item::before, #sk-container-id-10 div.sk-parallel-item::before {content: \"\";position: absolute;border-left: 1px solid gray;box-sizing: border-box;top: 0;bottom: 0;left: 50%;z-index: -1;}#sk-container-id-10 div.sk-parallel-item {display: flex;flex-direction: column;z-index: 1;position: relative;background-color: white;}#sk-container-id-10 div.sk-parallel-item:first-child::after {align-self: flex-end;width: 50%;}#sk-container-id-10 div.sk-parallel-item:last-child::after {align-self: flex-start;width: 50%;}#sk-container-id-10 div.sk-parallel-item:only-child::after {width: 0;}#sk-container-id-10 div.sk-dashed-wrapped {border: 1px dashed gray;margin: 0 0.4em 0.5em 0.4em;box-sizing: border-box;padding-bottom: 0.4em;background-color: white;}#sk-container-id-10 div.sk-label label {font-family: monospace;font-weight: bold;display: inline-block;line-height: 1.2em;}#sk-container-id-10 div.sk-label-container {text-align: center;}#sk-container-id-10 div.sk-container {/* jupyter's `normalize.less` sets `[hidden] { display: none; }` but bootstrap.min.css set `[hidden] { display: none !important; }` so we also need the `!important` here to be able to override the default hidden behavior on the sphinx rendered scikit-learn.org. See: https://github.com/scikit-learn/scikit-learn/issues/21755 */display: inline-block !important;position: relative;}#sk-container-id-10 div.sk-text-repr-fallback {display: none;}</style><div id=\"sk-container-id-10\" class=\"sk-top-container\"><div class=\"sk-text-repr-fallback\"><pre>XGBClassifier(base_score=None, booster=None, callbacks=None,\n",
       "              colsample_bylevel=None, colsample_bynode=None,\n",
       "              colsample_bytree=None, early_stopping_rounds=None,\n",
       "              enable_categorical=False, eval_metric=None, feature_types=None,\n",
       "              gamma=None, gpu_id=None, grow_policy=None, importance_type=None,\n",
       "              interaction_constraints=None, learning_rate=None, max_bin=None,\n",
       "              max_cat_threshold=None, max_cat_to_onehot=None,\n",
       "              max_delta_step=None, max_depth=None, max_leaves=None,\n",
       "              min_child_weight=None, missing=nan, monotone_constraints=None,\n",
       "              n_estimators=100, n_jobs=None, num_parallel_tree=None,\n",
       "              predictor=None, random_state=None, ...)</pre><b>In a Jupyter environment, please rerun this cell to show the HTML representation or trust the notebook. <br />On GitHub, the HTML representation is unable to render, please try loading this page with nbviewer.org.</b></div><div class=\"sk-container\" hidden><div class=\"sk-item\"><div class=\"sk-estimator sk-toggleable\"><input class=\"sk-toggleable__control sk-hidden--visually\" id=\"sk-estimator-id-10\" type=\"checkbox\" checked><label for=\"sk-estimator-id-10\" class=\"sk-toggleable__label sk-toggleable__label-arrow\">XGBClassifier</label><div class=\"sk-toggleable__content\"><pre>XGBClassifier(base_score=None, booster=None, callbacks=None,\n",
       "              colsample_bylevel=None, colsample_bynode=None,\n",
       "              colsample_bytree=None, early_stopping_rounds=None,\n",
       "              enable_categorical=False, eval_metric=None, feature_types=None,\n",
       "              gamma=None, gpu_id=None, grow_policy=None, importance_type=None,\n",
       "              interaction_constraints=None, learning_rate=None, max_bin=None,\n",
       "              max_cat_threshold=None, max_cat_to_onehot=None,\n",
       "              max_delta_step=None, max_depth=None, max_leaves=None,\n",
       "              min_child_weight=None, missing=nan, monotone_constraints=None,\n",
       "              n_estimators=100, n_jobs=None, num_parallel_tree=None,\n",
       "              predictor=None, random_state=None, ...)</pre></div></div></div></div></div>"
      ],
      "text/plain": [
       "XGBClassifier(base_score=None, booster=None, callbacks=None,\n",
       "              colsample_bylevel=None, colsample_bynode=None,\n",
       "              colsample_bytree=None, early_stopping_rounds=None,\n",
       "              enable_categorical=False, eval_metric=None, feature_types=None,\n",
       "              gamma=None, gpu_id=None, grow_policy=None, importance_type=None,\n",
       "              interaction_constraints=None, learning_rate=None, max_bin=None,\n",
       "              max_cat_threshold=None, max_cat_to_onehot=None,\n",
       "              max_delta_step=None, max_depth=None, max_leaves=None,\n",
       "              min_child_weight=None, missing=nan, monotone_constraints=None,\n",
       "              n_estimators=100, n_jobs=None, num_parallel_tree=None,\n",
       "              predictor=None, random_state=None, ...)"
      ]
     },
     "execution_count": 150,
     "metadata": {},
     "output_type": "execute_result"
    }
   ],
   "source": [
    "from xgboost import XGBClassifier\n",
    "bst_des_author = XGBClassifier(n_estimators=100, objective='binary:logistic')\n",
    "bst_des_author.fit(X_Train_author, y_Train_des)"
   ]
  },
  {
   "attachments": {},
   "cell_type": "markdown",
   "metadata": {},
   "source": [
    "# 3. Đánh giá mô hình"
   ]
  },
  {
   "attachments": {},
   "cell_type": "markdown",
   "metadata": {},
   "source": [
    "### 10-fold-cross validation"
   ]
  },
  {
   "cell_type": "code",
   "execution_count": 151,
   "metadata": {},
   "outputs": [],
   "source": [
    "from sklearn.model_selection import cross_val_score\n",
    "from sklearn.model_selection import KFold"
   ]
  },
  {
   "cell_type": "code",
   "execution_count": 152,
   "metadata": {},
   "outputs": [],
   "source": [
    "X_Total = np.concatenate((X_Train_author, X_Test_author_des), axis=0)\n",
    "y_Total = np.concatenate((y_Train_des, y_Test_des), axis=0)"
   ]
  },
  {
   "cell_type": "code",
   "execution_count": 153,
   "metadata": {},
   "outputs": [
    {
     "name": "stdout",
     "output_type": "stream",
     "text": [
      "Độ chính xác của 10-fold cross validation: 0.710 (0.065)\n",
      "So sánh với độ chính xác của bài báo là: 0.833\n",
      "Độ chính xác của 10-fold cross validation: 0.528 (0.056)\n",
      "So sánh với độ chính xác của bài báo là: 0.847\n",
      "Độ chính xác của 10-fold cross validation: 0.768 (0.038)\n",
      "So sánh với độ chính xác của bài báo là: 0.857\n",
      "Độ chính xác của 10-fold cross validation: 0.778 (0.029)\n",
      "So sánh với độ chính xác của bài báo là: 0.822\n"
     ]
    }
   ],
   "source": [
    "cv = KFold(n_splits=10, random_state=1, shuffle=True)\n",
    "\n",
    "scores = cross_val_score(knn_des_author, X_Total, y_Total, scoring='accuracy', cv=cv, n_jobs=-1)\n",
    "print('Độ chính xác của 10-fold cross validation: %.3f (%.3f)' % (scores.mean(), scores.std()))\n",
    "print('So sánh với độ chính xác của bài báo là: ' + str(0.833))\n",
    "\n",
    "scores = cross_val_score(svm_des_author, X_Total, y_Total, scoring='accuracy', cv=cv, n_jobs=-1)\n",
    "print('Độ chính xác của 10-fold cross validation: %.3f (%.3f)' % (scores.mean(), scores.std()))\n",
    "print('So sánh với độ chính xác của bài báo là: ' + str(0.847))\n",
    "\n",
    "scores = cross_val_score(rf_des_author, X_Total, y_Total, scoring='accuracy', cv=cv, n_jobs=-1)\n",
    "print('Độ chính xác của 10-fold cross validation: %.3f (%.3f)' % (scores.mean(), scores.std()))\n",
    "print('So sánh với độ chính xác của bài báo là: ' + str(0.857))\n",
    "\n",
    "scores = cross_val_score(bst_des_author, X_Total, y_Total, scoring='accuracy', cv=cv, n_jobs=-1)\n",
    "print('Độ chính xác của 10-fold cross validation: %.3f (%.3f)' % (scores.mean(), scores.std()))\n",
    "print('So sánh với độ chính xác của bài báo là: ' + str(0.822))"
   ]
  },
  {
   "attachments": {},
   "cell_type": "markdown",
   "metadata": {},
   "source": [
    "### Accuracy, Sensitivity, Specificity"
   ]
  },
  {
   "cell_type": "code",
   "execution_count": 154,
   "metadata": {},
   "outputs": [],
   "source": [
    "from sklearn.metrics import confusion_matrix, accuracy_score\n",
    "from tabulate import tabulate\n",
    "import math"
   ]
  },
  {
   "cell_type": "code",
   "execution_count": 155,
   "metadata": {},
   "outputs": [],
   "source": [
    "def model_evaluation_calculation(cm):\n",
    "    tp = cm[0][0]; tn = cm[1][1]; fp = cm[0][1]; fn = cm[1][0]\n",
    "    ac = (tp+tn)/(tp+tn+fp+fn)\n",
    "    se = tp/(tp+fn)\n",
    "    sp = tn/(tn+fp)\n",
    "    mcc = (tp*tn - fp*fn) / math.sqrt((tp+fp)*(tp+fn)*(tn+fp)*(tn+fn))\n",
    "    return ac, se, sp, mcc"
   ]
  },
  {
   "cell_type": "code",
   "execution_count": 156,
   "metadata": {},
   "outputs": [],
   "source": [
    "def me_result(cm, ac1, se1, sp1, mcc1):\n",
    "    print(\"Confusion matrix:\")\n",
    "    print(cm)\n",
    "    ac, se, sp, mcc = model_evaluation_calculation(cm)\n",
    "    print(\"Comparision:\")\n",
    "    table = [[' ' 'AC', 'SE', 'SP', 'MCC'], ['Shin Liu et at', ac1, se1, sp1, mcc1], ['My model', ac, se, sp, mcc]]\n",
    "    print(tabulate(table, headers='firstrow', tablefmt='fancy_grid'))"
   ]
  },
  {
   "attachments": {},
   "cell_type": "markdown",
   "metadata": {},
   "source": [
    "KNN"
   ]
  },
  {
   "cell_type": "code",
   "execution_count": 157,
   "metadata": {},
   "outputs": [
    {
     "name": "stdout",
     "output_type": "stream",
     "text": [
      "Confusion matrix:\n",
      "[[67 34]\n",
      " [57 41]]\n",
      "Comparision:\n",
      "╒════════════════╤══════════╤══════════╤══════════╤═══════════╕\n",
      "│                │       AC │       SE │       SP │       MCC │\n",
      "╞════════════════╪══════════╪══════════╪══════════╪═══════════╡\n",
      "│ Shin Liu et at │ 0.859    │ 0.95     │ 0.644    │ 0.648     │\n",
      "├────────────────┼──────────┼──────────┼──────────┼───────────┤\n",
      "│ My model       │ 0.542714 │ 0.540323 │ 0.546667 │ 0.0843205 │\n",
      "╘════════════════╧══════════╧══════════╧══════════╧═══════════╛\n"
     ]
    }
   ],
   "source": [
    "#KNN\n",
    "y_knn_pred = knn_des_author.predict(X_Test_author_des)\n",
    "cm = confusion_matrix(y_Test_des, y_knn_pred)\n",
    "ac1, se1, sp1, mcc1 = 0.859, 0.950, 0.644, 0.648\n",
    "me_result(cm, ac1, se1, sp1, mcc1)"
   ]
  },
  {
   "attachments": {},
   "cell_type": "markdown",
   "metadata": {},
   "source": [
    "SVM"
   ]
  },
  {
   "cell_type": "code",
   "execution_count": 158,
   "metadata": {},
   "outputs": [
    {
     "name": "stdout",
     "output_type": "stream",
     "text": [
      "Confusion matrix:\n",
      "[[101   0]\n",
      " [ 98   0]]\n",
      "Comparision:\n",
      "╒════════════════╤══════════╤══════════╤═════════╤═════════╕\n",
      "│                │       AC │       SE │      SP │     MCC │\n",
      "╞════════════════╪══════════╪══════════╪═════════╪═════════╡\n",
      "│ Shin Liu et at │ 0.859    │ 0.95     │   0.644 │   0.648 │\n",
      "├────────────────┼──────────┼──────────┼─────────┼─────────┤\n",
      "│ My model       │ 0.507538 │ 0.507538 │ nan     │ nan     │\n",
      "╘════════════════╧══════════╧══════════╧═════════╧═════════╛\n"
     ]
    },
    {
     "name": "stderr",
     "output_type": "stream",
     "text": [
      "/tmp/ipykernel_39103/2263828191.py:5: RuntimeWarning: invalid value encountered in scalar divide\n",
      "  sp = tn/(tn+fp)\n",
      "/tmp/ipykernel_39103/2263828191.py:6: RuntimeWarning: invalid value encountered in divide\n",
      "  mcc = (tp*tn - fp*fn) / math.sqrt((tp+fp)*(tp+fn)*(tn+fp)*(tn+fn))\n"
     ]
    }
   ],
   "source": [
    "#SVM\n",
    "y_svm_pred = svm_des_author.predict(X_Test_author_des)\n",
    "cm = confusion_matrix(y_Test_des, y_svm_pred)\n",
    "ac1, se1, sp1, mcc1 = 0.859 ,0.950 ,0.644 ,0.648\n",
    "me_result(cm, ac1, se1, sp1, mcc1)"
   ]
  },
  {
   "attachments": {},
   "cell_type": "markdown",
   "metadata": {},
   "source": [
    "RF"
   ]
  },
  {
   "cell_type": "code",
   "execution_count": 159,
   "metadata": {},
   "outputs": [
    {
     "name": "stdout",
     "output_type": "stream",
     "text": [
      "Confusion matrix:\n",
      "[[ 8 93]\n",
      " [ 4 94]]\n",
      "Comparision:\n",
      "╒════════════════╤══════════╤══════════╤══════════╤═══════════╕\n",
      "│                │       AC │       SE │       SP │       MCC │\n",
      "╞════════════════╪══════════╪══════════╪══════════╪═══════════╡\n",
      "│ Shin Liu et at │ 0.798    │ 0.827    │ 0.729    │ 0.538     │\n",
      "├────────────────┼──────────┼──────────┼──────────┼───────────┤\n",
      "│ My model       │ 0.512563 │ 0.666667 │ 0.502674 │ 0.0806303 │\n",
      "╘════════════════╧══════════╧══════════╧══════════╧═══════════╛\n"
     ]
    }
   ],
   "source": [
    "#SVM\n",
    "y_rf_pred = rf_des_author.predict(X_Test_author_des)\n",
    "cm = confusion_matrix(y_Test_des, y_rf_pred)\n",
    "ac1, se1, sp1, mcc1 = 0.798 ,0.827 ,0.729 ,0.538\n",
    "me_result(cm, ac1, se1, sp1, mcc1)"
   ]
  },
  {
   "attachments": {},
   "cell_type": "markdown",
   "metadata": {},
   "source": [
    "XGboost"
   ]
  },
  {
   "cell_type": "code",
   "execution_count": 160,
   "metadata": {},
   "outputs": [
    {
     "name": "stdout",
     "output_type": "stream",
     "text": [
      "Confusion matrix:\n",
      "[[ 6 95]\n",
      " [ 3 95]]\n",
      "Comparision:\n",
      "╒════════════════╤══════════╤══════════╤══════╤═══════════╕\n",
      "│                │       AC │       SE │   SP │       MCC │\n",
      "╞════════════════╪══════════╪══════════╪══════╪═══════════╡\n",
      "│ Shin Liu et at │ 0.773    │ 0.77     │ 0.78 │ 0.514     │\n",
      "├────────────────┼──────────┼──────────┼──────┼───────────┤\n",
      "│ My model       │ 0.507538 │ 0.666667 │ 0.5  │ 0.0692744 │\n",
      "╘════════════════╧══════════╧══════════╧══════╧═══════════╛\n"
     ]
    }
   ],
   "source": [
    "y_bst_pred = bst_des_author.predict(X_Test_author_des)\n",
    "cm = confusion_matrix(y_Test_des, y_bst_pred)\n",
    "ac1, se1, sp1, mcc1 = 0.773 ,0.770 ,0.780 ,0.514\n",
    "me_result(cm, ac1, se1, sp1, mcc1)"
   ]
  },
  {
   "attachments": {},
   "cell_type": "markdown",
   "metadata": {},
   "source": [
    "### AUC"
   ]
  },
  {
   "cell_type": "code",
   "execution_count": 161,
   "metadata": {},
   "outputs": [
    {
     "data": {
      "image/png": "[encoded data removed]",
      "text/plain": [
       "<Figure size 600x600 with 1 Axes>"
      ]
     },
     "metadata": {},
     "output_type": "display_data"
    }
   ],
   "source": [
    "from sklearn.metrics import RocCurveDisplay\n",
    "fig, ax = plt.subplots(figsize=(6, 6))\n",
    "\n",
    "RocCurveDisplay.from_estimator(\n",
    "    estimator=rf_des_author, \n",
    "    X=X_Test_author_des, \n",
    "    y=y_Test_des,\n",
    "    name=f\"ROC curve for RF\",\n",
    "    color='cornflowerblue',\n",
    "    ax=ax)\n",
    "\n",
    "\n",
    "RocCurveDisplay.from_estimator(\n",
    "    estimator=knn_des_author, \n",
    "    X=X_Test_author_des, \n",
    "    y=y_Test_des,\n",
    "    name=f\"ROC curve for KNN\",\n",
    "    color='darkorange',\n",
    "    ax=ax)\n",
    "\n",
    "RocCurveDisplay.from_estimator(\n",
    "    estimator=bst_des_author, \n",
    "    X=X_Test_author_des, \n",
    "    y=y_Test_des,\n",
    "    name=f\"ROC curve for XGBoost\",\n",
    "    color='aqua',\n",
    "    ax=ax)\n",
    "\n",
    "RocCurveDisplay.from_estimator(\n",
    "    estimator=svm_des_author, \n",
    "    X=X_Test_author_des, \n",
    "    y=y_Test_des,\n",
    "    name=f\"ROC curve for SVM\",\n",
    "    color='red',\n",
    "    ax=ax)\n",
    "\n",
    "plt.plot([0, 1], [0, 1], \"k--\", label=\"chance level (AUC = 0.5)\")\n",
    "plt.axis(\"square\")\n",
    "plt.xlabel(\"False Positive Rate\")\n",
    "plt.ylabel(\"True Positive Rate\")\n",
    "plt.title(\"Modred Descriptors ROC Curves\")\n",
    "plt.legend()\n",
    "plt.show()"
   ]
  }
 ],
 "metadata": {
  "kernelspec": {
   "display_name": "my-rdkit-env",
   "language": "python",
   "name": "python3"
  },
  "language_info": {
   "codemirror_mode": {
    "name": "ipython",
    "version": 3
   },
   "file_extension": ".py",
   "mimetype": "text/x-python",
   "name": "python",
   "nbconvert_exporter": "python",
   "pygments_lexer": "ipython3",
   "version": "3.11.3"
  },
  "orig_nbformat": 4,
  "vscode": {
   "interpreter": {
    "hash": "b9261f96c4a796f57ae4bca1e6085db69d1e98c41d8f6e6360d996db9421903c"
   }
  }
 },
 "nbformat": 4,
 "nbformat_minor": 2
}
