{
 "cells": [
  {
   "cell_type": "code",
   "execution_count": 1,
   "metadata": {},
   "outputs": [],
   "source": [
    "from rdkit.Chem import AllChem\n",
    "from rdkit import Chem\n",
    "from rdkit.Chem import Descriptors, MACCSkeys\n",
    "from rdkit.ML.Descriptors import MoleculeDescriptors\n",
    "\n",
    "import pandas as pd\n",
    "import numpy as np\n",
    "import matplotlib.pyplot as plt\n",
    "from tabulate import tabulate"
   ]
  },
  {
   "attachments": {},
   "cell_type": "markdown",
   "metadata": {},
   "source": [
    "# 1. Read the data"
   ]
  },
  {
   "cell_type": "code",
   "execution_count": 2,
   "metadata": {},
   "outputs": [
    {
     "data": {
      "text/plain": [
       "2138"
      ]
     },
     "execution_count": 2,
     "metadata": {},
     "output_type": "execute_result"
    }
   ],
   "source": [
    "# data_version_1_path = \"../data_for_modeling/raw_data/v1/Original Data - v1 - Merge.xlsx\"\n",
    "all_data_path = \"../../data_for_modeling/filter_data/all_data/HDAC2_all_final_data.xlsx\"\n",
    "dataset = pd.read_excel(all_data_path, sheet_name='filter_data')\n",
    "dataset_length = len(dataset)\n",
    "dataset_length"
   ]
  },
  {
   "cell_type": "code",
   "execution_count": 3,
   "metadata": {},
   "outputs": [
    {
     "data": {
      "text/html": [
       "<div>\n",
       "<style scoped>\n",
       "    .dataframe tbody tr th:only-of-type {\n",
       "        vertical-align: middle;\n",
       "    }\n",
       "\n",
       "    .dataframe tbody tr th {\n",
       "        vertical-align: top;\n",
       "    }\n",
       "\n",
       "    .dataframe thead th {\n",
       "        text-align: right;\n",
       "    }\n",
       "</style>\n",
       "<table border=\"1\" class=\"dataframe\">\n",
       "  <thead>\n",
       "    <tr style=\"text-align: right;\">\n",
       "      <th></th>\n",
       "      <th>CID</th>\n",
       "      <th>SMILES</th>\n",
       "      <th>AVG_IC50_uM</th>\n",
       "      <th>FIRST_LABEL</th>\n",
       "      <th>FINAL_LABEL</th>\n",
       "      <th>DUPLICATE_COUNTS</th>\n",
       "    </tr>\n",
       "  </thead>\n",
       "  <tbody>\n",
       "    <tr>\n",
       "      <th>0</th>\n",
       "      <td>2746</td>\n",
       "      <td>CC(=O)NC1=CC=C(C=C1)C(=O)NC2=CC=CC=C2N</td>\n",
       "      <td>2.232250</td>\n",
       "      <td>Active</td>\n",
       "      <td>Inactive</td>\n",
       "      <td>12</td>\n",
       "    </tr>\n",
       "    <tr>\n",
       "      <th>1</th>\n",
       "      <td>3812</td>\n",
       "      <td>CN(C)C1=CC=C(C=C1)C(=O)NCCCCCCCC(=O)NO</td>\n",
       "      <td>1.308333</td>\n",
       "      <td>Active</td>\n",
       "      <td>Inactive</td>\n",
       "      <td>3</td>\n",
       "    </tr>\n",
       "    <tr>\n",
       "      <th>2</th>\n",
       "      <td>3994</td>\n",
       "      <td>CN(C)C1=CC=C(C=C1)C(=O)NCCCCCCC(=O)NO</td>\n",
       "      <td>1.255333</td>\n",
       "      <td>Active</td>\n",
       "      <td>Inactive</td>\n",
       "      <td>3</td>\n",
       "    </tr>\n",
       "    <tr>\n",
       "      <th>3</th>\n",
       "      <td>4261</td>\n",
       "      <td>C1=CC=C(C(=C1)N)NC(=O)C2=CC=C(C=C2)CNC(=O)OCC3...</td>\n",
       "      <td>1.526116</td>\n",
       "      <td>Active</td>\n",
       "      <td>Inactive</td>\n",
       "      <td>19</td>\n",
       "    </tr>\n",
       "    <tr>\n",
       "      <th>4</th>\n",
       "      <td>5173</td>\n",
       "      <td>C(CCCC(=O)NO)CCC(=O)NO</td>\n",
       "      <td>8.230000</td>\n",
       "      <td>Active</td>\n",
       "      <td>Inactive</td>\n",
       "      <td>1</td>\n",
       "    </tr>\n",
       "  </tbody>\n",
       "</table>\n",
       "</div>"
      ],
      "text/plain": [
       "    CID                                             SMILES  AVG_IC50_uM  \\\n",
       "0  2746             CC(=O)NC1=CC=C(C=C1)C(=O)NC2=CC=CC=C2N     2.232250   \n",
       "1  3812             CN(C)C1=CC=C(C=C1)C(=O)NCCCCCCCC(=O)NO     1.308333   \n",
       "2  3994              CN(C)C1=CC=C(C=C1)C(=O)NCCCCCCC(=O)NO     1.255333   \n",
       "3  4261  C1=CC=C(C(=C1)N)NC(=O)C2=CC=C(C=C2)CNC(=O)OCC3...     1.526116   \n",
       "4  5173                             C(CCCC(=O)NO)CCC(=O)NO     8.230000   \n",
       "\n",
       "  FIRST_LABEL FINAL_LABEL  DUPLICATE_COUNTS  \n",
       "0      Active    Inactive                12  \n",
       "1      Active    Inactive                 3  \n",
       "2      Active    Inactive                 3  \n",
       "3      Active    Inactive                19  \n",
       "4      Active    Inactive                 1  "
      ]
     },
     "execution_count": 3,
     "metadata": {},
     "output_type": "execute_result"
    }
   ],
   "source": [
    "dataset.head()"
   ]
  },
  {
   "attachments": {},
   "cell_type": "markdown",
   "metadata": {},
   "source": [
    "# 2. Profile of the data"
   ]
  },
  {
   "attachments": {},
   "cell_type": "markdown",
   "metadata": {},
   "source": [
    "## 2.1. Group by original activity"
   ]
  },
  {
   "cell_type": "code",
   "execution_count": 56,
   "metadata": {},
   "outputs": [],
   "source": [
    "def check_activity_distribution(dataset, col_name, encode):\n",
    "    dataset_length = len(dataset)\n",
    "    if not encode:\n",
    "        active_rows = dataset.loc[dataset[col_name] == \"Active\"]\n",
    "        inactive_rows = dataset.loc[dataset[col_name] == \"Inactive\"]\n",
    "        inconclusive_rows = dataset.loc[dataset[col_name] == \"Inconclusive\"]\n",
    "        unspecified_rows = dataset.loc[dataset[col_name] == \"Unspecified\"]\n",
    "        \n",
    "        print(\"Total dataset\")\n",
    "        table = [['', 'Active', 'Inactive', 'Inconclusive', 'Unspecified'], \n",
    "                ['Number', len(active_rows), len(inactive_rows), len(inconclusive_rows), len(unspecified_rows)],\n",
    "                ['Percentage (%)', len(active_rows)/dataset_length*100, len(inactive_rows)/dataset_length*100,\n",
    "                len(inconclusive_rows)/dataset_length*100, len(unspecified_rows)/dataset_length*100]]\n",
    "        print(tabulate(table, headers='firstrow', tablefmt='fancy_grid'))\n",
    "    else:\n",
    "        active_rows = dataset.loc[dataset[col_name] == 0]\n",
    "        inactive_rows = dataset.loc[dataset[col_name] == 1]\n",
    "        unspecified_rows = dataset.loc[dataset[col_name] == 2]\n",
    "        print(\"Total dataset\")\n",
    "        table = [['', 'Active', 'Inactive'], \n",
    "                ['Number', len(active_rows), len(inactive_rows), len(unspecified_rows)],\n",
    "                ['Percentage (%)', len(active_rows)/dataset_length*100, len(inactive_rows)/dataset_length*100,\n",
    "                 len(unspecified_rows)/dataset_length*100]]\n",
    "        print(tabulate(table, headers='firstrow', tablefmt='fancy_grid'))\n",
    "    "
   ]
  },
  {
   "cell_type": "code",
   "execution_count": 5,
   "metadata": {},
   "outputs": [
    {
     "name": "stdout",
     "output_type": "stream",
     "text": [
      "Total dataset\n",
      "╒════════════════╤═══════════╤════════════╤════════════════╤═══════════════╕\n",
      "│                │    Active │   Inactive │   Inconclusive │   Unspecified │\n",
      "╞════════════════╪═══════════╪════════════╪════════════════╪═══════════════╡\n",
      "│ Number         │ 1527      │  13        │              0 │      598      │\n",
      "├────────────────┼───────────┼────────────┼────────────────┼───────────────┤\n",
      "│ Percentage (%) │   71.4219 │   0.608045 │              0 │       27.9701 │\n",
      "╘════════════════╧═══════════╧════════════╧════════════════╧═══════════════╛\n"
     ]
    }
   ],
   "source": [
    "check_activity_distribution(dataset=dataset, col_name='FIRST_LABEL', encode=False)"
   ]
  },
  {
   "attachments": {},
   "cell_type": "markdown",
   "metadata": {},
   "source": [
    "# 3. Filtering the data"
   ]
  },
  {
   "attachments": {},
   "cell_type": "markdown",
   "metadata": {},
   "source": [
    "## 3.1. Cannonical Smiles and remove duplicates"
   ]
  },
  {
   "cell_type": "code",
   "execution_count": 6,
   "metadata": {},
   "outputs": [],
   "source": [
    "def make_canonical_smiles(smiles):\n",
    "    mols = [Chem.MolFromSmiles(smi) for smi in smiles]\n",
    "    smiles = [Chem.MolToSmiles(mol) for mol in mols]\n",
    "    return smiles"
   ]
  },
  {
   "cell_type": "code",
   "execution_count": 7,
   "metadata": {},
   "outputs": [
    {
     "data": {
      "text/plain": [
       "array([], dtype=object)"
      ]
     },
     "execution_count": 7,
     "metadata": {},
     "output_type": "execute_result"
    }
   ],
   "source": [
    "cannon_smiles = make_canonical_smiles(dataset.SMILES)\n",
    "dataset['SMILES'] = cannon_smiles\n",
    "duplicates_smiles = dataset[dataset['SMILES'].duplicated()]['SMILES'].values\n",
    "duplicate_index = dataset[dataset['SMILES'].duplicated()]['SMILES'].index\n",
    "duplicates_smiles"
   ]
  },
  {
   "cell_type": "code",
   "execution_count": 8,
   "metadata": {},
   "outputs": [
    {
     "data": {
      "text/plain": [
       "Int64Index([], dtype='int64')"
      ]
     },
     "execution_count": 8,
     "metadata": {},
     "output_type": "execute_result"
    }
   ],
   "source": [
    "duplicate_index"
   ]
  },
  {
   "cell_type": "code",
   "execution_count": 9,
   "metadata": {},
   "outputs": [
    {
     "name": "stdout",
     "output_type": "stream",
     "text": [
      "[]\n",
      "0\n"
     ]
    }
   ],
   "source": [
    "dup_smiles_idxs = []\n",
    "for smiles in duplicates_smiles:\n",
    "    sub_dataset_dup_smiles = dataset[dataset.SMILES == smiles].copy()\n",
    "    for idx, _ in sub_dataset_dup_smiles.iterrows():\n",
    "        dup_smiles_idxs.append(idx)\n",
    "print(dup_smiles_idxs)\n",
    "print(len(dup_smiles_idxs))"
   ]
  },
  {
   "cell_type": "code",
   "execution_count": 10,
   "metadata": {},
   "outputs": [],
   "source": [
    "dataset = dataset.drop(dup_smiles_idxs)"
   ]
  },
  {
   "cell_type": "code",
   "execution_count": 11,
   "metadata": {},
   "outputs": [
    {
     "data": {
      "text/plain": [
       "array([], dtype=object)"
      ]
     },
     "execution_count": 11,
     "metadata": {},
     "output_type": "execute_result"
    }
   ],
   "source": [
    "#check again\n",
    "duplicates_smiles = dataset[dataset['SMILES'].duplicated()]['SMILES'].values\n",
    "duplicates_smiles"
   ]
  },
  {
   "cell_type": "code",
   "execution_count": 12,
   "metadata": {},
   "outputs": [
    {
     "data": {
      "text/plain": [
       "2138"
      ]
     },
     "execution_count": 12,
     "metadata": {},
     "output_type": "execute_result"
    }
   ],
   "source": [
    "dataset = dataset.reset_index(drop=True)\n",
    "len(dataset)"
   ]
  },
  {
   "cell_type": "code",
   "execution_count": 13,
   "metadata": {},
   "outputs": [
    {
     "name": "stdout",
     "output_type": "stream",
     "text": [
      "Total dataset\n",
      "╒════════════════╤═══════════╤════════════╤════════════════╤═══════════════╕\n",
      "│                │    Active │   Inactive │   Inconclusive │   Unspecified │\n",
      "╞════════════════╪═══════════╪════════════╪════════════════╪═══════════════╡\n",
      "│ Number         │ 1527      │  13        │              0 │      598      │\n",
      "├────────────────┼───────────┼────────────┼────────────────┼───────────────┤\n",
      "│ Percentage (%) │   71.4219 │   0.608045 │              0 │       27.9701 │\n",
      "╘════════════════╧═══════════╧════════════╧════════════════╧═══════════════╛\n"
     ]
    }
   ],
   "source": [
    "check_activity_distribution(dataset, 'FIRST_LABEL', encode=False)"
   ]
  },
  {
   "attachments": {},
   "cell_type": "markdown",
   "metadata": {},
   "source": [
    "## 3.2. Delete unspecified data"
   ]
  },
  {
   "cell_type": "code",
   "execution_count": 14,
   "metadata": {},
   "outputs": [],
   "source": [
    "# unspecified_rows_idx = dataset.loc[dataset['FIRST_LABEL'] == \"Unspecified\"].index\n",
    "# dataset = dataset.drop(unspecified_rows_idx)\n",
    "# dataset = dataset.reset_index(drop=True)\n",
    "# len(dataset)"
   ]
  },
  {
   "cell_type": "code",
   "execution_count": 15,
   "metadata": {},
   "outputs": [],
   "source": [
    "# check_activity_distribution(dataset=dataset, col_name='FIRST_LABEL', encode=False)"
   ]
  },
  {
   "attachments": {},
   "cell_type": "markdown",
   "metadata": {},
   "source": [
    "# 3. Find labels errors on the data"
   ]
  },
  {
   "cell_type": "code",
   "execution_count": 16,
   "metadata": {},
   "outputs": [
    {
     "data": {
      "text/html": [
       "<div>\n",
       "<style scoped>\n",
       "    .dataframe tbody tr th:only-of-type {\n",
       "        vertical-align: middle;\n",
       "    }\n",
       "\n",
       "    .dataframe tbody tr th {\n",
       "        vertical-align: top;\n",
       "    }\n",
       "\n",
       "    .dataframe thead th {\n",
       "        text-align: right;\n",
       "    }\n",
       "</style>\n",
       "<table border=\"1\" class=\"dataframe\">\n",
       "  <thead>\n",
       "    <tr style=\"text-align: right;\">\n",
       "      <th></th>\n",
       "      <th>CID</th>\n",
       "      <th>SMILES</th>\n",
       "      <th>AVG_IC50_uM</th>\n",
       "      <th>FIRST_LABEL</th>\n",
       "      <th>FINAL_LABEL</th>\n",
       "      <th>DUPLICATE_COUNTS</th>\n",
       "    </tr>\n",
       "  </thead>\n",
       "  <tbody>\n",
       "    <tr>\n",
       "      <th>0</th>\n",
       "      <td>2746</td>\n",
       "      <td>CC(=O)Nc1ccc(C(=O)Nc2ccccc2N)cc1</td>\n",
       "      <td>2.232250</td>\n",
       "      <td>0</td>\n",
       "      <td>Inactive</td>\n",
       "      <td>12</td>\n",
       "    </tr>\n",
       "    <tr>\n",
       "      <th>1</th>\n",
       "      <td>3812</td>\n",
       "      <td>CN(C)c1ccc(C(=O)NCCCCCCCC(=O)NO)cc1</td>\n",
       "      <td>1.308333</td>\n",
       "      <td>0</td>\n",
       "      <td>Inactive</td>\n",
       "      <td>3</td>\n",
       "    </tr>\n",
       "    <tr>\n",
       "      <th>2</th>\n",
       "      <td>3994</td>\n",
       "      <td>CN(C)c1ccc(C(=O)NCCCCCCC(=O)NO)cc1</td>\n",
       "      <td>1.255333</td>\n",
       "      <td>0</td>\n",
       "      <td>Inactive</td>\n",
       "      <td>3</td>\n",
       "    </tr>\n",
       "    <tr>\n",
       "      <th>3</th>\n",
       "      <td>4261</td>\n",
       "      <td>Nc1ccccc1NC(=O)c1ccc(CNC(=O)OCc2cccnc2)cc1</td>\n",
       "      <td>1.526116</td>\n",
       "      <td>0</td>\n",
       "      <td>Inactive</td>\n",
       "      <td>19</td>\n",
       "    </tr>\n",
       "    <tr>\n",
       "      <th>4</th>\n",
       "      <td>5173</td>\n",
       "      <td>O=C(CCCCCCC(=O)NO)NO</td>\n",
       "      <td>8.230000</td>\n",
       "      <td>0</td>\n",
       "      <td>Inactive</td>\n",
       "      <td>1</td>\n",
       "    </tr>\n",
       "  </tbody>\n",
       "</table>\n",
       "</div>"
      ],
      "text/plain": [
       "    CID                                      SMILES  AVG_IC50_uM  FIRST_LABEL  \\\n",
       "0  2746            CC(=O)Nc1ccc(C(=O)Nc2ccccc2N)cc1     2.232250            0   \n",
       "1  3812         CN(C)c1ccc(C(=O)NCCCCCCCC(=O)NO)cc1     1.308333            0   \n",
       "2  3994          CN(C)c1ccc(C(=O)NCCCCCCC(=O)NO)cc1     1.255333            0   \n",
       "3  4261  Nc1ccccc1NC(=O)c1ccc(CNC(=O)OCc2cccnc2)cc1     1.526116            0   \n",
       "4  5173                        O=C(CCCCCCC(=O)NO)NO     8.230000            0   \n",
       "\n",
       "  FINAL_LABEL  DUPLICATE_COUNTS  \n",
       "0    Inactive                12  \n",
       "1    Inactive                 3  \n",
       "2    Inactive                 3  \n",
       "3    Inactive                19  \n",
       "4    Inactive                 1  "
      ]
     },
     "execution_count": 16,
     "metadata": {},
     "output_type": "execute_result"
    }
   ],
   "source": [
    "from xgboost import XGBClassifier\n",
    "from sklearn import preprocessing\n",
    "from sklearn.model_selection import cross_val_predict\n",
    "from sklearn.metrics import accuracy_score\n",
    "\n",
    "#Encoding labels\n",
    "dataset_c = dataset.copy()\n",
    "# Transform letter grades and notes to categorical numbers.\n",
    "# Necessary for XGBoost.\n",
    "dataset['FIRST_LABEL'] = preprocessing.LabelEncoder().fit_transform(dataset['FIRST_LABEL'])\n",
    "dataset.head()"
   ]
  },
  {
   "cell_type": "code",
   "execution_count": 17,
   "metadata": {},
   "outputs": [
    {
     "data": {
      "text/html": [
       "<div>\n",
       "<style scoped>\n",
       "    .dataframe tbody tr th:only-of-type {\n",
       "        vertical-align: middle;\n",
       "    }\n",
       "\n",
       "    .dataframe tbody tr th {\n",
       "        vertical-align: top;\n",
       "    }\n",
       "\n",
       "    .dataframe thead th {\n",
       "        text-align: right;\n",
       "    }\n",
       "</style>\n",
       "<table border=\"1\" class=\"dataframe\">\n",
       "  <thead>\n",
       "    <tr style=\"text-align: right;\">\n",
       "      <th></th>\n",
       "      <th>CID</th>\n",
       "      <th>SMILES</th>\n",
       "      <th>AVG_IC50_uM</th>\n",
       "      <th>FIRST_LABEL</th>\n",
       "      <th>FINAL_LABEL</th>\n",
       "      <th>DUPLICATE_COUNTS</th>\n",
       "    </tr>\n",
       "  </thead>\n",
       "  <tbody>\n",
       "    <tr>\n",
       "      <th>0</th>\n",
       "      <td>2746</td>\n",
       "      <td>CC(=O)Nc1ccc(C(=O)Nc2ccccc2N)cc1</td>\n",
       "      <td>2.232250</td>\n",
       "      <td>Active</td>\n",
       "      <td>Inactive</td>\n",
       "      <td>12</td>\n",
       "    </tr>\n",
       "    <tr>\n",
       "      <th>1</th>\n",
       "      <td>3812</td>\n",
       "      <td>CN(C)c1ccc(C(=O)NCCCCCCCC(=O)NO)cc1</td>\n",
       "      <td>1.308333</td>\n",
       "      <td>Active</td>\n",
       "      <td>Inactive</td>\n",
       "      <td>3</td>\n",
       "    </tr>\n",
       "    <tr>\n",
       "      <th>2</th>\n",
       "      <td>3994</td>\n",
       "      <td>CN(C)c1ccc(C(=O)NCCCCCCC(=O)NO)cc1</td>\n",
       "      <td>1.255333</td>\n",
       "      <td>Active</td>\n",
       "      <td>Inactive</td>\n",
       "      <td>3</td>\n",
       "    </tr>\n",
       "    <tr>\n",
       "      <th>3</th>\n",
       "      <td>4261</td>\n",
       "      <td>Nc1ccccc1NC(=O)c1ccc(CNC(=O)OCc2cccnc2)cc1</td>\n",
       "      <td>1.526116</td>\n",
       "      <td>Active</td>\n",
       "      <td>Inactive</td>\n",
       "      <td>19</td>\n",
       "    </tr>\n",
       "    <tr>\n",
       "      <th>4</th>\n",
       "      <td>5173</td>\n",
       "      <td>O=C(CCCCCCC(=O)NO)NO</td>\n",
       "      <td>8.230000</td>\n",
       "      <td>Active</td>\n",
       "      <td>Inactive</td>\n",
       "      <td>1</td>\n",
       "    </tr>\n",
       "  </tbody>\n",
       "</table>\n",
       "</div>"
      ],
      "text/plain": [
       "    CID                                      SMILES  AVG_IC50_uM FIRST_LABEL  \\\n",
       "0  2746            CC(=O)Nc1ccc(C(=O)Nc2ccccc2N)cc1     2.232250      Active   \n",
       "1  3812         CN(C)c1ccc(C(=O)NCCCCCCCC(=O)NO)cc1     1.308333      Active   \n",
       "2  3994          CN(C)c1ccc(C(=O)NCCCCCCC(=O)NO)cc1     1.255333      Active   \n",
       "3  4261  Nc1ccccc1NC(=O)c1ccc(CNC(=O)OCc2cccnc2)cc1     1.526116      Active   \n",
       "4  5173                        O=C(CCCCCCC(=O)NO)NO     8.230000      Active   \n",
       "\n",
       "  FINAL_LABEL  DUPLICATE_COUNTS  \n",
       "0    Inactive                12  \n",
       "1    Inactive                 3  \n",
       "2    Inactive                 3  \n",
       "3    Inactive                19  \n",
       "4    Inactive                 1  "
      ]
     },
     "execution_count": 17,
     "metadata": {},
     "output_type": "execute_result"
    }
   ],
   "source": [
    "dataset_c.head()"
   ]
  },
  {
   "cell_type": "code",
   "execution_count": 18,
   "metadata": {},
   "outputs": [
    {
     "data": {
      "text/html": [
       "<div>\n",
       "<style scoped>\n",
       "    .dataframe tbody tr th:only-of-type {\n",
       "        vertical-align: middle;\n",
       "    }\n",
       "\n",
       "    .dataframe tbody tr th {\n",
       "        vertical-align: top;\n",
       "    }\n",
       "\n",
       "    .dataframe thead th {\n",
       "        text-align: right;\n",
       "    }\n",
       "</style>\n",
       "<table border=\"1\" class=\"dataframe\">\n",
       "  <thead>\n",
       "    <tr style=\"text-align: right;\">\n",
       "      <th></th>\n",
       "      <th>CID</th>\n",
       "      <th>SMILES</th>\n",
       "      <th>AVG_IC50_uM</th>\n",
       "      <th>FIRST_LABEL</th>\n",
       "      <th>FINAL_LABEL</th>\n",
       "      <th>DUPLICATE_COUNTS</th>\n",
       "    </tr>\n",
       "  </thead>\n",
       "  <tbody>\n",
       "    <tr>\n",
       "      <th>1540</th>\n",
       "      <td>264</td>\n",
       "      <td>CCCC(=O)O</td>\n",
       "      <td>NaN</td>\n",
       "      <td>2</td>\n",
       "      <td>Inactive</td>\n",
       "      <td>1</td>\n",
       "    </tr>\n",
       "    <tr>\n",
       "      <th>1541</th>\n",
       "      <td>3121</td>\n",
       "      <td>CCCC(CCC)C(=O)O</td>\n",
       "      <td>NaN</td>\n",
       "      <td>2</td>\n",
       "      <td>Inactive</td>\n",
       "      <td>2</td>\n",
       "    </tr>\n",
       "    <tr>\n",
       "      <th>1542</th>\n",
       "      <td>3810</td>\n",
       "      <td>CN(C)c1ccc(C(=O)NCCCCC(=O)NO)cc1</td>\n",
       "      <td>NaN</td>\n",
       "      <td>2</td>\n",
       "      <td>Inactive</td>\n",
       "      <td>2</td>\n",
       "    </tr>\n",
       "    <tr>\n",
       "      <th>1543</th>\n",
       "      <td>4775</td>\n",
       "      <td>O=C(O)CCCc1ccccc1</td>\n",
       "      <td>NaN</td>\n",
       "      <td>2</td>\n",
       "      <td>Inactive</td>\n",
       "      <td>1</td>\n",
       "    </tr>\n",
       "    <tr>\n",
       "      <th>1544</th>\n",
       "      <td>53232</td>\n",
       "      <td>CC[C@H](C)C(=O)O[C@H]1C[C@@H](C)C=C2C=C[C@H](C...</td>\n",
       "      <td>NaN</td>\n",
       "      <td>2</td>\n",
       "      <td>Inactive</td>\n",
       "      <td>1</td>\n",
       "    </tr>\n",
       "  </tbody>\n",
       "</table>\n",
       "</div>"
      ],
      "text/plain": [
       "        CID                                             SMILES  AVG_IC50_uM  \\\n",
       "1540    264                                          CCCC(=O)O          NaN   \n",
       "1541   3121                                    CCCC(CCC)C(=O)O          NaN   \n",
       "1542   3810                   CN(C)c1ccc(C(=O)NCCCCC(=O)NO)cc1          NaN   \n",
       "1543   4775                                  O=C(O)CCCc1ccccc1          NaN   \n",
       "1544  53232  CC[C@H](C)C(=O)O[C@H]1C[C@@H](C)C=C2C=C[C@H](C...          NaN   \n",
       "\n",
       "      FIRST_LABEL FINAL_LABEL  DUPLICATE_COUNTS  \n",
       "1540            2    Inactive                 1  \n",
       "1541            2    Inactive                 2  \n",
       "1542            2    Inactive                 2  \n",
       "1543            2    Inactive                 1  \n",
       "1544            2    Inactive                 1  "
      ]
     },
     "execution_count": 18,
     "metadata": {},
     "output_type": "execute_result"
    }
   ],
   "source": [
    "# Check for unspec labels\n",
    "unspec_subset = dataset_c[dataset_c['FIRST_LABEL'] == 'Unspecified'][0:5]\n",
    "dataset.loc[unspec_subset.index].head()"
   ]
  },
  {
   "cell_type": "code",
   "execution_count": 19,
   "metadata": {},
   "outputs": [
    {
     "data": {
      "text/html": [
       "<div>\n",
       "<style scoped>\n",
       "    .dataframe tbody tr th:only-of-type {\n",
       "        vertical-align: middle;\n",
       "    }\n",
       "\n",
       "    .dataframe tbody tr th {\n",
       "        vertical-align: top;\n",
       "    }\n",
       "\n",
       "    .dataframe thead th {\n",
       "        text-align: right;\n",
       "    }\n",
       "</style>\n",
       "<table border=\"1\" class=\"dataframe\">\n",
       "  <thead>\n",
       "    <tr style=\"text-align: right;\">\n",
       "      <th></th>\n",
       "      <th>CID</th>\n",
       "      <th>SMILES</th>\n",
       "      <th>AVG_IC50_uM</th>\n",
       "      <th>FIRST_LABEL</th>\n",
       "      <th>FINAL_LABEL</th>\n",
       "      <th>DUPLICATE_COUNTS</th>\n",
       "    </tr>\n",
       "  </thead>\n",
       "  <tbody>\n",
       "    <tr>\n",
       "      <th>1527</th>\n",
       "      <td>6917365</td>\n",
       "      <td>COC(=O)[C@H](Cc1ccccc1)n1nnc(-c2ccccc2)c1C#Cc1...</td>\n",
       "      <td>0.0</td>\n",
       "      <td>1</td>\n",
       "      <td>Active</td>\n",
       "      <td>1</td>\n",
       "    </tr>\n",
       "    <tr>\n",
       "      <th>1528</th>\n",
       "      <td>60198344</td>\n",
       "      <td>Cn1cc(/C=C/C(=O)Nc2ccccc2N)cn1</td>\n",
       "      <td>15.0</td>\n",
       "      <td>1</td>\n",
       "      <td>Inactive</td>\n",
       "      <td>2</td>\n",
       "    </tr>\n",
       "    <tr>\n",
       "      <th>1529</th>\n",
       "      <td>60198412</td>\n",
       "      <td>Cc1cc(/C=C/C(=O)Nc2ccccc2N)on1</td>\n",
       "      <td>15.0</td>\n",
       "      <td>1</td>\n",
       "      <td>Inactive</td>\n",
       "      <td>2</td>\n",
       "    </tr>\n",
       "    <tr>\n",
       "      <th>1530</th>\n",
       "      <td>137224531</td>\n",
       "      <td>O=Nc1c(O)n(Cc2ccc(C(=O)NO)cc2)c2ccccc12</td>\n",
       "      <td>30.0</td>\n",
       "      <td>1</td>\n",
       "      <td>Inactive</td>\n",
       "      <td>1</td>\n",
       "    </tr>\n",
       "    <tr>\n",
       "      <th>1531</th>\n",
       "      <td>155512415</td>\n",
       "      <td>O=C(NO)[C@H](Cc1ccccc1)n1cc(-c2ccccc2)nn1</td>\n",
       "      <td>0.0</td>\n",
       "      <td>1</td>\n",
       "      <td>Active</td>\n",
       "      <td>1</td>\n",
       "    </tr>\n",
       "  </tbody>\n",
       "</table>\n",
       "</div>"
      ],
      "text/plain": [
       "            CID                                             SMILES  \\\n",
       "1527    6917365  COC(=O)[C@H](Cc1ccccc1)n1nnc(-c2ccccc2)c1C#Cc1...   \n",
       "1528   60198344                     Cn1cc(/C=C/C(=O)Nc2ccccc2N)cn1   \n",
       "1529   60198412                     Cc1cc(/C=C/C(=O)Nc2ccccc2N)on1   \n",
       "1530  137224531            O=Nc1c(O)n(Cc2ccc(C(=O)NO)cc2)c2ccccc12   \n",
       "1531  155512415          O=C(NO)[C@H](Cc1ccccc1)n1cc(-c2ccccc2)nn1   \n",
       "\n",
       "      AVG_IC50_uM  FIRST_LABEL FINAL_LABEL  DUPLICATE_COUNTS  \n",
       "1527          0.0            1      Active                 1  \n",
       "1528         15.0            1    Inactive                 2  \n",
       "1529         15.0            1    Inactive                 2  \n",
       "1530         30.0            1    Inactive                 1  \n",
       "1531          0.0            1      Active                 1  "
      ]
     },
     "execution_count": 19,
     "metadata": {},
     "output_type": "execute_result"
    }
   ],
   "source": [
    "inac_subset = dataset_c[dataset_c['FIRST_LABEL'] == 'Inactive'][0:5]\n",
    "dataset.loc[inac_subset.index].head()"
   ]
  },
  {
   "attachments": {},
   "cell_type": "markdown",
   "metadata": {},
   "source": [
    "**We will do this in the MACCS keys**"
   ]
  },
  {
   "cell_type": "code",
   "execution_count": 20,
   "metadata": {},
   "outputs": [],
   "source": [
    "def maccs_fpts(data):\n",
    "    Maccs_fpts = []\n",
    "    for i in data:\n",
    "        mol = Chem.MolFromSmiles(i)\n",
    "        fpts = MACCSkeys.GenMACCSKeys(mol)\n",
    "        mfpts = np.array(fpts)\n",
    "        Maccs_fpts.append(mfpts)\n",
    "    return np.array(Maccs_fpts)"
   ]
  },
  {
   "cell_type": "code",
   "execution_count": 21,
   "metadata": {},
   "outputs": [
    {
     "data": {
      "text/html": [
       "<div>\n",
       "<style scoped>\n",
       "    .dataframe tbody tr th:only-of-type {\n",
       "        vertical-align: middle;\n",
       "    }\n",
       "\n",
       "    .dataframe tbody tr th {\n",
       "        vertical-align: top;\n",
       "    }\n",
       "\n",
       "    .dataframe thead th {\n",
       "        text-align: right;\n",
       "    }\n",
       "</style>\n",
       "<table border=\"1\" class=\"dataframe\">\n",
       "  <thead>\n",
       "    <tr style=\"text-align: right;\">\n",
       "      <th></th>\n",
       "      <th>0</th>\n",
       "      <th>1</th>\n",
       "      <th>2</th>\n",
       "      <th>3</th>\n",
       "      <th>4</th>\n",
       "      <th>5</th>\n",
       "      <th>6</th>\n",
       "      <th>7</th>\n",
       "      <th>8</th>\n",
       "      <th>9</th>\n",
       "      <th>...</th>\n",
       "      <th>157</th>\n",
       "      <th>158</th>\n",
       "      <th>159</th>\n",
       "      <th>160</th>\n",
       "      <th>161</th>\n",
       "      <th>162</th>\n",
       "      <th>163</th>\n",
       "      <th>164</th>\n",
       "      <th>165</th>\n",
       "      <th>166</th>\n",
       "    </tr>\n",
       "  </thead>\n",
       "  <tbody>\n",
       "    <tr>\n",
       "      <th>0</th>\n",
       "      <td>0</td>\n",
       "      <td>0</td>\n",
       "      <td>0</td>\n",
       "      <td>0</td>\n",
       "      <td>0</td>\n",
       "      <td>0</td>\n",
       "      <td>0</td>\n",
       "      <td>0</td>\n",
       "      <td>0</td>\n",
       "      <td>0</td>\n",
       "      <td>...</td>\n",
       "      <td>0</td>\n",
       "      <td>1</td>\n",
       "      <td>1</td>\n",
       "      <td>1</td>\n",
       "      <td>1</td>\n",
       "      <td>1</td>\n",
       "      <td>1</td>\n",
       "      <td>1</td>\n",
       "      <td>1</td>\n",
       "      <td>0</td>\n",
       "    </tr>\n",
       "    <tr>\n",
       "      <th>1</th>\n",
       "      <td>0</td>\n",
       "      <td>0</td>\n",
       "      <td>0</td>\n",
       "      <td>0</td>\n",
       "      <td>0</td>\n",
       "      <td>0</td>\n",
       "      <td>0</td>\n",
       "      <td>0</td>\n",
       "      <td>0</td>\n",
       "      <td>0</td>\n",
       "      <td>...</td>\n",
       "      <td>0</td>\n",
       "      <td>1</td>\n",
       "      <td>1</td>\n",
       "      <td>1</td>\n",
       "      <td>1</td>\n",
       "      <td>1</td>\n",
       "      <td>1</td>\n",
       "      <td>1</td>\n",
       "      <td>1</td>\n",
       "      <td>0</td>\n",
       "    </tr>\n",
       "    <tr>\n",
       "      <th>2</th>\n",
       "      <td>0</td>\n",
       "      <td>0</td>\n",
       "      <td>0</td>\n",
       "      <td>0</td>\n",
       "      <td>0</td>\n",
       "      <td>0</td>\n",
       "      <td>0</td>\n",
       "      <td>0</td>\n",
       "      <td>0</td>\n",
       "      <td>0</td>\n",
       "      <td>...</td>\n",
       "      <td>0</td>\n",
       "      <td>1</td>\n",
       "      <td>1</td>\n",
       "      <td>1</td>\n",
       "      <td>1</td>\n",
       "      <td>1</td>\n",
       "      <td>1</td>\n",
       "      <td>1</td>\n",
       "      <td>1</td>\n",
       "      <td>0</td>\n",
       "    </tr>\n",
       "    <tr>\n",
       "      <th>3</th>\n",
       "      <td>0</td>\n",
       "      <td>0</td>\n",
       "      <td>0</td>\n",
       "      <td>0</td>\n",
       "      <td>0</td>\n",
       "      <td>0</td>\n",
       "      <td>0</td>\n",
       "      <td>0</td>\n",
       "      <td>0</td>\n",
       "      <td>0</td>\n",
       "      <td>...</td>\n",
       "      <td>1</td>\n",
       "      <td>1</td>\n",
       "      <td>1</td>\n",
       "      <td>0</td>\n",
       "      <td>1</td>\n",
       "      <td>1</td>\n",
       "      <td>1</td>\n",
       "      <td>1</td>\n",
       "      <td>1</td>\n",
       "      <td>0</td>\n",
       "    </tr>\n",
       "    <tr>\n",
       "      <th>4</th>\n",
       "      <td>0</td>\n",
       "      <td>0</td>\n",
       "      <td>0</td>\n",
       "      <td>0</td>\n",
       "      <td>0</td>\n",
       "      <td>0</td>\n",
       "      <td>0</td>\n",
       "      <td>0</td>\n",
       "      <td>0</td>\n",
       "      <td>0</td>\n",
       "      <td>...</td>\n",
       "      <td>0</td>\n",
       "      <td>1</td>\n",
       "      <td>1</td>\n",
       "      <td>0</td>\n",
       "      <td>1</td>\n",
       "      <td>0</td>\n",
       "      <td>0</td>\n",
       "      <td>1</td>\n",
       "      <td>0</td>\n",
       "      <td>0</td>\n",
       "    </tr>\n",
       "  </tbody>\n",
       "</table>\n",
       "<p>5 rows × 167 columns</p>\n",
       "</div>"
      ],
      "text/plain": [
       "   0    1    2    3    4    5    6    7    8    9    ...  157  158  159  160  \\\n",
       "0    0    0    0    0    0    0    0    0    0    0  ...    0    1    1    1   \n",
       "1    0    0    0    0    0    0    0    0    0    0  ...    0    1    1    1   \n",
       "2    0    0    0    0    0    0    0    0    0    0  ...    0    1    1    1   \n",
       "3    0    0    0    0    0    0    0    0    0    0  ...    1    1    1    0   \n",
       "4    0    0    0    0    0    0    0    0    0    0  ...    0    1    1    0   \n",
       "\n",
       "   161  162  163  164  165  166  \n",
       "0    1    1    1    1    1    0  \n",
       "1    1    1    1    1    1    0  \n",
       "2    1    1    1    1    1    0  \n",
       "3    1    1    1    1    1    0  \n",
       "4    1    0    0    1    0    0  \n",
       "\n",
       "[5 rows x 167 columns]"
      ]
     },
     "execution_count": 21,
     "metadata": {},
     "output_type": "execute_result"
    }
   ],
   "source": [
    "smiles = dataset.SMILES\n",
    "data = maccs_fpts(smiles)\n",
    "data = pd.DataFrame(data=data)\n",
    "labels = dataset['FIRST_LABEL']\n",
    "data.head()"
   ]
  },
  {
   "attachments": {},
   "cell_type": "markdown",
   "metadata": {},
   "source": [
    "### 3.1. Getting out-of-sample predicted probabilities"
   ]
  },
  {
   "cell_type": "code",
   "execution_count": 22,
   "metadata": {},
   "outputs": [
    {
     "name": "stdout",
     "output_type": "stream",
     "text": [
      "2138\n",
      "[[9.2634624e-01 4.5108137e-04 7.3202707e-02]\n",
      " [9.8972452e-01 1.2777693e-04 1.0147680e-02]\n",
      " [9.8972452e-01 1.2777693e-04 1.0147680e-02]\n",
      " ...\n",
      " [9.3059826e-01 5.8444845e-04 6.8817332e-02]\n",
      " [2.1256916e-02 1.1142341e-04 9.7863162e-01]\n",
      " [2.8322062e-02 7.7018733e-05 9.7160089e-01]]\n"
     ]
    }
   ],
   "source": [
    "model = XGBClassifier(tree_method=\"hist\", enable_categorical=True)\n",
    "pred_probs = cross_val_predict(model, data, labels, method='predict_proba')\n",
    "print(len(pred_probs))\n",
    "print(pred_probs)"
   ]
  },
  {
   "attachments": {},
   "cell_type": "markdown",
   "metadata": {},
   "source": [
    "### 3.2. Checking model accuracy on original data\n",
    "\n",
    "Now that we have out-of-sample predicted probabilities, we can also check the model's (cross-val) accuracy on the original (noisy) data, so we'll have a baseline to compare our final results."
   ]
  },
  {
   "cell_type": "code",
   "execution_count": 23,
   "metadata": {},
   "outputs": [
    {
     "name": "stdout",
     "output_type": "stream",
     "text": [
      "Accuracy with original data using predict_proba(): 73.6%\n"
     ]
    }
   ],
   "source": [
    "preds = np.argmax(pred_probs, axis=1)\n",
    "acc_original = accuracy_score(preds, labels)\n",
    "print(f\"Accuracy with original data using predict_proba(): {round(acc_original*100,1)}%\")"
   ]
  },
  {
   "cell_type": "code",
   "execution_count": 24,
   "metadata": {},
   "outputs": [
    {
     "name": "stdout",
     "output_type": "stream",
     "text": [
      "Accuracy with original data using predict(): 96.7%\n"
     ]
    }
   ],
   "source": [
    "model.fit(data, labels)\n",
    "preds_by_predict = model.predict(data)\n",
    "acc_pred_by_predict = accuracy_score(preds_by_predict, labels)\n",
    "print(f\"Accuracy with original data using predict(): {round(acc_pred_by_predict*100,1)}%\")"
   ]
  },
  {
   "attachments": {},
   "cell_type": "markdown",
   "metadata": {},
   "source": [
    "### 3.3. Finding the class threshold"
   ]
  },
  {
   "cell_type": "code",
   "execution_count": 25,
   "metadata": {},
   "outputs": [],
   "source": [
    "def compute_class_thresholds(pred_probs: np.ndarray, labels: np.ndarray) -> np.ndarray:\n",
    "    n_examples, n_classes = pred_probs.shape\n",
    "    thresholds = np.zeros(n_classes)\n",
    "    for k in range(n_classes):\n",
    "        count = 0\n",
    "        p_sum = 0\n",
    "        for i in range(n_examples):\n",
    "            if labels[i] == k:\n",
    "                count += 1\n",
    "                p_sum += pred_probs[i, k]\n",
    "        thresholds[k] = p_sum / count\n",
    "    return thresholds"
   ]
  },
  {
   "attachments": {},
   "cell_type": "markdown",
   "metadata": {},
   "source": [
    "<b>Check the data and its label was right</b>"
   ]
  },
  {
   "cell_type": "code",
   "execution_count": 26,
   "metadata": {},
   "outputs": [
    {
     "data": {
      "text/plain": [
       "array([0.82269753, 0.40187772, 0.4471    ])"
      ]
     },
     "execution_count": 26,
     "metadata": {},
     "output_type": "execute_result"
    }
   ],
   "source": [
    "# should be a numpy array of length 5\n",
    "thresholds = compute_class_thresholds(pred_probs, labels.to_numpy())\n",
    "thresholds"
   ]
  },
  {
   "attachments": {},
   "cell_type": "markdown",
   "metadata": {},
   "source": [
    "### 3.4. Constructing the confident joint"
   ]
  },
  {
   "cell_type": "code",
   "execution_count": 27,
   "metadata": {},
   "outputs": [],
   "source": [
    "def compute_confident_joint(pred_probs: np.ndarray, labels: np.ndarray, thresholds: np.ndarray) -> np.ndarray:\n",
    "    n_examples, n_classes = pred_probs.shape\n",
    "    confident_joint = np.zeros((n_classes, n_classes), dtype=np.int64)\n",
    "    positions = np.array([[-1, -1]])\n",
    "    for data_idx in range(n_examples):\n",
    "        i = labels[data_idx]    #y_noise\n",
    "        j = None                #y_true -> to find\n",
    "        #Lưu ý điểm mình bị sai: vị trí của chúng không ứng với label\n",
    "        p_j = -1\n",
    "        for candidate_j in range(n_classes):\n",
    "            p = pred_probs[data_idx, candidate_j]\n",
    "            if p >= thresholds[candidate_j] and p > p_j:\n",
    "                j = candidate_j\n",
    "                p_j = p\n",
    "        if j is not None:\n",
    "            confident_joint[i][j] += 1\n",
    "        positions = np.append(positions, np.array([[i, j]]), axis=0)\n",
    "    return confident_joint, positions"
   ]
  },
  {
   "cell_type": "code",
   "execution_count": 28,
   "metadata": {},
   "outputs": [
    {
     "name": "stdout",
     "output_type": "stream",
     "text": [
      "[[1106   16  229]\n",
      " [   4    5    3]\n",
      " [ 243    2  280]]\n"
     ]
    }
   ],
   "source": [
    "C, _ = compute_confident_joint(pred_probs, labels.to_numpy(), thresholds)\n",
    "print(C)\n",
    "# print(positions)"
   ]
  },
  {
   "cell_type": "code",
   "execution_count": 29,
   "metadata": {},
   "outputs": [],
   "source": [
    "# positions = pd.DataFrame(positions, columns=[\"i\", \"j\"]).to_excel(\"../data_for_modeling/filter_data/v1/before_clean_data/positions.xlsx\")"
   ]
  },
  {
   "attachments": {},
   "cell_type": "markdown",
   "metadata": {},
   "source": [
    "### 3.5 Count the number of label issues"
   ]
  },
  {
   "cell_type": "code",
   "execution_count": 30,
   "metadata": {},
   "outputs": [
    {
     "data": {
      "text/plain": [
       "497"
      ]
     },
     "execution_count": 30,
     "metadata": {},
     "output_type": "execute_result"
    }
   ],
   "source": [
    "num_label_issues = C.sum() - C.trace()\n",
    "num_label_issues"
   ]
  },
  {
   "cell_type": "code",
   "execution_count": 31,
   "metadata": {},
   "outputs": [
    {
     "name": "stdout",
     "output_type": "stream",
     "text": [
      "Estimated noise rate: 23.2%\n"
     ]
    }
   ],
   "source": [
    "print('Estimated noise rate: {:.1f}%'.format(100*num_label_issues / pred_probs.shape[0]))"
   ]
  },
  {
   "attachments": {},
   "cell_type": "markdown",
   "metadata": {},
   "source": [
    "### 3.6. Filter out label issues"
   ]
  },
  {
   "cell_type": "code",
   "execution_count": 32,
   "metadata": {},
   "outputs": [
    {
     "data": {
      "text/plain": [
       "(2138, 3)"
      ]
     },
     "execution_count": 32,
     "metadata": {},
     "output_type": "execute_result"
    }
   ],
   "source": [
    "pred_probs.shape"
   ]
  },
  {
   "cell_type": "code",
   "execution_count": 33,
   "metadata": {},
   "outputs": [],
   "source": [
    "self_confidences = []\n",
    "for i in range(pred_probs.shape[0]):\n",
    "    self_confidences.append(pred_probs[i, labels[i]])\n",
    "self_confidences = np.array(self_confidences)"
   ]
  },
  {
   "cell_type": "code",
   "execution_count": 34,
   "metadata": {},
   "outputs": [
    {
     "data": {
      "text/plain": [
       "497"
      ]
     },
     "execution_count": 34,
     "metadata": {},
     "output_type": "execute_result"
    }
   ],
   "source": [
    "ranked_indices = np.argsort(self_confidences)\n",
    "issue_idx = ranked_indices[:num_label_issues]\n",
    "len(issue_idx)"
   ]
  },
  {
   "cell_type": "code",
   "execution_count": 35,
   "metadata": {},
   "outputs": [
    {
     "data": {
      "text/html": [
       "<div>\n",
       "<style scoped>\n",
       "    .dataframe tbody tr th:only-of-type {\n",
       "        vertical-align: middle;\n",
       "    }\n",
       "\n",
       "    .dataframe tbody tr th {\n",
       "        vertical-align: top;\n",
       "    }\n",
       "\n",
       "    .dataframe thead th {\n",
       "        text-align: right;\n",
       "    }\n",
       "</style>\n",
       "<table border=\"1\" class=\"dataframe\">\n",
       "  <thead>\n",
       "    <tr style=\"text-align: right;\">\n",
       "      <th></th>\n",
       "      <th>CID</th>\n",
       "      <th>SMILES</th>\n",
       "      <th>AVG_IC50_uM</th>\n",
       "      <th>FIRST_LABEL</th>\n",
       "      <th>FINAL_LABEL</th>\n",
       "      <th>DUPLICATE_COUNTS</th>\n",
       "    </tr>\n",
       "  </thead>\n",
       "  <tbody>\n",
       "    <tr>\n",
       "      <th>1529</th>\n",
       "      <td>60198412</td>\n",
       "      <td>Cc1cc(/C=C/C(=O)Nc2ccccc2N)on1</td>\n",
       "      <td>15.0</td>\n",
       "      <td>Inactive</td>\n",
       "      <td>Inactive</td>\n",
       "      <td>2</td>\n",
       "    </tr>\n",
       "    <tr>\n",
       "      <th>1530</th>\n",
       "      <td>137224531</td>\n",
       "      <td>O=Nc1c(O)n(Cc2ccc(C(=O)NO)cc2)c2ccccc12</td>\n",
       "      <td>30.0</td>\n",
       "      <td>Inactive</td>\n",
       "      <td>Inactive</td>\n",
       "      <td>1</td>\n",
       "    </tr>\n",
       "    <tr>\n",
       "      <th>1535</th>\n",
       "      <td>155565698</td>\n",
       "      <td>COC(=O)c1ccc2ccccc2c1OCCCCCCCCS</td>\n",
       "      <td>0.0</td>\n",
       "      <td>Inactive</td>\n",
       "      <td>Active</td>\n",
       "      <td>1</td>\n",
       "    </tr>\n",
       "    <tr>\n",
       "      <th>1933</th>\n",
       "      <td>136985286</td>\n",
       "      <td>CCCc1nn(C)c2c(=O)[nH]c(-c3cc(Cc4ccc(CC(=O)NO)c...</td>\n",
       "      <td>NaN</td>\n",
       "      <td>Unspecified</td>\n",
       "      <td>Inactive</td>\n",
       "      <td>2</td>\n",
       "    </tr>\n",
       "    <tr>\n",
       "      <th>1930</th>\n",
       "      <td>136645444</td>\n",
       "      <td>CCCc1nn(C)c2c(=O)[nH]c(-c3cc(-c4ccc(CC(=O)NO)c...</td>\n",
       "      <td>NaN</td>\n",
       "      <td>Unspecified</td>\n",
       "      <td>Inactive</td>\n",
       "      <td>2</td>\n",
       "    </tr>\n",
       "  </tbody>\n",
       "</table>\n",
       "</div>"
      ],
      "text/plain": [
       "            CID                                             SMILES  \\\n",
       "1529   60198412                     Cc1cc(/C=C/C(=O)Nc2ccccc2N)on1   \n",
       "1530  137224531            O=Nc1c(O)n(Cc2ccc(C(=O)NO)cc2)c2ccccc12   \n",
       "1535  155565698                    COC(=O)c1ccc2ccccc2c1OCCCCCCCCS   \n",
       "1933  136985286  CCCc1nn(C)c2c(=O)[nH]c(-c3cc(Cc4ccc(CC(=O)NO)c...   \n",
       "1930  136645444  CCCc1nn(C)c2c(=O)[nH]c(-c3cc(-c4ccc(CC(=O)NO)c...   \n",
       "\n",
       "      AVG_IC50_uM  FIRST_LABEL FINAL_LABEL  DUPLICATE_COUNTS  \n",
       "1529         15.0     Inactive    Inactive                 2  \n",
       "1530         30.0     Inactive    Inactive                 1  \n",
       "1535          0.0     Inactive      Active                 1  \n",
       "1933          NaN  Unspecified    Inactive                 2  \n",
       "1930          NaN  Unspecified    Inactive                 2  "
      ]
     },
     "execution_count": 35,
     "metadata": {},
     "output_type": "execute_result"
    }
   ],
   "source": [
    "dataset_c.iloc[ranked_indices[:5]]"
   ]
  },
  {
   "attachments": {},
   "cell_type": "markdown",
   "metadata": {},
   "source": [
    "### 3.7. Clean the data"
   ]
  },
  {
   "cell_type": "code",
   "execution_count": 36,
   "metadata": {},
   "outputs": [
    {
     "data": {
      "text/plain": [
       "1641"
      ]
     },
     "execution_count": 36,
     "metadata": {},
     "output_type": "execute_result"
    }
   ],
   "source": [
    "clean_dataset = dataset.drop(issue_idx)\n",
    "clean_dataset = clean_dataset.reset_index()\n",
    "len(clean_dataset)"
   ]
  },
  {
   "cell_type": "code",
   "execution_count": 37,
   "metadata": {},
   "outputs": [
    {
     "data": {
      "text/html": [
       "<div>\n",
       "<style scoped>\n",
       "    .dataframe tbody tr th:only-of-type {\n",
       "        vertical-align: middle;\n",
       "    }\n",
       "\n",
       "    .dataframe tbody tr th {\n",
       "        vertical-align: top;\n",
       "    }\n",
       "\n",
       "    .dataframe thead th {\n",
       "        text-align: right;\n",
       "    }\n",
       "</style>\n",
       "<table border=\"1\" class=\"dataframe\">\n",
       "  <thead>\n",
       "    <tr style=\"text-align: right;\">\n",
       "      <th></th>\n",
       "      <th>index</th>\n",
       "      <th>CID</th>\n",
       "      <th>SMILES</th>\n",
       "      <th>AVG_IC50_uM</th>\n",
       "      <th>FIRST_LABEL</th>\n",
       "      <th>FINAL_LABEL</th>\n",
       "      <th>DUPLICATE_COUNTS</th>\n",
       "    </tr>\n",
       "  </thead>\n",
       "  <tbody>\n",
       "    <tr>\n",
       "      <th>0</th>\n",
       "      <td>0</td>\n",
       "      <td>2746</td>\n",
       "      <td>CC(=O)Nc1ccc(C(=O)Nc2ccccc2N)cc1</td>\n",
       "      <td>2.232250</td>\n",
       "      <td>0</td>\n",
       "      <td>Inactive</td>\n",
       "      <td>12</td>\n",
       "    </tr>\n",
       "    <tr>\n",
       "      <th>1</th>\n",
       "      <td>1</td>\n",
       "      <td>3812</td>\n",
       "      <td>CN(C)c1ccc(C(=O)NCCCCCCCC(=O)NO)cc1</td>\n",
       "      <td>1.308333</td>\n",
       "      <td>0</td>\n",
       "      <td>Inactive</td>\n",
       "      <td>3</td>\n",
       "    </tr>\n",
       "    <tr>\n",
       "      <th>2</th>\n",
       "      <td>2</td>\n",
       "      <td>3994</td>\n",
       "      <td>CN(C)c1ccc(C(=O)NCCCCCCC(=O)NO)cc1</td>\n",
       "      <td>1.255333</td>\n",
       "      <td>0</td>\n",
       "      <td>Inactive</td>\n",
       "      <td>3</td>\n",
       "    </tr>\n",
       "    <tr>\n",
       "      <th>3</th>\n",
       "      <td>3</td>\n",
       "      <td>4261</td>\n",
       "      <td>Nc1ccccc1NC(=O)c1ccc(CNC(=O)OCc2cccnc2)cc1</td>\n",
       "      <td>1.526116</td>\n",
       "      <td>0</td>\n",
       "      <td>Inactive</td>\n",
       "      <td>19</td>\n",
       "    </tr>\n",
       "    <tr>\n",
       "      <th>4</th>\n",
       "      <td>4</td>\n",
       "      <td>5173</td>\n",
       "      <td>O=C(CCCCCCC(=O)NO)NO</td>\n",
       "      <td>8.230000</td>\n",
       "      <td>0</td>\n",
       "      <td>Inactive</td>\n",
       "      <td>1</td>\n",
       "    </tr>\n",
       "  </tbody>\n",
       "</table>\n",
       "</div>"
      ],
      "text/plain": [
       "   index   CID                                      SMILES  AVG_IC50_uM  \\\n",
       "0      0  2746            CC(=O)Nc1ccc(C(=O)Nc2ccccc2N)cc1     2.232250   \n",
       "1      1  3812         CN(C)c1ccc(C(=O)NCCCCCCCC(=O)NO)cc1     1.308333   \n",
       "2      2  3994          CN(C)c1ccc(C(=O)NCCCCCCC(=O)NO)cc1     1.255333   \n",
       "3      3  4261  Nc1ccccc1NC(=O)c1ccc(CNC(=O)OCc2cccnc2)cc1     1.526116   \n",
       "4      4  5173                        O=C(CCCCCCC(=O)NO)NO     8.230000   \n",
       "\n",
       "   FIRST_LABEL FINAL_LABEL  DUPLICATE_COUNTS  \n",
       "0            0    Inactive                12  \n",
       "1            0    Inactive                 3  \n",
       "2            0    Inactive                 3  \n",
       "3            0    Inactive                19  \n",
       "4            0    Inactive                 1  "
      ]
     },
     "execution_count": 37,
     "metadata": {},
     "output_type": "execute_result"
    }
   ],
   "source": [
    "clean_dataset.head()"
   ]
  },
  {
   "cell_type": "code",
   "execution_count": 38,
   "metadata": {},
   "outputs": [
    {
     "name": "stdout",
     "output_type": "stream",
     "text": [
      "1346\n",
      "5\n",
      "290\n"
     ]
    }
   ],
   "source": [
    "print(len(clean_dataset.loc[clean_dataset['FIRST_LABEL'] == 0])) #Active\n",
    "print(len(clean_dataset.loc[clean_dataset['FIRST_LABEL'] == 1])) #Inactive\n",
    "print(len(clean_dataset.loc[clean_dataset['FIRST_LABEL'] == 2])) #Unspecified"
   ]
  },
  {
   "cell_type": "code",
   "execution_count": 39,
   "metadata": {},
   "outputs": [],
   "source": [
    "clean_labels = clean_dataset['FIRST_LABEL']\n",
    "clean_data = maccs_fpts(clean_dataset.SMILES)\n",
    "clean_data = pd.DataFrame(data=clean_data)"
   ]
  },
  {
   "cell_type": "code",
   "execution_count": 40,
   "metadata": {},
   "outputs": [
    {
     "name": "stdout",
     "output_type": "stream",
     "text": [
      "(1641, 167)\n",
      "(1641,)\n"
     ]
    }
   ],
   "source": [
    "print(clean_data.shape)\n",
    "print(clean_labels.shape)"
   ]
  },
  {
   "attachments": {},
   "cell_type": "markdown",
   "metadata": {},
   "source": [
    "# 4. Training with clean data"
   ]
  },
  {
   "attachments": {},
   "cell_type": "markdown",
   "metadata": {},
   "source": [
    "## 4.1. Train-test split"
   ]
  },
  {
   "cell_type": "code",
   "execution_count": 63,
   "metadata": {},
   "outputs": [],
   "source": [
    "from sklearn.model_selection import train_test_split\n",
    "X_train, X_test, y_train, y_test = train_test_split(clean_data, clean_labels, test_size=0.3, random_state=1)"
   ]
  },
  {
   "cell_type": "code",
   "execution_count": 64,
   "metadata": {},
   "outputs": [
    {
     "name": "stdout",
     "output_type": "stream",
     "text": [
      "(1148, 167)\n",
      "(493, 167)\n",
      "(1148,)\n",
      "(493,)\n"
     ]
    }
   ],
   "source": [
    "print(X_train.shape)\n",
    "print(X_test.shape)\n",
    "print(y_train.shape)\n",
    "print(y_test.shape)"
   ]
  },
  {
   "cell_type": "code",
   "execution_count": 65,
   "metadata": {},
   "outputs": [
    {
     "name": "stdout",
     "output_type": "stream",
     "text": [
      "947\n",
      "3\n",
      "198\n"
     ]
    }
   ],
   "source": [
    "print(len(y_train.loc[y_train == 0]))\n",
    "print(len(y_train.loc[y_train == 1]))\n",
    "print(len(y_train.loc[y_train == 2]))"
   ]
  },
  {
   "cell_type": "code",
   "execution_count": 66,
   "metadata": {},
   "outputs": [
    {
     "name": "stdout",
     "output_type": "stream",
     "text": [
      "399\n",
      "2\n",
      "92\n"
     ]
    }
   ],
   "source": [
    "print(len(y_test.loc[y_test == 0]))\n",
    "print(len(y_test.loc[y_test == 1]))\n",
    "print(len(y_test.loc[y_test == 2]))"
   ]
  },
  {
   "attachments": {},
   "cell_type": "markdown",
   "metadata": {},
   "source": [
    "# 4.2. Balance the data"
   ]
  },
  {
   "cell_type": "code",
   "execution_count": 60,
   "metadata": {},
   "outputs": [
    {
     "name": "stdout",
     "output_type": "stream",
     "text": [
      "1346\n",
      "5\n",
      "290\n"
     ]
    }
   ],
   "source": [
    "print(len(clean_dataset.loc[clean_dataset['FIRST_LABEL'] == 0])) #Active\n",
    "print(len(clean_dataset.loc[clean_dataset['FIRST_LABEL'] == 1])) #Inactive\n",
    "print(len(clean_dataset.loc[clean_dataset['FIRST_LABEL'] == 2])) #Unspecified"
   ]
  },
  {
   "cell_type": "code",
   "execution_count": 69,
   "metadata": {},
   "outputs": [],
   "source": [
    "from imblearn.over_sampling import SMOTE\n",
    "smote = SMOTE(random_state=1, k_neighbors=2)\n",
    "X_balanced, y_balanced = smote.fit_resample(X_train, y_train)"
   ]
  },
  {
   "cell_type": "code",
   "execution_count": 72,
   "metadata": {},
   "outputs": [
    {
     "name": "stdout",
     "output_type": "stream",
     "text": [
      "947\n",
      "947\n",
      "947\n"
     ]
    }
   ],
   "source": [
    "print(len(y_balanced[y_balanced == 0])) #Active\n",
    "print(len(y_balanced[y_balanced == 1])) #Inactive\n",
    "print(len(y_balanced[y_balanced == 2])) #Unspecified"
   ]
  },
  {
   "cell_type": "code",
   "execution_count": 73,
   "metadata": {},
   "outputs": [
    {
     "name": "stdout",
     "output_type": "stream",
     "text": [
      "(2841, 167)\n",
      "(2841,)\n"
     ]
    }
   ],
   "source": [
    "print(X_balanced.shape)\n",
    "print(y_balanced.shape)"
   ]
  },
  {
   "attachments": {},
   "cell_type": "markdown",
   "metadata": {},
   "source": [
    "## 4.3. Training models"
   ]
  },
  {
   "cell_type": "code",
   "execution_count": 45,
   "metadata": {},
   "outputs": [
    {
     "data": {
      "text/html": [
       "<style>#sk-container-id-1 {color: black;background-color: white;}#sk-container-id-1 pre{padding: 0;}#sk-container-id-1 div.sk-toggleable {background-color: white;}#sk-container-id-1 label.sk-toggleable__label {cursor: pointer;display: block;width: 100%;margin-bottom: 0;padding: 0.3em;box-sizing: border-box;text-align: center;}#sk-container-id-1 label.sk-toggleable__label-arrow:before {content: \"▸\";float: left;margin-right: 0.25em;color: #696969;}#sk-container-id-1 label.sk-toggleable__label-arrow:hover:before {color: black;}#sk-container-id-1 div.sk-estimator:hover label.sk-toggleable__label-arrow:before {color: black;}#sk-container-id-1 div.sk-toggleable__content {max-height: 0;max-width: 0;overflow: hidden;text-align: left;background-color: #f0f8ff;}#sk-container-id-1 div.sk-toggleable__content pre {margin: 0.2em;color: black;border-radius: 0.25em;background-color: #f0f8ff;}#sk-container-id-1 input.sk-toggleable__control:checked~div.sk-toggleable__content {max-height: 200px;max-width: 100%;overflow: auto;}#sk-container-id-1 input.sk-toggleable__control:checked~label.sk-toggleable__label-arrow:before {content: \"▾\";}#sk-container-id-1 div.sk-estimator input.sk-toggleable__control:checked~label.sk-toggleable__label {background-color: #d4ebff;}#sk-container-id-1 div.sk-label input.sk-toggleable__control:checked~label.sk-toggleable__label {background-color: #d4ebff;}#sk-container-id-1 input.sk-hidden--visually {border: 0;clip: rect(1px 1px 1px 1px);clip: rect(1px, 1px, 1px, 1px);height: 1px;margin: -1px;overflow: hidden;padding: 0;position: absolute;width: 1px;}#sk-container-id-1 div.sk-estimator {font-family: monospace;background-color: #f0f8ff;border: 1px dotted black;border-radius: 0.25em;box-sizing: border-box;margin-bottom: 0.5em;}#sk-container-id-1 div.sk-estimator:hover {background-color: #d4ebff;}#sk-container-id-1 div.sk-parallel-item::after {content: \"\";width: 100%;border-bottom: 1px solid gray;flex-grow: 1;}#sk-container-id-1 div.sk-label:hover label.sk-toggleable__label {background-color: #d4ebff;}#sk-container-id-1 div.sk-serial::before {content: \"\";position: absolute;border-left: 1px solid gray;box-sizing: border-box;top: 0;bottom: 0;left: 50%;z-index: 0;}#sk-container-id-1 div.sk-serial {display: flex;flex-direction: column;align-items: center;background-color: white;padding-right: 0.2em;padding-left: 0.2em;position: relative;}#sk-container-id-1 div.sk-item {position: relative;z-index: 1;}#sk-container-id-1 div.sk-parallel {display: flex;align-items: stretch;justify-content: center;background-color: white;position: relative;}#sk-container-id-1 div.sk-item::before, #sk-container-id-1 div.sk-parallel-item::before {content: \"\";position: absolute;border-left: 1px solid gray;box-sizing: border-box;top: 0;bottom: 0;left: 50%;z-index: -1;}#sk-container-id-1 div.sk-parallel-item {display: flex;flex-direction: column;z-index: 1;position: relative;background-color: white;}#sk-container-id-1 div.sk-parallel-item:first-child::after {align-self: flex-end;width: 50%;}#sk-container-id-1 div.sk-parallel-item:last-child::after {align-self: flex-start;width: 50%;}#sk-container-id-1 div.sk-parallel-item:only-child::after {width: 0;}#sk-container-id-1 div.sk-dashed-wrapped {border: 1px dashed gray;margin: 0 0.4em 0.5em 0.4em;box-sizing: border-box;padding-bottom: 0.4em;background-color: white;}#sk-container-id-1 div.sk-label label {font-family: monospace;font-weight: bold;display: inline-block;line-height: 1.2em;}#sk-container-id-1 div.sk-label-container {text-align: center;}#sk-container-id-1 div.sk-container {/* jupyter's `normalize.less` sets `[hidden] { display: none; }` but bootstrap.min.css set `[hidden] { display: none !important; }` so we also need the `!important` here to be able to override the default hidden behavior on the sphinx rendered scikit-learn.org. See: https://github.com/scikit-learn/scikit-learn/issues/21755 */display: inline-block !important;position: relative;}#sk-container-id-1 div.sk-text-repr-fallback {display: none;}</style><div id=\"sk-container-id-1\" class=\"sk-top-container\"><div class=\"sk-text-repr-fallback\"><pre>KNeighborsClassifier()</pre><b>In a Jupyter environment, please rerun this cell to show the HTML representation or trust the notebook. <br />On GitHub, the HTML representation is unable to render, please try loading this page with nbviewer.org.</b></div><div class=\"sk-container\" hidden><div class=\"sk-item\"><div class=\"sk-estimator sk-toggleable\"><input class=\"sk-toggleable__control sk-hidden--visually\" id=\"sk-estimator-id-1\" type=\"checkbox\" checked><label for=\"sk-estimator-id-1\" class=\"sk-toggleable__label sk-toggleable__label-arrow\">KNeighborsClassifier</label><div class=\"sk-toggleable__content\"><pre>KNeighborsClassifier()</pre></div></div></div></div></div>"
      ],
      "text/plain": [
       "KNeighborsClassifier()"
      ]
     },
     "execution_count": 45,
     "metadata": {},
     "output_type": "execute_result"
    }
   ],
   "source": [
    "from sklearn.neighbors import KNeighborsClassifier\n",
    "knn_maccs = KNeighborsClassifier(n_neighbors=5, metric='minkowski', p=2)\n",
    "knn_maccs.fit(X_train, y_train)"
   ]
  },
  {
   "cell_type": "code",
   "execution_count": 46,
   "metadata": {},
   "outputs": [
    {
     "data": {
      "text/html": [
       "<style>#sk-container-id-2 {color: black;background-color: white;}#sk-container-id-2 pre{padding: 0;}#sk-container-id-2 div.sk-toggleable {background-color: white;}#sk-container-id-2 label.sk-toggleable__label {cursor: pointer;display: block;width: 100%;margin-bottom: 0;padding: 0.3em;box-sizing: border-box;text-align: center;}#sk-container-id-2 label.sk-toggleable__label-arrow:before {content: \"▸\";float: left;margin-right: 0.25em;color: #696969;}#sk-container-id-2 label.sk-toggleable__label-arrow:hover:before {color: black;}#sk-container-id-2 div.sk-estimator:hover label.sk-toggleable__label-arrow:before {color: black;}#sk-container-id-2 div.sk-toggleable__content {max-height: 0;max-width: 0;overflow: hidden;text-align: left;background-color: #f0f8ff;}#sk-container-id-2 div.sk-toggleable__content pre {margin: 0.2em;color: black;border-radius: 0.25em;background-color: #f0f8ff;}#sk-container-id-2 input.sk-toggleable__control:checked~div.sk-toggleable__content {max-height: 200px;max-width: 100%;overflow: auto;}#sk-container-id-2 input.sk-toggleable__control:checked~label.sk-toggleable__label-arrow:before {content: \"▾\";}#sk-container-id-2 div.sk-estimator input.sk-toggleable__control:checked~label.sk-toggleable__label {background-color: #d4ebff;}#sk-container-id-2 div.sk-label input.sk-toggleable__control:checked~label.sk-toggleable__label {background-color: #d4ebff;}#sk-container-id-2 input.sk-hidden--visually {border: 0;clip: rect(1px 1px 1px 1px);clip: rect(1px, 1px, 1px, 1px);height: 1px;margin: -1px;overflow: hidden;padding: 0;position: absolute;width: 1px;}#sk-container-id-2 div.sk-estimator {font-family: monospace;background-color: #f0f8ff;border: 1px dotted black;border-radius: 0.25em;box-sizing: border-box;margin-bottom: 0.5em;}#sk-container-id-2 div.sk-estimator:hover {background-color: #d4ebff;}#sk-container-id-2 div.sk-parallel-item::after {content: \"\";width: 100%;border-bottom: 1px solid gray;flex-grow: 1;}#sk-container-id-2 div.sk-label:hover label.sk-toggleable__label {background-color: #d4ebff;}#sk-container-id-2 div.sk-serial::before {content: \"\";position: absolute;border-left: 1px solid gray;box-sizing: border-box;top: 0;bottom: 0;left: 50%;z-index: 0;}#sk-container-id-2 div.sk-serial {display: flex;flex-direction: column;align-items: center;background-color: white;padding-right: 0.2em;padding-left: 0.2em;position: relative;}#sk-container-id-2 div.sk-item {position: relative;z-index: 1;}#sk-container-id-2 div.sk-parallel {display: flex;align-items: stretch;justify-content: center;background-color: white;position: relative;}#sk-container-id-2 div.sk-item::before, #sk-container-id-2 div.sk-parallel-item::before {content: \"\";position: absolute;border-left: 1px solid gray;box-sizing: border-box;top: 0;bottom: 0;left: 50%;z-index: -1;}#sk-container-id-2 div.sk-parallel-item {display: flex;flex-direction: column;z-index: 1;position: relative;background-color: white;}#sk-container-id-2 div.sk-parallel-item:first-child::after {align-self: flex-end;width: 50%;}#sk-container-id-2 div.sk-parallel-item:last-child::after {align-self: flex-start;width: 50%;}#sk-container-id-2 div.sk-parallel-item:only-child::after {width: 0;}#sk-container-id-2 div.sk-dashed-wrapped {border: 1px dashed gray;margin: 0 0.4em 0.5em 0.4em;box-sizing: border-box;padding-bottom: 0.4em;background-color: white;}#sk-container-id-2 div.sk-label label {font-family: monospace;font-weight: bold;display: inline-block;line-height: 1.2em;}#sk-container-id-2 div.sk-label-container {text-align: center;}#sk-container-id-2 div.sk-container {/* jupyter's `normalize.less` sets `[hidden] { display: none; }` but bootstrap.min.css set `[hidden] { display: none !important; }` so we also need the `!important` here to be able to override the default hidden behavior on the sphinx rendered scikit-learn.org. See: https://github.com/scikit-learn/scikit-learn/issues/21755 */display: inline-block !important;position: relative;}#sk-container-id-2 div.sk-text-repr-fallback {display: none;}</style><div id=\"sk-container-id-2\" class=\"sk-top-container\"><div class=\"sk-text-repr-fallback\"><pre>RandomForestClassifier(criterion=&#x27;entropy&#x27;, random_state=0)</pre><b>In a Jupyter environment, please rerun this cell to show the HTML representation or trust the notebook. <br />On GitHub, the HTML representation is unable to render, please try loading this page with nbviewer.org.</b></div><div class=\"sk-container\" hidden><div class=\"sk-item\"><div class=\"sk-estimator sk-toggleable\"><input class=\"sk-toggleable__control sk-hidden--visually\" id=\"sk-estimator-id-2\" type=\"checkbox\" checked><label for=\"sk-estimator-id-2\" class=\"sk-toggleable__label sk-toggleable__label-arrow\">RandomForestClassifier</label><div class=\"sk-toggleable__content\"><pre>RandomForestClassifier(criterion=&#x27;entropy&#x27;, random_state=0)</pre></div></div></div></div></div>"
      ],
      "text/plain": [
       "RandomForestClassifier(criterion='entropy', random_state=0)"
      ]
     },
     "execution_count": 46,
     "metadata": {},
     "output_type": "execute_result"
    }
   ],
   "source": [
    "from sklearn.ensemble import RandomForestClassifier\n",
    "rf_maccs = RandomForestClassifier(n_estimators=100, criterion='entropy', random_state=0)\n",
    "rf_maccs.fit(X_train, y_train)"
   ]
  },
  {
   "cell_type": "code",
   "execution_count": 47,
   "metadata": {},
   "outputs": [
    {
     "data": {
      "text/html": [
       "<style>#sk-container-id-3 {color: black;background-color: white;}#sk-container-id-3 pre{padding: 0;}#sk-container-id-3 div.sk-toggleable {background-color: white;}#sk-container-id-3 label.sk-toggleable__label {cursor: pointer;display: block;width: 100%;margin-bottom: 0;padding: 0.3em;box-sizing: border-box;text-align: center;}#sk-container-id-3 label.sk-toggleable__label-arrow:before {content: \"▸\";float: left;margin-right: 0.25em;color: #696969;}#sk-container-id-3 label.sk-toggleable__label-arrow:hover:before {color: black;}#sk-container-id-3 div.sk-estimator:hover label.sk-toggleable__label-arrow:before {color: black;}#sk-container-id-3 div.sk-toggleable__content {max-height: 0;max-width: 0;overflow: hidden;text-align: left;background-color: #f0f8ff;}#sk-container-id-3 div.sk-toggleable__content pre {margin: 0.2em;color: black;border-radius: 0.25em;background-color: #f0f8ff;}#sk-container-id-3 input.sk-toggleable__control:checked~div.sk-toggleable__content {max-height: 200px;max-width: 100%;overflow: auto;}#sk-container-id-3 input.sk-toggleable__control:checked~label.sk-toggleable__label-arrow:before {content: \"▾\";}#sk-container-id-3 div.sk-estimator input.sk-toggleable__control:checked~label.sk-toggleable__label {background-color: #d4ebff;}#sk-container-id-3 div.sk-label input.sk-toggleable__control:checked~label.sk-toggleable__label {background-color: #d4ebff;}#sk-container-id-3 input.sk-hidden--visually {border: 0;clip: rect(1px 1px 1px 1px);clip: rect(1px, 1px, 1px, 1px);height: 1px;margin: -1px;overflow: hidden;padding: 0;position: absolute;width: 1px;}#sk-container-id-3 div.sk-estimator {font-family: monospace;background-color: #f0f8ff;border: 1px dotted black;border-radius: 0.25em;box-sizing: border-box;margin-bottom: 0.5em;}#sk-container-id-3 div.sk-estimator:hover {background-color: #d4ebff;}#sk-container-id-3 div.sk-parallel-item::after {content: \"\";width: 100%;border-bottom: 1px solid gray;flex-grow: 1;}#sk-container-id-3 div.sk-label:hover label.sk-toggleable__label {background-color: #d4ebff;}#sk-container-id-3 div.sk-serial::before {content: \"\";position: absolute;border-left: 1px solid gray;box-sizing: border-box;top: 0;bottom: 0;left: 50%;z-index: 0;}#sk-container-id-3 div.sk-serial {display: flex;flex-direction: column;align-items: center;background-color: white;padding-right: 0.2em;padding-left: 0.2em;position: relative;}#sk-container-id-3 div.sk-item {position: relative;z-index: 1;}#sk-container-id-3 div.sk-parallel {display: flex;align-items: stretch;justify-content: center;background-color: white;position: relative;}#sk-container-id-3 div.sk-item::before, #sk-container-id-3 div.sk-parallel-item::before {content: \"\";position: absolute;border-left: 1px solid gray;box-sizing: border-box;top: 0;bottom: 0;left: 50%;z-index: -1;}#sk-container-id-3 div.sk-parallel-item {display: flex;flex-direction: column;z-index: 1;position: relative;background-color: white;}#sk-container-id-3 div.sk-parallel-item:first-child::after {align-self: flex-end;width: 50%;}#sk-container-id-3 div.sk-parallel-item:last-child::after {align-self: flex-start;width: 50%;}#sk-container-id-3 div.sk-parallel-item:only-child::after {width: 0;}#sk-container-id-3 div.sk-dashed-wrapped {border: 1px dashed gray;margin: 0 0.4em 0.5em 0.4em;box-sizing: border-box;padding-bottom: 0.4em;background-color: white;}#sk-container-id-3 div.sk-label label {font-family: monospace;font-weight: bold;display: inline-block;line-height: 1.2em;}#sk-container-id-3 div.sk-label-container {text-align: center;}#sk-container-id-3 div.sk-container {/* jupyter's `normalize.less` sets `[hidden] { display: none; }` but bootstrap.min.css set `[hidden] { display: none !important; }` so we also need the `!important` here to be able to override the default hidden behavior on the sphinx rendered scikit-learn.org. See: https://github.com/scikit-learn/scikit-learn/issues/21755 */display: inline-block !important;position: relative;}#sk-container-id-3 div.sk-text-repr-fallback {display: none;}</style><div id=\"sk-container-id-3\" class=\"sk-top-container\"><div class=\"sk-text-repr-fallback\"><pre>SVC(probability=True, random_state=0)</pre><b>In a Jupyter environment, please rerun this cell to show the HTML representation or trust the notebook. <br />On GitHub, the HTML representation is unable to render, please try loading this page with nbviewer.org.</b></div><div class=\"sk-container\" hidden><div class=\"sk-item\"><div class=\"sk-estimator sk-toggleable\"><input class=\"sk-toggleable__control sk-hidden--visually\" id=\"sk-estimator-id-3\" type=\"checkbox\" checked><label for=\"sk-estimator-id-3\" class=\"sk-toggleable__label sk-toggleable__label-arrow\">SVC</label><div class=\"sk-toggleable__content\"><pre>SVC(probability=True, random_state=0)</pre></div></div></div></div></div>"
      ],
      "text/plain": [
       "SVC(probability=True, random_state=0)"
      ]
     },
     "execution_count": 47,
     "metadata": {},
     "output_type": "execute_result"
    }
   ],
   "source": [
    "from sklearn.svm import SVC\n",
    "svm_maccs = SVC(kernel='rbf', probability=True, random_state=0)\n",
    "svm_maccs.fit(X_train, y_train)"
   ]
  },
  {
   "cell_type": "code",
   "execution_count": 48,
   "metadata": {},
   "outputs": [
    {
     "data": {
      "text/html": [
       "<style>#sk-container-id-4 {color: black;background-color: white;}#sk-container-id-4 pre{padding: 0;}#sk-container-id-4 div.sk-toggleable {background-color: white;}#sk-container-id-4 label.sk-toggleable__label {cursor: pointer;display: block;width: 100%;margin-bottom: 0;padding: 0.3em;box-sizing: border-box;text-align: center;}#sk-container-id-4 label.sk-toggleable__label-arrow:before {content: \"▸\";float: left;margin-right: 0.25em;color: #696969;}#sk-container-id-4 label.sk-toggleable__label-arrow:hover:before {color: black;}#sk-container-id-4 div.sk-estimator:hover label.sk-toggleable__label-arrow:before {color: black;}#sk-container-id-4 div.sk-toggleable__content {max-height: 0;max-width: 0;overflow: hidden;text-align: left;background-color: #f0f8ff;}#sk-container-id-4 div.sk-toggleable__content pre {margin: 0.2em;color: black;border-radius: 0.25em;background-color: #f0f8ff;}#sk-container-id-4 input.sk-toggleable__control:checked~div.sk-toggleable__content {max-height: 200px;max-width: 100%;overflow: auto;}#sk-container-id-4 input.sk-toggleable__control:checked~label.sk-toggleable__label-arrow:before {content: \"▾\";}#sk-container-id-4 div.sk-estimator input.sk-toggleable__control:checked~label.sk-toggleable__label {background-color: #d4ebff;}#sk-container-id-4 div.sk-label input.sk-toggleable__control:checked~label.sk-toggleable__label {background-color: #d4ebff;}#sk-container-id-4 input.sk-hidden--visually {border: 0;clip: rect(1px 1px 1px 1px);clip: rect(1px, 1px, 1px, 1px);height: 1px;margin: -1px;overflow: hidden;padding: 0;position: absolute;width: 1px;}#sk-container-id-4 div.sk-estimator {font-family: monospace;background-color: #f0f8ff;border: 1px dotted black;border-radius: 0.25em;box-sizing: border-box;margin-bottom: 0.5em;}#sk-container-id-4 div.sk-estimator:hover {background-color: #d4ebff;}#sk-container-id-4 div.sk-parallel-item::after {content: \"\";width: 100%;border-bottom: 1px solid gray;flex-grow: 1;}#sk-container-id-4 div.sk-label:hover label.sk-toggleable__label {background-color: #d4ebff;}#sk-container-id-4 div.sk-serial::before {content: \"\";position: absolute;border-left: 1px solid gray;box-sizing: border-box;top: 0;bottom: 0;left: 50%;z-index: 0;}#sk-container-id-4 div.sk-serial {display: flex;flex-direction: column;align-items: center;background-color: white;padding-right: 0.2em;padding-left: 0.2em;position: relative;}#sk-container-id-4 div.sk-item {position: relative;z-index: 1;}#sk-container-id-4 div.sk-parallel {display: flex;align-items: stretch;justify-content: center;background-color: white;position: relative;}#sk-container-id-4 div.sk-item::before, #sk-container-id-4 div.sk-parallel-item::before {content: \"\";position: absolute;border-left: 1px solid gray;box-sizing: border-box;top: 0;bottom: 0;left: 50%;z-index: -1;}#sk-container-id-4 div.sk-parallel-item {display: flex;flex-direction: column;z-index: 1;position: relative;background-color: white;}#sk-container-id-4 div.sk-parallel-item:first-child::after {align-self: flex-end;width: 50%;}#sk-container-id-4 div.sk-parallel-item:last-child::after {align-self: flex-start;width: 50%;}#sk-container-id-4 div.sk-parallel-item:only-child::after {width: 0;}#sk-container-id-4 div.sk-dashed-wrapped {border: 1px dashed gray;margin: 0 0.4em 0.5em 0.4em;box-sizing: border-box;padding-bottom: 0.4em;background-color: white;}#sk-container-id-4 div.sk-label label {font-family: monospace;font-weight: bold;display: inline-block;line-height: 1.2em;}#sk-container-id-4 div.sk-label-container {text-align: center;}#sk-container-id-4 div.sk-container {/* jupyter's `normalize.less` sets `[hidden] { display: none; }` but bootstrap.min.css set `[hidden] { display: none !important; }` so we also need the `!important` here to be able to override the default hidden behavior on the sphinx rendered scikit-learn.org. See: https://github.com/scikit-learn/scikit-learn/issues/21755 */display: inline-block !important;position: relative;}#sk-container-id-4 div.sk-text-repr-fallback {display: none;}</style><div id=\"sk-container-id-4\" class=\"sk-top-container\"><div class=\"sk-text-repr-fallback\"><pre>XGBClassifier(base_score=None, booster=None, callbacks=None,\n",
       "              colsample_bylevel=None, colsample_bynode=None,\n",
       "              colsample_bytree=None, early_stopping_rounds=None,\n",
       "              enable_categorical=False, eval_metric=None, feature_types=None,\n",
       "              gamma=None, gpu_id=None, grow_policy=None, importance_type=None,\n",
       "              interaction_constraints=None, learning_rate=None, max_bin=None,\n",
       "              max_cat_threshold=None, max_cat_to_onehot=None,\n",
       "              max_delta_step=None, max_depth=None, max_leaves=None,\n",
       "              min_child_weight=None, missing=nan, monotone_constraints=None,\n",
       "              n_estimators=100, n_jobs=None, num_parallel_tree=None,\n",
       "              objective=&#x27;multi:softprob&#x27;, predictor=None, ...)</pre><b>In a Jupyter environment, please rerun this cell to show the HTML representation or trust the notebook. <br />On GitHub, the HTML representation is unable to render, please try loading this page with nbviewer.org.</b></div><div class=\"sk-container\" hidden><div class=\"sk-item\"><div class=\"sk-estimator sk-toggleable\"><input class=\"sk-toggleable__control sk-hidden--visually\" id=\"sk-estimator-id-4\" type=\"checkbox\" checked><label for=\"sk-estimator-id-4\" class=\"sk-toggleable__label sk-toggleable__label-arrow\">XGBClassifier</label><div class=\"sk-toggleable__content\"><pre>XGBClassifier(base_score=None, booster=None, callbacks=None,\n",
       "              colsample_bylevel=None, colsample_bynode=None,\n",
       "              colsample_bytree=None, early_stopping_rounds=None,\n",
       "              enable_categorical=False, eval_metric=None, feature_types=None,\n",
       "              gamma=None, gpu_id=None, grow_policy=None, importance_type=None,\n",
       "              interaction_constraints=None, learning_rate=None, max_bin=None,\n",
       "              max_cat_threshold=None, max_cat_to_onehot=None,\n",
       "              max_delta_step=None, max_depth=None, max_leaves=None,\n",
       "              min_child_weight=None, missing=nan, monotone_constraints=None,\n",
       "              n_estimators=100, n_jobs=None, num_parallel_tree=None,\n",
       "              objective=&#x27;multi:softprob&#x27;, predictor=None, ...)</pre></div></div></div></div></div>"
      ],
      "text/plain": [
       "XGBClassifier(base_score=None, booster=None, callbacks=None,\n",
       "              colsample_bylevel=None, colsample_bynode=None,\n",
       "              colsample_bytree=None, early_stopping_rounds=None,\n",
       "              enable_categorical=False, eval_metric=None, feature_types=None,\n",
       "              gamma=None, gpu_id=None, grow_policy=None, importance_type=None,\n",
       "              interaction_constraints=None, learning_rate=None, max_bin=None,\n",
       "              max_cat_threshold=None, max_cat_to_onehot=None,\n",
       "              max_delta_step=None, max_depth=None, max_leaves=None,\n",
       "              min_child_weight=None, missing=nan, monotone_constraints=None,\n",
       "              n_estimators=100, n_jobs=None, num_parallel_tree=None,\n",
       "              objective='multi:softprob', predictor=None, ...)"
      ]
     },
     "execution_count": 48,
     "metadata": {},
     "output_type": "execute_result"
    }
   ],
   "source": [
    "from xgboost import XGBClassifier\n",
    "bst_maccs = XGBClassifier(n_estimators=100, objective='binary:logistic')\n",
    "bst_maccs.fit(X_train, y_train)"
   ]
  },
  {
   "attachments": {},
   "cell_type": "markdown",
   "metadata": {},
   "source": [
    "## 4.3. Model evaluation"
   ]
  },
  {
   "attachments": {},
   "cell_type": "markdown",
   "metadata": {},
   "source": [
    "### 4.3.1. Accuracy, Sensitivity, Specificity"
   ]
  },
  {
   "cell_type": "code",
   "execution_count": 49,
   "metadata": {},
   "outputs": [],
   "source": [
    "from sklearn.model_selection import cross_val_score\n",
    "from sklearn.model_selection import KFold"
   ]
  },
  {
   "cell_type": "code",
   "execution_count": 50,
   "metadata": {},
   "outputs": [
    {
     "name": "stdout",
     "output_type": "stream",
     "text": [
      "Độ chính xác của 10-fold cross validation KNN: 0.939 (0.023)\n",
      "Độ chính xác của 10-fold cross validation RF: 0.949 (0.024)\n",
      "Độ chính xác của 10-fold cross validation SVM: 0.931 (0.017)\n",
      "Độ chính xác của 10-fold cross validation XG_Boost: 0.965 (0.018)\n"
     ]
    }
   ],
   "source": [
    "X_Total = np.concatenate((X_train, X_test), axis=0)\n",
    "y_Total = np.concatenate((y_train, y_test), axis=0)\n",
    "\n",
    "#KNN\n",
    "cv = KFold(n_splits=10, random_state=1, shuffle=True)\n",
    "knn_scores = cross_val_score(knn_maccs, X_Total, y_Total, scoring='accuracy', cv=cv, n_jobs=-1)\n",
    "print('Độ chính xác của 10-fold cross validation KNN: %.3f (%.3f)' % (knn_scores.mean(), knn_scores.std()))\n",
    "\n",
    "#Random forest\n",
    "cv = KFold(n_splits=10, random_state=1, shuffle=True)\n",
    "rf_scores = cross_val_score(rf_maccs, X_Total, y_Total, scoring='accuracy', cv=cv, n_jobs=-1)\n",
    "print('Độ chính xác của 10-fold cross validation RF: %.3f (%.3f)' % (rf_scores.mean(), rf_scores.std()))\n",
    "\n",
    "#SVM\n",
    "cv = KFold(n_splits=10, random_state=1, shuffle=True)\n",
    "svm_scores = cross_val_score(svm_maccs, X_Total, y_Total, scoring='accuracy', cv=cv, n_jobs=-1)\n",
    "print('Độ chính xác của 10-fold cross validation SVM: %.3f (%.3f)' % (svm_scores.mean(), svm_scores.std()))\n",
    "\n",
    "#xg_boost\n",
    "cv = KFold(n_splits=10, random_state=1, shuffle=True)\n",
    "bst_scores = cross_val_score(bst_maccs, X_Total, y_Total, scoring='accuracy', cv=cv, n_jobs=-1)\n",
    "print('Độ chính xác của 10-fold cross validation XG_Boost: %.3f (%.3f)' % (bst_scores.mean(), bst_scores.std()))"
   ]
  },
  {
   "attachments": {},
   "cell_type": "markdown",
   "metadata": {},
   "source": [
    "# Binary classification evaluation"
   ]
  },
  {
   "cell_type": "code",
   "execution_count": 73,
   "metadata": {},
   "outputs": [],
   "source": [
    "from sklearn.metrics import confusion_matrix, accuracy_score\n",
    "from tabulate import tabulate\n",
    "import math\n",
    "\n",
    "def model_evaluation_calculation(cm):\n",
    "    tp = cm[0][0]; tn = cm[1][1]; fp = cm[0][1]; fn = cm[1][0]\n",
    "    ac = (tp+tn)/(tp+tn+fp+fn)\n",
    "    se = tp/(tp+fn)\n",
    "    sp = tn/(tn+fp)\n",
    "    mcc = (tp*tn - fp*fn) / math.sqrt((tp+fp)*(tp+fn)*(tn+fp)*(tn+fn))\n",
    "    return ac, se, sp, mcc\n",
    "\n",
    "def me_result(cm, model_name):\n",
    "    cm_string = \"Confusion matrix of \" + model_name\n",
    "    print(cm_string)\n",
    "    print(cm)\n",
    "    ac, se, sp, mcc = model_evaluation_calculation(cm)\n",
    "    print(\"Comparision:\")\n",
    "    table = [[' ' 'AC', 'SE', 'SP', 'MCC'], [model_name, ac, se, sp, mcc]]\n",
    "    print(tabulate(table, headers='firstrow', tablefmt='fancy_grid'))"
   ]
  },
  {
   "cell_type": "code",
   "execution_count": 74,
   "metadata": {},
   "outputs": [
    {
     "name": "stdout",
     "output_type": "stream",
     "text": [
      "Confusion matrix of KNN\n",
      "[[190   0]\n",
      " [  0   1]]\n",
      "Comparision:\n",
      "╒═════╤═══════╤══════╤══════╤═══════╕\n",
      "│     │    AC │   SE │   SP │   MCC │\n",
      "╞═════╪═══════╪══════╪══════╪═══════╡\n",
      "│ KNN │     1 │    1 │    1 │     1 │\n",
      "╘═════╧═══════╧══════╧══════╧═══════╛\n",
      "Confusion matrix of Random forest\n",
      "[[190   0]\n",
      " [  0   1]]\n",
      "Comparision:\n",
      "╒═══════════════╤═══════╤══════╤══════╤═══════╕\n",
      "│               │    AC │   SE │   SP │   MCC │\n",
      "╞═══════════════╪═══════╪══════╪══════╪═══════╡\n",
      "│ Random forest │     1 │    1 │    1 │     1 │\n",
      "╘═══════════════╧═══════╧══════╧══════╧═══════╛\n",
      "Confusion matrix of SVM\n",
      "[[190   0]\n",
      " [  1   0]]\n",
      "Comparision:\n",
      "╒═════╤══════════╤══════════╤══════╤═══════╕\n",
      "│     │       AC │       SE │   SP │   MCC │\n",
      "╞═════╪══════════╪══════════╪══════╪═══════╡\n",
      "│ SVM │ 0.994764 │ 0.994764 │  nan │   nan │\n",
      "╘═════╧══════════╧══════════╧══════╧═══════╛\n",
      "Confusion matrix of XG Boost\n",
      "[[190   0]\n",
      " [  0   1]]\n",
      "Comparision:\n",
      "╒══════════╤═══════╤══════╤══════╤═══════╕\n",
      "│          │    AC │   SE │   SP │   MCC │\n",
      "╞══════════╪═══════╪══════╪══════╪═══════╡\n",
      "│ XG Boost │     1 │    1 │    1 │     1 │\n",
      "╘══════════╧═══════╧══════╧══════╧═══════╛\n"
     ]
    },
    {
     "name": "stderr",
     "output_type": "stream",
     "text": [
      "/tmp/ipykernel_89489/262526515.py:9: RuntimeWarning: invalid value encountered in scalar divide\n",
      "  sp = tn/(tn+fp)\n",
      "/tmp/ipykernel_89489/262526515.py:10: RuntimeWarning: invalid value encountered in divide\n",
      "  mcc = (tp*tn - fp*fn) / math.sqrt((tp+fp)*(tp+fn)*(tn+fp)*(tn+fn))\n"
     ]
    }
   ],
   "source": [
    "#KNN\n",
    "y_knn_pred = knn_maccs.predict(X_test)\n",
    "knn_cm = confusion_matrix(y_test, y_knn_pred)\n",
    "me_result(knn_cm, model_name=\"KNN\")\n",
    "\n",
    "#Random Forest\n",
    "y_rf_pred = rf_maccs.predict(X_test)\n",
    "rf_cm = confusion_matrix(y_test, y_rf_pred)\n",
    "me_result(rf_cm, model_name=\"Random forest\")\n",
    "\n",
    "#SVM\n",
    "y_svm_pred = svm_maccs.predict(X_test)\n",
    "svm_cm = confusion_matrix(y_test, y_svm_pred)\n",
    "me_result(svm_cm, model_name=\"SVM\")\n",
    "\n",
    "#XG Boost\n",
    "y_bst_pred = bst_maccs.predict(X_test)\n",
    "bst_cm = confusion_matrix(y_test, y_bst_pred)\n",
    "me_result(bst_cm, model_name=\"XG Boost\")"
   ]
  },
  {
   "attachments": {},
   "cell_type": "markdown",
   "metadata": {},
   "source": [
    "### 4.3.1. AUC"
   ]
  },
  {
   "cell_type": "code",
   "execution_count": 75,
   "metadata": {},
   "outputs": [
    {
     "name": "stdout",
     "output_type": "stream",
     "text": [
      "1.0 1.0 1.0 1.0\n"
     ]
    }
   ],
   "source": [
    "from sklearn.metrics import RocCurveDisplay\n",
    "from sklearn.metrics import roc_auc_score\n",
    "\n",
    "knn_y_proba = knn_maccs.predict_proba(X_test)[:, 1]\n",
    "rf_y_proba = rf_maccs.predict_proba(X_test)[:, 1]\n",
    "svm_y_proba = svm_maccs.predict_proba(X_test)[:, 1]\n",
    "bst_y_proba = bst_maccs.predict_proba(X_test)[:, 1]\n",
    "\n",
    "knn_auc_score = roc_auc_score(y_test, knn_y_proba)\n",
    "rf_auc_score = roc_auc_score(y_test, rf_y_proba)\n",
    "svm_auc_score = roc_auc_score(y_test, svm_y_proba)\n",
    "bst_auc_score = roc_auc_score(y_test, bst_y_proba)\n",
    "print(knn_auc_score, rf_auc_score, svm_auc_score, bst_auc_score)"
   ]
  },
  {
   "attachments": {},
   "cell_type": "markdown",
   "metadata": {},
   "source": [
    "# Multiple class classification evaluation"
   ]
  },
  {
   "cell_type": "code",
   "execution_count": 52,
   "metadata": {},
   "outputs": [],
   "source": [
    "from sklearn.metrics import confusion_matrix, accuracy_score\n",
    "from tabulate import tabulate\n",
    "import math"
   ]
  },
  {
   "cell_type": "code",
   "execution_count": 53,
   "metadata": {},
   "outputs": [],
   "source": [
    "#KNN\n",
    "y_knn_pred = knn_maccs.predict(X_test)\n",
    "knn_cm = confusion_matrix(y_test, y_knn_pred)\n",
    "\n",
    "#Random Forest\n",
    "y_rf_pred = rf_maccs.predict(X_test)\n",
    "rf_cm = confusion_matrix(y_test, y_rf_pred)\n",
    "\n",
    "#SVM\n",
    "y_svm_pred = svm_maccs.predict(X_test)\n",
    "svm_cm = confusion_matrix(y_test, y_svm_pred)\n",
    "\n",
    "#XG Boost\n",
    "y_bst_pred = bst_maccs.predict(X_test)\n",
    "bst_cm = confusion_matrix(y_test, y_bst_pred)"
   ]
  },
  {
   "attachments": {},
   "cell_type": "markdown",
   "metadata": {},
   "source": [
    "__Confusion matrix__"
   ]
  },
  {
   "cell_type": "code",
   "execution_count": 54,
   "metadata": {},
   "outputs": [
    {
     "name": "stdout",
     "output_type": "stream",
     "text": [
      "KNN confusion matrix: \n",
      "[[391   0   8]\n",
      " [  2   0   0]\n",
      " [ 25   0  67]]\n",
      "RF confusion matrix: \n",
      "[[396   0   3]\n",
      " [  1   1   0]\n",
      " [ 14   0  78]]\n",
      "SVM confusion matrix: \n",
      "[[398   0   1]\n",
      " [  1   0   1]\n",
      " [ 39   0  53]]\n",
      "XgBoost confusion matrix: \n",
      "[[397   0   2]\n",
      " [  0   1   1]\n",
      " [  9   0  83]]\n"
     ]
    }
   ],
   "source": [
    "print(\"KNN confusion matrix: \")\n",
    "print(knn_cm)\n",
    "print(\"RF confusion matrix: \")\n",
    "print(rf_cm)\n",
    "print(\"SVM confusion matrix: \")\n",
    "print(svm_cm)\n",
    "print(\"XgBoost confusion matrix: \")\n",
    "print(bst_cm)"
   ]
  },
  {
   "attachments": {},
   "cell_type": "markdown",
   "metadata": {},
   "source": [
    "__Precision__"
   ]
  },
  {
   "cell_type": "code",
   "execution_count": 74,
   "metadata": {},
   "outputs": [
    {
     "name": "stdout",
     "output_type": "stream",
     "text": [
      "╒═════════════════╤════════════════╤═════════════════╤═════════════════════╕\n",
      "│   KNN precision │   RF precision │   SVM precision │   XgBoost precision │\n",
      "╞═════════════════╪════════════════╪═════════════════╪═════════════════════╡\n",
      "│         0.60958 │       0.975489 │        0.624104 │            0.980983 │\n",
      "╘═════════════════╧════════════════╧═════════════════╧═════════════════════╛\n"
     ]
    },
    {
     "name": "stderr",
     "output_type": "stream",
     "text": [
      "/home/mrcong/anaconda3/envs/my-rdkit-env/lib/python3.11/site-packages/sklearn/metrics/_classification.py:1344: UndefinedMetricWarning: Precision is ill-defined and being set to 0.0 in labels with no predicted samples. Use `zero_division` parameter to control this behavior.\n",
      "  _warn_prf(average, modifier, msg_start, len(result))\n",
      "/home/mrcong/anaconda3/envs/my-rdkit-env/lib/python3.11/site-packages/sklearn/metrics/_classification.py:1344: UndefinedMetricWarning: Precision is ill-defined and being set to 0.0 in labels with no predicted samples. Use `zero_division` parameter to control this behavior.\n",
      "  _warn_prf(average, modifier, msg_start, len(result))\n"
     ]
    }
   ],
   "source": [
    "from sklearn.metrics import precision_score\n",
    "knn_precision = precision_score(y_true=y_test, y_pred=y_knn_pred, average='macro')\n",
    "rf_precision = precision_score(y_true=y_test, y_pred=y_rf_pred, average='macro')\n",
    "svm_precision = precision_score(y_true=y_test, y_pred=y_svm_pred, average='macro')\n",
    "bst_precision = precision_score(y_true=y_test, y_pred=y_bst_pred, average='macro')\n",
    "table = [['KNN precision', 'RF precision', 'SVM precision', 'XgBoost precision'], [knn_precision, rf_precision, svm_precision, bst_precision]]\n",
    "print(tabulate(table, headers='firstrow', tablefmt='fancy_grid'))"
   ]
  },
  {
   "attachments": {},
   "cell_type": "markdown",
   "metadata": {},
   "source": [
    "__Recall score__"
   ]
  },
  {
   "cell_type": "code",
   "execution_count": 75,
   "metadata": {},
   "outputs": [
    {
     "name": "stdout",
     "output_type": "stream",
     "text": [
      "╒══════════════╤═════════════╤══════════════╤══════════════════╕\n",
      "│   KNN recall │   RF recall │   SVM recall │   XgBoost recall │\n",
      "╞══════════════╪═════════════╪══════════════╪══════════════════╡\n",
      "│     0.569404 │    0.780102 │     0.524527 │         0.799054 │\n",
      "╘══════════════╧═════════════╧══════════════╧══════════════════╛\n"
     ]
    }
   ],
   "source": [
    "from sklearn.metrics import recall_score\n",
    "knn_recall = recall_score(y_true=y_test, y_pred=y_knn_pred, average='macro')\n",
    "rf_recall = recall_score(y_true=y_test, y_pred=y_rf_pred, average='macro')\n",
    "svm_recall = recall_score(y_true=y_test, y_pred=y_svm_pred, average='macro')\n",
    "bst_recall = recall_score(y_true=y_test, y_pred=y_bst_pred, average='macro')\n",
    "table = [['KNN recall', 'RF recall', 'SVM recall', 'XgBoost recall'], [knn_recall, rf_recall, svm_recall, bst_recall]]\n",
    "print(tabulate(table, headers='firstrow', tablefmt='fancy_grid'))"
   ]
  },
  {
   "attachments": {},
   "cell_type": "markdown",
   "metadata": {},
   "source": [
    "__F1 Score__"
   ]
  },
  {
   "cell_type": "code",
   "execution_count": 76,
   "metadata": {},
   "outputs": [
    {
     "name": "stdout",
     "output_type": "stream",
     "text": [
      "╒══════════╤══════════╤══════════╤══════════════╕\n",
      "│   KNN f1 │    RF f1 │   SVM f1 │   XgBoost f1 │\n",
      "╞══════════╪══════════╪══════════╪══════════════╡\n",
      "│ 0.586519 │ 0.848726 │ 0.557368 │     0.861862 │\n",
      "╘══════════╧══════════╧══════════╧══════════════╛\n"
     ]
    }
   ],
   "source": [
    "from sklearn.metrics import f1_score\n",
    "knn_f1 = f1_score(y_true=y_test, y_pred=y_knn_pred, average='macro')\n",
    "rf_f1 = f1_score(y_true=y_test, y_pred=y_rf_pred, average='macro')\n",
    "svm_f1 = f1_score(y_true=y_test, y_pred=y_svm_pred, average='macro')\n",
    "bst_f1 = f1_score(y_true=y_test, y_pred=y_bst_pred, average='macro')\n",
    "table = [['KNN f1', 'RF f1', 'SVM f1', 'XgBoost f1'], [knn_f1, rf_f1, svm_f1, bst_f1]]\n",
    "print(tabulate(table, headers='firstrow', tablefmt='fancy_grid'))"
   ]
  },
  {
   "attachments": {},
   "cell_type": "markdown",
   "metadata": {},
   "source": [
    "__AUC__"
   ]
  },
  {
   "cell_type": "code",
   "execution_count": 86,
   "metadata": {},
   "outputs": [
    {
     "name": "stdout",
     "output_type": "stream",
     "text": [
      "╒═══════════════════════════════════════════════╤═══════════════════════════════════════════════╤══════════════════════════════════════════════════════════════╤═══════════════════════════════════════════════╕\n",
      "│ KNN AUC score                                 │ RF AUC score                                  │ SVM AUC score                                                │ XgBoost AUC score                             │\n",
      "╞═══════════════════════════════════════════════╪═══════════════════════════════════════════════╪══════════════════════════════════════════════════════════════╪═══════════════════════════════════════════════╡\n",
      "│ [0.9548738868447715, 1.0, 0.9545700964978857] │ [0.9845358076041166, 1.0, 0.9843868589396074] │ [0.9545139444355569, 0.8665987780040734, 0.9514799956630163] │ [0.9872820348744201, 1.0, 0.9867721999349451] │\n",
      "╘═══════════════════════════════════════════════╧═══════════════════════════════════════════════╧══════════════════════════════════════════════════════════════╧═══════════════════════════════════════════════╛\n"
     ]
    }
   ],
   "source": [
    "from sklearn.metrics import roc_auc_score\n",
    "from sklearn.preprocessing import label_binarize\n",
    "\n",
    "knn_y_pred_proba = knn_maccs.predict_proba(X_test)\n",
    "rf_y_pred_proba = rf_maccs.predict_proba(X_test)\n",
    "svm_y_pred_proba = svm_maccs.predict_proba(X_test)\n",
    "bst_y_pred_proba = bst_maccs.predict_proba(X_test)\n",
    "\n",
    "# Assuming your target variable has more than two classes\n",
    "# Binarize the target variable\n",
    "y_test_bin = label_binarize(y_test, classes=[0, 1, 2])  # Update classes accordingly\n",
    "\n",
    "# Calculate the ROC AUC score for each class\n",
    "knn_roc_auc_scores = []\n",
    "rf_roc_auc_scores = []\n",
    "svm_roc_auc_scores = []\n",
    "bst_roc_auc_scores = []\n",
    "\n",
    "for i in range(y_test_bin.shape[1]):\n",
    "    knn_roc_auc = roc_auc_score(y_test_bin[:, i], knn_y_pred_proba[:, i])\n",
    "    rf_roc_auc = roc_auc_score(y_test_bin[:, i], rf_y_pred_proba[:, i])\n",
    "    svm_roc_auc = roc_auc_score(y_test_bin[:, i], svm_y_pred_proba[:, i])\n",
    "    bst_roc_auc = roc_auc_score(y_test_bin[:, i], bst_y_pred_proba[:, i])\n",
    "\n",
    "    knn_roc_auc_scores.append(knn_roc_auc)\n",
    "    rf_roc_auc_scores.append(rf_roc_auc)\n",
    "    svm_roc_auc_scores.append(svm_roc_auc)\n",
    "    bst_roc_auc_scores.append(bst_roc_auc)\n",
    "\n",
    "auc_table = [['KNN AUC score', 'RF AUC score', 'SVM AUC score', 'XgBoost AUC score'], [knn_roc_auc_scores, rf_roc_auc_scores, svm_roc_auc_scores, bst_roc_auc_scores]]\n",
    "print(tabulate(auc_table, headers='firstrow', tablefmt='fancy_grid'))"
   ]
  }
 ],
 "metadata": {
  "kernelspec": {
   "display_name": "my-rdkit-env",
   "language": "python",
   "name": "python3"
  },
  "language_info": {
   "codemirror_mode": {
    "name": "ipython",
    "version": 3
   },
   "file_extension": ".py",
   "mimetype": "text/x-python",
   "name": "python",
   "nbconvert_exporter": "python",
   "pygments_lexer": "ipython3",
   "version": "3.11.3"
  },
  "orig_nbformat": 4
 },
 "nbformat": 4,
 "nbformat_minor": 2
}
