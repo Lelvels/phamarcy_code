{
 "cells": [
  {
   "cell_type": "code",
   "execution_count": 47,
   "metadata": {},
   "outputs": [],
   "source": [
    "from rdkit.Chem import AllChem\n",
    "from rdkit import Chem\n",
    "from rdkit.Chem import Descriptors, MACCSkeys\n",
    "from rdkit.ML.Descriptors import MoleculeDescriptors\n",
    "\n",
    "import pandas as pd\n",
    "import numpy as np\n",
    "import matplotlib.pyplot as plt\n",
    "import seaborn as sns\n",
    "\n",
    "from mordred import Calculator, descriptors"
   ]
  },
  {
   "cell_type": "code",
   "execution_count": 48,
   "metadata": {},
   "outputs": [
    {
     "data": {
      "text/html": [
       "<div>\n",
       "<style scoped>\n",
       "    .dataframe tbody tr th:only-of-type {\n",
       "        vertical-align: middle;\n",
       "    }\n",
       "\n",
       "    .dataframe tbody tr th {\n",
       "        vertical-align: top;\n",
       "    }\n",
       "\n",
       "    .dataframe thead th {\n",
       "        text-align: right;\n",
       "    }\n",
       "</style>\n",
       "<table border=\"1\" class=\"dataframe\">\n",
       "  <thead>\n",
       "    <tr style=\"text-align: right;\">\n",
       "      <th></th>\n",
       "      <th>STT</th>\n",
       "      <th>Finder</th>\n",
       "      <th>AID</th>\n",
       "      <th>CID</th>\n",
       "      <th>SMILES</th>\n",
       "      <th>IC50 (uM)</th>\n",
       "      <th>ACTIVITY</th>\n",
       "      <th>PP THU</th>\n",
       "    </tr>\n",
       "  </thead>\n",
       "  <tbody>\n",
       "    <tr>\n",
       "      <th>0</th>\n",
       "      <td>116</td>\n",
       "      <td>Kim Anh</td>\n",
       "      <td>1548727</td>\n",
       "      <td>155525662</td>\n",
       "      <td>CC1=C(C2=CC=CC=C2N1)CCNCC3=CC=C(C=C3)C=CC(=O)N...</td>\n",
       "      <td>4.214</td>\n",
       "      <td>Active</td>\n",
       "      <td>Xét nghiệm huỳnh quang</td>\n",
       "    </tr>\n",
       "    <tr>\n",
       "      <th>1</th>\n",
       "      <td>810</td>\n",
       "      <td>Anh Thư</td>\n",
       "      <td>1762488</td>\n",
       "      <td>164629157</td>\n",
       "      <td>CSC1=CC2=C(C=C1)SC3=CC=CC=C3N2CC4=CC=C(C=C4)C(...</td>\n",
       "      <td>0.68</td>\n",
       "      <td>Active</td>\n",
       "      <td>xét nghiệm dựa trên huỳnh quang</td>\n",
       "    </tr>\n",
       "    <tr>\n",
       "      <th>2</th>\n",
       "      <td>83</td>\n",
       "      <td>Kim Anh</td>\n",
       "      <td>1765325</td>\n",
       "      <td>164627790</td>\n",
       "      <td>CCN1C(=NN=C1SCC2=CC=C(C=C2)C(=O)NC3=CC=CC=C3N)...</td>\n",
       "      <td>40.07</td>\n",
       "      <td>Unspecified</td>\n",
       "      <td>Xét nghiệm đầu đọc vi bản huỳnh quang</td>\n",
       "    </tr>\n",
       "    <tr>\n",
       "      <th>3</th>\n",
       "      <td>770</td>\n",
       "      <td>Anh Thư</td>\n",
       "      <td>1759721</td>\n",
       "      <td>164627737</td>\n",
       "      <td>CCCCC[C@@H](C1=NC=C(N1)C2=CC3=CC=CC=C3N=C2OC)N...</td>\n",
       "      <td>&gt;40</td>\n",
       "      <td>Unspecified</td>\n",
       "      <td>xét nghiệm Steady-Glo luciferase</td>\n",
       "    </tr>\n",
       "    <tr>\n",
       "      <th>4</th>\n",
       "      <td>740</td>\n",
       "      <td>Anh Thư</td>\n",
       "      <td>1759719</td>\n",
       "      <td>164627737</td>\n",
       "      <td>CCCCC[C@@H](C1=NC=C(N1)C2=CC3=CC=CC=C3N=C2OC)N...</td>\n",
       "      <td>&gt;17</td>\n",
       "      <td>Unspecified</td>\n",
       "      <td>xét nghiệm dựa trên huỳnh quang</td>\n",
       "    </tr>\n",
       "  </tbody>\n",
       "</table>\n",
       "</div>"
      ],
      "text/plain": [
       "   STT   Finder      AID        CID  \\\n",
       "0  116  Kim Anh  1548727  155525662   \n",
       "1  810  Anh Thư  1762488  164629157   \n",
       "2   83  Kim Anh  1765325  164627790   \n",
       "3  770  Anh Thư  1759721  164627737   \n",
       "4  740  Anh Thư  1759719  164627737   \n",
       "\n",
       "                                              SMILES IC50 (uM)     ACTIVITY  \\\n",
       "0  CC1=C(C2=CC=CC=C2N1)CCNCC3=CC=C(C=C3)C=CC(=O)N...     4.214       Active   \n",
       "1  CSC1=CC2=C(C=C1)SC3=CC=CC=C3N2CC4=CC=C(C=C4)C(...      0.68       Active   \n",
       "2  CCN1C(=NN=C1SCC2=CC=C(C=C2)C(=O)NC3=CC=CC=C3N)...     40.07  Unspecified   \n",
       "3  CCCCC[C@@H](C1=NC=C(N1)C2=CC3=CC=CC=C3N=C2OC)N...       >40  Unspecified   \n",
       "4  CCCCC[C@@H](C1=NC=C(N1)C2=CC3=CC=CC=C3N=C2OC)N...       >17  Unspecified   \n",
       "\n",
       "                                  PP THU  \n",
       "0                 Xét nghiệm huỳnh quang  \n",
       "1        xét nghiệm dựa trên huỳnh quang  \n",
       "2  Xét nghiệm đầu đọc vi bản huỳnh quang  \n",
       "3       xét nghiệm Steady-Glo luciferase  \n",
       "4        xét nghiệm dựa trên huỳnh quang  "
      ]
     },
     "execution_count": 48,
     "metadata": {},
     "output_type": "execute_result"
    }
   ],
   "source": [
    "dataset = pd.read_excel(\"../data_for_modeling/hdac_edit_after_meeting.xlsx\", sheet_name='original_data')\n",
    "dataset.head()"
   ]
  },
  {
   "attachments": {},
   "cell_type": "markdown",
   "metadata": {},
   "source": [
    "## Cách xử lý ban đầu"
   ]
  },
  {
   "attachments": {},
   "cell_type": "markdown",
   "metadata": {},
   "source": [
    "### 1. Ultalities defined here"
   ]
  },
  {
   "cell_type": "code",
   "execution_count": 49,
   "metadata": {},
   "outputs": [
    {
     "data": {
      "text/plain": [
       "False"
      ]
     },
     "execution_count": 49,
     "metadata": {},
     "output_type": "execute_result"
    }
   ],
   "source": [
    "def append_dataframe(dataframe, row):\n",
    "    dataframe.loc[len(dataframe.index)] = [row['STT'], row['Finder'], \n",
    "                                            row['AID'], row['CID'], row['SMILES'],\n",
    "                                            row['IC50 (uM)'], row['ACTIVITY'], row['PP THU']]\n",
    "    \n",
    "def isfloat(num):\n",
    "    try:\n",
    "        if(num == 'NaN' or len(num) == 0):\n",
    "            return False\n",
    "        float(num)\n",
    "        return True\n",
    "    except ValueError:\n",
    "        return False\n",
    "isfloat('NaN')"
   ]
  },
  {
   "attachments": {},
   "cell_type": "markdown",
   "metadata": {},
   "source": [
    "### 2. Clean the data"
   ]
  },
  {
   "cell_type": "code",
   "execution_count": 90,
   "metadata": {},
   "outputs": [
    {
     "name": "stdout",
     "output_type": "stream",
     "text": [
      "unspecified rows len before: 268\n",
      "unspecified rows len after: 247\n"
     ]
    }
   ],
   "source": [
    "# Using NumPy\n",
    "active_inactive_rows = pd.DataFrame(columns = dataset.columns)\n",
    "invalid_rows = pd.DataFrame(columns= dataset.columns)\n",
    "\n",
    "#Rows for specific labels\n",
    "active_rows = dataset.loc[dataset['ACTIVITY'] == \"Active\"]\n",
    "inactive_rows = dataset.loc[dataset['ACTIVITY'] == \"Inactive\"]\n",
    "inconclusive_rows = dataset.loc[dataset['ACTIVITY'] == \"Inconclusive\"]\n",
    "unspecified_rows = dataset.loc[dataset['ACTIVITY'] == \"Unspecified\"]\n",
    "cid_active = active_rows.loc[:, 'CID']\n",
    "cid_unspec = unspecified_rows.loc[:, 'CID']\n",
    "active_unspec_cid = np.intersect1d(cid_active, cid_unspec)\n",
    "print(\"unspecified rows len before: \" + str(len(unspecified_rows)) )\n",
    "#Filter out unspecified\n",
    "for cid in active_unspec_cid:\n",
    "    rows = unspecified_rows[unspecified_rows.CID == cid]\n",
    "    invalid_rows = invalid_rows.append(rows)\n",
    "    unspecified_rows = unspecified_rows.drop(rows.index)\n",
    "    \n",
    "print(\"unspecified rows len after: \" + str(len(unspecified_rows)) )"
   ]
  },
  {
   "cell_type": "code",
   "execution_count": 91,
   "metadata": {},
   "outputs": [
    {
     "name": "stdout",
     "output_type": "stream",
     "text": [
      "1090\n",
      "10\n",
      "71\n"
     ]
    }
   ],
   "source": [
    "invalid_rows = invalid_rows.append(inconclusive_rows)\n",
    "print(len(active_rows))\n",
    "print(len(inactive_rows))\n",
    "print(len(invalid_rows))"
   ]
  },
  {
   "attachments": {},
   "cell_type": "markdown",
   "metadata": {},
   "source": [
    "### 3. Duplicate filter"
   ]
  },
  {
   "cell_type": "code",
   "execution_count": 92,
   "metadata": {},
   "outputs": [],
   "source": [
    "final_columns = [\"STT\", \"SMILES\", \"CID\", \"AVG_IC50_uM\", \"FIRST_LABEL\", \"FINAL_LABEL\", \"DUPLICATE_COUNTS\"]\n",
    "final_rows = pd.DataFrame(columns=final_columns)\n",
    "stt = 0\n",
    "for cid in active_rows.CID.unique():\n",
    "    sub_dataset = active_rows.loc[active_rows.CID == cid]\n",
    "    avg_ic50, dup_count = 0, 0\n",
    "    for index, row in sub_dataset.iterrows():\n",
    "        avg_ic50 = avg_ic50 + float(row[\"IC50 (uM)\"])/len(sub_dataset)\n",
    "        dup_count = dup_count + 1\n",
    "    final_rows.loc[len(final_rows)] = [stt, row.SMILES, row.CID ,avg_ic50, 'Active',\n",
    "                                        {True: 'Active', False: 'Inactive'} [avg_ic50 < 1],\n",
    "                                        dup_count]\n",
    "    stt = stt + 1"
   ]
  },
  {
   "cell_type": "code",
   "execution_count": 93,
   "metadata": {},
   "outputs": [],
   "source": [
    "final_rows1 = pd.DataFrame(columns=final_columns)\n",
    "for cid in inactive_rows.CID.unique():\n",
    "    sub_dataset = inactive_rows.loc[inactive_rows.CID == cid]\n",
    "    avg_ic50, dup_count = 0, 0\n",
    "    for index, row in sub_dataset.iterrows():\n",
    "        avg_ic50 = avg_ic50 + float(row[\"IC50 (uM)\"])/len(sub_dataset)\n",
    "        dup_count = dup_count + 1\n",
    "    final_rows1.loc[len(final_rows1)] = [stt, row.SMILES, row.CID ,avg_ic50, 'Inactive',\n",
    "                                        \"Inactive\",\n",
    "                                        dup_count]"
   ]
  },
  {
   "cell_type": "code",
   "execution_count": 94,
   "metadata": {},
   "outputs": [
    {
     "data": {
      "text/plain": [
       "247"
      ]
     },
     "execution_count": 94,
     "metadata": {},
     "output_type": "execute_result"
    }
   ],
   "source": [
    "len(unspecified_rows)"
   ]
  },
  {
   "cell_type": "code",
   "execution_count": 95,
   "metadata": {},
   "outputs": [],
   "source": [
    "final_rows2 = pd.DataFrame(columns=final_columns)\n",
    "for cid in unspecified_rows.CID.unique():\n",
    "    sub_dataset = unspecified_rows.loc[unspecified_rows.CID == cid]\n",
    "    dup_count = 0\n",
    "    for index, row in sub_dataset.iterrows():\n",
    "        dup_count = dup_count + 1\n",
    "    final_rows2.loc[len(final_rows2)] = [stt, row.SMILES, row.CID ,'', 'Unspecified',\n",
    "                                        \"Inactive\",\n",
    "                                        dup_count]"
   ]
  },
  {
   "cell_type": "code",
   "execution_count": 96,
   "metadata": {},
   "outputs": [
    {
     "name": "stdout",
     "output_type": "stream",
     "text": [
      "Before appends: 0\n",
      "After appends: 993\n"
     ]
    }
   ],
   "source": [
    "final_data_to_train = pd.DataFrame(columns=final_columns)\n",
    "print(\"Before appends: \" + str(len(final_data_to_train)))\n",
    "final_data_to_train = final_data_to_train.append(final_rows)\n",
    "final_data_to_train = final_data_to_train.append(final_rows1)\n",
    "final_data_to_train = final_data_to_train.append(final_rows2)\n",
    "print(\"After appends: \" + str(len(final_data_to_train)))"
   ]
  },
  {
   "attachments": {},
   "cell_type": "markdown",
   "metadata": {},
   "source": [
    "## Write to file"
   ]
  },
  {
   "cell_type": "code",
   "execution_count": 97,
   "metadata": {},
   "outputs": [],
   "source": [
    "with pd.ExcelWriter(\"../data_for_modeling/HDAC2_data_after_filtering_raw.xlsx\") as writer:\n",
    "    dataset.to_excel(writer, sheet_name=\"Dữ liệu ban đầu\", index=False)\n",
    "    invalid_rows.to_excel(writer, sheet_name=\"Dữ liệu không hợp lệ\", index=False)\n",
    "    final_data_to_train.to_excel(writer, sheet_name=\"Dữ liệu sau khi lọc\", index=False)"
   ]
  },
  {
   "attachments": {},
   "cell_type": "markdown",
   "metadata": {},
   "source": [
    "### Đánh giá bộ dữ liệu"
   ]
  },
  {
   "cell_type": "code",
   "execution_count": 112,
   "metadata": {},
   "outputs": [
    {
     "data": {
      "image/png": "[encoded data removed]",
      "text/plain": [
       "<Figure size 640x480 with 1 Axes>"
      ]
     },
     "metadata": {},
     "output_type": "display_data"
    }
   ],
   "source": [
    "import matplotlib.pyplot as plt\n",
    "\n",
    "# Define the data\n",
    "labels = ['Active', 'Inactive']\n",
    "values = [len(final_data_to_train.loc[final_data_to_train.FINAL_LABEL == \"Active\"]), len(final_data_to_train.loc[final_data_to_train.FINAL_LABEL == \"Inactive\"])]\n",
    "\n",
    "# Create the bar chart\n",
    "plt.bar(labels, values)\n",
    "\n",
    "# Add labels on top of each column\n",
    "for i, v in enumerate(values):\n",
    "    plt.text(i, v + 10, str(v), ha='center')\n",
    "\n",
    "# Set chart title and labels\n",
    "plt.title('Number of samples based on their activity')\n",
    "plt.xlabel('Status')\n",
    "plt.ylabel('Number of Samples')\n",
    "\n",
    "# Display the chart\n",
    "plt.show()"
   ]
  },
  {
   "cell_type": "code",
   "execution_count": 113,
   "metadata": {},
   "outputs": [
    {
     "name": "stdout",
     "output_type": "stream",
     "text": [
      "[1 4 2 3 6 5 9 94 31]\n",
      "[831, 5, 120, 27, 2, 4, 2, 1, 1]\n"
     ]
    }
   ],
   "source": [
    "dup_count_unique = final_data_to_train.DUPLICATE_COUNTS.unique()\n",
    "dup_count_numbers = []\n",
    "for dup_count_number in dup_count_unique:\n",
    "    sub_dataset = final_data_to_train.loc[final_data_to_train.DUPLICATE_COUNTS == dup_count_number]\n",
    "    dup_count_numbers.append(len(sub_dataset))\n",
    "print(dup_count_unique)\n",
    "print(dup_count_numbers)"
   ]
  },
  {
   "cell_type": "code",
   "execution_count": 114,
   "metadata": {},
   "outputs": [
    {
     "data": {
      "image/png": "[encoded data removed]",
      "text/plain": [
       "<Figure size 640x480 with 1 Axes>"
      ]
     },
     "metadata": {},
     "output_type": "display_data"
    }
   ],
   "source": [
    "import matplotlib.pyplot as plt\n",
    "\n",
    "# Define the data\n",
    "labels = [1, 4, 2, 3, 6, 5, 9, 94, 31]\n",
    "values = [831, 5, 120, 27, 2, 4, 2, 1, 1]\n",
    "\n",
    "# Sort the data by labels\n",
    "labels, values = zip(*sorted(zip(labels, values)))\n",
    "\n",
    "# Create the bar chart with log scale\n",
    "plt.bar(labels, values)\n",
    "plt.yscale('log')\n",
    "\n",
    "# Add labels on top of each column\n",
    "for i, v in enumerate(values):\n",
    "    plt.text(i, v * 1.1, str(v), ha='center')\n",
    "\n",
    "# Set chart title and labels\n",
    "plt.title('Number of samples based on the number of duplicates')\n",
    "plt.xlabel('Number of duplicates')\n",
    "plt.ylabel('Number of samples (log scale)')\n",
    "\n",
    "# Display the chart\n",
    "plt.show()"
   ]
  }
 ],
 "metadata": {
  "kernelspec": {
   "display_name": "Python 3",
   "language": "python",
   "name": "python3"
  },
  "language_info": {
   "codemirror_mode": {
    "name": "ipython",
    "version": 3
   },
   "file_extension": ".py",
   "mimetype": "text/x-python",
   "name": "python",
   "nbconvert_exporter": "python",
   "pygments_lexer": "ipython3",
   "version": "3.10.10"
  },
  "orig_nbformat": 4
 },
 "nbformat": 4,
 "nbformat_minor": 2
}
