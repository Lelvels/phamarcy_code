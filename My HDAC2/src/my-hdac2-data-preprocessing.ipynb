{
 "cells": [
  {
   "cell_type": "code",
   "execution_count": 1,
   "metadata": {},
   "outputs": [],
   "source": [
    "from rdkit.Chem import AllChem\n",
    "from rdkit import Chem\n",
    "from rdkit.Chem import Descriptors, MACCSkeys\n",
    "from rdkit.ML.Descriptors import MoleculeDescriptors\n",
    "\n",
    "import pandas as pd\n",
    "import numpy as np\n",
    "import matplotlib.pyplot as plt\n",
    "import seaborn as sns\n",
    "from tabulate import tabulate\n",
    "\n",
    "from mordred import Calculator, descriptors"
   ]
  },
  {
   "cell_type": "code",
   "execution_count": 2,
   "metadata": {},
   "outputs": [],
   "source": [
    "data_version_1_path = \"../data_for_modeling/raw_data/v1/Original Data - v1 - Merge.xlsx\"\n",
    "data_version_2_path = \"../data_for_modeling/raw_data/v2/Original Data - v2 - Merge.xlsx\"\n",
    "dataset = pd.read_excel(data_version_1_path, sheet_name='original_data')"
   ]
  },
  {
   "cell_type": "code",
   "execution_count": 3,
   "metadata": {},
   "outputs": [
    {
     "data": {
      "text/plain": [
       "993"
      ]
     },
     "execution_count": 3,
     "metadata": {},
     "output_type": "execute_result"
    }
   ],
   "source": [
    "dataset_length = len(dataset)\n",
    "dataset_length"
   ]
  },
  {
   "attachments": {},
   "cell_type": "markdown",
   "metadata": {},
   "source": [
    "# Tiền xử lý dữ liệu ban đầu"
   ]
  },
  {
   "attachments": {},
   "cell_type": "markdown",
   "metadata": {},
   "source": [
    "## 1. Profile of the data"
   ]
  },
  {
   "attachments": {},
   "cell_type": "markdown",
   "metadata": {},
   "source": [
    "## 1.1. Len with Activity"
   ]
  },
  {
   "cell_type": "code",
   "execution_count": 4,
   "metadata": {},
   "outputs": [
    {
     "name": "stdout",
     "output_type": "stream",
     "text": [
      "Total dataset\n",
      "╒════════════════╤══════════╤════════════╤════════════════╤═══════════════╕\n",
      "│                │   Active │   Inactive │   Inconclusive │   Unspecified │\n",
      "╞════════════════╪══════════╪════════════╪════════════════╪═══════════════╡\n",
      "│ Number         │ 769      │   10       │              0 │      214      │\n",
      "├────────────────┼──────────┼────────────┼────────────────┼───────────────┤\n",
      "│ Percentage (%) │  77.4421 │    1.00705 │              0 │       21.5509 │\n",
      "╘════════════════╧══════════╧════════════╧════════════════╧═══════════════╛\n"
     ]
    }
   ],
   "source": [
    "#Rows for specific labels\n",
    "active_rows = dataset.loc[dataset['FIRST_LABEL'] == \"Active\"]\n",
    "inactive_rows = dataset.loc[dataset['FIRST_LABEL'] == \"Inactive\"]\n",
    "inconclusive_rows = dataset.loc[dataset['FIRST_LABEL'] == \"Inconclusive\"]\n",
    "unspecified_rows = dataset.loc[dataset['FIRST_LABEL'] == \"Unspecified\"]\n",
    "\n",
    "print(\"Total dataset\")\n",
    "table = [['', 'Active', 'Inactive', 'Inconclusive', 'Unspecified'], \n",
    "         ['Number', len(active_rows), len(inactive_rows), len(inconclusive_rows), len(unspecified_rows)],\n",
    "         ['Percentage (%)', len(active_rows)/dataset_length*100, len(inactive_rows)/dataset_length*100,\n",
    "          len(inconclusive_rows)/dataset_length*100, len(unspecified_rows)/dataset_length*100]]\n",
    "print(tabulate(table, headers='firstrow', tablefmt='fancy_grid'))\n"
   ]
  },
  {
   "cell_type": "code",
   "execution_count": 5,
   "metadata": {},
   "outputs": [
    {
     "data": {
      "text/plain": [
       "['CCN1C(=NN=C1SCC2=CC=C(C=C2)C(=O)NC3=CC=CC=C3N)C4=CC=NC=C4',\n",
       " 'CCCCC[C@@H](C1=NC=C(N1)C2=CC3=CC=CC=C3N=C2OC)NC(=O)C4CN(C4)C',\n",
       " 'C1=CC=C(C=C1)N2C(=NN=C2SCCCCCC(=O)NO)C3=CC=NC=C3',\n",
       " 'C1=CC=C(C=C1)N2C(=NN=C2SCCCCCC(=O)NC3=CC=CC=C3N)C4=CC=NC=C4',\n",
       " 'CCCCCCCC[C@@H](C1=NC=C(N1)C2=CC3=CC=CC=C3N=C2OC)NC(=O)C4CN(C4)C',\n",
       " 'C1=CC=C(C=C1)CC2C(=O)N(C(=O)N2CC3=CN=CC=C3)CC4=CC=C(C=C4)C(=O)NO',\n",
       " 'CN1C(=NN=C1SCCCCCC(=O)NC2=CC=CC=C2N)C3=CC=NC=C3',\n",
       " 'CC(C)(C)NC1=C(N=C2N1C=CC=C2)C3=CC(=CC=C3)C4=NC5=C(N4)C=C(C=C5)C6=NOC(=N6)C(F)(F)F',\n",
       " 'CCN1C(=NN=C1SCC2=CC=C(C=C2)C(=O)NO)C3=CC=NC=C3',\n",
       " 'C=CCN1C(=NN=C1SCC2=CC=C(C=C2)C(=O)NO)C3=CC=NC=C3',\n",
       " 'CCN1C(=NN=C1SCCCCCC(=O)NO)C2=CC=NC=C2',\n",
       " 'C=CCN1C(=NN=C1SCCCCCC(=O)NO)C2=CC=NC=C2',\n",
       " 'CCN1C(=NN=C1SCCCCCC(=O)O)C2=CC=NC=C2',\n",
       " 'CC[C@@H](C1=NC=C(N1)C2=CC3=CC=CC=C3N=C2OC)NC(=O)C4CN(C4)C',\n",
       " 'CN1CC(C1)C(=O)NCC2=NC=C(N2)C3=CC4=CC=CC=C4N=C3OC',\n",
       " 'C[C@@H](C1=NC=C(N1)C2=CC3=CC=CC=C3N=C2OC)NC(=O)C4CN(C4)C',\n",
       " 'C=CCN1C(=NN=C1SCCCCCC(=O)O)C2=CC=NC=C2',\n",
       " 'CN1C(=NN=C1SCC2=CC=C(C=C2)C(=O)NC3=CC=CC=C3N)C4=CC=NC=C4',\n",
       " 'CC(C)(C)NC1=C(N=C2N1C=CN=C2)C3=CC(=CC=C3)C4=NC5=C(N4)C=C(C=C5)C6=NOC(=N6)C(F)(F)F',\n",
       " 'CC(C)(C)NC1=C(N=C2N1C=CC=C2)C3=CC=C(C=C3)C4=NOC(=N4)C(F)(F)F',\n",
       " 'CCN1C(=NN=C1SCCCCCC(=O)NC2=CC=CC=C2N)C3=CC=NC=C3',\n",
       " 'CC(C)(C)NC1=C(N=C2N1C=CC=C2)C3=CC(=CC=C3)C(=O)NC4=C(C=C(C=C4)F)N',\n",
       " 'C1CCC2=NC3=CC=CC=C3C(=C2C1)NC4=CC=C(C=C4)C(=O)NO',\n",
       " 'CCSC1=CC=CC=C1C(=O)NCCCC[C@@H](C2=NC=C(N2)C3=CC4=CC=CC=C4C=C3)NC(=O)C5=CN=CS5',\n",
       " 'CN(C)C1=CC=CC=C1C(=O)NCCCC[C@@H](C2=NC=C(N2)C3=CC4=CC=CC=C4C=C3)NC(=O)C5=CN=CS5',\n",
       " 'COC1=CC=CC(=C1O)C(=O)NCCCC[C@@H](C2=NC=C(N2)C3=CC4=CC=CC=C4C=C3)NC(=O)C5=CN=CS5',\n",
       " 'COC1=C(C(=CC=C1)F)C(=O)NCCCC[C@@H](C2=NC=C(N2)C3=CC4=CC=CC=C4C=C3)NC(=O)C5=CN=CS5',\n",
       " 'COC1=CC=C(C=C1)S(=O)(=O)NC2=CC=CC=C2CCC3=CC=C(C=C3)C(=O)NC4=CC=CC=C4N',\n",
       " 'CCC1=CC=CC=C1C(=O)NCCCC[C@@H](C2=NC=C(N2)C3=CC4=CC=CC=C4C=C3)NC(=O)C5=CN=CS5',\n",
       " 'C1=CC=C2C=C(C=CC2=C1)C3=CN=C(N3)[C@H](CCCCNC(=O)C4=C(C=CC=N4)N)NC(=O)C5=CN=CS5',\n",
       " 'COC1=NC2=CC=CC=C2C=C1C3=NN=C(O3)[C@H](CCCCNC(=O)C4=CC=CC=C4SC)NC(=O)C5=CN=CS5',\n",
       " 'C1=CC=C2C=C(C=CC2=C1)C3=CN=C(N3)[C@H](CCCCNC(=O)C4=CC=CC=C4Cl)NC(=O)C5=CN=CS5',\n",
       " 'CS(=O)C1=CC=CC=C1C(=O)NCCCC[C@@H](C2=NC=C(N2)C3=CC4=CC=CC=C4C=C3)NC(=O)C5=CN=CS5',\n",
       " 'C1=CC=C2C=C(C=CC2=C1)C3=CN=C(N3)[C@H](CCCCNC(=O)C4=CC=CC=C4C#N)NC(=O)C5=CN=CS5',\n",
       " 'C1=CC=C2C(=C1)C(=C3C=CC=CC3=N2)NC4=CC=CC(=C4)C(=O)NO',\n",
       " 'C1CC1C2=CC=CC=C2C(=O)NCCCC[C@@H](C3=NC=C(N3)C4=CC5=CC=CC=C5C=C4)NC(=O)C6=CN=CS6',\n",
       " 'COC1=CC=CC(=C1C(=O)NCCCC[C@@H](C2=NC=C(N2)C3=CC4=CC=CC=C4C=C3)NC(=O)C5=CN=CS5)O',\n",
       " 'C1=CC=C2C=C(C=CC2=C1)C3=CN=C(N3)[C@H](CCCCNC(=O)C4=CC=CC=C4OC(F)(F)F)NC(=O)C5=CN=CS5',\n",
       " 'C1=CC=C2C=C(C=CC2=C1)C3=CN=C(N3)[C@H](CCCCNC(=O)C4=CC=CC=C4OCC(F)(F)F)NC(=O)C5=CN=CS5',\n",
       " 'C1=CC=C2C=C(C=CC2=C1)C3=CN=C(N3)[C@H](CCCCNC(=O)C4=CC=CC=C4N5C=CC=C5)NC(=O)C6=CN=CS6',\n",
       " 'C1=CC=C2C=C(C=CC2=C1)C3=CN=C(N3)[C@H](CCCCNC(=O)C4=CC=CC=C4S)NC(=O)C5=CN=CS5',\n",
       " 'COC1=NC2=CC=CC=C2C=C1C3=CN=C(N3)[C@H](CCCCNC(=O)C4=CC=CC=C4SC)NC(=O)C5=CN=CS5',\n",
       " 'CNC1=CC=CC=C1C(=O)NCCCC[C@@H](C2=NC=C(N2)C3=CC4=CC=CC=C4C=C3)NC(=O)C5=CN=CS5',\n",
       " 'C1CC2=C(C1)C(=CC=C2)C(=O)NCCCC[C@@H](C3=NC=C(N3)C4=CC5=CC=CC=C5C=C4)NC(=O)C6=CN=CS6',\n",
       " 'CC(C)CC(C(=O)NO)NC(=O)NCCCCCNC1=CC=C(C2=NON=C12)S(=O)(=O)N(C)C',\n",
       " 'CC1=C2C(=CC=C1)SC(=S)N3C2=NCC3',\n",
       " 'C1CN=C2C3=C(C=CC(=C3)Br)SC(=S)N2C1',\n",
       " 'CC1=CC2=C(C=C1)C3=NCCN3C(=S)S2',\n",
       " 'C1CN2C(=N1)C3=C(C=CC=C3I)SC2=S',\n",
       " 'C1CN2C(=N1)C3=C(C=C(C=C3SC2=S)Br)F',\n",
       " 'CC1=CC2=C(C=C1)SC(=S)N3C2=NCC3',\n",
       " 'C1CN2C(=N1)C3=C(C=C(C=C3)C#N)SC2=S',\n",
       " 'C1=CC=C2C(=C1)C=CC=C2NC(=O)NOCC3=CC=C(C=C3)/C=C/C(=O)NO',\n",
       " 'B1(O[C@@H]2[C@@H]3C[C@@H](C3(C)C)C[C@@]2(O1)C)[C@H](CC(C)C)NC(=O)[C@H](CC4=CC=CC=C4)NC(=O)C5=CC=CC(=C5)C(=O)NC6=CC=CC=C6N',\n",
       " 'C1CN=C2C3=C(C(=CC=C3)Cl)SC(=S)N2C1',\n",
       " 'CC1=C(C2=CC=CC=C2N1)CCNCC3=CC=C(C=C3)C=CC(=O)NN(C)C.C(=O)(C(F)(F)F)O',\n",
       " 'CN(C)C1=CC2=C(C=C1)C3=NCCN3C(=S)S2',\n",
       " 'CC1=C2C(=CC=C1)C3=NCCCN3C(=S)S2',\n",
       " 'C1CN2C(=N1)C3=C(C=CC(=C3)I)SC2=S',\n",
       " 'C1CN=C2C3=C(C=CC=C3SC(=S)N2C1)F',\n",
       " 'C1=CC=C(C=C1)NC(=O)C2=CC=C(C=C2)CNC(=O)/C=C/C3=CN=CC=C3',\n",
       " 'COC1=CC2=C(C=C1)SC(=S)N3C2=NCC3',\n",
       " 'CC1=C(C2=CC=CC=C2N1)CCNCC3=CC=C(C=C3)C=CC(=O)NN4CCCCC4.C(=O)(C(F)(F)F)O',\n",
       " 'C1CN2C(=N1)C3=C(C=CC=C3Br)SC2=S',\n",
       " 'C1=CC(=CN=C1)/C=C/C(=O)NCC2=CC=C(C=C2)C(=O)NC3=CC=C(C=C3)F',\n",
       " 'CCCNNC(=O)C1=CC=CC(=C1)CN(CCC2=C(NC3=CC=CC=C32)C)C(=O)OC(C)(C)C',\n",
       " 'C1CN=C2C3=C(C=CC=C3Cl)SC(=S)N2C1',\n",
       " 'COC1=CC2=C(C=C1)C3=NCCN3C(=S)S2',\n",
       " 'C1CN2C(=N1)C3=C(C=CC(=C3)Br)SC2=S',\n",
       " 'B1(O[C@@H]2[C@@H]3C[C@@H](C3(C)C)C[C@@]2(O1)C)[C@H](CC(C)C)NC(=O)[C@H](CC4=CC=CC=C4)NC(=O)C5=CC(=CC=C5)C(=O)NO',\n",
       " 'C1CN=C2C3=C(C=C(C=C3)C#N)SC(=S)N2C1',\n",
       " 'C1CN=C2C3=C(C=C(C=C3)Cl)SC(=S)N2C1',\n",
       " 'C1CN2C(=N1)C3=C(C=C(C=C3)Br)SC2=S',\n",
       " 'CC1=C2C(=CC=C1)C3=NCCN3C(=S)S2',\n",
       " 'B1(O[C@@H]2[C@@H]3C[C@@H](C3(C)C)C[C@@]2(O1)C)[C@H](CC(C)C)NC(=O)CNC(=O)C4=CC(=CC=C4)C(=O)NC5=CC=CC=C5N',\n",
       " 'CC1=C(C2=CC=CC=C2N1)CCNCC3=CC=C(C=C3)C=CC(=O)NNCCN.C(=O)(C(F)(F)F)O',\n",
       " 'CC1=C(C2=CC=CC=C2N1)CCNCC3=CC=C(C=C3)C=CC(=O)NN4CCCC4.C(=O)(C(F)(F)F)O',\n",
       " 'B1(O[C@@H]2[C@@H]3C[C@@H](C3(C)C)C[C@@]2(O1)C)[C@H](CC(C)C)NC(=O)[C@H](CC4=CNC5=CC=CC=C54)NC(=O)C6=CC=CC(=C6)C(=O)NC7=CC=CC=C7N',\n",
       " 'CC1=C(C2=CC=CC=C2N1)CCNCC3=CC=C(C=C3)C=CC(=O)NN(CCCO)CCCO.C(=O)(C(F)(F)F)O',\n",
       " 'C1=CC=C(C=C1)NC(=O)NOCC2=CC=C(C=C2)/C=C/C(=O)NO',\n",
       " 'C1CN2C(=N1)C3=C(C=CC(=C3)F)SC2=S',\n",
       " 'C1CN2C(=N1)C3=C(C=CC=C3Cl)SC2=S',\n",
       " 'C1CN2C(=N1)C3=C(C=C(C=C3)Cl)SC2=S',\n",
       " 'C1CN2C(=N1)C3=C(C=CC=C3SC2=S)F',\n",
       " 'C1=CC=C(C=C1)C2=NC(=CS2)C(=O)NOCC3=CC=C(C=C3)/C=C/C(=O)NO',\n",
       " 'C1CN=C2C3=C(C=CC(=C3)I)SC(=S)N2C1',\n",
       " 'CSC1=CC=CC=C1C(=O)NCCCC[C@@H](C2=NC=C(N2)C3=CC4=CC=CC=C4C=C3)NC(=O)C5=CN=CS5',\n",
       " 'C1=CC(=CC=C1CNC(=O)C2=C(C(=C(C(=C2F)F)F)F)F)C(=O)NO',\n",
       " 'C1=CC=C2C(=C1)C(=C3C=CC(=CC3=C2O)/C=C/C(=O)N=O)O',\n",
       " 'C1=CC=C(C=C1)C(CCCC(=O)NC2=CC=CC=C2)CCC(=O)NO',\n",
       " 'C1=CC=C(C=C1)CC2=NN(C(=C2)C3=CC=C(C=C3)F)CC4=CC=C(C=C4)C(=O)NO',\n",
       " 'COC1=CC=C(C=C1)NC(=O)[C@H](C2=CC=CC=C2)NS(=O)(=O)C3=CC=CC(=C3)C(=O)NO',\n",
       " 'CC1=C2C=CC(=CC2=NN1C)N(C)C3=NC(=NC=C3)NC4=CC=C(C=C4)C(=O)NCCCC(=O)NO',\n",
       " 'C1=CC=C(C=C1)CNC(=O)[C@H](C2=CC=CC=C2)NS(=O)(=O)C3=CC=CC(=C3)C(=O)NO',\n",
       " 'C1=CC=C(C=C1)NC(=O)CNS(=O)(=O)C2=CC=CC(=C2)C(=O)NO',\n",
       " 'C1=CC(=CC=C1CC(=O)NC2=CN=C(C=C2)C(=O)NC3=C(C=C(C=C3)F)N)C(F)(F)F',\n",
       " 'C1=CC=C(C=C1)NC(=O)[C@H](CC2=CNC3=CC=CC=C32)NS(=O)(=O)C4=CC=CC(=C4)C(=O)NO',\n",
       " 'C1=CC=C2C(=C1)C(=CN2)C[C@@H](C(=O)NC3=CC=C(C=C3)F)NS(=O)(=O)C4=CC=CC(=C4)C(=O)NO',\n",
       " 'C1=CC=C(C=C1)[C@@H](C(=O)NC2=CC=C(C=C2)F)NS(=O)(=O)C3=CC=CC(=C3)C(=O)NO',\n",
       " 'CC1=C2C=CC(=CC2=NN1C)N(C)C3=NC(=NC=C3)NC4=CC=C(C=C4)C(=O)NCCC(=O)NO',\n",
       " 'C1=CC=C(C=C1)CCNS(=O)(=O)C2=CC=CC(=C2)C(=O)NO',\n",
       " 'CC(C)[C@@H](C(=O)NC1=CC=CC=C1)NS(=O)(=O)C2=CC=CC(=C2)C(=O)NO',\n",
       " 'C1=CC=C2C(=C1)C(=CN2)C[C@@H](C(=O)NC3=CC=C(C=C3)Cl)NS(=O)(=O)C4=CC=CC(=C4)C(=O)NO',\n",
       " 'C1=CC(=CC=C1C2=NNC(=C2)C(=O)NCCC(=O)NO)F',\n",
       " 'C1=CC=C(C=C1)[C@@H](C(=O)NC2=CC=C(C=C2)Cl)NS(=O)(=O)C3=CC=CC(=C3)C(=O)NO',\n",
       " 'C1=CC=C(C=C1)[C@@H](C(=O)NC2=CC=CC=C2)NS(=O)(=O)C3=CC=CC(=C3)C(=O)NO',\n",
       " 'COC1=CC=C(C=C1)NC(=O)[C@H](CC2=CNC3=CC=CC=C32)NS(=O)(=O)C4=CC=CC(=C4)C(=O)NO',\n",
       " 'C[C@@H](C(=O)NC1=CC=CC=C1)NS(=O)(=O)C2=CC=CC(=C2)C(=O)NO',\n",
       " 'C1=CC=C(C=C1)CNC(=O)[C@H](CC2=CNC3=CC=CC=C32)NS(=O)(=O)C4=CC=CC(=C4)C(=O)NO',\n",
       " 'C1C(C1C(=O)NC2=CC=C(C=C2)C(=O)NC3=C(C=C(C=C3)F)N)C4=CC=CC=C4',\n",
       " 'C1COCCN1C2=C3C=CC=C4C3=C(C=C2)C(=O)N(C4=O)CCC5=CC=C(C=C5)C(=O)NO',\n",
       " 'CC[C@@H](C1=NC2=CC=CC(=C2C(=O)N1C3=CC=CC=C3)CNC4=NC=C(C=N4)C(=O)NO)NC5=NC=NC6=C5NC=N6',\n",
       " 'CC[C@@H](C1=NC2=CC=CC=C2C(=N1)CCCCC(=O)NO)NC3=NC=NC4=C3NC=N4',\n",
       " 'CC[C@@H](C1=NC2=CC=CC=C2C(=N1)CCCCCC(=O)NO)NC3=NC=NC4=C3NC=N4',\n",
       " 'CC(C)(C1=CC=CC=C1)C(=O)NC2=CC=C(C=C2)C(=O)NC3=C(C=C(C=C3)F)N',\n",
       " 'C1=CC(=CC=C1NC2=NC(=NC=C2Cl)NC3=CN(N=C3)CCCC(=O)NO)F',\n",
       " 'C1=CC(=CC=C1NC2=NC(=NC=C2Cl)NC3=CN(N=C3)CCC(=O)NO)F',\n",
       " 'C1=CC=C(C=C1)CNS(=O)(=O)C2=CC=CC(=C2)C(=O)NO',\n",
       " 'CC1=C2C=CC(=CC2=NN1C)N(C)C3=NC(=NC=C3)NC4=CC=CC(=C4)C(=O)NC5=CC=CC=C5N',\n",
       " 'CC1=C(C=C(C=C1)NC2=NC=CC(=N2)N(C)C3=CC4=NN(C(=C4C=C3)C)C)C(=O)NO',\n",
       " 'CC1=C2C=CC(=CC2=NN1C)N(C)C3=NC(=NC=C3)NC4=CC=C(C=C4)C(=O)NCCCCC(=O)NC5=CC=CC=C5N',\n",
       " 'CC1=C2C=CC(=CC2=NN1C)N(C)C3=NC(=NC=C3)NC4=CC=C(C=C4)C(=O)NCCCC(=O)NC5=CC=CC=C5N',\n",
       " 'CC1=C2C=CC(=CC2=NN1C)N(C)C3=NC(=NC=C3)NC4=CC=C(C=C4)C(=O)NCCC(=O)NC5=CC=CC=C5N',\n",
       " 'CCCCCCCCCCCCCCCCNNC(=O)C1=CC=CS1',\n",
       " 'CC1=C2C=CC(=CC2=NN1C)N(C)C3=NC(=NC=C3)NC4=CC=C(C=C4)C(=O)NCC(=O)NO',\n",
       " 'CC1=C2C=CC(=CC2=NN1C)N(C)C3=NC(=NC=C3)NC4=CC=C(C=C4)C(=O)NCC(=O)NC5=CC=CC=C5N',\n",
       " 'CC1=C2C=CC(=CC2=NN1C)N(C)C3=NC(=NC=C3)NC4=CC=CC(=C4)C(=O)NO',\n",
       " 'CC1=C2C=CC(=CC2=NN1C)N(C)C3=NC(=NC=C3)NC4=CC=C(C=C4)C(=O)NO',\n",
       " 'C1=CC=C(C=C1)C2=C(C(=O)N(N2)C3=NC(=CS3)C4=CC=C(C=C4)C(=O)O)N=NC5=NC=CS5',\n",
       " 'CN(C)C1=CC2=C(C=C1)C3=NCCCN3C(=S)S2',\n",
       " 'C1CN=C2C3=C(C=CC=C3Br)SC(=S)N2C1',\n",
       " 'C1=CC=C(C=C1)CC(CCCC(=O)NC2=CC=CC=C2)CCC(=O)NO',\n",
       " 'CCCCCCC(CCCC(=O)NC1=CC=CC=C1)CCC(=O)NO',\n",
       " 'C1=CC=C(C=C1)CC(CCCC(=O)NC2=CC=CC=C2)CCC(=O)NO',\n",
       " 'C1=CC=C(C=C1)CC(CCCC(=O)NC2=CC=CC=C2)CCC(=O)NO',\n",
       " 'CCCCC(CCCC(=O)NC1=CC=CC=C1)CCC(=O)NO',\n",
       " 'CCCCCCC(CCCCCC(=O)NC1=CC=CC=C1)C(=O)NO',\n",
       " 'CCCCCC(CCCCCC(=O)NC1=CC=CC=C1)C(=O)NO',\n",
       " 'CCCCCCC(CCCCCC(=O)NC1=CC=CC=C1)C(=O)NO',\n",
       " 'C1CN=C2C3=C(C=CC(=C3)Cl)SC(=S)N2C1',\n",
       " 'C1CN2C(=N1)C3=C(C(=CC=C3)F)SC2=S',\n",
       " 'C1CN=C2C3=C(C(=CC=C3)F)SC(=S)N2C1',\n",
       " 'C1CN2C(=N1)C3=C(C=CC(=C3)Cl)SC2=S',\n",
       " 'C1CN=C2C3=C(C=CC(=C3)F)SC(=S)N2C1',\n",
       " 'C1CN=C2C3=C(C=C(C=C3)Br)SC(=S)N2C1',\n",
       " 'CC1=C2C(=CC=C1)SC(=S)N3C2=NCCC3',\n",
       " 'CC(C)(C)OC(=O)N(C(=O)CCCCCCC(=O)N(C(=O)OC(C)(C)C)OC(=O)OC(C)(C)C)OC(=O)OC(C)(C)C',\n",
       " 'C1=CC(=CC=C1C2=NOC(=N2)CCCCCCC(=O)C(F)(F)F)F',\n",
       " 'C1=CC=C(C=C1)CONC(=O)CCCCCCC(=O)NC2=CC=CC=C2',\n",
       " 'C1CN=C2C3=C(C=CC(=C3)C(F)(F)F)SC(=S)N2C1',\n",
       " 'CC1=CC2=C(C=C1)SC(=S)N3C2=NCCC3',\n",
       " 'CC1=CC=C(O1)C2=NC3=CC(=C(C=C3C(=C2)NCC4CCN(CC4)C)OC)OCCCN5CCCC5',\n",
       " 'CC1=CC=C(O1)C2=NC3=CC(=C(C=C3C(=C2)NC4CCN(CC4)C)OC)OCCCN5CCCC5',\n",
       " 'C1=CC=C(C=C1)C[C@@H](C(=O)NO)N2C(=C(N=N2)C3=CC=CC=C3)C#CC4=CC=CC=C4',\n",
       " 'C1CC1C#CC2=C(N=NN2[C@@H](CC3=CC=CC=C3)C(=O)NO)C4=CC=CC=C4',\n",
       " 'C1=CC=C(C=C1)NCC2=CC(=CC=C2)C(=O)NO',\n",
       " 'CNC(=O)C1=CC(=CC=C1)C(=O)NO',\n",
       " 'C1=CC=C(C=C1)NC(=O)C2=CC(=CC=C2)C(=O)NO',\n",
       " 'C1=CC=C(C=C1)CNC(=O)C2=CC(=CC=C2)C(=O)NO',\n",
       " 'C1=CC(=CC(=C1)C(=O)NO)C(=O)NCCC2=CN=CC=C2',\n",
       " 'CN1CCN(CC1)CCNC(=O)C2=CC=C(C=C2)C(=O)NO',\n",
       " 'CC1=C(N(C2=CC=CC=C12)CC3=CC=C(C=C3)C(=O)NO)C',\n",
       " 'CN1CCC2=C(C1)N(C3=CC=CC=C23)CC4=CC=C(C=C4)C(=O)NO',\n",
       " 'CC(=O)C1=CC=CC(=C1)C2=CC(=C(C=C2)N)NC(=O)C3=CC=CC=C3',\n",
       " 'C1=CC=C(C=C1)C(=O)NC2=C(C=CC(=C2)C3=CC(=CC=C3)[N+](=O)[O-])N',\n",
       " 'C1=CC=C(C(=C1)N)NC(=O)CCCCCCC2=NC(=NO2)C3=CC=C(C=C3)[N+](=O)[O-]',\n",
       " 'C1=CC=C(C(=C1)C2=NOC(=N2)CCCCCCC(=O)NC3=CC=CC=C3N)Cl',\n",
       " 'C1=CC=C(C(=C1)N)NC(=O)CCCCCCC2=NC(=NO2)C3=CC=C(C=C3)C(F)(F)F',\n",
       " 'COC1=CC=C(C=C1)C2=NOC(=N2)CCCCCCC(=O)NO',\n",
       " 'C1=CC(=CC=C1CNCC2=NC(=NO2)C3=CC=C(C=C3)C(F)(F)F)C(=O)NO',\n",
       " 'C1=CSC(=C1)C2=NOC(=N2)CNCC3=CC=C(C=C3)C(=O)NO',\n",
       " 'COC1=CC=C(C=C1)C2=NOC(=N2)CNCC3=CC=C(C=C3)C(=O)NO',\n",
       " 'CC1=CC=C(C=C1)C2=NOC(=N2)CNCC3=CC=C(C=C3)C(=O)NO',\n",
       " 'C1=CC=C(C=C1)C2=NOC(=N2)CNCC3=CC=C(C=C3)C(=O)NO',\n",
       " 'C1CN=C2C3=C(C=C(C=C3)F)SC(=S)N2C1',\n",
       " 'CC1=CC2=C(C=C1)C3=NCCCN3C(=S)S2',\n",
       " 'C1CN=C2C3=CC=CC=C3SC(=S)N2C1',\n",
       " 'C1=CC=C(C=C1)/C=N/NC(=O)C2=CC(=CC=C2)C(=O)NO',\n",
       " 'C1=CC=C(C=C1)CC(CCCCCC(=O)NC2=CC=CC=C2)C(=O)NO',\n",
       " 'COC(=O)N(CCCCCCC(=O)NC1=CC=CC=C1)O',\n",
       " 'CC(=O)N(CCCCCC(=O)NC1=CC=CC=C1)O',\n",
       " 'C1=CC=C(C=C1)NC(=O)CCCCCN(C=O)O',\n",
       " 'C1=CC=C(C=C1)NC(=O)CCCCCCN(C=O)O',\n",
       " 'CC(=O)N(CCCCCCCC(=O)NC1=CC=CC=C1)O',\n",
       " 'C1=CC=C(C=C1)CCC(=O)NCCCCCN(C=O)O',\n",
       " 'C1=CC=C(C=C1)C(=O)NCCCCCN(C=O)O',\n",
       " 'C1=CC=C(C=C1)C2=CC=C(C=C2)/C=C/C=C/C(=O)NO',\n",
       " 'COC1=CC=C(C=C1)C2=CC=C(C=C2)/C=C/C=C/C(=O)NO',\n",
       " 'CN(C)C1=CC=C(C=C1)C2=CC=C(C=C2)/C=C/C(=O)NO',\n",
       " 'C1=CC(=CC=C1/C=C/C(=O)NO)C2=CC=NC=C2',\n",
       " 'C=CCOC(CCCCCCC(=O)NO)C(=O)NC1=CC=CC=C1',\n",
       " 'COC1=CC=CC(=C1)COC(CCCCCC(=O)NO)C(=O)NC2=CC=CC=C2',\n",
       " 'CC1=CC=C(C=C1)COC(CCCCCC(=O)NO)C(=O)NC2=CC=CC=C2',\n",
       " 'C1=CC=C(C=C1)NC(=O)C(CCCCCC(=O)NO)OCC2=CC=C(C=C2)Br',\n",
       " 'C1=CC=C(C=C1)NC(=O)C(CCCCCC(=O)NO)OCC2=CC=C(C=C2)C(F)(F)F',\n",
       " 'COC1=CC=C(C=C1)COC(CCCCCC(=O)NO)C(=O)NC2=CC=CC=C2',\n",
       " 'COC1=CC=C(C=C1)COC(CCCCCC(=O)NO)C(=O)NC2=CC=CC=C2',\n",
       " 'COC1=CC(=CC(=C1)COC(CCCCCC(=O)NO)C(=O)NC2=CC=CC=C2)OC',\n",
       " 'COC1=CC=C(C=C1)COC(CCCCCC(=O)NO)C(=O)NC2=CC=CC=C2',\n",
       " 'COC1=C(C=C(C=C1)NCC2=CC=C(C=C2)C(=O)NC3=C(C=C(C=C3)C4=CC=CS4)N)OC',\n",
       " 'COC1=C(C=C(C=C1)NCC2=CC=C(C=C2)C(=O)NC3=C(C=CC(=C3)C4=CC5=CC=CC=C5S4)N)OC',\n",
       " 'C1CN2C(=N1)C3=C(C(=CC=C3)Cl)SC2=S',\n",
       " 'C1CN2C(=N1)C3=CC=CC=C3SC2=S',\n",
       " 'CC(C)(C)C1=CC=C(C=C1)C(=O)NC2=CC=C(C=C2)C(=O)NO',\n",
       " 'C1=CC=C(C=C1)NS(=O)(=O)C2=CC=CC(=C2)C(=O)NO',\n",
       " 'CC1=NC=CC2=C1NC3=C2C=CC(=C3)OC',\n",
       " 'CC1=CC(=CC=C1)C(=O)NO',\n",
       " 'C1=CC=C(C=C1)C2=CSC(=N2)N3C(=O)C(=C(N3)C4=CC=CC=C4)N=NC5=NC=CS5',\n",
       " 'C1CCC(CC1)C(=O)NO',\n",
       " 'C1=CC=C(C=C1)CC(=O)NO',\n",
       " 'CCCC(CCC)C(=O)NO',\n",
       " 'C1=CC=C(C=C1)CCCC(=O)O',\n",
       " 'CCCC(CCC)C(=O)O',\n",
       " 'CCCC(=O)O']"
      ]
     },
     "execution_count": 5,
     "metadata": {},
     "output_type": "execute_result"
    }
   ],
   "source": [
    "unspecified_rows.SMILES.to_list()"
   ]
  },
  {
   "cell_type": "code",
   "execution_count": 6,
   "metadata": {},
   "outputs": [],
   "source": [
    "# Open a text file in write mode.\n",
    "with open(\"../output/other/unspecified_SMILES.txt\", \"w\") as f:\n",
    "    f.writelines(unspecified_rows.SMILES.to_list())\n",
    "    \n",
    "f.close()"
   ]
  },
  {
   "attachments": {},
   "cell_type": "markdown",
   "metadata": {},
   "source": [
    "## Find the incorrect numbers"
   ]
  },
  {
   "attachments": {},
   "cell_type": "markdown",
   "metadata": {},
   "source": [
    "### Based on number format"
   ]
  },
  {
   "cell_type": "code",
   "execution_count": 7,
   "metadata": {},
   "outputs": [
    {
     "data": {
      "text/plain": [
       "214"
      ]
     },
     "execution_count": 7,
     "metadata": {},
     "output_type": "execute_result"
    }
   ],
   "source": [
    "# Use to_numeric to identify non-float values\n",
    "is_float = pd.to_numeric(dataset['IC50 (uM)'], errors='coerce').notna()\n",
    "# Find the rows where 'IC50 (uM)' is not a float\n",
    "non_float_rows = dataset[~is_float]\n",
    "len(non_float_rows)"
   ]
  },
  {
   "attachments": {},
   "cell_type": "markdown",
   "metadata": {},
   "source": [
    "### Based on activity"
   ]
  },
  {
   "cell_type": "code",
   "execution_count": 8,
   "metadata": {},
   "outputs": [
    {
     "name": "stdout",
     "output_type": "stream",
     "text": [
      "╒════════════════╤══════════╤════════════╤════════════════╤═══════════════╕\n",
      "│                │   Active │   Inactive │   Inconclusive │   Unspecified │\n",
      "╞════════════════╪══════════╪════════════╪════════════════╪═══════════════╡\n",
      "│ Number         │        0 │   214      │              0 │             0 │\n",
      "├────────────────┼──────────┼────────────┼────────────────┼───────────────┤\n",
      "│ Percentage (%) │        0 │    21.5509 │              0 │             0 │\n",
      "╘════════════════╧══════════╧════════════╧════════════════╧═══════════════╛\n"
     ]
    }
   ],
   "source": [
    "#Find their activity\n",
    "active_non_float_rows = non_float_rows.loc[non_float_rows['ACTIVITY'] == \"Active\"]\n",
    "inactive_non_float_rows = non_float_rows.loc[non_float_rows['ACTIVITY'] == \"Inactive\"]\n",
    "inconclusive_non_float_rows = non_float_rows.loc[non_float_rows['ACTIVITY'] == \"Inconclusive\"]\n",
    "unspecified_non_float_rows = non_float_rows.loc[non_float_rows['ACTIVITY'] == \"Unspecified\"]\n",
    "#len\n",
    "len_anf = len(active_non_float_rows)\n",
    "len_ianf = len(inactive_non_float_rows)\n",
    "len_inf = len(inconclusive_non_float_rows)\n",
    "len_unf = len(unspecified_non_float_rows)\n",
    "#table with status \n",
    "table_nf_activity = [['', 'Active', 'Inactive', 'Inconclusive', 'Unspecified'], \n",
    "         ['Number', len_anf, len_ianf, len_inf, len_unf],\n",
    "         ['Percentage (%)', len_anf/dataset_length*100, len_ianf/dataset_length*100,\n",
    "          len_inf/dataset_length*100, len_unf/dataset_length*100]]\n",
    "\n",
    "print(tabulate(table_nf_activity, headers='firstrow', tablefmt='fancy_grid'))"
   ]
  },
  {
   "attachments": {},
   "cell_type": "markdown",
   "metadata": {},
   "source": [
    "### Nhãn mâu thuận"
   ]
  },
  {
   "cell_type": "code",
   "execution_count": 9,
   "metadata": {},
   "outputs": [
    {
     "name": "stdout",
     "output_type": "stream",
     "text": [
      "0 0 0 0 0 0\n"
     ]
    }
   ],
   "source": [
    "cid_active = active_rows.loc[:, 'CID']\n",
    "cid_inactive = inactive_rows.loc[:, 'CID']\n",
    "cid_incon = inconclusive_rows.loc[:, 'CID']\n",
    "cid_unspec = unspecified_rows.loc[:, 'CID']\n",
    "\n",
    "ac_inac_cid = np.intersect1d(cid_active, cid_inactive)\n",
    "ac_incon_cid = np.intersect1d(cid_active, cid_incon)\n",
    "ac_unspec_cid = np.intersect1d(cid_active, cid_unspec)\n",
    "\n",
    "inac_incon_cid = np.intersect1d(cid_inactive, cid_incon)\n",
    "incon_unspec_cid = np.intersect1d(cid_incon, cid_unspec)\n",
    "inac_unspec_cid = np.intersect1d(cid_inactive, cid_unspec)\n",
    "print(len(ac_inac_cid), \n",
    "      len(ac_incon_cid), \n",
    "      len(ac_unspec_cid), \n",
    "      len(inac_incon_cid), \n",
    "      len(incon_unspec_cid), \n",
    "      len(inac_unspec_cid))"
   ]
  },
  {
   "cell_type": "code",
   "execution_count": 10,
   "metadata": {},
   "outputs": [],
   "source": [
    "def append_dataframe(dataframe, row):\n",
    "    dataframe.loc[len(dataframe.index)] = [row['CID'], row['SMILES'],\n",
    "                                            row['IC50 (uM)'], row['ACTIVITY']]"
   ]
  },
  {
   "attachments": {},
   "cell_type": "markdown",
   "metadata": {},
   "source": [
    "### Add the unspecified invalid rows"
   ]
  },
  {
   "cell_type": "code",
   "execution_count": 11,
   "metadata": {},
   "outputs": [
    {
     "name": "stdout",
     "output_type": "stream",
     "text": [
      "unspecified rows len after filter unspec in active: 214\n",
      "unspecified rows len after filter unspec in inactive: 214\n"
     ]
    }
   ],
   "source": [
    "#---Active rows----#\n",
    "invalid_rows = pd.DataFrame(columns= dataset.columns)\n",
    "\n",
    "#Filter out unspecified\n",
    "for cid in ac_unspec_cid:\n",
    "    rows = unspecified_rows[unspecified_rows.CID == cid]\n",
    "    invalid_rows = pd.concat([invalid_rows, rows], ignore_index=False)\n",
    "    unspecified_rows = unspecified_rows.drop(rows.index)\n",
    "    \n",
    "print(\"unspecified rows len after filter unspec in active: \" + str(len(unspecified_rows)) )\n",
    "\n",
    "#---Inactive rows----#\n",
    "for cid in inac_unspec_cid:\n",
    "    rows = unspecified_rows[unspecified_rows.CID == cid]\n",
    "    invalid_rows = pd.concat([invalid_rows, rows], ignore_index=False)\n",
    "    unspecified_rows = unspecified_rows.drop(rows.index)\n",
    "\n",
    "print(\"unspecified rows len after filter unspec in inactive: \" + str(len(unspecified_rows)))"
   ]
  },
  {
   "attachments": {},
   "cell_type": "markdown",
   "metadata": {},
   "source": [
    "### Remove the inconclusive rows"
   ]
  },
  {
   "cell_type": "code",
   "execution_count": 12,
   "metadata": {},
   "outputs": [
    {
     "name": "stdout",
     "output_type": "stream",
     "text": [
      "769\n",
      "10\n",
      "0\n"
     ]
    }
   ],
   "source": [
    "invalid_rows = pd.concat([invalid_rows, inconclusive_rows], ignore_index=False)\n",
    "print(len(active_rows))\n",
    "print(len(inactive_rows))\n",
    "print(len(invalid_rows))"
   ]
  },
  {
   "attachments": {},
   "cell_type": "markdown",
   "metadata": {},
   "source": [
    "### 3. Duplicate filter"
   ]
  },
  {
   "cell_type": "code",
   "execution_count": 13,
   "metadata": {},
   "outputs": [],
   "source": [
    "final_columns = [\"STT\", \"SMILES\", \"CID\", \"AVG_IC50_uM\", \"FIRST_LABEL\", \"FINAL_LABEL\", \"DUPLICATE_COUNTS\"]\n",
    "final_rows = pd.DataFrame(columns=final_columns)\n",
    "stt = 0\n",
    "for cid in active_rows.CID.unique():\n",
    "    sub_dataset = active_rows.loc[active_rows.CID == cid]\n",
    "    avg_ic50, dup_count = 0, 0\n",
    "    for index, row in sub_dataset.iterrows():\n",
    "        avg_ic50 = avg_ic50 + float(row[\"IC50 (uM)\"])/len(sub_dataset)\n",
    "        dup_count = dup_count + 1\n",
    "    final_rows.loc[len(final_rows)] = [stt, row.SMILES, row.CID ,avg_ic50, 'Active',\n",
    "                                        {True: 'Active', False: 'Inactive'} [avg_ic50 < 1],\n",
    "                                        dup_count]\n",
    "    stt = stt + 1"
   ]
  },
  {
   "cell_type": "code",
   "execution_count": 14,
   "metadata": {},
   "outputs": [],
   "source": [
    "final_rows1 = pd.DataFrame(columns=final_columns)\n",
    "for cid in inactive_rows.CID.unique():\n",
    "    sub_dataset = inactive_rows.loc[inactive_rows.CID == cid]\n",
    "    avg_ic50, dup_count = 0, 0\n",
    "    for index, row in sub_dataset.iterrows():\n",
    "        avg_ic50 = avg_ic50 + float(row[\"IC50 (uM)\"])/len(sub_dataset)\n",
    "        dup_count = dup_count + 1\n",
    "    final_rows1.loc[len(final_rows1)] = [stt, row.SMILES, row.CID ,avg_ic50, 'Inactive',\n",
    "                                        \"Inactive\",\n",
    "                                        dup_count]"
   ]
  },
  {
   "cell_type": "code",
   "execution_count": 15,
   "metadata": {},
   "outputs": [
    {
     "data": {
      "text/plain": [
       "214"
      ]
     },
     "execution_count": 15,
     "metadata": {},
     "output_type": "execute_result"
    }
   ],
   "source": [
    "len(unspecified_rows)"
   ]
  },
  {
   "cell_type": "code",
   "execution_count": 16,
   "metadata": {},
   "outputs": [],
   "source": [
    "final_rows2 = pd.DataFrame(columns=final_columns)\n",
    "for cid in unspecified_rows.CID.unique():\n",
    "    sub_dataset = unspecified_rows.loc[unspecified_rows.CID == cid]\n",
    "    dup_count = 0\n",
    "    for index, row in sub_dataset.iterrows():\n",
    "        dup_count = dup_count + 1\n",
    "    final_rows2.loc[len(final_rows2)] = [stt, row.SMILES, row.CID ,'', 'Unspecified',\n",
    "                                        \"Inactive\",\n",
    "                                        dup_count]"
   ]
  },
  {
   "cell_type": "code",
   "execution_count": 17,
   "metadata": {},
   "outputs": [
    {
     "name": "stdout",
     "output_type": "stream",
     "text": [
      "Before appends: 0\n",
      "After appends: 993\n"
     ]
    }
   ],
   "source": [
    "final_data_to_train = pd.DataFrame(columns=final_columns)\n",
    "print(\"Before appends: \" + str(len(final_data_to_train)))\n",
    "final_data_to_train = pd.concat([final_data_to_train, final_rows], ignore_index=False)\n",
    "final_data_to_train = pd.concat([final_data_to_train, final_rows1], ignore_index=False)\n",
    "final_data_to_train = pd.concat([final_data_to_train, final_rows2], ignore_index=False)\n",
    "print(\"After appends: \" + str(len(final_data_to_train)))"
   ]
  },
  {
   "attachments": {},
   "cell_type": "markdown",
   "metadata": {},
   "source": [
    "## Cannocal Smile filter"
   ]
  },
  {
   "cell_type": "code",
   "execution_count": 18,
   "metadata": {},
   "outputs": [],
   "source": [
    "def canonical_smiles(smiles):\n",
    "    mols = [Chem.MolFromSmiles(smi) for smi in smiles]\n",
    "    smiles = [Chem.MolToSmiles(mol) for mol in mols]\n",
    "    return smiles"
   ]
  },
  {
   "cell_type": "code",
   "execution_count": 19,
   "metadata": {},
   "outputs": [
    {
     "data": {
      "text/html": [
       "<div>\n",
       "<style scoped>\n",
       "    .dataframe tbody tr th:only-of-type {\n",
       "        vertical-align: middle;\n",
       "    }\n",
       "\n",
       "    .dataframe tbody tr th {\n",
       "        vertical-align: top;\n",
       "    }\n",
       "\n",
       "    .dataframe thead th {\n",
       "        text-align: right;\n",
       "    }\n",
       "</style>\n",
       "<table border=\"1\" class=\"dataframe\">\n",
       "  <thead>\n",
       "    <tr style=\"text-align: right;\">\n",
       "      <th></th>\n",
       "      <th>STT</th>\n",
       "      <th>SMILES</th>\n",
       "      <th>CID</th>\n",
       "      <th>IC50 (uM)</th>\n",
       "      <th>FIRST_LABEL</th>\n",
       "      <th>ACTIVITY</th>\n",
       "      <th>DUPLICATE_COUNTS</th>\n",
       "    </tr>\n",
       "  </thead>\n",
       "  <tbody>\n",
       "    <tr>\n",
       "      <th>0</th>\n",
       "      <td>0</td>\n",
       "      <td>CC1=C(C2=CC=CC=C2N1)CCNCC3=CC=C(C=C3)C=CC(=O)N...</td>\n",
       "      <td>155525662</td>\n",
       "      <td>4.21400</td>\n",
       "      <td>Active</td>\n",
       "      <td>Inactive</td>\n",
       "      <td>1</td>\n",
       "    </tr>\n",
       "    <tr>\n",
       "      <th>1</th>\n",
       "      <td>1</td>\n",
       "      <td>CSC1=CC2=C(C=C1)SC3=CC=CC=C3N2CC4=CC=C(C=C4)C(...</td>\n",
       "      <td>164629157</td>\n",
       "      <td>0.68000</td>\n",
       "      <td>Active</td>\n",
       "      <td>Active</td>\n",
       "      <td>1</td>\n",
       "    </tr>\n",
       "    <tr>\n",
       "      <th>2</th>\n",
       "      <td>2</td>\n",
       "      <td>C1=CC=C2C(=C1)N(C3=C(S2=O)C=CC(=C3)C(F)(F)F)CC...</td>\n",
       "      <td>164627475</td>\n",
       "      <td>2.12000</td>\n",
       "      <td>Active</td>\n",
       "      <td>Inactive</td>\n",
       "      <td>1</td>\n",
       "    </tr>\n",
       "    <tr>\n",
       "      <th>3</th>\n",
       "      <td>3</td>\n",
       "      <td>CC(C)(C)OC(=O)NC1=CC=C(C=C1)C2=CC(=NO2)NC(=O)C...</td>\n",
       "      <td>164627446</td>\n",
       "      <td>0.25200</td>\n",
       "      <td>Active</td>\n",
       "      <td>Active</td>\n",
       "      <td>1</td>\n",
       "    </tr>\n",
       "    <tr>\n",
       "      <th>4</th>\n",
       "      <td>4</td>\n",
       "      <td>CCCC[C@@H](C1=NC=C(N1)C2=CC3=CC=CC=C3N=C2OC)NC...</td>\n",
       "      <td>164627330</td>\n",
       "      <td>2.00525</td>\n",
       "      <td>Active</td>\n",
       "      <td>Inactive</td>\n",
       "      <td>4</td>\n",
       "    </tr>\n",
       "  </tbody>\n",
       "</table>\n",
       "</div>"
      ],
      "text/plain": [
       "   STT                                             SMILES        CID  \\\n",
       "0    0  CC1=C(C2=CC=CC=C2N1)CCNCC3=CC=C(C=C3)C=CC(=O)N...  155525662   \n",
       "1    1  CSC1=CC2=C(C=C1)SC3=CC=CC=C3N2CC4=CC=C(C=C4)C(...  164629157   \n",
       "2    2  C1=CC=C2C(=C1)N(C3=C(S2=O)C=CC(=C3)C(F)(F)F)CC...  164627475   \n",
       "3    3  CC(C)(C)OC(=O)NC1=CC=C(C=C1)C2=CC(=NO2)NC(=O)C...  164627446   \n",
       "4    4  CCCC[C@@H](C1=NC=C(N1)C2=CC3=CC=CC=C3N=C2OC)NC...  164627330   \n",
       "\n",
       "   IC50 (uM) FIRST_LABEL  ACTIVITY  DUPLICATE_COUNTS  \n",
       "0    4.21400      Active  Inactive                 1  \n",
       "1    0.68000      Active    Active                 1  \n",
       "2    2.12000      Active  Inactive                 1  \n",
       "3    0.25200      Active    Active                 1  \n",
       "4    2.00525      Active  Inactive                 4  "
      ]
     },
     "execution_count": 19,
     "metadata": {},
     "output_type": "execute_result"
    }
   ],
   "source": [
    "final_data_to_train = dataset\n",
    "final_data_to_train.head()"
   ]
  },
  {
   "cell_type": "code",
   "execution_count": 26,
   "metadata": {},
   "outputs": [],
   "source": [
    "Canon_SMILES = canonical_smiles(dataset.SMILES)\n",
    "dataset['SMILES'] = Canon_SMILES\n",
    "duplicates_smiles = final_data_to_train[final_data_to_train['SMILES'].duplicated()]['SMILES'].values"
   ]
  },
  {
   "cell_type": "code",
   "execution_count": 27,
   "metadata": {},
   "outputs": [
    {
     "data": {
      "text/plain": [
       "array(['CC(Nc1ccccc1)c1ccc(C(=O)Nc2ccccc2N)cc1',\n",
       "       'CC(Nc1ccccc1)c1ccc(C(=O)Nc2ccccc2N)cc1',\n",
       "       'O=C1CCC=CCCC(=O)N(Cc2cccc(C=NNC(=O)c3cccc(C(=O)NO)c3)c2)CC(c2ccccc2)O1',\n",
       "       'CC(C)C1NC(=O)C2(C)CSC(=N2)c2csc(n2)CNC(=O)CC(C(F)=CCCS)OC1=O',\n",
       "       'O=C(CCC(CCCC(=O)Nc1ccccc1)Cc1ccccc1)NO',\n",
       "       'O=C(CCC(CCCC(=O)Nc1ccccc1)Cc1ccccc1)NO',\n",
       "       'CCCCCCC(CCCCCC(=O)Nc1ccccc1)C(=O)NO',\n",
       "       'COc1ccc(COC(CCCCCC(=O)NO)C(=O)Nc2ccccc2)cc1',\n",
       "       'COc1ccc(COC(CCCCCC(=O)NO)C(=O)Nc2ccccc2)cc1'], dtype=object)"
      ]
     },
     "execution_count": 27,
     "metadata": {},
     "output_type": "execute_result"
    }
   ],
   "source": [
    "len(duplicates_smiles)\n",
    "duplicates_smiles"
   ]
  },
  {
   "cell_type": "code",
   "execution_count": 22,
   "metadata": {},
   "outputs": [
    {
     "data": {
      "text/plain": [
       "9"
      ]
     },
     "execution_count": 22,
     "metadata": {},
     "output_type": "execute_result"
    }
   ],
   "source": [
    "len(duplicates_smiles)"
   ]
  },
  {
   "cell_type": "code",
   "execution_count": 28,
   "metadata": {},
   "outputs": [],
   "source": [
    "my_rows = []\n",
    "for smiles in duplicates_smiles:\n",
    "    sub_dataset_dup_smiles = dataset[dataset.SMILES == smiles]\n",
    "    for row in sub_dataset_dup_smiles.iterrows():\n",
    "        my_rows.append(row)"
   ]
  },
  {
   "attachments": {},
   "cell_type": "markdown",
   "metadata": {},
   "source": [
    "## Write to file"
   ]
  },
  {
   "cell_type": "code",
   "execution_count": 28,
   "metadata": {},
   "outputs": [],
   "source": [
    "with pd.ExcelWriter(\"../data_for_modeling/filter_data/v2/HDAC2_data_after_filtering_raw_v2.xlsx\") as writer:\n",
    "    invalid_rows.to_excel(writer, sheet_name=\"invalid_data\", index=False)\n",
    "    final_data_to_train.to_excel(writer, sheet_name=\"final_data\", index=False)"
   ]
  },
  {
   "attachments": {},
   "cell_type": "markdown",
   "metadata": {},
   "source": [
    "### Đánh giá bộ dữ liệu"
   ]
  },
  {
   "cell_type": "code",
   "execution_count": 48,
   "metadata": {},
   "outputs": [
    {
     "data": {
      "image/png": "[encoded data removed]",
      "text/plain": [
       "<Figure size 640x480 with 1 Axes>"
      ]
     },
     "metadata": {},
     "output_type": "display_data"
    }
   ],
   "source": [
    "import matplotlib.pyplot as plt\n",
    "\n",
    "# Define the data\n",
    "labels = ['Active', 'Inactive']\n",
    "values = [len(final_data_to_train.loc[final_data_to_train.ACTIVITY == \"Active\"]), len(final_data_to_train.loc[final_data_to_train.ACTIVITY == \"Inactive\"])]\n",
    "\n",
    "# Create the bar chart\n",
    "plt.bar(labels, values)\n",
    "\n",
    "# Add labels on top of each column\n",
    "for i, v in enumerate(values):\n",
    "    plt.text(i, v + 10, str(v), ha='center')\n",
    "\n",
    "# Set chart title and labels\n",
    "plt.title('Number of samples based on their activity')\n",
    "plt.xlabel('Status')\n",
    "plt.ylabel('Number of Samples')\n",
    "\n",
    "# Display the chart\n",
    "plt.show()"
   ]
  },
  {
   "cell_type": "code",
   "execution_count": 30,
   "metadata": {},
   "outputs": [
    {
     "name": "stdout",
     "output_type": "stream",
     "text": [
      "[5 2 4 1 12 7 164 6 41 11 3 8 16 9 18 17 10]\n",
      "[3, 505, 43, 1197, 4, 3, 1, 14, 1, 3, 45, 2, 1, 2, 1, 1, 1]\n"
     ]
    }
   ],
   "source": [
    "dup_count_unique = final_data_to_train.DUPLICATE_COUNTS.unique()\n",
    "dup_count_numbers = []\n",
    "for dup_count_number in dup_count_unique:\n",
    "    sub_dataset = final_data_to_train.loc[final_data_to_train.DUPLICATE_COUNTS == dup_count_number]\n",
    "    dup_count_numbers.append(len(sub_dataset))\n",
    "print(dup_count_unique)\n",
    "print(dup_count_numbers)"
   ]
  },
  {
   "cell_type": "code",
   "execution_count": 33,
   "metadata": {},
   "outputs": [
    {
     "name": "stdout",
     "output_type": "stream",
     "text": [
      "    unique_numbers  appear_numbers\n",
      "3                1            1197\n",
      "1                2             505\n",
      "10               3              45\n",
      "2                4              43\n",
      "0                5               3\n",
      "7                6              14\n",
      "5                7               3\n",
      "11               8               2\n",
      "13               9               2\n",
      "16              10               1\n",
      "9               11               3\n",
      "4               12               4\n",
      "12              16               1\n",
      "15              17               1\n",
      "14              18               1\n",
      "8               41               1\n",
      "6              164               1\n"
     ]
    }
   ],
   "source": [
    "unique_numbers = [5, 2, 4, 1, 12, 7, 164, 6, 41, 11, 3, 8, 16, 9, 18, 17, 10]\n",
    "appear_numbers = [3, 505, 43, 1197, 4, 3, 1, 14, 1, 3, 45, 2, 1, 2, 1, 1, 1]\n",
    "\n",
    "data = {'unique_numbers': unique_numbers, 'appear_numbers': appear_numbers}\n",
    "df = pd.DataFrame(data)\n",
    "\n",
    "df = df.sort_values('unique_numbers')\n",
    "print(df)"
   ]
  }
 ],
 "metadata": {
  "kernelspec": {
   "display_name": "Python 3",
   "language": "python",
   "name": "python3"
  },
  "language_info": {
   "codemirror_mode": {
    "name": "ipython",
    "version": 3
   },
   "file_extension": ".py",
   "mimetype": "text/x-python",
   "name": "python",
   "nbconvert_exporter": "python",
   "pygments_lexer": "ipython3",
   "version": "3.10.11"
  },
  "orig_nbformat": 4
 },
 "nbformat": 4,
 "nbformat_minor": 2
}
