{
 "cells": [
  {
   "cell_type": "code",
   "execution_count": 1,
   "metadata": {},
   "outputs": [],
   "source": [
    "from rdkit.Chem import AllChem\n",
    "from rdkit import Chem\n",
    "from rdkit.Chem import Descriptors, MACCSkeys\n",
    "from rdkit.ML.Descriptors import MoleculeDescriptors\n",
    "\n",
    "import pandas as pd\n",
    "import numpy as np\n",
    "import matplotlib.pyplot as plt\n",
    "import seaborn as sns\n",
    "from tabulate import tabulate\n",
    "\n",
    "from mordred import Calculator, descriptors"
   ]
  },
  {
   "cell_type": "code",
   "execution_count": 2,
   "metadata": {},
   "outputs": [],
   "source": [
    "data_version_1_path = \"../data_for_modeling/raw_data/v1/HDAC2_data_after_filtering_raw.xlsx\"\n",
    "data_version_2_path = \"../data_for_modeling/raw_data/v2/Original Data - v2 - Merge.xlsx\"\n",
    "dataset = pd.read_excel(data_version_2_path, sheet_name='original_data')"
   ]
  },
  {
   "cell_type": "code",
   "execution_count": 3,
   "metadata": {},
   "outputs": [
    {
     "data": {
      "text/plain": [
       "3214"
      ]
     },
     "execution_count": 3,
     "metadata": {},
     "output_type": "execute_result"
    }
   ],
   "source": [
    "dataset_length = len(dataset)\n",
    "dataset_length"
   ]
  },
  {
   "attachments": {},
   "cell_type": "markdown",
   "metadata": {},
   "source": [
    "# Tiền xử lý dữ liệu ban đầu"
   ]
  },
  {
   "attachments": {},
   "cell_type": "markdown",
   "metadata": {},
   "source": [
    "## 1. Profile of the data"
   ]
  },
  {
   "attachments": {},
   "cell_type": "markdown",
   "metadata": {},
   "source": [
    "## 1.1. Len with Activity"
   ]
  },
  {
   "cell_type": "code",
   "execution_count": 4,
   "metadata": {},
   "outputs": [
    {
     "name": "stdout",
     "output_type": "stream",
     "text": [
      "Total dataset\n",
      "╒════════════════╤═══════════╤════════════╤════════════════╤═══════════════╕\n",
      "│                │    Active │   Inactive │   Inconclusive │   Unspecified │\n",
      "╞════════════════╪═══════════╪════════════╪════════════════╪═══════════════╡\n",
      "│ Number         │ 2243      │  15        │       97       │      858      │\n",
      "├────────────────┼───────────┼────────────┼────────────────┼───────────────┤\n",
      "│ Percentage (%) │   69.7884 │   0.466708 │        3.01805 │       26.6957 │\n",
      "╘════════════════╧═══════════╧════════════╧════════════════╧═══════════════╛\n"
     ]
    }
   ],
   "source": [
    "#Rows for specific labels\n",
    "active_rows = dataset.loc[dataset['ACTIVITY'] == \"Active\"]\n",
    "inactive_rows = dataset.loc[dataset['ACTIVITY'] == \"Inactive\"]\n",
    "inconclusive_rows = dataset.loc[dataset['ACTIVITY'] == \"Inconclusive\"]\n",
    "unspecified_rows = dataset.loc[dataset['ACTIVITY'] == \"Unspecified\"]\n",
    "\n",
    "print(\"Total dataset\")\n",
    "table = [['', 'Active', 'Inactive', 'Inconclusive', 'Unspecified'], \n",
    "         ['Number', len(active_rows), len(inactive_rows), len(inconclusive_rows), len(unspecified_rows)],\n",
    "         ['Percentage (%)', len(active_rows)/dataset_length*100, len(inactive_rows)/dataset_length*100,\n",
    "          len(inconclusive_rows)/dataset_length*100, len(unspecified_rows)/dataset_length*100]]\n",
    "print(tabulate(table, headers='firstrow', tablefmt='fancy_grid'))\n"
   ]
  },
  {
   "attachments": {},
   "cell_type": "markdown",
   "metadata": {},
   "source": [
    "## Find the incorrect numbers"
   ]
  },
  {
   "attachments": {},
   "cell_type": "markdown",
   "metadata": {},
   "source": [
    "### Based on number format"
   ]
  },
  {
   "cell_type": "code",
   "execution_count": 5,
   "metadata": {},
   "outputs": [
    {
     "data": {
      "text/plain": [
       "110"
      ]
     },
     "execution_count": 5,
     "metadata": {},
     "output_type": "execute_result"
    }
   ],
   "source": [
    "# Use to_numeric to identify non-float values\n",
    "is_float = pd.to_numeric(dataset['IC50 (uM)'], errors='coerce').notna()\n",
    "# Find the rows where 'IC50 (uM)' is not a float\n",
    "non_float_rows = dataset[~is_float]\n",
    "len(non_float_rows)"
   ]
  },
  {
   "attachments": {},
   "cell_type": "markdown",
   "metadata": {},
   "source": [
    "### Based on activity"
   ]
  },
  {
   "cell_type": "code",
   "execution_count": 6,
   "metadata": {},
   "outputs": [
    {
     "name": "stdout",
     "output_type": "stream",
     "text": [
      "╒════════════════╤══════════╤════════════╤════════════════╤═══════════════╕\n",
      "│                │   Active │   Inactive │   Inconclusive │   Unspecified │\n",
      "╞════════════════╪══════════╪════════════╪════════════════╪═══════════════╡\n",
      "│ Number         │        0 │   8        │       97       │      5        │\n",
      "├────────────────┼──────────┼────────────┼────────────────┼───────────────┤\n",
      "│ Percentage (%) │        0 │   0.248911 │        3.01805 │      0.155569 │\n",
      "╘════════════════╧══════════╧════════════╧════════════════╧═══════════════╛\n"
     ]
    }
   ],
   "source": [
    "#Find their activity\n",
    "active_non_float_rows = non_float_rows.loc[non_float_rows['ACTIVITY'] == \"Active\"]\n",
    "inactive_non_float_rows = non_float_rows.loc[non_float_rows['ACTIVITY'] == \"Inactive\"]\n",
    "inconclusive_non_float_rows = non_float_rows.loc[non_float_rows['ACTIVITY'] == \"Inconclusive\"]\n",
    "unspecified_non_float_rows = non_float_rows.loc[non_float_rows['ACTIVITY'] == \"Unspecified\"]\n",
    "#len\n",
    "len_anf = len(active_non_float_rows)\n",
    "len_ianf = len(inactive_non_float_rows)\n",
    "len_inf = len(inconclusive_non_float_rows)\n",
    "len_unf = len(unspecified_non_float_rows)\n",
    "#table with status \n",
    "table_nf_activity = [['', 'Active', 'Inactive', 'Inconclusive', 'Unspecified'], \n",
    "         ['Number', len_anf, len_ianf, len_inf, len_unf],\n",
    "         ['Percentage (%)', len_anf/dataset_length*100, len_ianf/dataset_length*100,\n",
    "          len_inf/dataset_length*100, len_unf/dataset_length*100]]\n",
    "\n",
    "print(tabulate(table_nf_activity, headers='firstrow', tablefmt='fancy_grid'))"
   ]
  },
  {
   "attachments": {},
   "cell_type": "markdown",
   "metadata": {},
   "source": [
    "### Nhãn mâu thuận"
   ]
  },
  {
   "cell_type": "code",
   "execution_count": 10,
   "metadata": {},
   "outputs": [
    {
     "name": "stdout",
     "output_type": "stream",
     "text": [
      "0 9 48 2 2 2\n"
     ]
    }
   ],
   "source": [
    "cid_active = active_rows.loc[:, 'CID']\n",
    "cid_inactive = inactive_rows.loc[:, 'CID']\n",
    "cid_incon = inconclusive_rows.loc[:, 'CID']\n",
    "cid_unspec = unspecified_rows.loc[:, 'CID']\n",
    "\n",
    "ac_inac_cid = np.intersect1d(cid_active, cid_inactive)\n",
    "ac_incon_cid = np.intersect1d(cid_active, cid_incon)\n",
    "ac_unspec_cid = np.intersect1d(cid_active, cid_unspec)\n",
    "\n",
    "inac_incon_cid = np.intersect1d(cid_inactive, cid_incon)\n",
    "incon_unspec_cid = np.intersect1d(cid_incon, cid_unspec)\n",
    "inac_unspec_cid = np.intersect1d(cid_inactive, cid_unspec)\n",
    "print(len(ac_inac_cid), \n",
    "      len(ac_incon_cid), \n",
    "      len(ac_unspec_cid), \n",
    "      len(inac_incon_cid), \n",
    "      len(incon_unspec_cid), \n",
    "      len(inac_unspec_cid))"
   ]
  },
  {
   "attachments": {},
   "cell_type": "markdown",
   "metadata": {},
   "source": [
    "## Get rid of the operators"
   ]
  },
  {
   "cell_type": "code",
   "execution_count": 12,
   "metadata": {},
   "outputs": [],
   "source": [
    "def append_dataframe(dataframe, row):\n",
    "    dataframe.loc[len(dataframe.index)] = [row['CID'], row['SMILES'],\n",
    "                                            row['IC50 (uM)'], row['ACTIVITY']]"
   ]
  },
  {
   "attachments": {},
   "cell_type": "markdown",
   "metadata": {},
   "source": [
    "### Add the unspecified invalid rows"
   ]
  },
  {
   "cell_type": "code",
   "execution_count": 18,
   "metadata": {},
   "outputs": [
    {
     "name": "stdout",
     "output_type": "stream",
     "text": [
      "unspecified rows len after filter unspec in active: 759\n",
      "unspecified rows len after filter unspec in inactive: 757\n"
     ]
    }
   ],
   "source": [
    "#---Active rows----#\n",
    "invalid_rows = pd.DataFrame(columns= dataset.columns)\n",
    "\n",
    "#Filter out unspecified\n",
    "for cid in ac_unspec_cid:\n",
    "    rows = unspecified_rows[unspecified_rows.CID == cid]\n",
    "    invalid_rows = pd.concat([invalid_rows, rows], ignore_index=False)\n",
    "    unspecified_rows = unspecified_rows.drop(rows.index)\n",
    "    \n",
    "print(\"unspecified rows len after filter unspec in active: \" + str(len(unspecified_rows)) )\n",
    "\n",
    "#---Inactive rows----#\n",
    "for cid in inac_unspec_cid:\n",
    "    rows = unspecified_rows[unspecified_rows.CID == cid]\n",
    "    invalid_rows = pd.concat([invalid_rows, rows], ignore_index=False)\n",
    "    unspecified_rows = unspecified_rows.drop(rows.index)\n",
    "\n",
    "print(\"unspecified rows len after filter unspec in inactive: \" + str(len(unspecified_rows)))"
   ]
  },
  {
   "attachments": {},
   "cell_type": "markdown",
   "metadata": {},
   "source": [
    "### Remove the inconclusive rows"
   ]
  },
  {
   "cell_type": "code",
   "execution_count": 19,
   "metadata": {},
   "outputs": [
    {
     "name": "stdout",
     "output_type": "stream",
     "text": [
      "2243\n",
      "15\n",
      "99\n"
     ]
    }
   ],
   "source": [
    "invalid_rows = pd.concat([invalid_rows, inconclusive_rows], ignore_index=False)\n",
    "print(len(active_rows))\n",
    "print(len(inactive_rows))\n",
    "print(len(invalid_rows))"
   ]
  },
  {
   "attachments": {},
   "cell_type": "markdown",
   "metadata": {},
   "source": [
    "### 3. Duplicate filter"
   ]
  },
  {
   "cell_type": "code",
   "execution_count": 20,
   "metadata": {},
   "outputs": [],
   "source": [
    "final_columns = [\"STT\", \"SMILES\", \"CID\", \"AVG_IC50_uM\", \"FIRST_LABEL\", \"FINAL_LABEL\", \"DUPLICATE_COUNTS\"]\n",
    "final_rows = pd.DataFrame(columns=final_columns)\n",
    "stt = 0\n",
    "for cid in active_rows.CID.unique():\n",
    "    sub_dataset = active_rows.loc[active_rows.CID == cid]\n",
    "    avg_ic50, dup_count = 0, 0\n",
    "    for index, row in sub_dataset.iterrows():\n",
    "        avg_ic50 = avg_ic50 + float(row[\"IC50 (uM)\"])/len(sub_dataset)\n",
    "        dup_count = dup_count + 1\n",
    "    final_rows.loc[len(final_rows)] = [stt, row.SMILES, row.CID ,avg_ic50, 'Active',\n",
    "                                        {True: 'Active', False: 'Inactive'} [avg_ic50 < 1],\n",
    "                                        dup_count]\n",
    "    stt = stt + 1"
   ]
  },
  {
   "cell_type": "code",
   "execution_count": 21,
   "metadata": {},
   "outputs": [],
   "source": [
    "final_rows1 = pd.DataFrame(columns=final_columns)\n",
    "for cid in inactive_rows.CID.unique():\n",
    "    sub_dataset = inactive_rows.loc[inactive_rows.CID == cid]\n",
    "    avg_ic50, dup_count = 0, 0\n",
    "    for index, row in sub_dataset.iterrows():\n",
    "        avg_ic50 = avg_ic50 + float(row[\"IC50 (uM)\"])/len(sub_dataset)\n",
    "        dup_count = dup_count + 1\n",
    "    final_rows1.loc[len(final_rows1)] = [stt, row.SMILES, row.CID ,avg_ic50, 'Inactive',\n",
    "                                        \"Inactive\",\n",
    "                                        dup_count]"
   ]
  },
  {
   "cell_type": "code",
   "execution_count": 22,
   "metadata": {},
   "outputs": [
    {
     "data": {
      "text/plain": [
       "757"
      ]
     },
     "execution_count": 22,
     "metadata": {},
     "output_type": "execute_result"
    }
   ],
   "source": [
    "len(unspecified_rows)"
   ]
  },
  {
   "cell_type": "code",
   "execution_count": 23,
   "metadata": {},
   "outputs": [],
   "source": [
    "final_rows2 = pd.DataFrame(columns=final_columns)\n",
    "for cid in unspecified_rows.CID.unique():\n",
    "    sub_dataset = unspecified_rows.loc[unspecified_rows.CID == cid]\n",
    "    dup_count = 0\n",
    "    for index, row in sub_dataset.iterrows():\n",
    "        dup_count = dup_count + 1\n",
    "    final_rows2.loc[len(final_rows2)] = [stt, row.SMILES, row.CID ,'', 'Unspecified',\n",
    "                                        \"Inactive\",\n",
    "                                        dup_count]"
   ]
  },
  {
   "cell_type": "code",
   "execution_count": 24,
   "metadata": {},
   "outputs": [
    {
     "name": "stdout",
     "output_type": "stream",
     "text": [
      "Before appends: 0\n",
      "After appends: 1827\n"
     ]
    }
   ],
   "source": [
    "final_data_to_train = pd.DataFrame(columns=final_columns)\n",
    "print(\"Before appends: \" + str(len(final_data_to_train)))\n",
    "final_data_to_train = pd.concat([final_data_to_train, final_rows], ignore_index=False)\n",
    "final_data_to_train = pd.concat([final_data_to_train, final_rows1], ignore_index=False)\n",
    "final_data_to_train = pd.concat([final_data_to_train, final_rows2], ignore_index=False)\n",
    "print(\"After appends: \" + str(len(final_data_to_train)))"
   ]
  },
  {
   "attachments": {},
   "cell_type": "markdown",
   "metadata": {},
   "source": [
    "## Cannocal Smile filter"
   ]
  },
  {
   "cell_type": "code",
   "execution_count": 25,
   "metadata": {},
   "outputs": [],
   "source": [
    "def canonical_smiles(smiles):\n",
    "    mols = [Chem.MolFromSmiles(smi) for smi in smiles]\n",
    "    smiles = [Chem.MolToSmiles(mol) for mol in mols]\n",
    "    return smiles"
   ]
  },
  {
   "cell_type": "code",
   "execution_count": 26,
   "metadata": {},
   "outputs": [],
   "source": [
    "Canon_SMILES = canonical_smiles(dataset.SMILES)\n",
    "dataset['SMILES'] = Canon_SMILES\n",
    "duplicates_smiles = final_data_to_train[final_data_to_train['SMILES'].duplicated()]['SMILES'].values"
   ]
  },
  {
   "cell_type": "code",
   "execution_count": 27,
   "metadata": {},
   "outputs": [
    {
     "data": {
      "text/plain": [
       "array([], dtype=object)"
      ]
     },
     "execution_count": 27,
     "metadata": {},
     "output_type": "execute_result"
    }
   ],
   "source": [
    "len(duplicates_smiles)\n",
    "duplicates_smiles"
   ]
  },
  {
   "attachments": {},
   "cell_type": "markdown",
   "metadata": {},
   "source": [
    "## Write to file"
   ]
  },
  {
   "cell_type": "code",
   "execution_count": 28,
   "metadata": {},
   "outputs": [],
   "source": [
    "with pd.ExcelWriter(\"../data_for_modeling/filter_data/v2/HDAC2_data_after_filtering_raw_v2.xlsx\") as writer:\n",
    "    invalid_rows.to_excel(writer, sheet_name=\"invalid_data\", index=False)\n",
    "    final_data_to_train.to_excel(writer, sheet_name=\"final_data\", index=False)"
   ]
  },
  {
   "attachments": {},
   "cell_type": "markdown",
   "metadata": {},
   "source": [
    "### Đánh giá bộ dữ liệu"
   ]
  },
  {
   "cell_type": "code",
   "execution_count": 29,
   "metadata": {},
   "outputs": [
    {
     "data": {
      "image/png": "[encoded data removed]",
      "text/plain": [
       "<Figure size 640x480 with 1 Axes>"
      ]
     },
     "metadata": {},
     "output_type": "display_data"
    }
   ],
   "source": [
    "import matplotlib.pyplot as plt\n",
    "\n",
    "# Define the data\n",
    "labels = ['Active', 'Inactive']\n",
    "values = [len(final_data_to_train.loc[final_data_to_train.FINAL_LABEL == \"Active\"]), len(final_data_to_train.loc[final_data_to_train.FINAL_LABEL == \"Inactive\"])]\n",
    "\n",
    "# Create the bar chart\n",
    "plt.bar(labels, values)\n",
    "\n",
    "# Add labels on top of each column\n",
    "for i, v in enumerate(values):\n",
    "    plt.text(i, v + 10, str(v), ha='center')\n",
    "\n",
    "# Set chart title and labels\n",
    "plt.title('Number of samples based on their activity')\n",
    "plt.xlabel('Status')\n",
    "plt.ylabel('Number of Samples')\n",
    "\n",
    "# Display the chart\n",
    "plt.show()"
   ]
  },
  {
   "cell_type": "code",
   "execution_count": 30,
   "metadata": {},
   "outputs": [
    {
     "name": "stdout",
     "output_type": "stream",
     "text": [
      "[5 2 4 1 12 7 164 6 41 11 3 8 16 9 18 17 10]\n",
      "[3, 505, 43, 1197, 4, 3, 1, 14, 1, 3, 45, 2, 1, 2, 1, 1, 1]\n"
     ]
    }
   ],
   "source": [
    "dup_count_unique = final_data_to_train.DUPLICATE_COUNTS.unique()\n",
    "dup_count_numbers = []\n",
    "for dup_count_number in dup_count_unique:\n",
    "    sub_dataset = final_data_to_train.loc[final_data_to_train.DUPLICATE_COUNTS == dup_count_number]\n",
    "    dup_count_numbers.append(len(sub_dataset))\n",
    "print(dup_count_unique)\n",
    "print(dup_count_numbers)"
   ]
  },
  {
   "cell_type": "code",
   "execution_count": 33,
   "metadata": {},
   "outputs": [
    {
     "name": "stdout",
     "output_type": "stream",
     "text": [
      "    unique_numbers  appear_numbers\n",
      "3                1            1197\n",
      "1                2             505\n",
      "10               3              45\n",
      "2                4              43\n",
      "0                5               3\n",
      "7                6              14\n",
      "5                7               3\n",
      "11               8               2\n",
      "13               9               2\n",
      "16              10               1\n",
      "9               11               3\n",
      "4               12               4\n",
      "12              16               1\n",
      "15              17               1\n",
      "14              18               1\n",
      "8               41               1\n",
      "6              164               1\n"
     ]
    }
   ],
   "source": [
    "unique_numbers = [5, 2, 4, 1, 12, 7, 164, 6, 41, 11, 3, 8, 16, 9, 18, 17, 10]\n",
    "appear_numbers = [3, 505, 43, 1197, 4, 3, 1, 14, 1, 3, 45, 2, 1, 2, 1, 1, 1]\n",
    "\n",
    "data = {'unique_numbers': unique_numbers, 'appear_numbers': appear_numbers}\n",
    "df = pd.DataFrame(data)\n",
    "\n",
    "df = df.sort_values('unique_numbers')\n",
    "print(df)"
   ]
  }
 ],
 "metadata": {
  "kernelspec": {
   "display_name": "Python 3",
   "language": "python",
   "name": "python3"
  },
  "language_info": {
   "codemirror_mode": {
    "name": "ipython",
    "version": 3
   },
   "file_extension": ".py",
   "mimetype": "text/x-python",
   "name": "python",
   "nbconvert_exporter": "python",
   "pygments_lexer": "ipython3",
   "version": "3.11.3"
  },
  "orig_nbformat": 4
 },
 "nbformat": 4,
 "nbformat_minor": 2
}
