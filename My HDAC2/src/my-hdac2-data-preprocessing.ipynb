{
 "cells": [
  {
   "cell_type": "code",
   "execution_count": 124,
   "metadata": {},
   "outputs": [],
   "source": [
    "from rdkit.Chem import AllChem\n",
    "from rdkit import Chem\n",
    "from rdkit.Chem import Descriptors, MACCSkeys\n",
    "from rdkit.ML.Descriptors import MoleculeDescriptors\n",
    "\n",
    "import pandas as pd\n",
    "import numpy as np\n",
    "import matplotlib.pyplot as plt\n",
    "import seaborn as sns\n",
    "from tabulate import tabulate\n",
    "\n",
    "from mordred import Calculator, descriptors"
   ]
  },
  {
   "cell_type": "code",
   "execution_count": 125,
   "metadata": {},
   "outputs": [],
   "source": [
    "data_version_1_path = \"../data_for_modeling/raw_data/v1/HDAC2_data_after_filtering_raw.xlsx\"\n",
    "data_version_2_path = \"../data_for_modeling/raw_data/v2/Original Data - v2 - Merge.xlsx\"\n",
    "dataset = pd.read_excel(data_version_2_path, sheet_name='original_data')"
   ]
  },
  {
   "cell_type": "code",
   "execution_count": 126,
   "metadata": {},
   "outputs": [
    {
     "data": {
      "text/plain": [
       "3214"
      ]
     },
     "execution_count": 126,
     "metadata": {},
     "output_type": "execute_result"
    }
   ],
   "source": [
    "dataset_length = len(dataset)\n",
    "dataset_length"
   ]
  },
  {
   "attachments": {},
   "cell_type": "markdown",
   "metadata": {},
   "source": [
    "# Tiền xử lý dữ liệu ban đầu"
   ]
  },
  {
   "attachments": {},
   "cell_type": "markdown",
   "metadata": {},
   "source": [
    "## 1. Profile of the data"
   ]
  },
  {
   "attachments": {},
   "cell_type": "markdown",
   "metadata": {},
   "source": [
    "## 1.1. Len with Activity"
   ]
  },
  {
   "cell_type": "code",
   "execution_count": 127,
   "metadata": {},
   "outputs": [
    {
     "name": "stdout",
     "output_type": "stream",
     "text": [
      "Total dataset\n",
      "╒════════════════╤═══════════╤════════════╤════════════════╤═══════════════╕\n",
      "│                │    Active │   Inactive │   Inconclusive │   Unspecified │\n",
      "╞════════════════╪═══════════╪════════════╪════════════════╪═══════════════╡\n",
      "│ Number         │ 2243      │  15        │       97       │      858      │\n",
      "├────────────────┼───────────┼────────────┼────────────────┼───────────────┤\n",
      "│ Percentage (%) │   69.7884 │   0.466708 │        3.01805 │       26.6957 │\n",
      "╘════════════════╧═══════════╧════════════╧════════════════╧═══════════════╛\n"
     ]
    }
   ],
   "source": [
    "#Rows for specific labels\n",
    "active_rows = dataset.loc[dataset['ACTIVITY'] == \"Active\"]\n",
    "inactive_rows = dataset.loc[dataset['ACTIVITY'] == \"Inactive\"]\n",
    "inconclusive_rows = dataset.loc[dataset['ACTIVITY'] == \"Inconclusive\"]\n",
    "unspecified_rows = dataset.loc[dataset['ACTIVITY'] == \"Unspecified\"]\n",
    "\n",
    "print(\"Total dataset\")\n",
    "table = [['', 'Active', 'Inactive', 'Inconclusive', 'Unspecified'], \n",
    "         ['Number', len(active_rows), len(inactive_rows), len(inconclusive_rows), len(unspecified_rows)],\n",
    "         ['Percentage (%)', len(active_rows)/dataset_length*100, len(inactive_rows)/dataset_length*100,\n",
    "          len(inconclusive_rows)/dataset_length*100, len(unspecified_rows)/dataset_length*100]]\n",
    "print(tabulate(table, headers='firstrow', tablefmt='fancy_grid'))\n"
   ]
  },
  {
   "attachments": {},
   "cell_type": "markdown",
   "metadata": {},
   "source": [
    "## Find the incorrect numbers"
   ]
  },
  {
   "cell_type": "markdown",
   "metadata": {},
   "source": [
    "### Based on number format"
   ]
  },
  {
   "cell_type": "code",
   "execution_count": 128,
   "metadata": {},
   "outputs": [
    {
     "data": {
      "text/plain": [
       "110"
      ]
     },
     "execution_count": 128,
     "metadata": {},
     "output_type": "execute_result"
    }
   ],
   "source": [
    "# Use to_numeric to identify non-float values\n",
    "is_float = pd.to_numeric(dataset['IC50 (uM)'], errors='coerce').notna()\n",
    "# Find the rows where 'IC50 (uM)' is not a float\n",
    "non_float_rows = dataset[~is_float]\n",
    "len(non_float_rows)"
   ]
  },
  {
   "attachments": {},
   "cell_type": "markdown",
   "metadata": {},
   "source": [
    "### Based on activity"
   ]
  },
  {
   "cell_type": "code",
   "execution_count": 129,
   "metadata": {},
   "outputs": [
    {
     "name": "stdout",
     "output_type": "stream",
     "text": [
      "╒════════════════╤══════════╤════════════╤════════════════╤═══════════════╕\n",
      "│                │   Active │   Inactive │   Inconclusive │   Unspecified │\n",
      "╞════════════════╪══════════╪════════════╪════════════════╪═══════════════╡\n",
      "│ Number         │        0 │   8        │       97       │      5        │\n",
      "├────────────────┼──────────┼────────────┼────────────────┼───────────────┤\n",
      "│ Percentage (%) │        0 │   0.248911 │        3.01805 │      0.155569 │\n",
      "╘════════════════╧══════════╧════════════╧════════════════╧═══════════════╛\n"
     ]
    }
   ],
   "source": [
    "#Find their activity\n",
    "active_non_float_rows = non_float_rows.loc[non_float_rows['ACTIVITY'] == \"Active\"]\n",
    "inactive_non_float_rows = non_float_rows.loc[non_float_rows['ACTIVITY'] == \"Inactive\"]\n",
    "inconclusive_non_float_rows = non_float_rows.loc[non_float_rows['ACTIVITY'] == \"Inconclusive\"]\n",
    "unspecified_non_float_rows = non_float_rows.loc[non_float_rows['ACTIVITY'] == \"Unspecified\"]\n",
    "#len\n",
    "len_anf = len(active_non_float_rows)\n",
    "len_ianf = len(inactive_non_float_rows)\n",
    "len_inf = len(inconclusive_non_float_rows)\n",
    "len_unf = len(unspecified_non_float_rows)\n",
    "#table with status \n",
    "table_nf_activity = [['', 'Active', 'Inactive', 'Inconclusive', 'Unspecified'], \n",
    "         ['Number', len_anf, len_ianf, len_inf, len_unf],\n",
    "         ['Percentage (%)', len_anf/dataset_length*100, len_ianf/dataset_length*100,\n",
    "          len_inf/dataset_length*100, len_unf/dataset_length*100]]\n",
    "\n",
    "print(tabulate(table_nf_activity, headers='firstrow', tablefmt='fancy_grid'))"
   ]
  },
  {
   "attachments": {},
   "cell_type": "markdown",
   "metadata": {},
   "source": [
    "### Nhãn mâu thuận"
   ]
  },
  {
   "cell_type": "code",
   "execution_count": 130,
   "metadata": {},
   "outputs": [
    {
     "data": {
      "text/plain": [
       "48"
      ]
     },
     "execution_count": 130,
     "metadata": {},
     "output_type": "execute_result"
    }
   ],
   "source": [
    "cid_active = active_rows.loc[:, 'CID']\n",
    "cid_inactive = inactive_rows.loc[:, 'CID']\n",
    "cid_incon = inconclusive_rows.loc[:, 'CID']\n",
    "cid_unspec = unspecified_rows.loc[:, 'CID']\n",
    "active_unspec_cid = np.intersect1d(cid_active, cid_unspec)\n",
    "len(active_unspec_cid)"
   ]
  },
  {
   "cell_type": "code",
   "execution_count": 131,
   "metadata": {},
   "outputs": [
    {
     "name": "stdout",
     "output_type": "stream",
     "text": [
      "0 9 48 2 2 2\n"
     ]
    }
   ],
   "source": [
    "ac_inac_cid = np.intersect1d(cid_active, cid_inactive)\n",
    "ac_incon_cid = np.intersect1d(cid_active, cid_incon)\n",
    "ac_unspec_cid = np.intersect1d(cid_active, cid_unspec)\n",
    "\n",
    "inac_incon_cid = np.intersect1d(cid_inactive, cid_incon)\n",
    "incon_unspec_cid = np.intersect1d(cid_incon, cid_unspec)\n",
    "inac_unspec_cid = np.intersect1d(cid_inactive, cid_unspec)\n",
    "print(len(ac_inac_cid), \n",
    "      len(ac_incon_cid), \n",
    "      len(ac_unspec_cid), \n",
    "      len(inac_incon_cid), \n",
    "      len(incon_unspec_cid), \n",
    "      len(inac_unspec_cid))"
   ]
  },
  {
   "attachments": {},
   "cell_type": "markdown",
   "metadata": {},
   "source": [
    "## Get rid of the operators"
   ]
  },
  {
   "cell_type": "code",
   "execution_count": 132,
   "metadata": {},
   "outputs": [],
   "source": [
    "def append_dataframe(dataframe, row):\n",
    "    dataframe.loc[len(dataframe.index)] = [row['CID'], row['SMILES'],\n",
    "                                            row['IC50 (uM)'], row['ACTIVITY']]"
   ]
  },
  {
   "cell_type": "code",
   "execution_count": 133,
   "metadata": {},
   "outputs": [
    {
     "name": "stdout",
     "output_type": "stream",
     "text": [
      "unspecified rows len after: 759\n"
     ]
    }
   ],
   "source": [
    "# Using NumPy\n",
    "active_inactive_rows = pd.DataFrame(columns = dataset.columns)\n",
    "invalid_rows = pd.DataFrame(columns= dataset.columns)\n",
    "\n",
    "#Filter out unspecified\n",
    "for cid in active_unspec_cid:\n",
    "    rows = unspecified_rows[unspecified_rows.CID == cid]\n",
    "    invalid_rows = pd.concat([invalid_rows, rows], ignore_index=False)\n",
    "    unspecified_rows = unspecified_rows.drop(rows.index)\n",
    "    \n",
    "print(\"unspecified rows len after: \" + str(len(unspecified_rows)) )"
   ]
  },
  {
   "cell_type": "code",
   "execution_count": 134,
   "metadata": {},
   "outputs": [
    {
     "name": "stdout",
     "output_type": "stream",
     "text": [
      "2243\n",
      "15\n",
      "196\n"
     ]
    }
   ],
   "source": [
    "invalid_rows = pd.concat([invalid_rows, inconclusive_rows], ignore_index=False)\n",
    "print(len(active_rows))\n",
    "print(len(inactive_rows))\n",
    "print(len(invalid_rows))"
   ]
  },
  {
   "attachments": {},
   "cell_type": "markdown",
   "metadata": {},
   "source": [
    "### 3. Duplicate filter"
   ]
  },
  {
   "cell_type": "code",
   "execution_count": 135,
   "metadata": {},
   "outputs": [],
   "source": [
    "final_columns = [\"STT\", \"SMILES\", \"CID\", \"AVG_IC50_uM\", \"FIRST_LABEL\", \"FINAL_LABEL\", \"DUPLICATE_COUNTS\"]\n",
    "final_rows = pd.DataFrame(columns=final_columns)\n",
    "stt = 0\n",
    "for cid in active_rows.CID.unique():\n",
    "    sub_dataset = active_rows.loc[active_rows.CID == cid]\n",
    "    avg_ic50, dup_count = 0, 0\n",
    "    for index, row in sub_dataset.iterrows():\n",
    "        avg_ic50 = avg_ic50 + float(row[\"IC50 (uM)\"])/len(sub_dataset)\n",
    "        dup_count = dup_count + 1\n",
    "    final_rows.loc[len(final_rows)] = [stt, row.SMILES, row.CID ,avg_ic50, 'Active',\n",
    "                                        {True: 'Active', False: 'Inactive'} [avg_ic50 < 1],\n",
    "                                        dup_count]\n",
    "    stt = stt + 1"
   ]
  },
  {
   "cell_type": "code",
   "execution_count": 136,
   "metadata": {},
   "outputs": [],
   "source": [
    "final_rows1 = pd.DataFrame(columns=final_columns)\n",
    "for cid in inactive_rows.CID.unique():\n",
    "    sub_dataset = inactive_rows.loc[inactive_rows.CID == cid]\n",
    "    avg_ic50, dup_count = 0, 0\n",
    "    for index, row in sub_dataset.iterrows():\n",
    "        avg_ic50 = avg_ic50 + float(row[\"IC50 (uM)\"])/len(sub_dataset)\n",
    "        dup_count = dup_count + 1\n",
    "    final_rows1.loc[len(final_rows1)] = [stt, row.SMILES, row.CID ,avg_ic50, 'Inactive',\n",
    "                                        \"Inactive\",\n",
    "                                        dup_count]"
   ]
  },
  {
   "cell_type": "code",
   "execution_count": 137,
   "metadata": {},
   "outputs": [
    {
     "data": {
      "text/plain": [
       "759"
      ]
     },
     "execution_count": 137,
     "metadata": {},
     "output_type": "execute_result"
    }
   ],
   "source": [
    "len(unspecified_rows)"
   ]
  },
  {
   "cell_type": "code",
   "execution_count": 138,
   "metadata": {},
   "outputs": [],
   "source": [
    "final_rows2 = pd.DataFrame(columns=final_columns)\n",
    "for cid in unspecified_rows.CID.unique():\n",
    "    sub_dataset = unspecified_rows.loc[unspecified_rows.CID == cid]\n",
    "    dup_count = 0\n",
    "    for index, row in sub_dataset.iterrows():\n",
    "        dup_count = dup_count + 1\n",
    "    final_rows2.loc[len(final_rows2)] = [stt, row.SMILES, row.CID ,'', 'Unspecified',\n",
    "                                        \"Inactive\",\n",
    "                                        dup_count]"
   ]
  },
  {
   "cell_type": "code",
   "execution_count": 139,
   "metadata": {},
   "outputs": [
    {
     "name": "stdout",
     "output_type": "stream",
     "text": [
      "Before appends: 0\n",
      "After appends: 1829\n"
     ]
    }
   ],
   "source": [
    "final_data_to_train = pd.DataFrame(columns=final_columns)\n",
    "print(\"Before appends: \" + str(len(final_data_to_train)))\n",
    "final_data_to_train = pd.concat([final_data_to_train, final_rows], ignore_index=False)\n",
    "final_data_to_train = pd.concat([final_data_to_train, final_rows1], ignore_index=False)\n",
    "final_data_to_train = pd.concat([final_data_to_train, final_rows2], ignore_index=False)\n",
    "print(\"After appends: \" + str(len(final_data_to_train)))"
   ]
  },
  {
   "attachments": {},
   "cell_type": "markdown",
   "metadata": {},
   "source": [
    "## Cannocal Smile filter"
   ]
  },
  {
   "cell_type": "code",
   "execution_count": 140,
   "metadata": {},
   "outputs": [],
   "source": [
    "def canonical_smiles(smiles):\n",
    "    mols = [Chem.MolFromSmiles(smi) for smi in smiles]\n",
    "    smiles = [Chem.MolToSmiles(mol) for mol in mols]\n",
    "    return smiles"
   ]
  },
  {
   "cell_type": "code",
   "execution_count": 141,
   "metadata": {},
   "outputs": [],
   "source": [
    "Canon_SMILES = canonical_smiles(dataset.SMILES)\n",
    "dataset['SMILES'] = Canon_SMILES\n",
    "duplicates_smiles = final_data_to_train[final_data_to_train['SMILES'].duplicated()]['SMILES'].values"
   ]
  },
  {
   "cell_type": "code",
   "execution_count": 144,
   "metadata": {},
   "outputs": [
    {
     "data": {
      "text/plain": [
       "array(['CN1C=C(C=N1)/C=C/C(=O)NC2=C(C=C(C=C2)F)N',\n",
       "       'CC1=NC(=CO1)/C=C/C(=O)NC2=CC=CC=C2N'], dtype=object)"
      ]
     },
     "execution_count": 144,
     "metadata": {},
     "output_type": "execute_result"
    }
   ],
   "source": [
    "len(duplicates_smiles)\n",
    "duplicates_smiles"
   ]
  },
  {
   "attachments": {},
   "cell_type": "markdown",
   "metadata": {},
   "source": [
    "## Write to file"
   ]
  },
  {
   "cell_type": "code",
   "execution_count": 146,
   "metadata": {},
   "outputs": [],
   "source": [
    "with pd.ExcelWriter(\"../data_for_modeling/filter_data/v2/HDAC2_data_after_filtering_raw_v2.xlsx\") as writer:\n",
    "    invalid_rows.to_excel(writer, sheet_name=\"invalid_data\", index=False)\n",
    "    final_data_to_train.to_excel(writer, sheet_name=\"final_data\", index=False)"
   ]
  },
  {
   "attachments": {},
   "cell_type": "markdown",
   "metadata": {},
   "source": [
    "### Đánh giá bộ dữ liệu"
   ]
  },
  {
   "cell_type": "code",
   "execution_count": null,
   "metadata": {},
   "outputs": [
    {
     "ename": "AttributeError",
     "evalue": "'DataFrame' object has no attribute 'FINAL_LABEL'",
     "output_type": "error",
     "traceback": [
      "\u001b[1;31m---------------------------------------------------------------------------\u001b[0m",
      "\u001b[1;31mAttributeError\u001b[0m                            Traceback (most recent call last)",
      "\u001b[1;32md:\\Code\\MachineLearning\\JupyterNotebook\\Pharmacy\\My HDAC2\\src\\my-hdac2-data-preprocessing.ipynb Cell 33\u001b[0m in \u001b[0;36m5\n\u001b[0;32m      <a href='vscode-notebook-cell:/d%3A/Code/MachineLearning/JupyterNotebook/Pharmacy/My%20HDAC2/src/my-hdac2-data-preprocessing.ipynb#X46sZmlsZQ%3D%3D?line=2'>3</a>\u001b[0m \u001b[39m# Define the data\u001b[39;00m\n\u001b[0;32m      <a href='vscode-notebook-cell:/d%3A/Code/MachineLearning/JupyterNotebook/Pharmacy/My%20HDAC2/src/my-hdac2-data-preprocessing.ipynb#X46sZmlsZQ%3D%3D?line=3'>4</a>\u001b[0m labels \u001b[39m=\u001b[39m [\u001b[39m'\u001b[39m\u001b[39mActive\u001b[39m\u001b[39m'\u001b[39m, \u001b[39m'\u001b[39m\u001b[39mInactive\u001b[39m\u001b[39m'\u001b[39m]\n\u001b[1;32m----> <a href='vscode-notebook-cell:/d%3A/Code/MachineLearning/JupyterNotebook/Pharmacy/My%20HDAC2/src/my-hdac2-data-preprocessing.ipynb#X46sZmlsZQ%3D%3D?line=4'>5</a>\u001b[0m values \u001b[39m=\u001b[39m [\u001b[39mlen\u001b[39m(final_data_to_train\u001b[39m.\u001b[39mloc[final_data_to_train\u001b[39m.\u001b[39mFINAL_LABEL \u001b[39m==\u001b[39m \u001b[39m\"\u001b[39m\u001b[39mActive\u001b[39m\u001b[39m\"\u001b[39m]), \u001b[39mlen\u001b[39m(final_data_to_train\u001b[39m.\u001b[39mloc[final_data_to_train\u001b[39m.\u001b[39mFINAL_LABEL \u001b[39m==\u001b[39m \u001b[39m\"\u001b[39m\u001b[39mInactive\u001b[39m\u001b[39m\"\u001b[39m])]\n\u001b[0;32m      <a href='vscode-notebook-cell:/d%3A/Code/MachineLearning/JupyterNotebook/Pharmacy/My%20HDAC2/src/my-hdac2-data-preprocessing.ipynb#X46sZmlsZQ%3D%3D?line=6'>7</a>\u001b[0m \u001b[39m# Create the bar chart\u001b[39;00m\n\u001b[0;32m      <a href='vscode-notebook-cell:/d%3A/Code/MachineLearning/JupyterNotebook/Pharmacy/My%20HDAC2/src/my-hdac2-data-preprocessing.ipynb#X46sZmlsZQ%3D%3D?line=7'>8</a>\u001b[0m plt\u001b[39m.\u001b[39mbar(labels, values)\n",
      "File \u001b[1;32m~\\AppData\\Local\\Packages\\PythonSoftwareFoundation.Python.3.10_qbz5n2kfra8p0\\LocalCache\\local-packages\\Python310\\site-packages\\pandas\\core\\generic.py:5487\u001b[0m, in \u001b[0;36mNDFrame.__getattr__\u001b[1;34m(self, name)\u001b[0m\n\u001b[0;32m   5480\u001b[0m \u001b[39mif\u001b[39;00m (\n\u001b[0;32m   5481\u001b[0m     name \u001b[39mnot\u001b[39;00m \u001b[39min\u001b[39;00m \u001b[39mself\u001b[39m\u001b[39m.\u001b[39m_internal_names_set\n\u001b[0;32m   5482\u001b[0m     \u001b[39mand\u001b[39;00m name \u001b[39mnot\u001b[39;00m \u001b[39min\u001b[39;00m \u001b[39mself\u001b[39m\u001b[39m.\u001b[39m_metadata\n\u001b[0;32m   5483\u001b[0m     \u001b[39mand\u001b[39;00m name \u001b[39mnot\u001b[39;00m \u001b[39min\u001b[39;00m \u001b[39mself\u001b[39m\u001b[39m.\u001b[39m_accessors\n\u001b[0;32m   5484\u001b[0m     \u001b[39mand\u001b[39;00m \u001b[39mself\u001b[39m\u001b[39m.\u001b[39m_info_axis\u001b[39m.\u001b[39m_can_hold_identifiers_and_holds_name(name)\n\u001b[0;32m   5485\u001b[0m ):\n\u001b[0;32m   5486\u001b[0m     \u001b[39mreturn\u001b[39;00m \u001b[39mself\u001b[39m[name]\n\u001b[1;32m-> 5487\u001b[0m \u001b[39mreturn\u001b[39;00m \u001b[39mobject\u001b[39;49m\u001b[39m.\u001b[39;49m\u001b[39m__getattribute__\u001b[39;49m(\u001b[39mself\u001b[39;49m, name)\n",
      "\u001b[1;31mAttributeError\u001b[0m: 'DataFrame' object has no attribute 'FINAL_LABEL'"
     ]
    }
   ],
   "source": [
    "import matplotlib.pyplot as plt\n",
    "\n",
    "# Define the data\n",
    "labels = ['Active', 'Inactive']\n",
    "values = [len(final_data_to_train.loc[final_data_to_train.FINAL_LABEL == \"Active\"]), len(final_data_to_train.loc[final_data_to_train.FINAL_LABEL == \"Inactive\"])]\n",
    "\n",
    "# Create the bar chart\n",
    "plt.bar(labels, values)\n",
    "\n",
    "# Add labels on top of each column\n",
    "for i, v in enumerate(values):\n",
    "    plt.text(i, v + 10, str(v), ha='center')\n",
    "\n",
    "# Set chart title and labels\n",
    "plt.title('Number of samples based on their activity')\n",
    "plt.xlabel('Status')\n",
    "plt.ylabel('Number of Samples')\n",
    "\n",
    "# Display the chart\n",
    "plt.show()"
   ]
  },
  {
   "cell_type": "code",
   "execution_count": null,
   "metadata": {},
   "outputs": [
    {
     "name": "stdout",
     "output_type": "stream",
     "text": [
      "[1 4 2 3 6 5 9 94 31]\n",
      "[831, 5, 120, 27, 2, 4, 2, 1, 1]\n"
     ]
    }
   ],
   "source": [
    "dup_count_unique = final_data_to_train.DUPLICATE_COUNTS.unique()\n",
    "dup_count_numbers = []\n",
    "for dup_count_number in dup_count_unique:\n",
    "    sub_dataset = final_data_to_train.loc[final_data_to_train.DUPLICATE_COUNTS == dup_count_number]\n",
    "    dup_count_numbers.append(len(sub_dataset))\n",
    "print(dup_count_unique)\n",
    "print(dup_count_numbers)"
   ]
  },
  {
   "cell_type": "code",
   "execution_count": null,
   "metadata": {},
   "outputs": [
    {
     "data": {
      "image/png": "[encoded data removed]",
      "text/plain": [
       "<Figure size 640x480 with 1 Axes>"
      ]
     },
     "metadata": {},
     "output_type": "display_data"
    }
   ],
   "source": [
    "import matplotlib.pyplot as plt\n",
    "\n",
    "# Define the data\n",
    "labels = [1, 4, 2, 3, 6, 5, 9, 94, 31]\n",
    "values = [831, 5, 120, 27, 2, 4, 2, 1, 1]\n",
    "\n",
    "# Sort the data by labels\n",
    "labels, values = zip(*sorted(zip(labels, values)))\n",
    "\n",
    "# Create the bar chart with log scale\n",
    "plt.bar(labels, values)\n",
    "plt.yscale('log')\n",
    "\n",
    "# Add labels on top of each column\n",
    "for i, v in enumerate(values):\n",
    "    plt.text(i, v * 1.1, str(v), ha='center')\n",
    "\n",
    "# Set chart title and labels\n",
    "plt.title('Number of samples based on the number of duplicates')\n",
    "plt.xlabel('Number of duplicates')\n",
    "plt.ylabel('Number of samples (log scale)')\n",
    "\n",
    "# Display the chart\n",
    "plt.show()"
   ]
  }
 ],
 "metadata": {
  "kernelspec": {
   "display_name": "Python 3",
   "language": "python",
   "name": "python3"
  },
  "language_info": {
   "codemirror_mode": {
    "name": "ipython",
    "version": 3
   },
   "file_extension": ".py",
   "mimetype": "text/x-python",
   "name": "python",
   "nbconvert_exporter": "python",
   "pygments_lexer": "ipython3",
   "version": "3.10.11"
  },
  "orig_nbformat": 4
 },
 "nbformat": 4,
 "nbformat_minor": 2
}
