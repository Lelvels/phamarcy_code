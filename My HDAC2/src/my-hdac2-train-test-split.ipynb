{
 "cells": [
  {
   "cell_type": "code",
   "execution_count": null,
   "metadata": {},
   "outputs": [],
   "source": [
    "from rdkit.Chem import AllChem\n",
    "from rdkit import Chem\n",
    "from rdkit.Chem import Descriptors, MACCSkeys\n",
    "from rdkit.ML.Descriptors import MoleculeDescriptors\n",
    "\n",
    "import pandas as pd\n",
    "import numpy as np\n",
    "import matplotlib.pyplot as plt\n",
    "from sklearn.model_selection import train_test_split\n",
    "from sklearn.compose import ColumnTransformer\n",
    "from sklearn.preprocessing import OneHotEncoder\n",
    "\n",
    "from mordred import Calculator, descriptors"
   ]
  },
  {
   "cell_type": "code",
   "execution_count": 11,
   "metadata": {},
   "outputs": [],
   "source": [
    "dataset = pd.read_csv(\"../data_for_modeling/filter_data/v1/HDAC2_total.csv\")"
   ]
  },
  {
   "cell_type": "code",
   "execution_count": 13,
   "metadata": {},
   "outputs": [],
   "source": [
    "file_path = \"../data_for_modeling/filter_data/v1/\"\n",
    "for random_state in range(1, 10):\n",
    "    train_file_path = file_path + \"train_\" + str(random_state) + \".csv\"\n",
    "    test_file_path = file_path + \"test_\" + str(random_state) + \".csv\"\n",
    "    \n",
    "    train_dataset, test_dataset = train_test_split(dataset, test_size=0.2, random_state=random_state)\n",
    "    y_Train = np.array(train_dataset['FINAL_LABEL'])\n",
    "    y_Test = np.array(test_dataset['FINAL_LABEL'])\n",
    "\n",
    "    encoder = OneHotEncoder()\n",
    "\n",
    "    y_Train_2d = y_Train.reshape(-1, 1)\n",
    "    encoder.fit(y_Train_2d)\n",
    "    one_hot_encoded_data = encoder.transform(y_Train_2d).toarray()\n",
    "    y_Train_sc = one_hot_encoded_data[:, 0]\n",
    "    y_Train_sc.astype(np.int64)\n",
    "\n",
    "    y_Test_2d = y_Test.reshape(-1, 1)\n",
    "    encoder.fit(y_Test_2d)\n",
    "    one_hot_encoded_data = encoder.transform(y_Test_2d).toarray()\n",
    "    y_Test_sc = one_hot_encoded_data[:, 0]\n",
    "    y_Train_sc.astype(np.int64)\n",
    "\n",
    "    train_dataset.FINAL_LABEL = y_Train_sc\n",
    "    test_dataset.FINAL_LABEL = y_Test_sc\n",
    "    \n",
    "    # Save train and test sets to files\n",
    "    train_dataset.to_csv(train_file_path, index=False)\n",
    "    test_dataset.to_csv(test_file_path, index=False)"
   ]
  }
 ],
 "metadata": {
  "kernelspec": {
   "display_name": "Python 3",
   "language": "python",
   "name": "python3"
  },
  "language_info": {
   "codemirror_mode": {
    "name": "ipython",
    "version": 3
   },
   "file_extension": ".py",
   "mimetype": "text/x-python",
   "name": "python",
   "nbconvert_exporter": "python",
   "pygments_lexer": "ipython3",
   "version": "3.10.11"
  },
  "orig_nbformat": 4
 },
 "nbformat": 4,
 "nbformat_minor": 2
}
