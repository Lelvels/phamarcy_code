{
 "cells": [
  {
   "cell_type": "code",
   "execution_count": 1,
   "metadata": {},
   "outputs": [],
   "source": [
    "from rdkit.Chem import AllChem\n",
    "from rdkit import Chem\n",
    "from rdkit.Chem import Descriptors, MACCSkeys\n",
    "from rdkit.ML.Descriptors import MoleculeDescriptors\n",
    "\n",
    "import pandas as pd\n",
    "import numpy as np\n",
    "import matplotlib.pyplot as plt\n",
    "from tabulate import tabulate"
   ]
  },
  {
   "attachments": {},
   "cell_type": "markdown",
   "metadata": {},
   "source": [
    "# Read the data"
   ]
  },
  {
   "cell_type": "code",
   "execution_count": 2,
   "metadata": {},
   "outputs": [
    {
     "data": {
      "text/plain": [
       "2086"
      ]
     },
     "execution_count": 2,
     "metadata": {},
     "output_type": "execute_result"
    }
   ],
   "source": [
    "all_data_path = \"../../data_for_modeling/filter_data/all_data/preprocessing_data/HDAC2_all_data_filtered.xlsx\"\n",
    "# version1_data_path = \"../../data_for_modeling/raw_data/v1/HDAC2_original_data_v1.xlsx\"\n",
    "dataset = pd.read_excel(all_data_path, sheet_name='filter_data')\n",
    "dataset_length = len(dataset)\n",
    "dataset_length"
   ]
  },
  {
   "cell_type": "code",
   "execution_count": 3,
   "metadata": {},
   "outputs": [
    {
     "data": {
      "text/html": [
       "<div>\n",
       "<style scoped>\n",
       "    .dataframe tbody tr th:only-of-type {\n",
       "        vertical-align: middle;\n",
       "    }\n",
       "\n",
       "    .dataframe tbody tr th {\n",
       "        vertical-align: top;\n",
       "    }\n",
       "\n",
       "    .dataframe thead th {\n",
       "        text-align: right;\n",
       "    }\n",
       "</style>\n",
       "<table border=\"1\" class=\"dataframe\">\n",
       "  <thead>\n",
       "    <tr style=\"text-align: right;\">\n",
       "      <th></th>\n",
       "      <th>CID</th>\n",
       "      <th>SMILES</th>\n",
       "      <th>AVG_IC50_uM</th>\n",
       "      <th>FIRST_LABEL</th>\n",
       "      <th>FINAL_LABEL</th>\n",
       "      <th>DUPLICATE_COUNTS</th>\n",
       "    </tr>\n",
       "  </thead>\n",
       "  <tbody>\n",
       "    <tr>\n",
       "      <th>0</th>\n",
       "      <td>2746</td>\n",
       "      <td>CC(=O)NC1=CC=C(C=C1)C(=O)NC2=CC=CC=C2N</td>\n",
       "      <td>2.232500</td>\n",
       "      <td>Active</td>\n",
       "      <td>Inactive</td>\n",
       "      <td>12</td>\n",
       "    </tr>\n",
       "    <tr>\n",
       "      <th>1</th>\n",
       "      <td>3812</td>\n",
       "      <td>CN(C)C1=CC=C(C=C1)C(=O)NCCCCCCCC(=O)NO</td>\n",
       "      <td>1.306667</td>\n",
       "      <td>Active</td>\n",
       "      <td>Inactive</td>\n",
       "      <td>3</td>\n",
       "    </tr>\n",
       "    <tr>\n",
       "      <th>2</th>\n",
       "      <td>3994</td>\n",
       "      <td>CN(C)C1=CC=C(C=C1)C(=O)NCCCCCCC(=O)NO</td>\n",
       "      <td>1.256667</td>\n",
       "      <td>Active</td>\n",
       "      <td>Inactive</td>\n",
       "      <td>3</td>\n",
       "    </tr>\n",
       "    <tr>\n",
       "      <th>3</th>\n",
       "      <td>4261</td>\n",
       "      <td>C1=CC=C(C(=C1)N)NC(=O)C2=CC=C(C=C2)CNC(=O)OCC3...</td>\n",
       "      <td>1.526316</td>\n",
       "      <td>Active</td>\n",
       "      <td>Inactive</td>\n",
       "      <td>19</td>\n",
       "    </tr>\n",
       "    <tr>\n",
       "      <th>4</th>\n",
       "      <td>5173</td>\n",
       "      <td>C(CCCC(=O)NO)CCC(=O)NO</td>\n",
       "      <td>8.230000</td>\n",
       "      <td>Active</td>\n",
       "      <td>Inactive</td>\n",
       "      <td>1</td>\n",
       "    </tr>\n",
       "  </tbody>\n",
       "</table>\n",
       "</div>"
      ],
      "text/plain": [
       "    CID                                             SMILES  AVG_IC50_uM  \\\n",
       "0  2746             CC(=O)NC1=CC=C(C=C1)C(=O)NC2=CC=CC=C2N     2.232500   \n",
       "1  3812             CN(C)C1=CC=C(C=C1)C(=O)NCCCCCCCC(=O)NO     1.306667   \n",
       "2  3994              CN(C)C1=CC=C(C=C1)C(=O)NCCCCCCC(=O)NO     1.256667   \n",
       "3  4261  C1=CC=C(C(=C1)N)NC(=O)C2=CC=C(C=C2)CNC(=O)OCC3...     1.526316   \n",
       "4  5173                             C(CCCC(=O)NO)CCC(=O)NO     8.230000   \n",
       "\n",
       "  FIRST_LABEL FINAL_LABEL  DUPLICATE_COUNTS  \n",
       "0      Active    Inactive                12  \n",
       "1      Active    Inactive                 3  \n",
       "2      Active    Inactive                 3  \n",
       "3      Active    Inactive                19  \n",
       "4      Active    Inactive                 1  "
      ]
     },
     "execution_count": 3,
     "metadata": {},
     "output_type": "execute_result"
    }
   ],
   "source": [
    "dataset.head()"
   ]
  },
  {
   "attachments": {},
   "cell_type": "markdown",
   "metadata": {},
   "source": [
    "# 1. Profile of the data"
   ]
  },
  {
   "attachments": {},
   "cell_type": "markdown",
   "metadata": {},
   "source": [
    "## 1.1. Group by original activity"
   ]
  },
  {
   "cell_type": "code",
   "execution_count": 4,
   "metadata": {},
   "outputs": [],
   "source": [
    "def check_activity_distribution(dataset, col_name):\n",
    "    active_rows = dataset.loc[dataset[col_name] == \"Active\"]\n",
    "    inactive_rows = dataset.loc[dataset[col_name] == \"Inactive\"]\n",
    "    inconclusive_rows = dataset.loc[dataset[col_name] == \"Inconclusive\"]\n",
    "    unspecified_rows = dataset.loc[dataset[col_name] == \"Unspecified\"]\n",
    "\n",
    "    dataset_length = len(dataset)\n",
    "\n",
    "    print(\"Total dataset\")\n",
    "    table = [['', 'Active', 'Inactive', 'Inconclusive', 'Unspecified'], \n",
    "            ['Number', len(active_rows), len(inactive_rows), len(inconclusive_rows), len(unspecified_rows)],\n",
    "            ['Percentage (%)', len(active_rows)/dataset_length*100, len(inactive_rows)/dataset_length*100,\n",
    "            len(inconclusive_rows)/dataset_length*100, len(unspecified_rows)/dataset_length*100]]\n",
    "    print(tabulate(table, headers='firstrow', tablefmt='fancy_grid'))"
   ]
  },
  {
   "attachments": {},
   "cell_type": "markdown",
   "metadata": {},
   "source": [
    "__Train on the final label, not the first label__"
   ]
  },
  {
   "cell_type": "code",
   "execution_count": 5,
   "metadata": {},
   "outputs": [
    {
     "name": "stdout",
     "output_type": "stream",
     "text": [
      "Total dataset\n",
      "╒════════════════╤══════════╤════════════╤════════════════╤═══════════════╕\n",
      "│                │   Active │   Inactive │   Inconclusive │   Unspecified │\n",
      "╞════════════════╪══════════╪════════════╪════════════════╪═══════════════╡\n",
      "│ Number         │ 1059     │   1027     │              0 │             0 │\n",
      "├────────────────┼──────────┼────────────┼────────────────┼───────────────┤\n",
      "│ Percentage (%) │   50.767 │     49.233 │              0 │             0 │\n",
      "╘════════════════╧══════════╧════════════╧════════════════╧═══════════════╛\n"
     ]
    }
   ],
   "source": [
    "check_activity_distribution(dataset=dataset, col_name='FINAL_LABEL')"
   ]
  },
  {
   "attachments": {},
   "cell_type": "markdown",
   "metadata": {},
   "source": [
    "# 2. Check the data"
   ]
  },
  {
   "attachments": {},
   "cell_type": "markdown",
   "metadata": {},
   "source": [
    "## 2.1. Check for duplicates"
   ]
  },
  {
   "cell_type": "code",
   "execution_count": 6,
   "metadata": {},
   "outputs": [
    {
     "name": "stdout",
     "output_type": "stream",
     "text": [
      "2086\n"
     ]
    }
   ],
   "source": [
    "dataset_c = dataset.copy()\n",
    "print(len(dataset_c))"
   ]
  },
  {
   "attachments": {},
   "cell_type": "markdown",
   "metadata": {},
   "source": [
    "### Standardlize SMILES (not in use)"
   ]
  },
  {
   "cell_type": "code",
   "execution_count": 7,
   "metadata": {},
   "outputs": [],
   "source": [
    "# from rdkit.Chem.MolStandardize import rdMolStandardize\n",
    "# def make_canonical_smiles(smiles):\n",
    "#     smiles = [rdMolStandardize.StandardizeSmiles(smi) for smi in smiles]\n",
    "#     return smiles"
   ]
  },
  {
   "cell_type": "code",
   "execution_count": 8,
   "metadata": {},
   "outputs": [],
   "source": [
    "# cannon_smiles = make_canonical_smiles(dataset.SMILES)\n",
    "# dataset['SMILES'] = cannon_smiles\n",
    "# duplicates_smiles = dataset[dataset['SMILES'].duplicated()]['SMILES'].values\n",
    "# duplicate_index = dataset[dataset['SMILES'].duplicated()]['SMILES'].index\n",
    "# duplicates_smiles"
   ]
  },
  {
   "attachments": {},
   "cell_type": "markdown",
   "metadata": {},
   "source": [
    "### Find the duplicate SMILES"
   ]
  },
  {
   "cell_type": "code",
   "execution_count": 9,
   "metadata": {},
   "outputs": [
    {
     "name": "stdout",
     "output_type": "stream",
     "text": [
      "0\n"
     ]
    },
    {
     "data": {
      "text/html": [
       "<div>\n",
       "<style scoped>\n",
       "    .dataframe tbody tr th:only-of-type {\n",
       "        vertical-align: middle;\n",
       "    }\n",
       "\n",
       "    .dataframe tbody tr th {\n",
       "        vertical-align: top;\n",
       "    }\n",
       "\n",
       "    .dataframe thead th {\n",
       "        text-align: right;\n",
       "    }\n",
       "</style>\n",
       "<table border=\"1\" class=\"dataframe\">\n",
       "  <thead>\n",
       "    <tr style=\"text-align: right;\">\n",
       "      <th></th>\n",
       "      <th>CID</th>\n",
       "      <th>SMILES</th>\n",
       "      <th>AVG_IC50_uM</th>\n",
       "      <th>FIRST_LABEL</th>\n",
       "      <th>FINAL_LABEL</th>\n",
       "      <th>DUPLICATE_COUNTS</th>\n",
       "    </tr>\n",
       "  </thead>\n",
       "  <tbody>\n",
       "  </tbody>\n",
       "</table>\n",
       "</div>"
      ],
      "text/plain": [
       "Empty DataFrame\n",
       "Columns: [CID, SMILES, AVG_IC50_uM, FIRST_LABEL, FINAL_LABEL, DUPLICATE_COUNTS]\n",
       "Index: []"
      ]
     },
     "execution_count": 9,
     "metadata": {},
     "output_type": "execute_result"
    }
   ],
   "source": [
    "duplicates_smiles = dataset[dataset['SMILES'].duplicated()]['SMILES'].values\n",
    "duplicate_index = dataset[dataset['SMILES'].duplicated()]['SMILES'].index\n",
    "dup_smiles_entries = pd.DataFrame()\n",
    "for smiles in duplicates_smiles:\n",
    "    sub_dataset_dup_smiles = dataset[dataset.SMILES == smiles].copy()\n",
    "    dup_smiles_entries = pd.concat([dup_smiles_entries, sub_dataset_dup_smiles], axis=0)\n",
    "print(len(dup_smiles_entries))\n",
    "dataset.loc[dup_smiles_entries.index][0:5]"
   ]
  },
  {
   "cell_type": "code",
   "execution_count": 10,
   "metadata": {},
   "outputs": [
    {
     "data": {
      "text/plain": [
       "2086"
      ]
     },
     "execution_count": 10,
     "metadata": {},
     "output_type": "execute_result"
    }
   ],
   "source": [
    "if(len(dup_smiles_entries) > 0):\n",
    "    dataset = dataset.drop(dup_smiles_entries.index)\n",
    "    dataset = dataset.reset_index(drop=True)\n",
    "len(dataset)"
   ]
  },
  {
   "attachments": {},
   "cell_type": "markdown",
   "metadata": {},
   "source": [
    "## 2.2. Check for label intersection"
   ]
  },
  {
   "cell_type": "code",
   "execution_count": 11,
   "metadata": {},
   "outputs": [],
   "source": [
    "def check_label_intersection(dataset, col_name):\n",
    "    active_rows = dataset.loc[dataset[col_name] == \"Active\"]\n",
    "    inactive_rows = dataset.loc[dataset[col_name] == \"Inactive\"]\n",
    "    inconclusive_rows = dataset.loc[dataset[col_name] == \"Inconclusive\"]\n",
    "    unspecified_rows = dataset.loc[dataset[col_name] == \"Unspecified\"]\n",
    "    \n",
    "    cid_active = active_rows.loc[:, 'SMILES']\n",
    "    cid_inactive = inactive_rows.loc[:, 'SMILES']\n",
    "    cid_incon = inconclusive_rows.loc[:, 'SMILES']\n",
    "    cid_unspec = unspecified_rows.loc[:, 'SMILES']\n",
    "\n",
    "    ac_inac_cid = np.intersect1d(cid_active, cid_inactive)\n",
    "    ac_incon_cid = np.intersect1d(cid_active, cid_incon)\n",
    "    ac_unspec_cid = np.intersect1d(cid_active, cid_unspec)\n",
    "\n",
    "    inac_incon_cid = np.intersect1d(cid_inactive, cid_incon)\n",
    "    incon_unspec_cid = np.intersect1d(cid_incon, cid_unspec)\n",
    "    inac_unspec_cid = np.intersect1d(cid_inactive, cid_unspec)\n",
    "    \n",
    "    print(\"Activity intersection:\")\n",
    "    table = [['Active-Inactive', 'Active-Inconclusive', 'Active-Unspecified', 'Inactive-Inconclusive', 'Inactive-Unspecified', 'Inconclusive-Unspecifid'], \n",
    "             [len(ac_inac_cid), len(ac_incon_cid), len(ac_unspec_cid), len(inac_incon_cid), len(inac_unspec_cid), len(incon_unspec_cid)]]\n",
    "    print(tabulate(table, headers='firstrow', tablefmt='fancy_grid'))"
   ]
  },
  {
   "cell_type": "code",
   "execution_count": 12,
   "metadata": {},
   "outputs": [
    {
     "name": "stdout",
     "output_type": "stream",
     "text": [
      "Activity intersection:\n",
      "╒═══════════════════╤═══════════════════════╤══════════════════════╤═════════════════════════╤════════════════════════╤═══════════════════════════╕\n",
      "│   Active-Inactive │   Active-Inconclusive │   Active-Unspecified │   Inactive-Inconclusive │   Inactive-Unspecified │   Inconclusive-Unspecifid │\n",
      "╞═══════════════════╪═══════════════════════╪══════════════════════╪═════════════════════════╪════════════════════════╪═══════════════════════════╡\n",
      "│                 0 │                     0 │                    0 │                       0 │                      0 │                         0 │\n",
      "╘═══════════════════╧═══════════════════════╧══════════════════════╧═════════════════════════╧════════════════════════╧═══════════════════════════╛\n"
     ]
    }
   ],
   "source": [
    "check_label_intersection(dataset=dataset, col_name='FINAL_LABEL')"
   ]
  },
  {
   "attachments": {},
   "cell_type": "markdown",
   "metadata": {},
   "source": [
    "# 3. Labels errors"
   ]
  },
  {
   "attachments": {},
   "cell_type": "markdown",
   "metadata": {},
   "source": [
    "## 3.0. Encoding labels"
   ]
  },
  {
   "cell_type": "code",
   "execution_count": 13,
   "metadata": {},
   "outputs": [
    {
     "data": {
      "text/html": [
       "<div>\n",
       "<style scoped>\n",
       "    .dataframe tbody tr th:only-of-type {\n",
       "        vertical-align: middle;\n",
       "    }\n",
       "\n",
       "    .dataframe tbody tr th {\n",
       "        vertical-align: top;\n",
       "    }\n",
       "\n",
       "    .dataframe thead th {\n",
       "        text-align: right;\n",
       "    }\n",
       "</style>\n",
       "<table border=\"1\" class=\"dataframe\">\n",
       "  <thead>\n",
       "    <tr style=\"text-align: right;\">\n",
       "      <th></th>\n",
       "      <th>CID</th>\n",
       "      <th>SMILES</th>\n",
       "      <th>AVG_IC50_uM</th>\n",
       "      <th>FIRST_LABEL</th>\n",
       "      <th>FINAL_LABEL</th>\n",
       "      <th>DUPLICATE_COUNTS</th>\n",
       "    </tr>\n",
       "  </thead>\n",
       "  <tbody>\n",
       "    <tr>\n",
       "      <th>0</th>\n",
       "      <td>2746</td>\n",
       "      <td>CC(=O)NC1=CC=C(C=C1)C(=O)NC2=CC=CC=C2N</td>\n",
       "      <td>2.232500</td>\n",
       "      <td>Active</td>\n",
       "      <td>1</td>\n",
       "      <td>12</td>\n",
       "    </tr>\n",
       "    <tr>\n",
       "      <th>1</th>\n",
       "      <td>3812</td>\n",
       "      <td>CN(C)C1=CC=C(C=C1)C(=O)NCCCCCCCC(=O)NO</td>\n",
       "      <td>1.306667</td>\n",
       "      <td>Active</td>\n",
       "      <td>1</td>\n",
       "      <td>3</td>\n",
       "    </tr>\n",
       "    <tr>\n",
       "      <th>2</th>\n",
       "      <td>3994</td>\n",
       "      <td>CN(C)C1=CC=C(C=C1)C(=O)NCCCCCCC(=O)NO</td>\n",
       "      <td>1.256667</td>\n",
       "      <td>Active</td>\n",
       "      <td>1</td>\n",
       "      <td>3</td>\n",
       "    </tr>\n",
       "    <tr>\n",
       "      <th>3</th>\n",
       "      <td>4261</td>\n",
       "      <td>C1=CC=C(C(=C1)N)NC(=O)C2=CC=C(C=C2)CNC(=O)OCC3...</td>\n",
       "      <td>1.526316</td>\n",
       "      <td>Active</td>\n",
       "      <td>1</td>\n",
       "      <td>19</td>\n",
       "    </tr>\n",
       "    <tr>\n",
       "      <th>4</th>\n",
       "      <td>5173</td>\n",
       "      <td>C(CCCC(=O)NO)CCC(=O)NO</td>\n",
       "      <td>8.230000</td>\n",
       "      <td>Active</td>\n",
       "      <td>1</td>\n",
       "      <td>1</td>\n",
       "    </tr>\n",
       "  </tbody>\n",
       "</table>\n",
       "</div>"
      ],
      "text/plain": [
       "    CID                                             SMILES  AVG_IC50_uM  \\\n",
       "0  2746             CC(=O)NC1=CC=C(C=C1)C(=O)NC2=CC=CC=C2N     2.232500   \n",
       "1  3812             CN(C)C1=CC=C(C=C1)C(=O)NCCCCCCCC(=O)NO     1.306667   \n",
       "2  3994              CN(C)C1=CC=C(C=C1)C(=O)NCCCCCCC(=O)NO     1.256667   \n",
       "3  4261  C1=CC=C(C(=C1)N)NC(=O)C2=CC=C(C=C2)CNC(=O)OCC3...     1.526316   \n",
       "4  5173                             C(CCCC(=O)NO)CCC(=O)NO     8.230000   \n",
       "\n",
       "  FIRST_LABEL  FINAL_LABEL  DUPLICATE_COUNTS  \n",
       "0      Active            1                12  \n",
       "1      Active            1                 3  \n",
       "2      Active            1                 3  \n",
       "3      Active            1                19  \n",
       "4      Active            1                 1  "
      ]
     },
     "execution_count": 13,
     "metadata": {},
     "output_type": "execute_result"
    }
   ],
   "source": [
    "from xgboost import XGBClassifier\n",
    "from sklearn import preprocessing\n",
    "from sklearn.model_selection import cross_val_predict\n",
    "from sklearn.metrics import accuracy_score\n",
    "import pandas as pd\n",
    "import numpy as np\n",
    "\n",
    "#Encoding labels\n",
    "dataset_c = dataset.copy()\n",
    "# Transform letter grades and notes to categorical numbers.\n",
    "# Necessary for XGBoost.\n",
    "dataset['FINAL_LABEL'] = preprocessing.LabelEncoder().fit_transform(dataset['FINAL_LABEL'])\n",
    "dataset.head()"
   ]
  },
  {
   "cell_type": "code",
   "execution_count": 14,
   "metadata": {},
   "outputs": [
    {
     "data": {
      "text/html": [
       "<div>\n",
       "<style scoped>\n",
       "    .dataframe tbody tr th:only-of-type {\n",
       "        vertical-align: middle;\n",
       "    }\n",
       "\n",
       "    .dataframe tbody tr th {\n",
       "        vertical-align: top;\n",
       "    }\n",
       "\n",
       "    .dataframe thead th {\n",
       "        text-align: right;\n",
       "    }\n",
       "</style>\n",
       "<table border=\"1\" class=\"dataframe\">\n",
       "  <thead>\n",
       "    <tr style=\"text-align: right;\">\n",
       "      <th></th>\n",
       "      <th>CID</th>\n",
       "      <th>SMILES</th>\n",
       "      <th>AVG_IC50_uM</th>\n",
       "      <th>FIRST_LABEL</th>\n",
       "      <th>FINAL_LABEL</th>\n",
       "      <th>DUPLICATE_COUNTS</th>\n",
       "    </tr>\n",
       "  </thead>\n",
       "  <tbody>\n",
       "    <tr>\n",
       "      <th>0</th>\n",
       "      <td>2746</td>\n",
       "      <td>CC(=O)NC1=CC=C(C=C1)C(=O)NC2=CC=CC=C2N</td>\n",
       "      <td>2.232500</td>\n",
       "      <td>Active</td>\n",
       "      <td>Inactive</td>\n",
       "      <td>12</td>\n",
       "    </tr>\n",
       "    <tr>\n",
       "      <th>1</th>\n",
       "      <td>3812</td>\n",
       "      <td>CN(C)C1=CC=C(C=C1)C(=O)NCCCCCCCC(=O)NO</td>\n",
       "      <td>1.306667</td>\n",
       "      <td>Active</td>\n",
       "      <td>Inactive</td>\n",
       "      <td>3</td>\n",
       "    </tr>\n",
       "    <tr>\n",
       "      <th>2</th>\n",
       "      <td>3994</td>\n",
       "      <td>CN(C)C1=CC=C(C=C1)C(=O)NCCCCCCC(=O)NO</td>\n",
       "      <td>1.256667</td>\n",
       "      <td>Active</td>\n",
       "      <td>Inactive</td>\n",
       "      <td>3</td>\n",
       "    </tr>\n",
       "    <tr>\n",
       "      <th>3</th>\n",
       "      <td>4261</td>\n",
       "      <td>C1=CC=C(C(=C1)N)NC(=O)C2=CC=C(C=C2)CNC(=O)OCC3...</td>\n",
       "      <td>1.526316</td>\n",
       "      <td>Active</td>\n",
       "      <td>Inactive</td>\n",
       "      <td>19</td>\n",
       "    </tr>\n",
       "    <tr>\n",
       "      <th>4</th>\n",
       "      <td>5173</td>\n",
       "      <td>C(CCCC(=O)NO)CCC(=O)NO</td>\n",
       "      <td>8.230000</td>\n",
       "      <td>Active</td>\n",
       "      <td>Inactive</td>\n",
       "      <td>1</td>\n",
       "    </tr>\n",
       "  </tbody>\n",
       "</table>\n",
       "</div>"
      ],
      "text/plain": [
       "    CID                                             SMILES  AVG_IC50_uM  \\\n",
       "0  2746             CC(=O)NC1=CC=C(C=C1)C(=O)NC2=CC=CC=C2N     2.232500   \n",
       "1  3812             CN(C)C1=CC=C(C=C1)C(=O)NCCCCCCCC(=O)NO     1.306667   \n",
       "2  3994              CN(C)C1=CC=C(C=C1)C(=O)NCCCCCCC(=O)NO     1.256667   \n",
       "3  4261  C1=CC=C(C(=C1)N)NC(=O)C2=CC=C(C=C2)CNC(=O)OCC3...     1.526316   \n",
       "4  5173                             C(CCCC(=O)NO)CCC(=O)NO     8.230000   \n",
       "\n",
       "  FIRST_LABEL FINAL_LABEL  DUPLICATE_COUNTS  \n",
       "0      Active    Inactive                12  \n",
       "1      Active    Inactive                 3  \n",
       "2      Active    Inactive                 3  \n",
       "3      Active    Inactive                19  \n",
       "4      Active    Inactive                 1  "
      ]
     },
     "execution_count": 14,
     "metadata": {},
     "output_type": "execute_result"
    }
   ],
   "source": [
    "dataset_c.head()"
   ]
  },
  {
   "attachments": {},
   "cell_type": "markdown",
   "metadata": {},
   "source": [
    "**We will do this in the MACCS keys**"
   ]
  },
  {
   "cell_type": "code",
   "execution_count": 15,
   "metadata": {},
   "outputs": [],
   "source": [
    "def maccs_fpts(data):\n",
    "    Maccs_fpts = []\n",
    "    for i in data:\n",
    "        mol = Chem.MolFromSmiles(i)\n",
    "        fpts = MACCSkeys.GenMACCSKeys(mol)\n",
    "        mfpts = np.array(fpts)\n",
    "        Maccs_fpts.append(mfpts)\n",
    "    return np.array(Maccs_fpts)"
   ]
  },
  {
   "cell_type": "code",
   "execution_count": 16,
   "metadata": {},
   "outputs": [
    {
     "data": {
      "text/html": [
       "<div>\n",
       "<style scoped>\n",
       "    .dataframe tbody tr th:only-of-type {\n",
       "        vertical-align: middle;\n",
       "    }\n",
       "\n",
       "    .dataframe tbody tr th {\n",
       "        vertical-align: top;\n",
       "    }\n",
       "\n",
       "    .dataframe thead th {\n",
       "        text-align: right;\n",
       "    }\n",
       "</style>\n",
       "<table border=\"1\" class=\"dataframe\">\n",
       "  <thead>\n",
       "    <tr style=\"text-align: right;\">\n",
       "      <th></th>\n",
       "      <th>0</th>\n",
       "      <th>1</th>\n",
       "      <th>2</th>\n",
       "      <th>3</th>\n",
       "      <th>4</th>\n",
       "      <th>5</th>\n",
       "      <th>6</th>\n",
       "      <th>7</th>\n",
       "      <th>8</th>\n",
       "      <th>9</th>\n",
       "      <th>...</th>\n",
       "      <th>157</th>\n",
       "      <th>158</th>\n",
       "      <th>159</th>\n",
       "      <th>160</th>\n",
       "      <th>161</th>\n",
       "      <th>162</th>\n",
       "      <th>163</th>\n",
       "      <th>164</th>\n",
       "      <th>165</th>\n",
       "      <th>166</th>\n",
       "    </tr>\n",
       "  </thead>\n",
       "  <tbody>\n",
       "    <tr>\n",
       "      <th>0</th>\n",
       "      <td>0</td>\n",
       "      <td>0</td>\n",
       "      <td>0</td>\n",
       "      <td>0</td>\n",
       "      <td>0</td>\n",
       "      <td>0</td>\n",
       "      <td>0</td>\n",
       "      <td>0</td>\n",
       "      <td>0</td>\n",
       "      <td>0</td>\n",
       "      <td>...</td>\n",
       "      <td>0</td>\n",
       "      <td>1</td>\n",
       "      <td>1</td>\n",
       "      <td>1</td>\n",
       "      <td>1</td>\n",
       "      <td>1</td>\n",
       "      <td>1</td>\n",
       "      <td>1</td>\n",
       "      <td>1</td>\n",
       "      <td>0</td>\n",
       "    </tr>\n",
       "    <tr>\n",
       "      <th>1</th>\n",
       "      <td>0</td>\n",
       "      <td>0</td>\n",
       "      <td>0</td>\n",
       "      <td>0</td>\n",
       "      <td>0</td>\n",
       "      <td>0</td>\n",
       "      <td>0</td>\n",
       "      <td>0</td>\n",
       "      <td>0</td>\n",
       "      <td>0</td>\n",
       "      <td>...</td>\n",
       "      <td>0</td>\n",
       "      <td>1</td>\n",
       "      <td>1</td>\n",
       "      <td>1</td>\n",
       "      <td>1</td>\n",
       "      <td>1</td>\n",
       "      <td>1</td>\n",
       "      <td>1</td>\n",
       "      <td>1</td>\n",
       "      <td>0</td>\n",
       "    </tr>\n",
       "    <tr>\n",
       "      <th>2</th>\n",
       "      <td>0</td>\n",
       "      <td>0</td>\n",
       "      <td>0</td>\n",
       "      <td>0</td>\n",
       "      <td>0</td>\n",
       "      <td>0</td>\n",
       "      <td>0</td>\n",
       "      <td>0</td>\n",
       "      <td>0</td>\n",
       "      <td>0</td>\n",
       "      <td>...</td>\n",
       "      <td>0</td>\n",
       "      <td>1</td>\n",
       "      <td>1</td>\n",
       "      <td>1</td>\n",
       "      <td>1</td>\n",
       "      <td>1</td>\n",
       "      <td>1</td>\n",
       "      <td>1</td>\n",
       "      <td>1</td>\n",
       "      <td>0</td>\n",
       "    </tr>\n",
       "    <tr>\n",
       "      <th>3</th>\n",
       "      <td>0</td>\n",
       "      <td>0</td>\n",
       "      <td>0</td>\n",
       "      <td>0</td>\n",
       "      <td>0</td>\n",
       "      <td>0</td>\n",
       "      <td>0</td>\n",
       "      <td>0</td>\n",
       "      <td>0</td>\n",
       "      <td>0</td>\n",
       "      <td>...</td>\n",
       "      <td>1</td>\n",
       "      <td>1</td>\n",
       "      <td>1</td>\n",
       "      <td>0</td>\n",
       "      <td>1</td>\n",
       "      <td>1</td>\n",
       "      <td>1</td>\n",
       "      <td>1</td>\n",
       "      <td>1</td>\n",
       "      <td>0</td>\n",
       "    </tr>\n",
       "    <tr>\n",
       "      <th>4</th>\n",
       "      <td>0</td>\n",
       "      <td>0</td>\n",
       "      <td>0</td>\n",
       "      <td>0</td>\n",
       "      <td>0</td>\n",
       "      <td>0</td>\n",
       "      <td>0</td>\n",
       "      <td>0</td>\n",
       "      <td>0</td>\n",
       "      <td>0</td>\n",
       "      <td>...</td>\n",
       "      <td>0</td>\n",
       "      <td>1</td>\n",
       "      <td>1</td>\n",
       "      <td>0</td>\n",
       "      <td>1</td>\n",
       "      <td>0</td>\n",
       "      <td>0</td>\n",
       "      <td>1</td>\n",
       "      <td>0</td>\n",
       "      <td>0</td>\n",
       "    </tr>\n",
       "  </tbody>\n",
       "</table>\n",
       "<p>5 rows × 167 columns</p>\n",
       "</div>"
      ],
      "text/plain": [
       "   0    1    2    3    4    5    6    7    8    9    ...  157  158  159  160  \\\n",
       "0    0    0    0    0    0    0    0    0    0    0  ...    0    1    1    1   \n",
       "1    0    0    0    0    0    0    0    0    0    0  ...    0    1    1    1   \n",
       "2    0    0    0    0    0    0    0    0    0    0  ...    0    1    1    1   \n",
       "3    0    0    0    0    0    0    0    0    0    0  ...    1    1    1    0   \n",
       "4    0    0    0    0    0    0    0    0    0    0  ...    0    1    1    0   \n",
       "\n",
       "   161  162  163  164  165  166  \n",
       "0    1    1    1    1    1    0  \n",
       "1    1    1    1    1    1    0  \n",
       "2    1    1    1    1    1    0  \n",
       "3    1    1    1    1    1    0  \n",
       "4    1    0    0    1    0    0  \n",
       "\n",
       "[5 rows x 167 columns]"
      ]
     },
     "execution_count": 16,
     "metadata": {},
     "output_type": "execute_result"
    }
   ],
   "source": [
    "smiles = dataset.SMILES\n",
    "data = maccs_fpts(smiles)\n",
    "data = pd.DataFrame(data=data)\n",
    "labels = dataset['FINAL_LABEL']\n",
    "data.head()"
   ]
  },
  {
   "attachments": {},
   "cell_type": "markdown",
   "metadata": {},
   "source": [
    "## 3.1. Getting out-of-sample predicted probabilities"
   ]
  },
  {
   "cell_type": "code",
   "execution_count": 17,
   "metadata": {},
   "outputs": [
    {
     "name": "stdout",
     "output_type": "stream",
     "text": [
      "2086\n",
      "[[0.00619262 0.9938074 ]\n",
      " [0.5045182  0.4954818 ]\n",
      " [0.5045182  0.4954818 ]\n",
      " [0.3716309  0.6283691 ]\n",
      " [0.20515424 0.79484576]]\n"
     ]
    }
   ],
   "source": [
    "model = XGBClassifier(tree_method=\"hist\", enable_categorical=True)\n",
    "pred_probs = cross_val_predict(model, data, labels, method='predict_proba')\n",
    "print(len(pred_probs))\n",
    "print(pred_probs[0:5])"
   ]
  },
  {
   "attachments": {},
   "cell_type": "markdown",
   "metadata": {},
   "source": [
    "## 3.2. Checking model accuracy on original data\n",
    "\n",
    "Now that we have out-of-sample predicted probabilities, we can also check the model's (cross-val) accuracy on the original (noisy) data, so we'll have a baseline to compare our final results."
   ]
  },
  {
   "cell_type": "code",
   "execution_count": 18,
   "metadata": {},
   "outputs": [
    {
     "name": "stdout",
     "output_type": "stream",
     "text": [
      "Accuracy with original data: 63.4%\n"
     ]
    }
   ],
   "source": [
    "preds = np.argmax(pred_probs, axis=1)\n",
    "acc_original = accuracy_score(preds, labels)\n",
    "print(f\"Accuracy with original data: {round(acc_original*100,1)}%\")"
   ]
  },
  {
   "cell_type": "code",
   "execution_count": 19,
   "metadata": {},
   "outputs": [
    {
     "name": "stdout",
     "output_type": "stream",
     "text": [
      "Accuracy with original data: 96.6%\n"
     ]
    }
   ],
   "source": [
    "model.fit(data, labels)\n",
    "preds_by_predict = model.predict(data)\n",
    "acc_pred_by_predict = accuracy_score(preds_by_predict, labels)\n",
    "print(f\"Accuracy with original data: {round(acc_pred_by_predict*100,1)}%\")"
   ]
  },
  {
   "cell_type": "code",
   "execution_count": 20,
   "metadata": {},
   "outputs": [
    {
     "name": "stdout",
     "output_type": "stream",
     "text": [
      "Độ chính xác của 10-fold cross validation XG_Boost: 0.819 (0.025)\n"
     ]
    },
    {
     "data": {
      "text/plain": [
       "[0.7894736842105263,\n",
       " 0.7932692307692307,\n",
       " 0.7942583732057417,\n",
       " 0.8086124401913876,\n",
       " 0.8125,\n",
       " 0.8125,\n",
       " 0.8221153846153846,\n",
       " 0.8373205741626795,\n",
       " 0.8564593301435407,\n",
       " 0.8660287081339713]"
      ]
     },
     "execution_count": 20,
     "metadata": {},
     "output_type": "execute_result"
    }
   ],
   "source": [
    "from sklearn.model_selection import cross_val_score\n",
    "from sklearn.model_selection import KFold\n",
    "#xg_boost\n",
    "cv = KFold(n_splits=10, random_state=1, shuffle=True)\n",
    "bst_scores = cross_val_score(model, data, labels, scoring='accuracy', cv=cv, n_jobs=-1)\n",
    "print('Độ chính xác của 10-fold cross validation XG_Boost: %.3f (%.3f)' % (bst_scores.mean(), bst_scores.std()))\n",
    "sorted(bst_scores)"
   ]
  },
  {
   "attachments": {},
   "cell_type": "markdown",
   "metadata": {},
   "source": [
    "## 3.3. Finding the class threshold"
   ]
  },
  {
   "cell_type": "code",
   "execution_count": 21,
   "metadata": {},
   "outputs": [],
   "source": [
    "def compute_class_thresholds(pred_probs: np.ndarray, labels: np.ndarray) -> np.ndarray:\n",
    "    n_examples, n_classes = pred_probs.shape\n",
    "    thresholds = np.zeros(n_classes)\n",
    "    for k in range(n_classes):\n",
    "        count = 0\n",
    "        p_sum = 0\n",
    "        for i in range(n_examples):\n",
    "            if labels[i] == k:\n",
    "                count += 1\n",
    "                p_sum += pred_probs[i, k]\n",
    "        thresholds[k] = p_sum / count\n",
    "    return thresholds"
   ]
  },
  {
   "attachments": {},
   "cell_type": "markdown",
   "metadata": {},
   "source": [
    "<b>Check the data and its label was right</b>"
   ]
  },
  {
   "cell_type": "code",
   "execution_count": 22,
   "metadata": {},
   "outputs": [
    {
     "name": "stdout",
     "output_type": "stream",
     "text": [
      "Active\n",
      "label: 0\n"
     ]
    }
   ],
   "source": [
    "print(dataset_c.loc[230]['FINAL_LABEL'])\n",
    "print(\"label: \" + str(labels.to_numpy()[230]))"
   ]
  },
  {
   "cell_type": "code",
   "execution_count": 23,
   "metadata": {},
   "outputs": [
    {
     "data": {
      "text/plain": [
       "array([0.59714356, 0.63403434])"
      ]
     },
     "execution_count": 23,
     "metadata": {},
     "output_type": "execute_result"
    }
   ],
   "source": [
    "# should be a numpy array of length 5\n",
    "thresholds = compute_class_thresholds(pred_probs, labels.to_numpy())\n",
    "thresholds"
   ]
  },
  {
   "attachments": {},
   "cell_type": "markdown",
   "metadata": {},
   "source": [
    "## 3.4. Constructing the confident joint"
   ]
  },
  {
   "cell_type": "code",
   "execution_count": 24,
   "metadata": {},
   "outputs": [],
   "source": [
    "def compute_confident_joint(pred_probs: np.ndarray, labels: np.ndarray, thresholds: np.ndarray) -> np.ndarray:\n",
    "    n_examples, n_classes = pred_probs.shape\n",
    "    confident_joint = np.zeros((n_classes, n_classes), dtype=np.int64)\n",
    "    positions = np.array([[-1, -1]])\n",
    "    for data_idx in range(n_examples):\n",
    "        i = labels[data_idx]    #y_noise\n",
    "        j = None                #y_true -> to find\n",
    "        #Lưu ý điểm mình bị sai: vị trí của chúng không ứng với label\n",
    "        p_j = -1\n",
    "        for candidate_j in range(n_classes):\n",
    "            p = pred_probs[data_idx, candidate_j]\n",
    "            if p >= thresholds[candidate_j] and p > p_j:\n",
    "                j = candidate_j\n",
    "                p_j = p\n",
    "        if j is not None:\n",
    "            confident_joint[i][j] += 1\n",
    "        positions = np.append(positions, np.array([[i, j]]), axis=0)\n",
    "    return confident_joint, positions"
   ]
  },
  {
   "cell_type": "code",
   "execution_count": 25,
   "metadata": {},
   "outputs": [
    {
     "name": "stdout",
     "output_type": "stream",
     "text": [
      "[[605 335]\n",
      " [321 601]]\n"
     ]
    }
   ],
   "source": [
    "C, positions = compute_confident_joint(pred_probs, labels.to_numpy(), thresholds)\n",
    "print(C)\n",
    "# print(positions)"
   ]
  },
  {
   "attachments": {},
   "cell_type": "markdown",
   "metadata": {},
   "source": [
    "## 3.5 Count the number of label issues"
   ]
  },
  {
   "cell_type": "code",
   "execution_count": 26,
   "metadata": {},
   "outputs": [
    {
     "data": {
      "text/plain": [
       "656"
      ]
     },
     "execution_count": 26,
     "metadata": {},
     "output_type": "execute_result"
    }
   ],
   "source": [
    "num_label_issues = C.sum() - C.trace()\n",
    "num_label_issues"
   ]
  },
  {
   "cell_type": "code",
   "execution_count": 27,
   "metadata": {},
   "outputs": [
    {
     "name": "stdout",
     "output_type": "stream",
     "text": [
      "Estimated noise rate: 31.4%\n"
     ]
    }
   ],
   "source": [
    "print('Estimated noise rate: {:.1f}%'.format(100*num_label_issues / pred_probs.shape[0]))"
   ]
  },
  {
   "attachments": {},
   "cell_type": "markdown",
   "metadata": {},
   "source": [
    "## 3.6. Filter out label issues"
   ]
  },
  {
   "cell_type": "code",
   "execution_count": 28,
   "metadata": {},
   "outputs": [
    {
     "data": {
      "text/plain": [
       "(2086, 2)"
      ]
     },
     "execution_count": 28,
     "metadata": {},
     "output_type": "execute_result"
    }
   ],
   "source": [
    "pred_probs.shape"
   ]
  },
  {
   "cell_type": "code",
   "execution_count": 29,
   "metadata": {},
   "outputs": [],
   "source": [
    "self_confidences = []\n",
    "for i in range(pred_probs.shape[0]):\n",
    "    self_confidences.append(pred_probs[i, labels[i]])\n",
    "self_confidences = np.array(self_confidences)"
   ]
  },
  {
   "cell_type": "code",
   "execution_count": 30,
   "metadata": {},
   "outputs": [
    {
     "data": {
      "text/plain": [
       "array([1128, 1376, 1270,  676, 1132])"
      ]
     },
     "execution_count": 30,
     "metadata": {},
     "output_type": "execute_result"
    }
   ],
   "source": [
    "ranked_indices = np.argsort(self_confidences)\n",
    "ranked_indices[0:5]"
   ]
  },
  {
   "cell_type": "code",
   "execution_count": 31,
   "metadata": {},
   "outputs": [
    {
     "name": "stdout",
     "output_type": "stream",
     "text": [
      "656\n"
     ]
    }
   ],
   "source": [
    "issue_idx = ranked_indices[:num_label_issues]\n",
    "print(len(issue_idx))"
   ]
  },
  {
   "cell_type": "code",
   "execution_count": 32,
   "metadata": {},
   "outputs": [
    {
     "data": {
      "text/html": [
       "<div>\n",
       "<style scoped>\n",
       "    .dataframe tbody tr th:only-of-type {\n",
       "        vertical-align: middle;\n",
       "    }\n",
       "\n",
       "    .dataframe tbody tr th {\n",
       "        vertical-align: top;\n",
       "    }\n",
       "\n",
       "    .dataframe thead th {\n",
       "        text-align: right;\n",
       "    }\n",
       "</style>\n",
       "<table border=\"1\" class=\"dataframe\">\n",
       "  <thead>\n",
       "    <tr style=\"text-align: right;\">\n",
       "      <th></th>\n",
       "      <th>CID</th>\n",
       "      <th>SMILES</th>\n",
       "      <th>AVG_IC50_uM</th>\n",
       "      <th>FIRST_LABEL</th>\n",
       "      <th>FINAL_LABEL</th>\n",
       "      <th>DUPLICATE_COUNTS</th>\n",
       "    </tr>\n",
       "  </thead>\n",
       "  <tbody>\n",
       "    <tr>\n",
       "      <th>1128</th>\n",
       "      <td>155529983</td>\n",
       "      <td>COC1=CC(=C(C=C1)OC)CNCC2=CC=C(C=C2)/C=C/C(=O)NO</td>\n",
       "      <td>1.750000</td>\n",
       "      <td>Active</td>\n",
       "      <td>Inactive</td>\n",
       "      <td>1</td>\n",
       "    </tr>\n",
       "    <tr>\n",
       "      <th>1376</th>\n",
       "      <td>162676857</td>\n",
       "      <td>CCC(=O)CCCCC[C@@H](C1=NC=C(N1)C2=C(C=CC(=C2F)F...</td>\n",
       "      <td>1.550000</td>\n",
       "      <td>Active</td>\n",
       "      <td>Inactive</td>\n",
       "      <td>1</td>\n",
       "    </tr>\n",
       "    <tr>\n",
       "      <th>1270</th>\n",
       "      <td>162651205</td>\n",
       "      <td>CCC(=O)CCCCC[C@@H](C1=C(N=C(N1)C2=C(N=CC=C2)OC...</td>\n",
       "      <td>1.336667</td>\n",
       "      <td>Active</td>\n",
       "      <td>Inactive</td>\n",
       "      <td>3</td>\n",
       "    </tr>\n",
       "    <tr>\n",
       "      <th>676</th>\n",
       "      <td>86344268</td>\n",
       "      <td>C1=CC=C(C=C1)S(=O)(=O)C2=[N+](ON=C2OCCCC(=O)NO...</td>\n",
       "      <td>0.050000</td>\n",
       "      <td>Active</td>\n",
       "      <td>Active</td>\n",
       "      <td>1</td>\n",
       "    </tr>\n",
       "    <tr>\n",
       "      <th>1132</th>\n",
       "      <td>155532052</td>\n",
       "      <td>COC1=C(C(=CC=C1)OC)CNCC2=CC=C(C=C2)/C=C/C(=O)NO</td>\n",
       "      <td>1.080000</td>\n",
       "      <td>Active</td>\n",
       "      <td>Inactive</td>\n",
       "      <td>1</td>\n",
       "    </tr>\n",
       "  </tbody>\n",
       "</table>\n",
       "</div>"
      ],
      "text/plain": [
       "            CID                                             SMILES  \\\n",
       "1128  155529983    COC1=CC(=C(C=C1)OC)CNCC2=CC=C(C=C2)/C=C/C(=O)NO   \n",
       "1376  162676857  CCC(=O)CCCCC[C@@H](C1=NC=C(N1)C2=C(C=CC(=C2F)F...   \n",
       "1270  162651205  CCC(=O)CCCCC[C@@H](C1=C(N=C(N1)C2=C(N=CC=C2)OC...   \n",
       "676    86344268  C1=CC=C(C=C1)S(=O)(=O)C2=[N+](ON=C2OCCCC(=O)NO...   \n",
       "1132  155532052    COC1=C(C(=CC=C1)OC)CNCC2=CC=C(C=C2)/C=C/C(=O)NO   \n",
       "\n",
       "      AVG_IC50_uM FIRST_LABEL FINAL_LABEL  DUPLICATE_COUNTS  \n",
       "1128     1.750000      Active    Inactive                 1  \n",
       "1376     1.550000      Active    Inactive                 1  \n",
       "1270     1.336667      Active    Inactive                 3  \n",
       "676      0.050000      Active      Active                 1  \n",
       "1132     1.080000      Active    Inactive                 1  "
      ]
     },
     "execution_count": 32,
     "metadata": {},
     "output_type": "execute_result"
    }
   ],
   "source": [
    "dataset_c.iloc[ranked_indices[:5]]"
   ]
  },
  {
   "cell_type": "code",
   "execution_count": 33,
   "metadata": {},
   "outputs": [
    {
     "data": {
      "text/plain": [
       "Int64Index([1904], dtype='int64')"
      ]
     },
     "execution_count": 33,
     "metadata": {},
     "output_type": "execute_result"
    }
   ],
   "source": [
    "dataset_c.loc[dataset_c['CID'] == 141522811].index"
   ]
  },
  {
   "attachments": {},
   "cell_type": "markdown",
   "metadata": {},
   "source": [
    "# 4. Train a More Robust Model\n",
    "\n",
    "Now that we have the indices of potential label errors within our data, let's remove them from our data, retrain our model, and see what improvement we can gain.\n",
    "\n",
    "Keep in mind that our baseline model from above, trained on the original data using the `noisy_letter_grade` as the prediction label, achieved a cross-validation accuracy of 67%.\n",
    "\n",
    "Let's use a very simple method to handle these label errors and just drop them entirely from the data and retrain our exact same `XGBClassifier`. In a real-world application, a better approach might be to have humans review the issues and _correct_ the labels rather than dropping the data points."
   ]
  },
  {
   "cell_type": "code",
   "execution_count": 34,
   "metadata": {},
   "outputs": [],
   "source": [
    "# Remove the label errors found by Confident Learning\n",
    "data_rm = dataset.drop(issue_idx)\n",
    "# encoding the label\n",
    "clean_labels = preprocessing.LabelEncoder().fit_transform(data_rm['FINAL_LABEL'])\n",
    "# encoding the smiles\n",
    "data = maccs_fpts(data_rm.SMILES)\n",
    "data = pd.DataFrame(data=data)"
   ]
  },
  {
   "cell_type": "code",
   "execution_count": 35,
   "metadata": {},
   "outputs": [
    {
     "data": {
      "text/plain": [
       "1430"
      ]
     },
     "execution_count": 35,
     "metadata": {},
     "output_type": "execute_result"
    }
   ],
   "source": [
    "len(data)"
   ]
  },
  {
   "cell_type": "code",
   "execution_count": 36,
   "metadata": {},
   "outputs": [
    {
     "data": {
      "text/plain": [
       "1430"
      ]
     },
     "execution_count": 36,
     "metadata": {},
     "output_type": "execute_result"
    }
   ],
   "source": [
    "len(clean_labels)"
   ]
  },
  {
   "cell_type": "code",
   "execution_count": 37,
   "metadata": {},
   "outputs": [
    {
     "name": "stdout",
     "output_type": "stream",
     "text": [
      "Accuracy with original data: 63.4%\n",
      "Accuracy with errors found by Confident Learning removed: 91.6%\n",
      "Reduction in error: 77.1%\n"
     ]
    }
   ],
   "source": [
    "# Train a more robust classifier with less erroneous data\n",
    "model = XGBClassifier(tree_method=\"hist\", enable_categorical=True)\n",
    "clean_pred_probs = cross_val_predict(model, data, clean_labels, method='predict_proba')\n",
    "clean_preds = np.argmax(clean_pred_probs, axis=1)\n",
    "\n",
    "acc_clean = accuracy_score(clean_preds, clean_labels)\n",
    "print(f\"Accuracy with original data: {round(acc_original*100, 1)}%\")\n",
    "print(f\"Accuracy with errors found by Confident Learning removed: {round(acc_clean*100, 1)}%\")\n",
    "\n",
    "# Compute reduction in error.\n",
    "err = ((1-acc_original)-(1-acc_clean))/(1-acc_original)\n",
    "print(f\"Reduction in error: {round(err*100,1)}%\")"
   ]
  },
  {
   "attachments": {},
   "cell_type": "markdown",
   "metadata": {},
   "source": [
    "__Cross validation test__"
   ]
  },
  {
   "cell_type": "code",
   "execution_count": 38,
   "metadata": {},
   "outputs": [
    {
     "name": "stdout",
     "output_type": "stream",
     "text": [
      "Độ chính xác của 10-fold cross validation XG_Boost: 0.955 (0.015)\n"
     ]
    },
    {
     "data": {
      "text/plain": [
       "[0.9230769230769231,\n",
       " 0.9300699300699301,\n",
       " 0.951048951048951,\n",
       " 0.958041958041958,\n",
       " 0.958041958041958,\n",
       " 0.958041958041958,\n",
       " 0.965034965034965,\n",
       " 0.965034965034965,\n",
       " 0.965034965034965,\n",
       " 0.972027972027972]"
      ]
     },
     "execution_count": 38,
     "metadata": {},
     "output_type": "execute_result"
    }
   ],
   "source": [
    "from sklearn.model_selection import cross_val_score\n",
    "from sklearn.model_selection import KFold\n",
    "#xg_boost\n",
    "cv = KFold(n_splits=10, random_state=1, shuffle=True)\n",
    "bst_scores = cross_val_score(model, data, clean_labels, scoring='accuracy', cv=cv, n_jobs=-1)\n",
    "print('Độ chính xác của 10-fold cross validation XG_Boost: %.3f (%.3f)' % (bst_scores.mean(), bst_scores.std()))\n",
    "sorted(bst_scores)"
   ]
  },
  {
   "attachments": {},
   "cell_type": "markdown",
   "metadata": {},
   "source": [
    "# 5. Using clean lab to find the label issues"
   ]
  },
  {
   "cell_type": "code",
   "execution_count": 40,
   "metadata": {},
   "outputs": [],
   "source": [
    "import cleanlab\n",
    "cl_issue_idx = cleanlab.filter.find_label_issues(labels, pred_probs, return_indices_ranked_by='self_confidence')"
   ]
  },
  {
   "cell_type": "code",
   "execution_count": 41,
   "metadata": {},
   "outputs": [
    {
     "data": {
      "text/plain": [
       "734"
      ]
     },
     "execution_count": 41,
     "metadata": {},
     "output_type": "execute_result"
    }
   ],
   "source": [
    "len(cl_issue_idx)"
   ]
  },
  {
   "attachments": {},
   "cell_type": "markdown",
   "metadata": {},
   "source": [
    "# 6. Create clean train-test set from clean data"
   ]
  },
  {
   "cell_type": "code",
   "execution_count": 42,
   "metadata": {},
   "outputs": [],
   "source": [
    "clean_dataset = dataset_c.drop(issue_idx)\n",
    "issue_dataset = dataset_c.loc[issue_idx]"
   ]
  },
  {
   "cell_type": "code",
   "execution_count": 43,
   "metadata": {},
   "outputs": [
    {
     "name": "stdout",
     "output_type": "stream",
     "text": [
      "656\n"
     ]
    },
    {
     "data": {
      "text/html": [
       "<div>\n",
       "<style scoped>\n",
       "    .dataframe tbody tr th:only-of-type {\n",
       "        vertical-align: middle;\n",
       "    }\n",
       "\n",
       "    .dataframe tbody tr th {\n",
       "        vertical-align: top;\n",
       "    }\n",
       "\n",
       "    .dataframe thead th {\n",
       "        text-align: right;\n",
       "    }\n",
       "</style>\n",
       "<table border=\"1\" class=\"dataframe\">\n",
       "  <thead>\n",
       "    <tr style=\"text-align: right;\">\n",
       "      <th></th>\n",
       "      <th>CID</th>\n",
       "      <th>SMILES</th>\n",
       "      <th>AVG_IC50_uM</th>\n",
       "      <th>FIRST_LABEL</th>\n",
       "      <th>FINAL_LABEL</th>\n",
       "      <th>DUPLICATE_COUNTS</th>\n",
       "    </tr>\n",
       "  </thead>\n",
       "  <tbody>\n",
       "    <tr>\n",
       "      <th>1128</th>\n",
       "      <td>155529983</td>\n",
       "      <td>COC1=CC(=C(C=C1)OC)CNCC2=CC=C(C=C2)/C=C/C(=O)NO</td>\n",
       "      <td>1.750000</td>\n",
       "      <td>Active</td>\n",
       "      <td>Inactive</td>\n",
       "      <td>1</td>\n",
       "    </tr>\n",
       "    <tr>\n",
       "      <th>1376</th>\n",
       "      <td>162676857</td>\n",
       "      <td>CCC(=O)CCCCC[C@@H](C1=NC=C(N1)C2=C(C=CC(=C2F)F...</td>\n",
       "      <td>1.550000</td>\n",
       "      <td>Active</td>\n",
       "      <td>Inactive</td>\n",
       "      <td>1</td>\n",
       "    </tr>\n",
       "    <tr>\n",
       "      <th>1270</th>\n",
       "      <td>162651205</td>\n",
       "      <td>CCC(=O)CCCCC[C@@H](C1=C(N=C(N1)C2=C(N=CC=C2)OC...</td>\n",
       "      <td>1.336667</td>\n",
       "      <td>Active</td>\n",
       "      <td>Inactive</td>\n",
       "      <td>3</td>\n",
       "    </tr>\n",
       "    <tr>\n",
       "      <th>676</th>\n",
       "      <td>86344268</td>\n",
       "      <td>C1=CC=C(C=C1)S(=O)(=O)C2=[N+](ON=C2OCCCC(=O)NO...</td>\n",
       "      <td>0.050000</td>\n",
       "      <td>Active</td>\n",
       "      <td>Active</td>\n",
       "      <td>1</td>\n",
       "    </tr>\n",
       "    <tr>\n",
       "      <th>1132</th>\n",
       "      <td>155532052</td>\n",
       "      <td>COC1=C(C(=CC=C1)OC)CNCC2=CC=C(C=C2)/C=C/C(=O)NO</td>\n",
       "      <td>1.080000</td>\n",
       "      <td>Active</td>\n",
       "      <td>Inactive</td>\n",
       "      <td>1</td>\n",
       "    </tr>\n",
       "  </tbody>\n",
       "</table>\n",
       "</div>"
      ],
      "text/plain": [
       "            CID                                             SMILES  \\\n",
       "1128  155529983    COC1=CC(=C(C=C1)OC)CNCC2=CC=C(C=C2)/C=C/C(=O)NO   \n",
       "1376  162676857  CCC(=O)CCCCC[C@@H](C1=NC=C(N1)C2=C(C=CC(=C2F)F...   \n",
       "1270  162651205  CCC(=O)CCCCC[C@@H](C1=C(N=C(N1)C2=C(N=CC=C2)OC...   \n",
       "676    86344268  C1=CC=C(C=C1)S(=O)(=O)C2=[N+](ON=C2OCCCC(=O)NO...   \n",
       "1132  155532052    COC1=C(C(=CC=C1)OC)CNCC2=CC=C(C=C2)/C=C/C(=O)NO   \n",
       "\n",
       "      AVG_IC50_uM FIRST_LABEL FINAL_LABEL  DUPLICATE_COUNTS  \n",
       "1128     1.750000      Active    Inactive                 1  \n",
       "1376     1.550000      Active    Inactive                 1  \n",
       "1270     1.336667      Active    Inactive                 3  \n",
       "676      0.050000      Active      Active                 1  \n",
       "1132     1.080000      Active    Inactive                 1  "
      ]
     },
     "execution_count": 43,
     "metadata": {},
     "output_type": "execute_result"
    }
   ],
   "source": [
    "print(len(issue_dataset))\n",
    "issue_dataset.head()"
   ]
  },
  {
   "cell_type": "code",
   "execution_count": 44,
   "metadata": {},
   "outputs": [
    {
     "data": {
      "text/plain": [
       "1430"
      ]
     },
     "execution_count": 44,
     "metadata": {},
     "output_type": "execute_result"
    }
   ],
   "source": [
    "len(clean_dataset)"
   ]
  },
  {
   "attachments": {},
   "cell_type": "markdown",
   "metadata": {},
   "source": [
    "## 6.1. Check the profile of the clean data"
   ]
  },
  {
   "cell_type": "code",
   "execution_count": 45,
   "metadata": {},
   "outputs": [
    {
     "name": "stdout",
     "output_type": "stream",
     "text": [
      "Total dataset\n",
      "╒════════════════╤══════════╤════════════╤════════════════╤═══════════════╕\n",
      "│                │   Active │   Inactive │   Inconclusive │   Unspecified │\n",
      "╞════════════════╪══════════╪════════════╪════════════════╪═══════════════╡\n",
      "│ Number         │      715 │        715 │              0 │             0 │\n",
      "├────────────────┼──────────┼────────────┼────────────────┼───────────────┤\n",
      "│ Percentage (%) │       50 │         50 │              0 │             0 │\n",
      "╘════════════════╧══════════╧════════════╧════════════════╧═══════════════╛\n"
     ]
    }
   ],
   "source": [
    "check_activity_distribution(dataset=clean_dataset, col_name='FINAL_LABEL')"
   ]
  },
  {
   "attachments": {},
   "cell_type": "markdown",
   "metadata": {},
   "source": [
    "## 6.2. Write data to file"
   ]
  },
  {
   "cell_type": "code",
   "execution_count": 46,
   "metadata": {},
   "outputs": [],
   "source": [
    "clean_data_path = \"../../data_for_modeling/filter_data/all_data/clean_data/\"\n",
    "unclean_data_path = \"../../data_for_modeling/filter_data/all_data/unclean_data/\"\n",
    "other_data_path = \"../../data_for_modeling/filter_data/all_data/others/\""
   ]
  },
  {
   "cell_type": "code",
   "execution_count": 47,
   "metadata": {},
   "outputs": [
    {
     "data": {
      "text/plain": [
       "(2086, 2)"
      ]
     },
     "execution_count": 47,
     "metadata": {},
     "output_type": "execute_result"
    }
   ],
   "source": [
    "pred_probs.shape"
   ]
  },
  {
   "cell_type": "code",
   "execution_count": 48,
   "metadata": {},
   "outputs": [
    {
     "data": {
      "text/html": [
       "<div>\n",
       "<style scoped>\n",
       "    .dataframe tbody tr th:only-of-type {\n",
       "        vertical-align: middle;\n",
       "    }\n",
       "\n",
       "    .dataframe tbody tr th {\n",
       "        vertical-align: top;\n",
       "    }\n",
       "\n",
       "    .dataframe thead th {\n",
       "        text-align: right;\n",
       "    }\n",
       "</style>\n",
       "<table border=\"1\" class=\"dataframe\">\n",
       "  <thead>\n",
       "    <tr style=\"text-align: right;\">\n",
       "      <th></th>\n",
       "      <th>Active probality</th>\n",
       "      <th>Inactive probality</th>\n",
       "      <th>FINAL_LABEL</th>\n",
       "    </tr>\n",
       "  </thead>\n",
       "  <tbody>\n",
       "    <tr>\n",
       "      <th>0</th>\n",
       "      <td>0.006193</td>\n",
       "      <td>0.993807</td>\n",
       "      <td>Inactive</td>\n",
       "    </tr>\n",
       "    <tr>\n",
       "      <th>1</th>\n",
       "      <td>0.504518</td>\n",
       "      <td>0.495482</td>\n",
       "      <td>Inactive</td>\n",
       "    </tr>\n",
       "    <tr>\n",
       "      <th>2</th>\n",
       "      <td>0.504518</td>\n",
       "      <td>0.495482</td>\n",
       "      <td>Inactive</td>\n",
       "    </tr>\n",
       "    <tr>\n",
       "      <th>3</th>\n",
       "      <td>0.371631</td>\n",
       "      <td>0.628369</td>\n",
       "      <td>Inactive</td>\n",
       "    </tr>\n",
       "    <tr>\n",
       "      <th>4</th>\n",
       "      <td>0.205154</td>\n",
       "      <td>0.794846</td>\n",
       "      <td>Inactive</td>\n",
       "    </tr>\n",
       "  </tbody>\n",
       "</table>\n",
       "</div>"
      ],
      "text/plain": [
       "   Active probality  Inactive probality FINAL_LABEL\n",
       "0          0.006193            0.993807    Inactive\n",
       "1          0.504518            0.495482    Inactive\n",
       "2          0.504518            0.495482    Inactive\n",
       "3          0.371631            0.628369    Inactive\n",
       "4          0.205154            0.794846    Inactive"
      ]
     },
     "execution_count": 48,
     "metadata": {},
     "output_type": "execute_result"
    }
   ],
   "source": [
    "pred_probs_df = pd.DataFrame(pred_probs, columns=['Active probality', 'Inactive probality'])\n",
    "pred_probs_df = pd.concat([pred_probs_df, dataset_c['FINAL_LABEL']], axis=1)\n",
    "pred_probs_df.head()"
   ]
  },
  {
   "cell_type": "code",
   "execution_count": 49,
   "metadata": {},
   "outputs": [],
   "source": [
    "from openpyxl import Workbook\n",
    "\n",
    "writer = pd.ExcelWriter(other_data_path + 'HDAC2_all_clean_data_and_issue_dataset.xlsx', engine='openpyxl')\n",
    "dataset_c.to_excel(writer, sheet_name='all_data', index=False)\n",
    "clean_dataset.to_excel(writer, sheet_name='clean_data', index=False)\n",
    "issue_dataset.to_excel(writer, sheet_name='issue_data', index=False)\n",
    "pred_probs_df.to_excel(writer, sheet_name='prediction_probality', index=False)\n",
    "writer.close()"
   ]
  },
  {
   "attachments": {},
   "cell_type": "markdown",
   "metadata": {},
   "source": [
    "## 6.3. Create clean data"
   ]
  },
  {
   "cell_type": "code",
   "execution_count": 50,
   "metadata": {},
   "outputs": [],
   "source": [
    "random_state = 42"
   ]
  },
  {
   "cell_type": "code",
   "execution_count": 51,
   "metadata": {},
   "outputs": [
    {
     "data": {
      "text/plain": [
       "1430"
      ]
     },
     "execution_count": 51,
     "metadata": {},
     "output_type": "execute_result"
    }
   ],
   "source": [
    "train_test_data = clean_dataset.drop(['FIRST_LABEL', 'DUPLICATE_COUNTS'], axis = 1)\n",
    "len(train_test_data)"
   ]
  },
  {
   "cell_type": "code",
   "execution_count": 52,
   "metadata": {},
   "outputs": [],
   "source": [
    "from sklearn.model_selection import train_test_split\n",
    "train_dataset, test_dataset = train_test_split(train_test_data, test_size=0.2, random_state=random_state)"
   ]
  },
  {
   "cell_type": "code",
   "execution_count": 53,
   "metadata": {},
   "outputs": [
    {
     "data": {
      "text/html": [
       "<div>\n",
       "<style scoped>\n",
       "    .dataframe tbody tr th:only-of-type {\n",
       "        vertical-align: middle;\n",
       "    }\n",
       "\n",
       "    .dataframe tbody tr th {\n",
       "        vertical-align: top;\n",
       "    }\n",
       "\n",
       "    .dataframe thead th {\n",
       "        text-align: right;\n",
       "    }\n",
       "</style>\n",
       "<table border=\"1\" class=\"dataframe\">\n",
       "  <thead>\n",
       "    <tr style=\"text-align: right;\">\n",
       "      <th></th>\n",
       "      <th>CID</th>\n",
       "      <th>SMILES</th>\n",
       "      <th>AVG_IC50_uM</th>\n",
       "      <th>FINAL_LABEL</th>\n",
       "    </tr>\n",
       "  </thead>\n",
       "  <tbody>\n",
       "    <tr>\n",
       "      <th>450</th>\n",
       "      <td>59756717</td>\n",
       "      <td>C[C@H](C1=CC=CC=C1)NC2=NC=NC3=C2C=C(N3)C4=CC=C...</td>\n",
       "      <td>0.10</td>\n",
       "      <td>Active</td>\n",
       "    </tr>\n",
       "    <tr>\n",
       "      <th>1719</th>\n",
       "      <td>71462355</td>\n",
       "      <td>CCC(=O)CCCCC[C@H]1C(=O)N(CC(=O)N[C@H](CC(=O)N(...</td>\n",
       "      <td>10.00</td>\n",
       "      <td>Inactive</td>\n",
       "    </tr>\n",
       "    <tr>\n",
       "      <th>58</th>\n",
       "      <td>10246779</td>\n",
       "      <td>C1=CC=C(C=C1)CNCCN2C=CC(=N2)C3=CC=C(S3)C(=O)NO</td>\n",
       "      <td>0.03</td>\n",
       "      <td>Active</td>\n",
       "    </tr>\n",
       "    <tr>\n",
       "      <th>303</th>\n",
       "      <td>44138032</td>\n",
       "      <td>C1=CC(=CC=C1CO/N=C/C2=CC=C(C=C2)/C=C/C(=O)NO)[...</td>\n",
       "      <td>2.67</td>\n",
       "      <td>Inactive</td>\n",
       "    </tr>\n",
       "    <tr>\n",
       "      <th>1455</th>\n",
       "      <td>166630119</td>\n",
       "      <td>COC1=CC(=C(C=C1)C2=NC=C(S2)C(=O)NCCCCC(=O)NO)OC</td>\n",
       "      <td>0.69</td>\n",
       "      <td>Active</td>\n",
       "    </tr>\n",
       "  </tbody>\n",
       "</table>\n",
       "</div>"
      ],
      "text/plain": [
       "            CID                                             SMILES  \\\n",
       "450    59756717  C[C@H](C1=CC=CC=C1)NC2=NC=NC3=C2C=C(N3)C4=CC=C...   \n",
       "1719   71462355  CCC(=O)CCCCC[C@H]1C(=O)N(CC(=O)N[C@H](CC(=O)N(...   \n",
       "58     10246779     C1=CC=C(C=C1)CNCCN2C=CC(=N2)C3=CC=C(S3)C(=O)NO   \n",
       "303    44138032  C1=CC(=CC=C1CO/N=C/C2=CC=C(C=C2)/C=C/C(=O)NO)[...   \n",
       "1455  166630119    COC1=CC(=C(C=C1)C2=NC=C(S2)C(=O)NCCCCC(=O)NO)OC   \n",
       "\n",
       "      AVG_IC50_uM FINAL_LABEL  \n",
       "450          0.10      Active  \n",
       "1719        10.00    Inactive  \n",
       "58           0.03      Active  \n",
       "303          2.67    Inactive  \n",
       "1455         0.69      Active  "
      ]
     },
     "execution_count": 53,
     "metadata": {},
     "output_type": "execute_result"
    }
   ],
   "source": [
    "train_dataset.head()"
   ]
  },
  {
   "cell_type": "code",
   "execution_count": 54,
   "metadata": {},
   "outputs": [
    {
     "name": "stdout",
     "output_type": "stream",
     "text": [
      "Total dataset\n",
      "╒════════════════╤══════════╤════════════╤════════════════╤═══════════════╕\n",
      "│                │   Active │   Inactive │   Inconclusive │   Unspecified │\n",
      "╞════════════════╪══════════╪════════════╪════════════════╪═══════════════╡\n",
      "│ Number         │ 570      │   574      │              0 │             0 │\n",
      "├────────────────┼──────────┼────────────┼────────────────┼───────────────┤\n",
      "│ Percentage (%) │  49.8252 │    50.1748 │              0 │             0 │\n",
      "╘════════════════╧══════════╧════════════╧════════════════╧═══════════════╛\n"
     ]
    }
   ],
   "source": [
    "check_activity_distribution(dataset=train_dataset, col_name='FINAL_LABEL')"
   ]
  },
  {
   "cell_type": "code",
   "execution_count": 55,
   "metadata": {},
   "outputs": [
    {
     "name": "stdout",
     "output_type": "stream",
     "text": [
      "Total dataset\n",
      "╒════════════════╤══════════╤════════════╤════════════════╤═══════════════╕\n",
      "│                │   Active │   Inactive │   Inconclusive │   Unspecified │\n",
      "╞════════════════╪══════════╪════════════╪════════════════╪═══════════════╡\n",
      "│ Number         │ 145      │   141      │              0 │             0 │\n",
      "├────────────────┼──────────┼────────────┼────────────────┼───────────────┤\n",
      "│ Percentage (%) │  50.6993 │    49.3007 │              0 │             0 │\n",
      "╘════════════════╧══════════╧════════════╧════════════════╧═══════════════╛\n"
     ]
    }
   ],
   "source": [
    "check_activity_distribution(dataset=test_dataset, col_name='FINAL_LABEL')"
   ]
  },
  {
   "cell_type": "code",
   "execution_count": 56,
   "metadata": {},
   "outputs": [],
   "source": [
    "with pd.ExcelWriter(clean_data_path+'HDAC2_train_test_clean_data_all.xlsx', engine='openpyxl') as writer:\n",
    "    train_dataset.to_excel(writer, sheet_name='train_dataset', index=False)\n",
    "    test_dataset.to_excel(writer, sheet_name='test_dataset', index=False)"
   ]
  },
  {
   "attachments": {},
   "cell_type": "markdown",
   "metadata": {},
   "source": [
    "## 6.2. Create unclean data"
   ]
  },
  {
   "cell_type": "code",
   "execution_count": 57,
   "metadata": {},
   "outputs": [
    {
     "data": {
      "text/plain": [
       "2086"
      ]
     },
     "execution_count": 57,
     "metadata": {},
     "output_type": "execute_result"
    }
   ],
   "source": [
    "len(dataset_c)"
   ]
  },
  {
   "cell_type": "code",
   "execution_count": 58,
   "metadata": {},
   "outputs": [],
   "source": [
    "unclean_train_test_data = dataset_c.drop(['FIRST_LABEL', 'DUPLICATE_COUNTS'], axis = 1)\n",
    "unclean_train_dataset, unclean_test_dataset = train_test_split(unclean_train_test_data, test_size=0.25, random_state=random_state)"
   ]
  },
  {
   "cell_type": "code",
   "execution_count": 59,
   "metadata": {},
   "outputs": [
    {
     "name": "stdout",
     "output_type": "stream",
     "text": [
      "Total dataset\n",
      "╒════════════════╤══════════╤════════════╤════════════════╤═══════════════╕\n",
      "│                │   Active │   Inactive │   Inconclusive │   Unspecified │\n",
      "╞════════════════╪══════════╪════════════╪════════════════╪═══════════════╡\n",
      "│ Number         │ 788      │   776      │              0 │             0 │\n",
      "├────────────────┼──────────┼────────────┼────────────────┼───────────────┤\n",
      "│ Percentage (%) │  50.3836 │    49.6164 │              0 │             0 │\n",
      "╘════════════════╧══════════╧════════════╧════════════════╧═══════════════╛\n"
     ]
    }
   ],
   "source": [
    "check_activity_distribution(unclean_train_dataset, 'FINAL_LABEL')"
   ]
  },
  {
   "cell_type": "code",
   "execution_count": 60,
   "metadata": {},
   "outputs": [
    {
     "name": "stdout",
     "output_type": "stream",
     "text": [
      "Total dataset\n",
      "╒════════════════╤══════════╤════════════╤════════════════╤═══════════════╕\n",
      "│                │   Active │   Inactive │   Inconclusive │   Unspecified │\n",
      "╞════════════════╪══════════╪════════════╪════════════════╪═══════════════╡\n",
      "│ Number         │ 271      │   251      │              0 │             0 │\n",
      "├────────────────┼──────────┼────────────┼────────────────┼───────────────┤\n",
      "│ Percentage (%) │  51.9157 │    48.0843 │              0 │             0 │\n",
      "╘════════════════╧══════════╧════════════╧════════════════╧═══════════════╛\n"
     ]
    }
   ],
   "source": [
    "check_activity_distribution(unclean_test_dataset, 'FINAL_LABEL')"
   ]
  },
  {
   "cell_type": "code",
   "execution_count": 61,
   "metadata": {},
   "outputs": [],
   "source": [
    "with pd.ExcelWriter(unclean_data_path+'HDAC2_train_test_unclean_data_all.xlsx', engine='openpyxl') as writer:\n",
    "    unclean_train_dataset.to_excel(writer, sheet_name='train_dataset', index=False)\n",
    "    unclean_test_dataset.to_excel(writer, sheet_name='test_dataset', index=False)"
   ]
  }
 ],
 "metadata": {
  "kernelspec": {
   "display_name": "Python 3",
   "language": "python",
   "name": "python3"
  },
  "language_info": {
   "codemirror_mode": {
    "name": "ipython",
    "version": 3
   },
   "file_extension": ".py",
   "mimetype": "text/x-python",
   "name": "python",
   "nbconvert_exporter": "python",
   "pygments_lexer": "ipython3",
   "version": "3.11.3"
  },
  "orig_nbformat": 4
 },
 "nbformat": 4,
 "nbformat_minor": 2
}
