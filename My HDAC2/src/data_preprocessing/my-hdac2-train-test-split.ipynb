{
 "cells": [
  {
   "cell_type": "code",
   "execution_count": null,
   "metadata": {},
   "outputs": [],
   "source": [
    "from rdkit.Chem import AllChem\n",
    "from rdkit import Chem\n",
    "from rdkit.Chem import Descriptors, MACCSkeys\n",
    "from rdkit.ML.Descriptors import MoleculeDescriptors\n",
    "\n",
    "import pandas as pd\n",
    "import numpy as np\n",
    "import matplotlib.pyplot as plt\n",
    "from tabulate import tabulate\n",
    "from sklearn.model_selection import train_test_split\n",
    "from sklearn.compose import ColumnTransformer\n",
    "from sklearn.preprocessing import OneHotEncoder\n",
    "\n",
    "from mordred import Calculator, descriptors"
   ]
  },
  {
   "attachments": {},
   "cell_type": "markdown",
   "metadata": {},
   "source": [
    "# 1. Train test split"
   ]
  },
  {
   "cell_type": "code",
   "execution_count": 2,
   "metadata": {},
   "outputs": [],
   "source": [
    "dataset = pd.read_csv(\"../data_for_modeling/raw_data/v1/HDA2-unspec-removed.csv\")"
   ]
  },
  {
   "cell_type": "code",
   "execution_count": 3,
   "metadata": {},
   "outputs": [
    {
     "data": {
      "text/plain": [
       "779"
      ]
     },
     "execution_count": 3,
     "metadata": {},
     "output_type": "execute_result"
    }
   ],
   "source": [
    "len(dataset)"
   ]
  },
  {
   "cell_type": "code",
   "execution_count": 4,
   "metadata": {},
   "outputs": [],
   "source": [
    "def generate_train_test_file(output_file_path, random_state):\n",
    "    train_file_path = output_file_path + \"HDAC2_train_\" + str(random_state) + \".csv\"\n",
    "    test_file_path =  output_file_path + \"HDAC2_test_\" + str(random_state) + \".csv\"\n",
    "    \n",
    "    train_dataset, test_dataset = train_test_split(dataset, test_size=0.2, random_state=random_state)\n",
    "    y_Train = np.array(train_dataset['FINAL_LABEL'])\n",
    "    y_Test = np.array(test_dataset['FINAL_LABEL'])\n",
    "    \n",
    "    encoder = OneHotEncoder()\n",
    "\n",
    "    y_Train_2d = y_Train.reshape(-1, 1)\n",
    "    encoder.fit(y_Train_2d)\n",
    "    one_hot_encoded_data = encoder.transform(y_Train_2d).toarray()\n",
    "    y_Train_sc = one_hot_encoded_data[:, 0]\n",
    "    y_Train_sc.astype(np.int64)\n",
    "\n",
    "    y_Test_2d = y_Test.reshape(-1, 1)\n",
    "    encoder.fit(y_Test_2d)\n",
    "    one_hot_encoded_data = encoder.transform(y_Test_2d).toarray()\n",
    "    y_Test_sc = one_hot_encoded_data[:, 0]\n",
    "    y_Train_sc.astype(np.int64)\n",
    "\n",
    "    train_dataset.FINAL_LABEL = y_Train_sc\n",
    "    test_dataset.FINAL_LABEL = y_Test_sc\n",
    "    \n",
    "    # Save train and test sets to files\n",
    "    train_dataset.to_csv(train_file_path, index=False)\n",
    "    test_dataset.to_csv(test_file_path, index=False)"
   ]
  },
  {
   "cell_type": "code",
   "execution_count": 5,
   "metadata": {},
   "outputs": [],
   "source": [
    "output_file_path = \"../data_for_modeling/filter_data/v1/\"\n",
    "generate_train_test_file(output_file_path=output_file_path, random_state=1)"
   ]
  },
  {
   "attachments": {},
   "cell_type": "markdown",
   "metadata": {},
   "source": [
    "# 2. Generated data properties"
   ]
  },
  {
   "cell_type": "code",
   "execution_count": 9,
   "metadata": {},
   "outputs": [],
   "source": [
    "def show_activity_distribution(label, dataset):\n",
    "    #Rows for specific labels\n",
    "    active_rows = dataset.loc[dataset[label] == 1]\n",
    "    inactive_rows = dataset.loc[dataset[label] == 0]\n",
    "\n",
    "    dataset_length = len(dataset)    \n",
    "    print(\"Total dataset\")\n",
    "    table = [['', 'Active', 'Inactive', 'Inconclusive', 'Unspecified'], \n",
    "            ['Number', len(active_rows), len(inactive_rows)],\n",
    "            ['Percentage (%)', len(active_rows)/dataset_length*100, len(inactive_rows)/dataset_length*100]]\n",
    "    print(tabulate(table, headers='firstrow', tablefmt='fancy_grid'))"
   ]
  },
  {
   "cell_type": "code",
   "execution_count": 12,
   "metadata": {},
   "outputs": [
    {
     "name": "stdout",
     "output_type": "stream",
     "text": [
      "Total dataset\n",
      "╒════════════════╤══════════╤════════════╕\n",
      "│                │   Active │   Inactive │\n",
      "╞════════════════╪══════════╪════════════╡\n",
      "│ Number         │ 399      │   397      │\n",
      "├────────────────┼──────────┼────────────┤\n",
      "│ Percentage (%) │  50.1256 │    49.8744 │\n",
      "╘════════════════╧══════════╧════════════╛\n"
     ]
    }
   ],
   "source": [
    "train_dataset = pd.read_csv('../data_for_modeling/filter_data/v1/HDAC2_train_unspec_removed(1).csv')\n",
    "test_dataset = pd.read_csv('../data_for_modeling/filter_data/v1/HDAC2_test_unspec_removed.csv')\n",
    "show_activity_distribution('FINAL_LABEL', train_dataset)"
   ]
  },
  {
   "cell_type": "code",
   "execution_count": 13,
   "metadata": {},
   "outputs": [
    {
     "name": "stdout",
     "output_type": "stream",
     "text": [
      "Total dataset\n",
      "╒════════════════╤══════════╤════════════╕\n",
      "│                │   Active │   Inactive │\n",
      "╞════════════════╪══════════╪════════════╡\n",
      "│ Number         │ 102      │    54      │\n",
      "├────────────────┼──────────┼────────────┤\n",
      "│ Percentage (%) │  65.3846 │    34.6154 │\n",
      "╘════════════════╧══════════╧════════════╛\n"
     ]
    }
   ],
   "source": [
    "show_activity_distribution('FINAL_LABEL', test_dataset)"
   ]
  }
 ],
 "metadata": {
  "kernelspec": {
   "display_name": "Python 3",
   "language": "python",
   "name": "python3"
  },
  "language_info": {
   "codemirror_mode": {
    "name": "ipython",
    "version": 3
   },
   "file_extension": ".py",
   "mimetype": "text/x-python",
   "name": "python",
   "nbconvert_exporter": "python",
   "pygments_lexer": "ipython3",
   "version": "3.11.3"
  },
  "orig_nbformat": 4
 },
 "nbformat": 4,
 "nbformat_minor": 2
}
