{
 "cells": [
  {
   "cell_type": "code",
   "execution_count": 142,
   "metadata": {},
   "outputs": [],
   "source": [
    "from rdkit.Chem import AllChem\n",
    "from rdkit import Chem\n",
    "from rdkit.Chem import Descriptors, MACCSkeys\n",
    "from rdkit.ML.Descriptors import MoleculeDescriptors\n",
    "\n",
    "import pandas as pd\n",
    "import numpy as np\n",
    "import matplotlib.pyplot as plt\n",
    "import seaborn as sns\n",
    "from tabulate import tabulate\n",
    "\n",
    "from mordred import Calculator, descriptors"
   ]
  },
  {
   "attachments": {},
   "cell_type": "markdown",
   "metadata": {},
   "source": [
    "# Thông tin ban đầu về bộ dữ liệu"
   ]
  },
  {
   "attachments": {},
   "cell_type": "markdown",
   "metadata": {},
   "source": [
    "## 1. Đọc dữ liệu"
   ]
  },
  {
   "cell_type": "code",
   "execution_count": 143,
   "metadata": {},
   "outputs": [],
   "source": [
    "all_data_path = \"../../data_for_modeling/raw_data/all_data/HDAC2_ALL_DATA.xlsx\"\n",
    "# version1_data_path = \"../../data_for_modeling/raw_data/v1/HDAC2_original_data_v1.xlsx\"\n",
    "dataset = pd.read_excel(all_data_path, sheet_name='original_data')"
   ]
  },
  {
   "cell_type": "code",
   "execution_count": 144,
   "metadata": {},
   "outputs": [
    {
     "name": "stdout",
     "output_type": "stream",
     "text": [
      "4086\n"
     ]
    },
    {
     "data": {
      "text/html": [
       "<div>\n",
       "<style scoped>\n",
       "    .dataframe tbody tr th:only-of-type {\n",
       "        vertical-align: middle;\n",
       "    }\n",
       "\n",
       "    .dataframe tbody tr th {\n",
       "        vertical-align: top;\n",
       "    }\n",
       "\n",
       "    .dataframe thead th {\n",
       "        text-align: right;\n",
       "    }\n",
       "</style>\n",
       "<table border=\"1\" class=\"dataframe\">\n",
       "  <thead>\n",
       "    <tr style=\"text-align: right;\">\n",
       "      <th></th>\n",
       "      <th>CID</th>\n",
       "      <th>SMILES</th>\n",
       "      <th>IC50(uM)</th>\n",
       "      <th>Activity</th>\n",
       "    </tr>\n",
       "  </thead>\n",
       "  <tbody>\n",
       "    <tr>\n",
       "      <th>0</th>\n",
       "      <td>264</td>\n",
       "      <td>CCCC(=O)O</td>\n",
       "      <td>12.00</td>\n",
       "      <td>Unspecified</td>\n",
       "    </tr>\n",
       "    <tr>\n",
       "      <th>1</th>\n",
       "      <td>2662</td>\n",
       "      <td>CCCC(=O)O</td>\n",
       "      <td>NaN</td>\n",
       "      <td>Inconclusive</td>\n",
       "    </tr>\n",
       "    <tr>\n",
       "      <th>2</th>\n",
       "      <td>2746</td>\n",
       "      <td>CC(=O)NC1=CC=C(C=C1)C(=O)NC2=CC=CC=C2N</td>\n",
       "      <td>3.81</td>\n",
       "      <td>Active</td>\n",
       "    </tr>\n",
       "    <tr>\n",
       "      <th>3</th>\n",
       "      <td>2746</td>\n",
       "      <td>CC(=O)NC1=CC=C(C=C1)C(=O)NC2=CC=CC=C2N</td>\n",
       "      <td>1.20</td>\n",
       "      <td>Active</td>\n",
       "    </tr>\n",
       "    <tr>\n",
       "      <th>4</th>\n",
       "      <td>2746</td>\n",
       "      <td>CC(=O)NC1=CC=C(C=C1)C(=O)NC2=CC=CC=C2N</td>\n",
       "      <td>6.00</td>\n",
       "      <td>Active</td>\n",
       "    </tr>\n",
       "  </tbody>\n",
       "</table>\n",
       "</div>"
      ],
      "text/plain": [
       "    CID                                  SMILES  IC50(uM)      Activity\n",
       "0   264                               CCCC(=O)O     12.00   Unspecified\n",
       "1  2662                               CCCC(=O)O       NaN  Inconclusive\n",
       "2  2746  CC(=O)NC1=CC=C(C=C1)C(=O)NC2=CC=CC=C2N      3.81        Active\n",
       "3  2746  CC(=O)NC1=CC=C(C=C1)C(=O)NC2=CC=CC=C2N      1.20        Active\n",
       "4  2746  CC(=O)NC1=CC=C(C=C1)C(=O)NC2=CC=CC=C2N      6.00        Active"
      ]
     },
     "execution_count": 144,
     "metadata": {},
     "output_type": "execute_result"
    }
   ],
   "source": [
    "dataset_c = dataset.copy() #Get a copy of the original dataset\n",
    "print(len(dataset))\n",
    "dataset.head()"
   ]
  },
  {
   "cell_type": "code",
   "execution_count": 145,
   "metadata": {},
   "outputs": [],
   "source": [
    "ic50_col_name = \"IC50(uM)\"\n",
    "activity_col_name = \"Activity\"\n",
    "smiles_col_name = \"SMILES\"\n",
    "cid_col_name = \"CID\""
   ]
  },
  {
   "cell_type": "code",
   "execution_count": 146,
   "metadata": {},
   "outputs": [],
   "source": [
    "def show_activity_distribution(label, dataset):\n",
    "    #Rows for specific labels\n",
    "    active_rows = dataset.loc[dataset[label] == \"Active\"]\n",
    "    inactive_rows = dataset.loc[dataset[label] == \"Inactive\"]\n",
    "    inconclusive_rows = dataset.loc[dataset[label] == \"Inconclusive\"]\n",
    "    unspecified_rows = dataset.loc[dataset[label] == \"Unspecified\"]\n",
    "    dataset_length = len(dataset)\n",
    "    print(\"Total dataset\")\n",
    "    table = [['', 'Active', 'Inactive', 'Inconclusive', 'Unspecified'], \n",
    "            ['Number', len(active_rows), len(inactive_rows), len(inconclusive_rows), len(unspecified_rows)],\n",
    "            ['Percentage (%)', len(active_rows)/dataset_length*100, len(inactive_rows)/dataset_length*100,\n",
    "            len(inconclusive_rows)/dataset_length*100, len(unspecified_rows)/dataset_length*100]]\n",
    "    print(tabulate(table, headers='firstrow', tablefmt='fancy_grid'))"
   ]
  },
  {
   "attachments": {},
   "cell_type": "markdown",
   "metadata": {},
   "source": [
    "## 2. Phân bố Activity"
   ]
  },
  {
   "cell_type": "code",
   "execution_count": 147,
   "metadata": {},
   "outputs": [
    {
     "name": "stdout",
     "output_type": "stream",
     "text": [
      "Total dataset\n",
      "╒════════════════╤═══════════╤════════════╤════════════════╤═══════════════╕\n",
      "│                │    Active │   Inactive │   Inconclusive │   Unspecified │\n",
      "╞════════════════╪═══════════╪════════════╪════════════════╪═══════════════╡\n",
      "│ Number         │ 2873      │  25        │      117       │     1071      │\n",
      "├────────────────┼───────────┼────────────┼────────────────┼───────────────┤\n",
      "│ Percentage (%) │   70.3133 │   0.611845 │        2.86344 │       26.2115 │\n",
      "╘════════════════╧═══════════╧════════════╧════════════════╧═══════════════╛\n"
     ]
    }
   ],
   "source": [
    "show_activity_distribution(dataset=dataset, label='Activity')\n",
    "# show_activity_distribution(dataset=dataset, label='ACTIVITY')"
   ]
  },
  {
   "attachments": {},
   "cell_type": "markdown",
   "metadata": {},
   "source": [
    "## 3. IC50 lỗi"
   ]
  },
  {
   "cell_type": "code",
   "execution_count": 148,
   "metadata": {},
   "outputs": [],
   "source": [
    "def find_non_float_ic50(dataset, ic50_col_name):\n",
    "    # Use to_numeric to identify non-float values\n",
    "    is_float = pd.to_numeric(dataset[ic50_col_name], errors='coerce').notna()\n",
    "    # Find the rows where 'IC50 (uM)' is not a float\n",
    "    non_float_rows = dataset[~is_float]\n",
    "    return non_float_rows"
   ]
  },
  {
   "cell_type": "code",
   "execution_count": 149,
   "metadata": {},
   "outputs": [
    {
     "name": "stdout",
     "output_type": "stream",
     "text": [
      "111\n"
     ]
    },
    {
     "data": {
      "text/html": [
       "<div>\n",
       "<style scoped>\n",
       "    .dataframe tbody tr th:only-of-type {\n",
       "        vertical-align: middle;\n",
       "    }\n",
       "\n",
       "    .dataframe tbody tr th {\n",
       "        vertical-align: top;\n",
       "    }\n",
       "\n",
       "    .dataframe thead th {\n",
       "        text-align: right;\n",
       "    }\n",
       "</style>\n",
       "<table border=\"1\" class=\"dataframe\">\n",
       "  <thead>\n",
       "    <tr style=\"text-align: right;\">\n",
       "      <th></th>\n",
       "      <th>CID</th>\n",
       "      <th>SMILES</th>\n",
       "      <th>IC50(uM)</th>\n",
       "      <th>Activity</th>\n",
       "    </tr>\n",
       "  </thead>\n",
       "  <tbody>\n",
       "    <tr>\n",
       "      <th>1</th>\n",
       "      <td>2662</td>\n",
       "      <td>CCCC(=O)O</td>\n",
       "      <td>NaN</td>\n",
       "      <td>Inconclusive</td>\n",
       "    </tr>\n",
       "    <tr>\n",
       "      <th>26</th>\n",
       "      <td>4261</td>\n",
       "      <td>C1=CC=C(C(=C1)N)NC(=O)C2=CC=C(C=C2)CNC(=O)OCC3...</td>\n",
       "      <td>NaN</td>\n",
       "      <td>Inconclusive</td>\n",
       "    </tr>\n",
       "    <tr>\n",
       "      <th>27</th>\n",
       "      <td>4261</td>\n",
       "      <td>C1=CC=C(C(=C1)N)NC(=O)C2=CC=C(C=C2)CNC(=O)OCC3...</td>\n",
       "      <td>NaN</td>\n",
       "      <td>Inconclusive</td>\n",
       "    </tr>\n",
       "    <tr>\n",
       "      <th>54</th>\n",
       "      <td>5311</td>\n",
       "      <td>C1=CC=C(C=C1)NC(=O)CCCCCCC(=O)NO</td>\n",
       "      <td>NaN</td>\n",
       "      <td>Inconclusive</td>\n",
       "    </tr>\n",
       "    <tr>\n",
       "      <th>55</th>\n",
       "      <td>5311</td>\n",
       "      <td>C1=CC=C(C=C1)NC(=O)CCCCCCC(=O)NO</td>\n",
       "      <td>NaN</td>\n",
       "      <td>Inconclusive</td>\n",
       "    </tr>\n",
       "  </tbody>\n",
       "</table>\n",
       "</div>"
      ],
      "text/plain": [
       "     CID                                             SMILES  IC50(uM)  \\\n",
       "1   2662                                          CCCC(=O)O       NaN   \n",
       "26  4261  C1=CC=C(C(=C1)N)NC(=O)C2=CC=C(C=C2)CNC(=O)OCC3...       NaN   \n",
       "27  4261  C1=CC=C(C(=C1)N)NC(=O)C2=CC=C(C=C2)CNC(=O)OCC3...       NaN   \n",
       "54  5311                   C1=CC=C(C=C1)NC(=O)CCCCCCC(=O)NO       NaN   \n",
       "55  5311                   C1=CC=C(C=C1)NC(=O)CCCCCCC(=O)NO       NaN   \n",
       "\n",
       "        Activity  \n",
       "1   Inconclusive  \n",
       "26  Inconclusive  \n",
       "27  Inconclusive  \n",
       "54  Inconclusive  \n",
       "55  Inconclusive  "
      ]
     },
     "execution_count": 149,
     "metadata": {},
     "output_type": "execute_result"
    }
   ],
   "source": [
    "non_float_rows = find_non_float_ic50(dataset, ic50_col_name)\n",
    "print(len(non_float_rows))\n",
    "non_float_rows.head()"
   ]
  },
  {
   "cell_type": "code",
   "execution_count": 150,
   "metadata": {},
   "outputs": [
    {
     "name": "stdout",
     "output_type": "stream",
     "text": [
      "Total dataset\n",
      "╒════════════════╤══════════╤════════════╤════════════════╤═══════════════╕\n",
      "│                │   Active │   Inactive │   Inconclusive │   Unspecified │\n",
      "╞════════════════╪══════════╪════════════╪════════════════╪═══════════════╡\n",
      "│ Number         │        0 │    8       │        98      │        5      │\n",
      "├────────────────┼──────────┼────────────┼────────────────┼───────────────┤\n",
      "│ Percentage (%) │        0 │    7.20721 │        88.2883 │        4.5045 │\n",
      "╘════════════════╧══════════╧════════════╧════════════════╧═══════════════╛\n"
     ]
    }
   ],
   "source": [
    "show_activity_distribution(dataset=non_float_rows, label=activity_col_name)"
   ]
  },
  {
   "attachments": {},
   "cell_type": "markdown",
   "metadata": {},
   "source": [
    "Các xử lý IC50 với từng loại nhãn\n",
    "- Active: nếu chứa (<, >), ta sẽ loại bỏ những dấu này đi, nếu chất đó là ô trống, hoặc bằng 0 thì ta loại bỏ.\n",
    "- Inactive: nếu chứa (<, >), ta sẽ loại bỏ những dấu này đi, nếu chất đó là ô trống, hoặc bằng 0 thì ta loại bỏ.\n",
    "- Inconclusive: những chất này thường có IC50 bị lỗi, ta loại thẳng những chất này đi.\n",
    "- Unspecified: Loại bỏ toàn bộ dấu (>, <), nếu chất đó là ô trống, hoặc bằng 0 thì ta loại bỏ"
   ]
  },
  {
   "cell_type": "code",
   "execution_count": 152,
   "metadata": {},
   "outputs": [
    {
     "name": "stdout",
     "output_type": "stream",
     "text": [
      "111\n"
     ]
    },
    {
     "data": {
      "text/html": [
       "<div>\n",
       "<style scoped>\n",
       "    .dataframe tbody tr th:only-of-type {\n",
       "        vertical-align: middle;\n",
       "    }\n",
       "\n",
       "    .dataframe tbody tr th {\n",
       "        vertical-align: top;\n",
       "    }\n",
       "\n",
       "    .dataframe thead th {\n",
       "        text-align: right;\n",
       "    }\n",
       "</style>\n",
       "<table border=\"1\" class=\"dataframe\">\n",
       "  <thead>\n",
       "    <tr style=\"text-align: right;\">\n",
       "      <th></th>\n",
       "      <th>CID</th>\n",
       "      <th>SMILES</th>\n",
       "      <th>IC50(uM)</th>\n",
       "      <th>Activity</th>\n",
       "    </tr>\n",
       "  </thead>\n",
       "  <tbody>\n",
       "    <tr>\n",
       "      <th>1</th>\n",
       "      <td>2662</td>\n",
       "      <td>CCCC(=O)O</td>\n",
       "      <td>NaN</td>\n",
       "      <td>Inconclusive</td>\n",
       "    </tr>\n",
       "    <tr>\n",
       "      <th>26</th>\n",
       "      <td>4261</td>\n",
       "      <td>C1=CC=C(C(=C1)N)NC(=O)C2=CC=C(C=C2)CNC(=O)OCC3...</td>\n",
       "      <td>NaN</td>\n",
       "      <td>Inconclusive</td>\n",
       "    </tr>\n",
       "    <tr>\n",
       "      <th>27</th>\n",
       "      <td>4261</td>\n",
       "      <td>C1=CC=C(C(=C1)N)NC(=O)C2=CC=C(C=C2)CNC(=O)OCC3...</td>\n",
       "      <td>NaN</td>\n",
       "      <td>Inconclusive</td>\n",
       "    </tr>\n",
       "    <tr>\n",
       "      <th>54</th>\n",
       "      <td>5311</td>\n",
       "      <td>C1=CC=C(C=C1)NC(=O)CCCCCCC(=O)NO</td>\n",
       "      <td>NaN</td>\n",
       "      <td>Inconclusive</td>\n",
       "    </tr>\n",
       "    <tr>\n",
       "      <th>55</th>\n",
       "      <td>5311</td>\n",
       "      <td>C1=CC=C(C=C1)NC(=O)CCCCCCC(=O)NO</td>\n",
       "      <td>NaN</td>\n",
       "      <td>Inconclusive</td>\n",
       "    </tr>\n",
       "  </tbody>\n",
       "</table>\n",
       "</div>"
      ],
      "text/plain": [
       "     CID                                             SMILES  IC50(uM)  \\\n",
       "1   2662                                          CCCC(=O)O       NaN   \n",
       "26  4261  C1=CC=C(C(=C1)N)NC(=O)C2=CC=C(C=C2)CNC(=O)OCC3...       NaN   \n",
       "27  4261  C1=CC=C(C(=C1)N)NC(=O)C2=CC=C(C=C2)CNC(=O)OCC3...       NaN   \n",
       "54  5311                   C1=CC=C(C=C1)NC(=O)CCCCCCC(=O)NO       NaN   \n",
       "55  5311                   C1=CC=C(C=C1)NC(=O)CCCCCCC(=O)NO       NaN   \n",
       "\n",
       "        Activity  \n",
       "1   Inconclusive  \n",
       "26  Inconclusive  \n",
       "27  Inconclusive  \n",
       "54  Inconclusive  \n",
       "55  Inconclusive  "
      ]
     },
     "execution_count": 152,
     "metadata": {},
     "output_type": "execute_result"
    }
   ],
   "source": [
    "non_float_rows = find_non_float_ic50(dataset, ic50_col_name=ic50_col_name)\n",
    "print(len(non_float_rows))\n",
    "non_float_rows.head()"
   ]
  },
  {
   "attachments": {},
   "cell_type": "markdown",
   "metadata": {},
   "source": [
    "## 4. Nhãn bị mâu thuẫn"
   ]
  },
  {
   "cell_type": "code",
   "execution_count": 155,
   "metadata": {},
   "outputs": [],
   "source": [
    "def check_label_intersection(dataset, col_name):\n",
    "    active_rows = dataset.loc[dataset[col_name] == \"Active\"]\n",
    "    inactive_rows = dataset.loc[dataset[col_name] == \"Inactive\"]\n",
    "    inconclusive_rows = dataset.loc[dataset[col_name] == \"Inconclusive\"]\n",
    "    unspecified_rows = dataset.loc[dataset[col_name] == \"Unspecified\"]\n",
    "    \n",
    "    cid_active = active_rows.loc[:, 'SMILES']\n",
    "    cid_inactive = inactive_rows.loc[:, 'SMILES']\n",
    "    cid_incon = inconclusive_rows.loc[:, 'SMILES']\n",
    "    cid_unspec = unspecified_rows.loc[:, 'SMILES']\n",
    "\n",
    "    ac_inac_cid = np.intersect1d(cid_active, cid_inactive)\n",
    "    ac_incon_cid = np.intersect1d(cid_active, cid_incon)\n",
    "    ac_unspec_cid = np.intersect1d(cid_active, cid_unspec)\n",
    "\n",
    "    inac_incon_cid = np.intersect1d(cid_inactive, cid_incon)\n",
    "    incon_unspec_cid = np.intersect1d(cid_incon, cid_unspec)\n",
    "    inac_unspec_cid = np.intersect1d(cid_inactive, cid_unspec)\n",
    "    \n",
    "    print(\"Activity intersection:\")\n",
    "    table = [['Active-Inactive', 'Active-Inconclusive', 'Active-Unspecified', 'Inactive-Inconclusive', 'Inactive-Unspecified', 'Inconclusive-Unspecifid'], \n",
    "             [len(ac_inac_cid), len(ac_incon_cid), len(ac_unspec_cid), len(inac_incon_cid), len(inac_unspec_cid), len(incon_unspec_cid)]]\n",
    "    print(tabulate(table, headers='firstrow', tablefmt='fancy_grid'))"
   ]
  },
  {
   "cell_type": "code",
   "execution_count": 156,
   "metadata": {},
   "outputs": [
    {
     "name": "stdout",
     "output_type": "stream",
     "text": [
      "Activity intersection:\n",
      "╒═══════════════════╤═══════════════════════╤══════════════════════╤═════════════════════════╤════════════════════════╤═══════════════════════════╕\n",
      "│   Active-Inactive │   Active-Inconclusive │   Active-Unspecified │   Inactive-Inconclusive │   Inactive-Unspecified │   Inconclusive-Unspecifid │\n",
      "╞═══════════════════╪═══════════════════════╪══════════════════════╪═════════════════════════╪════════════════════════╪═══════════════════════════╡\n",
      "│                 0 │                    13 │                   74 │                       2 │                      2 │                         6 │\n",
      "╘═══════════════════╧═══════════════════════╧══════════════════════╧═════════════════════════╧════════════════════════╧═══════════════════════════╛\n"
     ]
    }
   ],
   "source": [
    "check_label_intersection(dataset=dataset, col_name='Activity')"
   ]
  },
  {
   "attachments": {},
   "cell_type": "markdown",
   "metadata": {},
   "source": [
    "# Loại bỏ, ghép chất và tính trung bình từng chất"
   ]
  },
  {
   "attachments": {},
   "cell_type": "markdown",
   "metadata": {},
   "source": [
    "## Loại bỏ các chất Inconclusive"
   ]
  },
  {
   "cell_type": "code",
   "execution_count": 157,
   "metadata": {},
   "outputs": [],
   "source": [
    "def drop_by_activity(dataset, activity_type, col_name):\n",
    "    drop_rows = dataset.loc[dataset[col_name] == activity_type]\n",
    "    dataset.drop(drop_rows.index, inplace=True)\n",
    "    return dataset"
   ]
  },
  {
   "cell_type": "code",
   "execution_count": 158,
   "metadata": {},
   "outputs": [],
   "source": [
    "dataset = drop_by_activity(dataset=dataset, activity_type='Inconclusive', col_name=activity_col_name)"
   ]
  },
  {
   "cell_type": "code",
   "execution_count": 159,
   "metadata": {},
   "outputs": [
    {
     "name": "stdout",
     "output_type": "stream",
     "text": [
      "Total dataset\n",
      "╒════════════════╤══════════╤════════════╤════════════════╤═══════════════╕\n",
      "│                │   Active │   Inactive │   Inconclusive │   Unspecified │\n",
      "╞════════════════╪══════════╪════════════╪════════════════╪═══════════════╡\n",
      "│ Number         │ 2873     │  25        │              0 │     1071      │\n",
      "├────────────────┼──────────┼────────────┼────────────────┼───────────────┤\n",
      "│ Percentage (%) │   72.386 │   0.629882 │              0 │       26.9841 │\n",
      "╘════════════════╧══════════╧════════════╧════════════════╧═══════════════╛\n"
     ]
    }
   ],
   "source": [
    "show_activity_distribution(dataset=dataset, label=activity_col_name)"
   ]
  },
  {
   "attachments": {},
   "cell_type": "markdown",
   "metadata": {},
   "source": [
    "## Loại bỏ những chất không có IC50"
   ]
  },
  {
   "attachments": {},
   "cell_type": "markdown",
   "metadata": {},
   "source": [
    "Những chất không có IC50 là những chất có IC50 trống hoặc bằng 0"
   ]
  },
  {
   "cell_type": "code",
   "execution_count": 160,
   "metadata": {},
   "outputs": [],
   "source": [
    "dataset[ic50_col_name] = pd.to_numeric(dataset[ic50_col_name])\n",
    "dataset = dataset.dropna(subset=[ic50_col_name])\n",
    "dataset = dataset.drop(dataset.loc[dataset[ic50_col_name] == 0].index)"
   ]
  },
  {
   "cell_type": "code",
   "execution_count": 161,
   "metadata": {},
   "outputs": [
    {
     "data": {
      "text/plain": [
       "3790"
      ]
     },
     "execution_count": 161,
     "metadata": {},
     "output_type": "execute_result"
    }
   ],
   "source": [
    "len(dataset)"
   ]
  },
  {
   "cell_type": "code",
   "execution_count": 162,
   "metadata": {},
   "outputs": [
    {
     "name": "stdout",
     "output_type": "stream",
     "text": [
      "Total dataset\n",
      "╒════════════════╤═══════════╤════════════╤════════════════╤═══════════════╕\n",
      "│                │    Active │   Inactive │   Inconclusive │   Unspecified │\n",
      "╞════════════════╪═══════════╪════════════╪════════════════╪═══════════════╡\n",
      "│ Number         │ 2729      │   8        │              0 │     1053      │\n",
      "├────────────────┼───────────┼────────────┼────────────────┼───────────────┤\n",
      "│ Percentage (%) │   72.0053 │   0.211082 │              0 │       27.7836 │\n",
      "╘════════════════╧═══════════╧════════════╧════════════════╧═══════════════╛\n"
     ]
    }
   ],
   "source": [
    "show_activity_distribution(dataset=dataset, label=activity_col_name)"
   ]
  },
  {
   "cell_type": "code",
   "execution_count": 163,
   "metadata": {},
   "outputs": [
    {
     "data": {
      "text/html": [
       "<div>\n",
       "<style scoped>\n",
       "    .dataframe tbody tr th:only-of-type {\n",
       "        vertical-align: middle;\n",
       "    }\n",
       "\n",
       "    .dataframe tbody tr th {\n",
       "        vertical-align: top;\n",
       "    }\n",
       "\n",
       "    .dataframe thead th {\n",
       "        text-align: right;\n",
       "    }\n",
       "</style>\n",
       "<table border=\"1\" class=\"dataframe\">\n",
       "  <thead>\n",
       "    <tr style=\"text-align: right;\">\n",
       "      <th></th>\n",
       "      <th>CID</th>\n",
       "      <th>SMILES</th>\n",
       "      <th>IC50(uM)</th>\n",
       "      <th>Activity</th>\n",
       "    </tr>\n",
       "  </thead>\n",
       "  <tbody>\n",
       "  </tbody>\n",
       "</table>\n",
       "</div>"
      ],
      "text/plain": [
       "Empty DataFrame\n",
       "Columns: [CID, SMILES, IC50(uM), Activity]\n",
       "Index: []"
      ]
     },
     "execution_count": 163,
     "metadata": {},
     "output_type": "execute_result"
    }
   ],
   "source": [
    "non_float_rows = find_non_float_ic50(dataset=dataset, ic50_col_name=ic50_col_name)\n",
    "non_float_rows.head()"
   ]
  },
  {
   "cell_type": "code",
   "execution_count": 164,
   "metadata": {},
   "outputs": [
    {
     "name": "stdout",
     "output_type": "stream",
     "text": [
      "0\n"
     ]
    }
   ],
   "source": [
    "print(len(dataset.loc[dataset[ic50_col_name] == 0].index))"
   ]
  },
  {
   "cell_type": "code",
   "execution_count": 165,
   "metadata": {},
   "outputs": [],
   "source": [
    "data_ic50_processed = dataset.copy()"
   ]
  },
  {
   "attachments": {},
   "cell_type": "markdown",
   "metadata": {},
   "source": [
    "## Ghép chất và tính trung bình từng chất"
   ]
  },
  {
   "attachments": {},
   "cell_type": "markdown",
   "metadata": {},
   "source": [
    "__Kiểm tra nhãn mâu thuẫn__"
   ]
  },
  {
   "cell_type": "code",
   "execution_count": 166,
   "metadata": {},
   "outputs": [
    {
     "name": "stdout",
     "output_type": "stream",
     "text": [
      "Activity intersection:\n",
      "╒═══════════════════╤═══════════════════════╤══════════════════════╤═════════════════════════╤════════════════════════╤═══════════════════════════╕\n",
      "│   Active-Inactive │   Active-Inconclusive │   Active-Unspecified │   Inactive-Inconclusive │   Inactive-Unspecified │   Inconclusive-Unspecifid │\n",
      "╞═══════════════════╪═══════════════════════╪══════════════════════╪═════════════════════════╪════════════════════════╪═══════════════════════════╡\n",
      "│                 0 │                     0 │                   60 │                       0 │                      2 │                         0 │\n",
      "╘═══════════════════╧═══════════════════════╧══════════════════════╧═════════════════════════╧════════════════════════╧═══════════════════════════╛\n"
     ]
    }
   ],
   "source": [
    "check_label_intersection(dataset=dataset, col_name=activity_col_name)"
   ]
  },
  {
   "attachments": {},
   "cell_type": "markdown",
   "metadata": {},
   "source": [
    "Cách xử lý:\n",
    "- Nhãn mới: mốc 1uM, nếu lớn hơn thì là Inactive, nếu nhỏ hơn thì là Active. \n",
    "- Với những chất Active, ta sẽ thực hiện việc ghép chất xong tính trung bình bình thường, sau đó gán nhãn mới.\n",
    "- Với những chất Inactive, ta sẽ thực hiện việc ghép chất xong tính trung bình bình thường, sau đó gán nhãn mới.\n",
    "- Với những chất Unspecified, nếu như chất đó có IC50 > 1 thì ta chuyển thẳng nhãn mới thành Inactive, còn không thì loại bỏ."
   ]
  },
  {
   "attachments": {},
   "cell_type": "markdown",
   "metadata": {},
   "source": [
    "__Active row__"
   ]
  },
  {
   "cell_type": "code",
   "execution_count": 167,
   "metadata": {},
   "outputs": [],
   "source": [
    "def get_new_data_by_activity(dataset, activity, activity_col_name, new_columns, ic50_col_name):\n",
    "    #Handling the active rows first\n",
    "    data_rows = dataset.loc[dataset[activity_col_name] == activity]\n",
    "    new_rows = pd.DataFrame(columns=new_columns)\n",
    "    for cid in data_rows.CID.unique():\n",
    "        sub_dataset = data_rows.loc[data_rows.CID == cid]\n",
    "        avg_ic50, dup_count = 0, 0\n",
    "        for index, row in sub_dataset.iterrows():\n",
    "            avg_ic50 = avg_ic50 + float(row[ic50_col_name])/len(sub_dataset)\n",
    "            dup_count = dup_count + 1\n",
    "        new_rows.loc[len(new_rows)] = [row.CID, row.SMILES ,avg_ic50, activity,\n",
    "                                            {True: 'Active', False: 'Inactive'} [avg_ic50 < 1],\n",
    "                                            dup_count]\n",
    "    return new_rows"
   ]
  },
  {
   "cell_type": "code",
   "execution_count": 168,
   "metadata": {},
   "outputs": [],
   "source": [
    "new_columns = [\"CID\", \"SMILES\", \"AVG_IC50_uM\", \"FIRST_LABEL\", \"FINAL_LABEL\", \"DUPLICATE_COUNTS\"]"
   ]
  },
  {
   "cell_type": "code",
   "execution_count": 169,
   "metadata": {},
   "outputs": [
    {
     "name": "stdout",
     "output_type": "stream",
     "text": [
      "1543\n"
     ]
    },
    {
     "data": {
      "text/html": [
       "<div>\n",
       "<style scoped>\n",
       "    .dataframe tbody tr th:only-of-type {\n",
       "        vertical-align: middle;\n",
       "    }\n",
       "\n",
       "    .dataframe tbody tr th {\n",
       "        vertical-align: top;\n",
       "    }\n",
       "\n",
       "    .dataframe thead th {\n",
       "        text-align: right;\n",
       "    }\n",
       "</style>\n",
       "<table border=\"1\" class=\"dataframe\">\n",
       "  <thead>\n",
       "    <tr style=\"text-align: right;\">\n",
       "      <th></th>\n",
       "      <th>CID</th>\n",
       "      <th>SMILES</th>\n",
       "      <th>AVG_IC50_uM</th>\n",
       "      <th>FIRST_LABEL</th>\n",
       "      <th>FINAL_LABEL</th>\n",
       "      <th>DUPLICATE_COUNTS</th>\n",
       "    </tr>\n",
       "  </thead>\n",
       "  <tbody>\n",
       "    <tr>\n",
       "      <th>0</th>\n",
       "      <td>2746</td>\n",
       "      <td>CC(=O)NC1=CC=C(C=C1)C(=O)NC2=CC=CC=C2N</td>\n",
       "      <td>2.232500</td>\n",
       "      <td>Active</td>\n",
       "      <td>Inactive</td>\n",
       "      <td>12</td>\n",
       "    </tr>\n",
       "    <tr>\n",
       "      <th>1</th>\n",
       "      <td>3811</td>\n",
       "      <td>CN(C)C1=CC=C(C=C1)C(=O)NCCCCCC(=O)NO</td>\n",
       "      <td>0.240000</td>\n",
       "      <td>Active</td>\n",
       "      <td>Active</td>\n",
       "      <td>1</td>\n",
       "    </tr>\n",
       "    <tr>\n",
       "      <th>2</th>\n",
       "      <td>3812</td>\n",
       "      <td>CN(C)C1=CC=C(C=C1)C(=O)NCCCCCCCC(=O)NO</td>\n",
       "      <td>1.306667</td>\n",
       "      <td>Active</td>\n",
       "      <td>Inactive</td>\n",
       "      <td>3</td>\n",
       "    </tr>\n",
       "    <tr>\n",
       "      <th>3</th>\n",
       "      <td>3994</td>\n",
       "      <td>CN(C)C1=CC=C(C=C1)C(=O)NCCCCCCC(=O)NO</td>\n",
       "      <td>1.256667</td>\n",
       "      <td>Active</td>\n",
       "      <td>Inactive</td>\n",
       "      <td>3</td>\n",
       "    </tr>\n",
       "    <tr>\n",
       "      <th>4</th>\n",
       "      <td>4261</td>\n",
       "      <td>C1=CC=C(C(=C1)N)NC(=O)C2=CC=C(C=C2)CNC(=O)OCC3...</td>\n",
       "      <td>1.526316</td>\n",
       "      <td>Active</td>\n",
       "      <td>Inactive</td>\n",
       "      <td>19</td>\n",
       "    </tr>\n",
       "  </tbody>\n",
       "</table>\n",
       "</div>"
      ],
      "text/plain": [
       "    CID                                             SMILES  AVG_IC50_uM  \\\n",
       "0  2746             CC(=O)NC1=CC=C(C=C1)C(=O)NC2=CC=CC=C2N     2.232500   \n",
       "1  3811               CN(C)C1=CC=C(C=C1)C(=O)NCCCCCC(=O)NO     0.240000   \n",
       "2  3812             CN(C)C1=CC=C(C=C1)C(=O)NCCCCCCCC(=O)NO     1.306667   \n",
       "3  3994              CN(C)C1=CC=C(C=C1)C(=O)NCCCCCCC(=O)NO     1.256667   \n",
       "4  4261  C1=CC=C(C(=C1)N)NC(=O)C2=CC=C(C=C2)CNC(=O)OCC3...     1.526316   \n",
       "\n",
       "  FIRST_LABEL FINAL_LABEL  DUPLICATE_COUNTS  \n",
       "0      Active    Inactive                12  \n",
       "1      Active      Active                 1  \n",
       "2      Active    Inactive                 3  \n",
       "3      Active    Inactive                 3  \n",
       "4      Active    Inactive                19  "
      ]
     },
     "execution_count": 169,
     "metadata": {},
     "output_type": "execute_result"
    }
   ],
   "source": [
    "new_active_rows = get_new_data_by_activity(dataset=dataset, activity='Active', activity_col_name=activity_col_name, new_columns=new_columns, ic50_col_name=ic50_col_name)\n",
    "print(len(new_active_rows))\n",
    "new_active_rows.head()"
   ]
  },
  {
   "attachments": {},
   "cell_type": "markdown",
   "metadata": {},
   "source": [
    "__Inactive rows__"
   ]
  },
  {
   "cell_type": "code",
   "execution_count": 170,
   "metadata": {},
   "outputs": [
    {
     "data": {
      "text/plain": [
       "6"
      ]
     },
     "execution_count": 170,
     "metadata": {},
     "output_type": "execute_result"
    }
   ],
   "source": [
    "inactive_cid_unique = dataset.loc[dataset[activity_col_name] == 'Inactive']\n",
    "len(inactive_cid_unique.CID.unique())"
   ]
  },
  {
   "cell_type": "code",
   "execution_count": 171,
   "metadata": {},
   "outputs": [
    {
     "name": "stdout",
     "output_type": "stream",
     "text": [
      "6\n"
     ]
    },
    {
     "data": {
      "text/html": [
       "<div>\n",
       "<style scoped>\n",
       "    .dataframe tbody tr th:only-of-type {\n",
       "        vertical-align: middle;\n",
       "    }\n",
       "\n",
       "    .dataframe tbody tr th {\n",
       "        vertical-align: top;\n",
       "    }\n",
       "\n",
       "    .dataframe thead th {\n",
       "        text-align: right;\n",
       "    }\n",
       "</style>\n",
       "<table border=\"1\" class=\"dataframe\">\n",
       "  <thead>\n",
       "    <tr style=\"text-align: right;\">\n",
       "      <th></th>\n",
       "      <th>CID</th>\n",
       "      <th>SMILES</th>\n",
       "      <th>AVG_IC50_uM</th>\n",
       "      <th>FIRST_LABEL</th>\n",
       "      <th>FINAL_LABEL</th>\n",
       "      <th>DUPLICATE_COUNTS</th>\n",
       "    </tr>\n",
       "  </thead>\n",
       "  <tbody>\n",
       "    <tr>\n",
       "      <th>0</th>\n",
       "      <td>60198344</td>\n",
       "      <td>CN1C=C(C=N1)/C=C/C(=O)NC2=CC=CC=C2N</td>\n",
       "      <td>15.0</td>\n",
       "      <td>Inactive</td>\n",
       "      <td>Inactive</td>\n",
       "      <td>2</td>\n",
       "    </tr>\n",
       "    <tr>\n",
       "      <th>1</th>\n",
       "      <td>60198346</td>\n",
       "      <td>CC1=NC(=CO1)/C=C/C(=O)NC2=CC=CC=C2N</td>\n",
       "      <td>20.0</td>\n",
       "      <td>Inactive</td>\n",
       "      <td>Inactive</td>\n",
       "      <td>1</td>\n",
       "    </tr>\n",
       "    <tr>\n",
       "      <th>2</th>\n",
       "      <td>60198412</td>\n",
       "      <td>CC1=NOC(=C1)/C=C/C(=O)NC2=CC=CC=C2N</td>\n",
       "      <td>15.0</td>\n",
       "      <td>Inactive</td>\n",
       "      <td>Inactive</td>\n",
       "      <td>2</td>\n",
       "    </tr>\n",
       "    <tr>\n",
       "      <th>3</th>\n",
       "      <td>60198482</td>\n",
       "      <td>CN1C=C(C=N1)/C=C/C(=O)NC2=C(C=C(C=C2)F)N</td>\n",
       "      <td>20.0</td>\n",
       "      <td>Inactive</td>\n",
       "      <td>Inactive</td>\n",
       "      <td>1</td>\n",
       "    </tr>\n",
       "    <tr>\n",
       "      <th>4</th>\n",
       "      <td>137224531</td>\n",
       "      <td>C1=CC=C2C(=C1)C(=C(N2CC3=CC=C(C=C3)C(=O)NO)O)N=O</td>\n",
       "      <td>30.0</td>\n",
       "      <td>Inactive</td>\n",
       "      <td>Inactive</td>\n",
       "      <td>1</td>\n",
       "    </tr>\n",
       "    <tr>\n",
       "      <th>5</th>\n",
       "      <td>155557270</td>\n",
       "      <td>C1=CC=C(C=C1)C[C@H](C(=O)NO)N2C(=C(N=N2)C3=CC=...</td>\n",
       "      <td>20.0</td>\n",
       "      <td>Inactive</td>\n",
       "      <td>Inactive</td>\n",
       "      <td>1</td>\n",
       "    </tr>\n",
       "  </tbody>\n",
       "</table>\n",
       "</div>"
      ],
      "text/plain": [
       "         CID                                             SMILES  AVG_IC50_uM  \\\n",
       "0   60198344                CN1C=C(C=N1)/C=C/C(=O)NC2=CC=CC=C2N         15.0   \n",
       "1   60198346                CC1=NC(=CO1)/C=C/C(=O)NC2=CC=CC=C2N         20.0   \n",
       "2   60198412                CC1=NOC(=C1)/C=C/C(=O)NC2=CC=CC=C2N         15.0   \n",
       "3   60198482           CN1C=C(C=N1)/C=C/C(=O)NC2=C(C=C(C=C2)F)N         20.0   \n",
       "4  137224531   C1=CC=C2C(=C1)C(=C(N2CC3=CC=C(C=C3)C(=O)NO)O)N=O         30.0   \n",
       "5  155557270  C1=CC=C(C=C1)C[C@H](C(=O)NO)N2C(=C(N=N2)C3=CC=...         20.0   \n",
       "\n",
       "  FIRST_LABEL FINAL_LABEL  DUPLICATE_COUNTS  \n",
       "0    Inactive    Inactive                 2  \n",
       "1    Inactive    Inactive                 1  \n",
       "2    Inactive    Inactive                 2  \n",
       "3    Inactive    Inactive                 1  \n",
       "4    Inactive    Inactive                 1  \n",
       "5    Inactive    Inactive                 1  "
      ]
     },
     "execution_count": 171,
     "metadata": {},
     "output_type": "execute_result"
    }
   ],
   "source": [
    "new_inactive_rows = get_new_data_by_activity(dataset=dataset, activity='Inactive', ic50_col_name=ic50_col_name, activity_col_name=activity_col_name, new_columns=new_columns)\n",
    "print(len(new_inactive_rows))\n",
    "new_inactive_rows"
   ]
  },
  {
   "attachments": {},
   "cell_type": "markdown",
   "metadata": {},
   "source": [
    "__Unspecified rows__"
   ]
  },
  {
   "cell_type": "code",
   "execution_count": 172,
   "metadata": {},
   "outputs": [
    {
     "name": "stdout",
     "output_type": "stream",
     "text": [
      "661\n"
     ]
    },
    {
     "data": {
      "text/html": [
       "<div>\n",
       "<style scoped>\n",
       "    .dataframe tbody tr th:only-of-type {\n",
       "        vertical-align: middle;\n",
       "    }\n",
       "\n",
       "    .dataframe tbody tr th {\n",
       "        vertical-align: top;\n",
       "    }\n",
       "\n",
       "    .dataframe thead th {\n",
       "        text-align: right;\n",
       "    }\n",
       "</style>\n",
       "<table border=\"1\" class=\"dataframe\">\n",
       "  <thead>\n",
       "    <tr style=\"text-align: right;\">\n",
       "      <th></th>\n",
       "      <th>CID</th>\n",
       "      <th>SMILES</th>\n",
       "      <th>AVG_IC50_uM</th>\n",
       "      <th>FIRST_LABEL</th>\n",
       "      <th>FINAL_LABEL</th>\n",
       "      <th>DUPLICATE_COUNTS</th>\n",
       "    </tr>\n",
       "  </thead>\n",
       "  <tbody>\n",
       "    <tr>\n",
       "      <th>0</th>\n",
       "      <td>264</td>\n",
       "      <td>CCCC(=O)O</td>\n",
       "      <td>12.00</td>\n",
       "      <td>Unspecified</td>\n",
       "      <td>Inactive</td>\n",
       "      <td>1</td>\n",
       "    </tr>\n",
       "    <tr>\n",
       "      <th>1</th>\n",
       "      <td>3121</td>\n",
       "      <td>CCCC(CCC)C(=O)O</td>\n",
       "      <td>82.37</td>\n",
       "      <td>Unspecified</td>\n",
       "      <td>Inactive</td>\n",
       "      <td>2</td>\n",
       "    </tr>\n",
       "    <tr>\n",
       "      <th>2</th>\n",
       "      <td>3810</td>\n",
       "      <td>CN(C)C1=CC=C(C=C1)C(=O)NCCCCC(=O)NO</td>\n",
       "      <td>10.00</td>\n",
       "      <td>Unspecified</td>\n",
       "      <td>Inactive</td>\n",
       "      <td>2</td>\n",
       "    </tr>\n",
       "    <tr>\n",
       "      <th>3</th>\n",
       "      <td>3811</td>\n",
       "      <td>CN(C)C1=CC=C(C=C1)C(=O)NCCCCCC(=O)NO</td>\n",
       "      <td>10.00</td>\n",
       "      <td>Unspecified</td>\n",
       "      <td>Inactive</td>\n",
       "      <td>1</td>\n",
       "    </tr>\n",
       "    <tr>\n",
       "      <th>4</th>\n",
       "      <td>4775</td>\n",
       "      <td>C1=CC=C(C=C1)CCCC(=O)O</td>\n",
       "      <td>65.00</td>\n",
       "      <td>Unspecified</td>\n",
       "      <td>Inactive</td>\n",
       "      <td>1</td>\n",
       "    </tr>\n",
       "  </tbody>\n",
       "</table>\n",
       "</div>"
      ],
      "text/plain": [
       "    CID                                SMILES  AVG_IC50_uM  FIRST_LABEL  \\\n",
       "0   264                             CCCC(=O)O        12.00  Unspecified   \n",
       "1  3121                       CCCC(CCC)C(=O)O        82.37  Unspecified   \n",
       "2  3810   CN(C)C1=CC=C(C=C1)C(=O)NCCCCC(=O)NO        10.00  Unspecified   \n",
       "3  3811  CN(C)C1=CC=C(C=C1)C(=O)NCCCCCC(=O)NO        10.00  Unspecified   \n",
       "4  4775                C1=CC=C(C=C1)CCCC(=O)O        65.00  Unspecified   \n",
       "\n",
       "  FINAL_LABEL  DUPLICATE_COUNTS  \n",
       "0    Inactive                 1  \n",
       "1    Inactive                 2  \n",
       "2    Inactive                 2  \n",
       "3    Inactive                 1  \n",
       "4    Inactive                 1  "
      ]
     },
     "execution_count": 172,
     "metadata": {},
     "output_type": "execute_result"
    }
   ],
   "source": [
    "new_unspecified_rows = get_new_data_by_activity(dataset=dataset, activity='Unspecified', activity_col_name=activity_col_name, ic50_col_name=ic50_col_name, new_columns=new_columns)\n",
    "print(len(new_unspecified_rows))\n",
    "new_unspecified_rows.head()"
   ]
  },
  {
   "attachments": {},
   "cell_type": "markdown",
   "metadata": {},
   "source": [
    "__Combine all three to create a new data__"
   ]
  },
  {
   "cell_type": "code",
   "execution_count": 173,
   "metadata": {},
   "outputs": [
    {
     "name": "stdout",
     "output_type": "stream",
     "text": [
      "1543 6 661 2210\n"
     ]
    }
   ],
   "source": [
    "new_data = pd.DataFrame(columns=new_columns)\n",
    "new_data = pd.concat([new_data, new_active_rows], axis=0)\n",
    "new_data = pd.concat([new_data, new_inactive_rows], axis=0)\n",
    "new_data = pd.concat([new_data, new_unspecified_rows], axis=0)\n",
    "print(len(new_active_rows), len(new_inactive_rows), len(new_unspecified_rows), len(new_data))"
   ]
  },
  {
   "cell_type": "code",
   "execution_count": 174,
   "metadata": {},
   "outputs": [
    {
     "data": {
      "text/html": [
       "<div>\n",
       "<style scoped>\n",
       "    .dataframe tbody tr th:only-of-type {\n",
       "        vertical-align: middle;\n",
       "    }\n",
       "\n",
       "    .dataframe tbody tr th {\n",
       "        vertical-align: top;\n",
       "    }\n",
       "\n",
       "    .dataframe thead th {\n",
       "        text-align: right;\n",
       "    }\n",
       "</style>\n",
       "<table border=\"1\" class=\"dataframe\">\n",
       "  <thead>\n",
       "    <tr style=\"text-align: right;\">\n",
       "      <th></th>\n",
       "      <th>CID</th>\n",
       "      <th>SMILES</th>\n",
       "      <th>AVG_IC50_uM</th>\n",
       "      <th>FIRST_LABEL</th>\n",
       "      <th>FINAL_LABEL</th>\n",
       "      <th>DUPLICATE_COUNTS</th>\n",
       "    </tr>\n",
       "  </thead>\n",
       "  <tbody>\n",
       "    <tr>\n",
       "      <th>0</th>\n",
       "      <td>2746</td>\n",
       "      <td>CC(=O)NC1=CC=C(C=C1)C(=O)NC2=CC=CC=C2N</td>\n",
       "      <td>2.232500</td>\n",
       "      <td>Active</td>\n",
       "      <td>Inactive</td>\n",
       "      <td>12</td>\n",
       "    </tr>\n",
       "    <tr>\n",
       "      <th>1</th>\n",
       "      <td>3811</td>\n",
       "      <td>CN(C)C1=CC=C(C=C1)C(=O)NCCCCCC(=O)NO</td>\n",
       "      <td>0.240000</td>\n",
       "      <td>Active</td>\n",
       "      <td>Active</td>\n",
       "      <td>1</td>\n",
       "    </tr>\n",
       "    <tr>\n",
       "      <th>2</th>\n",
       "      <td>3812</td>\n",
       "      <td>CN(C)C1=CC=C(C=C1)C(=O)NCCCCCCCC(=O)NO</td>\n",
       "      <td>1.306667</td>\n",
       "      <td>Active</td>\n",
       "      <td>Inactive</td>\n",
       "      <td>3</td>\n",
       "    </tr>\n",
       "    <tr>\n",
       "      <th>3</th>\n",
       "      <td>3994</td>\n",
       "      <td>CN(C)C1=CC=C(C=C1)C(=O)NCCCCCCC(=O)NO</td>\n",
       "      <td>1.256667</td>\n",
       "      <td>Active</td>\n",
       "      <td>Inactive</td>\n",
       "      <td>3</td>\n",
       "    </tr>\n",
       "    <tr>\n",
       "      <th>4</th>\n",
       "      <td>4261</td>\n",
       "      <td>C1=CC=C(C(=C1)N)NC(=O)C2=CC=C(C=C2)CNC(=O)OCC3...</td>\n",
       "      <td>1.526316</td>\n",
       "      <td>Active</td>\n",
       "      <td>Inactive</td>\n",
       "      <td>19</td>\n",
       "    </tr>\n",
       "  </tbody>\n",
       "</table>\n",
       "</div>"
      ],
      "text/plain": [
       "    CID                                             SMILES  AVG_IC50_uM  \\\n",
       "0  2746             CC(=O)NC1=CC=C(C=C1)C(=O)NC2=CC=CC=C2N     2.232500   \n",
       "1  3811               CN(C)C1=CC=C(C=C1)C(=O)NCCCCCC(=O)NO     0.240000   \n",
       "2  3812             CN(C)C1=CC=C(C=C1)C(=O)NCCCCCCCC(=O)NO     1.306667   \n",
       "3  3994              CN(C)C1=CC=C(C=C1)C(=O)NCCCCCCC(=O)NO     1.256667   \n",
       "4  4261  C1=CC=C(C(=C1)N)NC(=O)C2=CC=C(C=C2)CNC(=O)OCC3...     1.526316   \n",
       "\n",
       "  FIRST_LABEL FINAL_LABEL DUPLICATE_COUNTS  \n",
       "0      Active    Inactive               12  \n",
       "1      Active      Active                1  \n",
       "2      Active    Inactive                3  \n",
       "3      Active    Inactive                3  \n",
       "4      Active    Inactive               19  "
      ]
     },
     "execution_count": 174,
     "metadata": {},
     "output_type": "execute_result"
    }
   ],
   "source": [
    "new_data.head()"
   ]
  },
  {
   "cell_type": "code",
   "execution_count": 175,
   "metadata": {},
   "outputs": [
    {
     "name": "stdout",
     "output_type": "stream",
     "text": [
      "Total dataset\n",
      "╒════════════════╤═══════════╤════════════╤════════════════╤═══════════════╕\n",
      "│                │    Active │   Inactive │   Inconclusive │   Unspecified │\n",
      "╞════════════════╪═══════════╪════════════╪════════════════╪═══════════════╡\n",
      "│ Number         │ 1102      │  1108      │              0 │             0 │\n",
      "├────────────────┼───────────┼────────────┼────────────────┼───────────────┤\n",
      "│ Percentage (%) │   49.8643 │    50.1357 │              0 │             0 │\n",
      "╘════════════════╧═══════════╧════════════╧════════════════╧═══════════════╛\n"
     ]
    }
   ],
   "source": [
    "show_activity_distribution(dataset=new_data, label='FINAL_LABEL')"
   ]
  },
  {
   "cell_type": "code",
   "execution_count": 176,
   "metadata": {},
   "outputs": [
    {
     "name": "stdout",
     "output_type": "stream",
     "text": [
      "Activity intersection:\n",
      "╒═══════════════════╤═══════════════════════╤══════════════════════╤═════════════════════════╤════════════════════════╤═══════════════════════════╕\n",
      "│   Active-Inactive │   Active-Inconclusive │   Active-Unspecified │   Inactive-Inconclusive │   Inactive-Unspecified │   Inconclusive-Unspecifid │\n",
      "╞═══════════════════╪═══════════════════════╪══════════════════════╪═════════════════════════╪════════════════════════╪═══════════════════════════╡\n",
      "│                 0 │                     0 │                   60 │                       0 │                      2 │                         0 │\n",
      "╘═══════════════════╧═══════════════════════╧══════════════════════╧═════════════════════════╧════════════════════════╧═══════════════════════════╛\n"
     ]
    }
   ],
   "source": [
    "check_label_intersection(dataset=new_data, col_name='FIRST_LABEL')"
   ]
  },
  {
   "attachments": {},
   "cell_type": "markdown",
   "metadata": {},
   "source": [
    "# Lọc trùng dữ liệu mới"
   ]
  },
  {
   "cell_type": "code",
   "execution_count": 34,
   "metadata": {},
   "outputs": [],
   "source": [
    "# data_before_cannon_smiles = new_data.copy()\n",
    "# from rdkit.Chem.MolStandardize import rdMolStandardize\n",
    "# def make_canonical_smiles(smiles):\n",
    "#     smiles = [rdMolStandardize.StandardizeSmiles(smi) for smi in smiles]\n",
    "#     return smiles\n",
    "# cannon_smiles = make_canonical_smiles(new_data.SMILES)\n",
    "# new_data['SMILES'] = cannon_smiles"
   ]
  },
  {
   "cell_type": "code",
   "execution_count": 177,
   "metadata": {},
   "outputs": [],
   "source": [
    "def remove_dup_smiles(dataset, smile_col_name):\n",
    "    unique_result = pd.DataFrame(columns=dataset.columns)\n",
    "    dup_result = pd.DataFrame(columns=dataset.columns)\n",
    "    error_result = pd.DataFrame(columns=dataset.columns)\n",
    "    #Start iteration\n",
    "    unique_smiles = dataset[smile_col_name].unique()\n",
    "    for smile in unique_smiles:\n",
    "        sub_dataset = dataset.loc[dataset[smile_col_name] == smile]\n",
    "        if(len(sub_dataset) == 1):\n",
    "            unique_result = pd.concat([unique_result, sub_dataset], axis=0)\n",
    "        elif(len(sub_dataset) > 1):\n",
    "            dup_result = pd.concat([dup_result, sub_dataset], axis=0)\n",
    "        else:\n",
    "            error_result = pd.concat([error_result, sub_dataset], axis=0)\n",
    "    return unique_result, dup_result, error_result"
   ]
  },
  {
   "cell_type": "code",
   "execution_count": 178,
   "metadata": {},
   "outputs": [],
   "source": [
    "unique_result, dup_result, error_result = remove_dup_smiles(dataset=new_data, smile_col_name='SMILES')"
   ]
  },
  {
   "cell_type": "code",
   "execution_count": 179,
   "metadata": {},
   "outputs": [
    {
     "name": "stdout",
     "output_type": "stream",
     "text": [
      "2086 124 0\n"
     ]
    }
   ],
   "source": [
    "print(len(unique_result), len(dup_result), len(error_result))"
   ]
  },
  {
   "cell_type": "code",
   "execution_count": 180,
   "metadata": {},
   "outputs": [
    {
     "name": "stdout",
     "output_type": "stream",
     "text": [
      "2086\n"
     ]
    },
    {
     "data": {
      "text/html": [
       "<div>\n",
       "<style scoped>\n",
       "    .dataframe tbody tr th:only-of-type {\n",
       "        vertical-align: middle;\n",
       "    }\n",
       "\n",
       "    .dataframe tbody tr th {\n",
       "        vertical-align: top;\n",
       "    }\n",
       "\n",
       "    .dataframe thead th {\n",
       "        text-align: right;\n",
       "    }\n",
       "</style>\n",
       "<table border=\"1\" class=\"dataframe\">\n",
       "  <thead>\n",
       "    <tr style=\"text-align: right;\">\n",
       "      <th></th>\n",
       "      <th>CID</th>\n",
       "      <th>SMILES</th>\n",
       "      <th>AVG_IC50_uM</th>\n",
       "      <th>FIRST_LABEL</th>\n",
       "      <th>FINAL_LABEL</th>\n",
       "      <th>DUPLICATE_COUNTS</th>\n",
       "    </tr>\n",
       "  </thead>\n",
       "  <tbody>\n",
       "    <tr>\n",
       "      <th>0</th>\n",
       "      <td>2746</td>\n",
       "      <td>CC(=O)NC1=CC=C(C=C1)C(=O)NC2=CC=CC=C2N</td>\n",
       "      <td>2.232500</td>\n",
       "      <td>Active</td>\n",
       "      <td>Inactive</td>\n",
       "      <td>12</td>\n",
       "    </tr>\n",
       "    <tr>\n",
       "      <th>2</th>\n",
       "      <td>3812</td>\n",
       "      <td>CN(C)C1=CC=C(C=C1)C(=O)NCCCCCCCC(=O)NO</td>\n",
       "      <td>1.306667</td>\n",
       "      <td>Active</td>\n",
       "      <td>Inactive</td>\n",
       "      <td>3</td>\n",
       "    </tr>\n",
       "    <tr>\n",
       "      <th>3</th>\n",
       "      <td>3994</td>\n",
       "      <td>CN(C)C1=CC=C(C=C1)C(=O)NCCCCCCC(=O)NO</td>\n",
       "      <td>1.256667</td>\n",
       "      <td>Active</td>\n",
       "      <td>Inactive</td>\n",
       "      <td>3</td>\n",
       "    </tr>\n",
       "    <tr>\n",
       "      <th>4</th>\n",
       "      <td>4261</td>\n",
       "      <td>C1=CC=C(C(=C1)N)NC(=O)C2=CC=C(C=C2)CNC(=O)OCC3...</td>\n",
       "      <td>1.526316</td>\n",
       "      <td>Active</td>\n",
       "      <td>Inactive</td>\n",
       "      <td>19</td>\n",
       "    </tr>\n",
       "    <tr>\n",
       "      <th>6</th>\n",
       "      <td>5173</td>\n",
       "      <td>C(CCCC(=O)NO)CCC(=O)NO</td>\n",
       "      <td>8.230000</td>\n",
       "      <td>Active</td>\n",
       "      <td>Inactive</td>\n",
       "      <td>1</td>\n",
       "    </tr>\n",
       "  </tbody>\n",
       "</table>\n",
       "</div>"
      ],
      "text/plain": [
       "    CID                                             SMILES  AVG_IC50_uM  \\\n",
       "0  2746             CC(=O)NC1=CC=C(C=C1)C(=O)NC2=CC=CC=C2N     2.232500   \n",
       "2  3812             CN(C)C1=CC=C(C=C1)C(=O)NCCCCCCCC(=O)NO     1.306667   \n",
       "3  3994              CN(C)C1=CC=C(C=C1)C(=O)NCCCCCCC(=O)NO     1.256667   \n",
       "4  4261  C1=CC=C(C(=C1)N)NC(=O)C2=CC=C(C=C2)CNC(=O)OCC3...     1.526316   \n",
       "6  5173                             C(CCCC(=O)NO)CCC(=O)NO     8.230000   \n",
       "\n",
       "  FIRST_LABEL FINAL_LABEL DUPLICATE_COUNTS  \n",
       "0      Active    Inactive               12  \n",
       "2      Active    Inactive                3  \n",
       "3      Active    Inactive                3  \n",
       "4      Active    Inactive               19  \n",
       "6      Active    Inactive                1  "
      ]
     },
     "execution_count": 180,
     "metadata": {},
     "output_type": "execute_result"
    }
   ],
   "source": [
    "new_data = unique_result\n",
    "print(len(new_data))\n",
    "new_data.head()"
   ]
  },
  {
   "cell_type": "code",
   "execution_count": 181,
   "metadata": {},
   "outputs": [
    {
     "data": {
      "text/html": [
       "<div>\n",
       "<style scoped>\n",
       "    .dataframe tbody tr th:only-of-type {\n",
       "        vertical-align: middle;\n",
       "    }\n",
       "\n",
       "    .dataframe tbody tr th {\n",
       "        vertical-align: top;\n",
       "    }\n",
       "\n",
       "    .dataframe thead th {\n",
       "        text-align: right;\n",
       "    }\n",
       "</style>\n",
       "<table border=\"1\" class=\"dataframe\">\n",
       "  <thead>\n",
       "    <tr style=\"text-align: right;\">\n",
       "      <th></th>\n",
       "      <th>CID</th>\n",
       "      <th>SMILES</th>\n",
       "      <th>AVG_IC50_uM</th>\n",
       "      <th>FIRST_LABEL</th>\n",
       "      <th>FINAL_LABEL</th>\n",
       "      <th>DUPLICATE_COUNTS</th>\n",
       "    </tr>\n",
       "  </thead>\n",
       "  <tbody>\n",
       "    <tr>\n",
       "      <th>1</th>\n",
       "      <td>3811</td>\n",
       "      <td>CN(C)C1=CC=C(C=C1)C(=O)NCCCCCC(=O)NO</td>\n",
       "      <td>0.240</td>\n",
       "      <td>Active</td>\n",
       "      <td>Active</td>\n",
       "      <td>1</td>\n",
       "    </tr>\n",
       "    <tr>\n",
       "      <th>3</th>\n",
       "      <td>3811</td>\n",
       "      <td>CN(C)C1=CC=C(C=C1)C(=O)NCCCCCC(=O)NO</td>\n",
       "      <td>10.000</td>\n",
       "      <td>Unspecified</td>\n",
       "      <td>Inactive</td>\n",
       "      <td>1</td>\n",
       "    </tr>\n",
       "    <tr>\n",
       "      <th>5</th>\n",
       "      <td>4996</td>\n",
       "      <td>C1=CC(=CN=C1)NC(=O)CCCCCCC(=O)NO</td>\n",
       "      <td>4.050</td>\n",
       "      <td>Active</td>\n",
       "      <td>Inactive</td>\n",
       "      <td>2</td>\n",
       "    </tr>\n",
       "    <tr>\n",
       "      <th>5</th>\n",
       "      <td>4996</td>\n",
       "      <td>C1=CC(=CN=C1)NC(=O)CCCCCCC(=O)NO</td>\n",
       "      <td>10.000</td>\n",
       "      <td>Unspecified</td>\n",
       "      <td>Inactive</td>\n",
       "      <td>1</td>\n",
       "    </tr>\n",
       "    <tr>\n",
       "      <th>12</th>\n",
       "      <td>298878</td>\n",
       "      <td>C1=CC=C(C=C1)C(=O)CCCCCCC(=O)O</td>\n",
       "      <td>2.185</td>\n",
       "      <td>Active</td>\n",
       "      <td>Inactive</td>\n",
       "      <td>2</td>\n",
       "    </tr>\n",
       "  </tbody>\n",
       "</table>\n",
       "</div>"
      ],
      "text/plain": [
       "       CID                                SMILES  AVG_IC50_uM  FIRST_LABEL  \\\n",
       "1     3811  CN(C)C1=CC=C(C=C1)C(=O)NCCCCCC(=O)NO        0.240       Active   \n",
       "3     3811  CN(C)C1=CC=C(C=C1)C(=O)NCCCCCC(=O)NO       10.000  Unspecified   \n",
       "5     4996      C1=CC(=CN=C1)NC(=O)CCCCCCC(=O)NO        4.050       Active   \n",
       "5     4996      C1=CC(=CN=C1)NC(=O)CCCCCCC(=O)NO       10.000  Unspecified   \n",
       "12  298878        C1=CC=C(C=C1)C(=O)CCCCCCC(=O)O        2.185       Active   \n",
       "\n",
       "   FINAL_LABEL DUPLICATE_COUNTS  \n",
       "1       Active                1  \n",
       "3     Inactive                1  \n",
       "5     Inactive                2  \n",
       "5     Inactive                1  \n",
       "12    Inactive                2  "
      ]
     },
     "execution_count": 181,
     "metadata": {},
     "output_type": "execute_result"
    }
   ],
   "source": [
    "dup_result.head()"
   ]
  },
  {
   "attachments": {},
   "cell_type": "markdown",
   "metadata": {},
   "source": [
    "# Đánh giá bộ dữ liệu"
   ]
  },
  {
   "cell_type": "code",
   "execution_count": 182,
   "metadata": {},
   "outputs": [
    {
     "name": "stdout",
     "output_type": "stream",
     "text": [
      "Activity intersection:\n",
      "╒═══════════════════╤═══════════════════════╤══════════════════════╤═════════════════════════╤════════════════════════╤═══════════════════════════╕\n",
      "│   Active-Inactive │   Active-Inconclusive │   Active-Unspecified │   Inactive-Inconclusive │   Inactive-Unspecified │   Inconclusive-Unspecifid │\n",
      "╞═══════════════════╪═══════════════════════╪══════════════════════╪═════════════════════════╪════════════════════════╪═══════════════════════════╡\n",
      "│                 0 │                     0 │                    0 │                       0 │                      0 │                         0 │\n",
      "╘═══════════════════╧═══════════════════════╧══════════════════════╧═════════════════════════╧════════════════════════╧═══════════════════════════╛\n"
     ]
    }
   ],
   "source": [
    "check_label_intersection(dataset=new_data, col_name='FIRST_LABEL')"
   ]
  },
  {
   "cell_type": "code",
   "execution_count": 183,
   "metadata": {},
   "outputs": [
    {
     "name": "stdout",
     "output_type": "stream",
     "text": [
      "Activity intersection:\n",
      "╒═══════════════════╤═══════════════════════╤══════════════════════╤═════════════════════════╤════════════════════════╤═══════════════════════════╕\n",
      "│   Active-Inactive │   Active-Inconclusive │   Active-Unspecified │   Inactive-Inconclusive │   Inactive-Unspecified │   Inconclusive-Unspecifid │\n",
      "╞═══════════════════╪═══════════════════════╪══════════════════════╪═════════════════════════╪════════════════════════╪═══════════════════════════╡\n",
      "│                 0 │                     0 │                    0 │                       0 │                      0 │                         0 │\n",
      "╘═══════════════════╧═══════════════════════╧══════════════════════╧═════════════════════════╧════════════════════════╧═══════════════════════════╛\n"
     ]
    }
   ],
   "source": [
    "check_label_intersection(dataset=new_data, col_name='FINAL_LABEL')"
   ]
  },
  {
   "cell_type": "code",
   "execution_count": 184,
   "metadata": {},
   "outputs": [
    {
     "name": "stdout",
     "output_type": "stream",
     "text": [
      "Label for first label:\n",
      "Total dataset\n",
      "╒════════════════╤══════════╤════════════╤════════════════╤═══════════════╕\n",
      "│                │   Active │   Inactive │   Inconclusive │   Unspecified │\n",
      "╞════════════════╪══════════╪════════════╪════════════════╪═══════════════╡\n",
      "│ Number         │ 1483     │   4        │              0 │      599      │\n",
      "├────────────────┼──────────┼────────────┼────────────────┼───────────────┤\n",
      "│ Percentage (%) │   71.093 │   0.191755 │              0 │       28.7152 │\n",
      "╘════════════════╧══════════╧════════════╧════════════════╧═══════════════╛\n",
      "\n",
      "Label for final label:\n",
      "Total dataset\n",
      "╒════════════════╤══════════╤════════════╤════════════════╤═══════════════╕\n",
      "│                │   Active │   Inactive │   Inconclusive │   Unspecified │\n",
      "╞════════════════╪══════════╪════════════╪════════════════╪═══════════════╡\n",
      "│ Number         │ 1059     │   1027     │              0 │             0 │\n",
      "├────────────────┼──────────┼────────────┼────────────────┼───────────────┤\n",
      "│ Percentage (%) │   50.767 │     49.233 │              0 │             0 │\n",
      "╘════════════════╧══════════╧════════════╧════════════════╧═══════════════╛\n"
     ]
    }
   ],
   "source": [
    "print(\"Label for first label:\")\n",
    "show_activity_distribution(dataset=new_data, label='FIRST_LABEL')\n",
    "print()\n",
    "print(\"Label for final label:\")\n",
    "show_activity_distribution(dataset=new_data, label='FINAL_LABEL')"
   ]
  },
  {
   "cell_type": "code",
   "execution_count": 185,
   "metadata": {},
   "outputs": [
    {
     "name": "stdout",
     "output_type": "stream",
     "text": [
      "0\n"
     ]
    },
    {
     "data": {
      "text/html": [
       "<div>\n",
       "<style scoped>\n",
       "    .dataframe tbody tr th:only-of-type {\n",
       "        vertical-align: middle;\n",
       "    }\n",
       "\n",
       "    .dataframe tbody tr th {\n",
       "        vertical-align: top;\n",
       "    }\n",
       "\n",
       "    .dataframe thead th {\n",
       "        text-align: right;\n",
       "    }\n",
       "</style>\n",
       "<table border=\"1\" class=\"dataframe\">\n",
       "  <thead>\n",
       "    <tr style=\"text-align: right;\">\n",
       "      <th></th>\n",
       "      <th>CID</th>\n",
       "      <th>SMILES</th>\n",
       "      <th>IC50(uM)</th>\n",
       "      <th>Activity</th>\n",
       "    </tr>\n",
       "  </thead>\n",
       "  <tbody>\n",
       "  </tbody>\n",
       "</table>\n",
       "</div>"
      ],
      "text/plain": [
       "Empty DataFrame\n",
       "Columns: [CID, SMILES, IC50(uM), Activity]\n",
       "Index: []"
      ]
     },
     "execution_count": 185,
     "metadata": {},
     "output_type": "execute_result"
    }
   ],
   "source": [
    "non_float_rows = find_non_float_ic50(dataset, ic50_col_name=ic50_col_name)\n",
    "print(len(non_float_rows))\n",
    "non_float_rows.head()"
   ]
  },
  {
   "cell_type": "code",
   "execution_count": 73,
   "metadata": {},
   "outputs": [
    {
     "name": "stderr",
     "output_type": "stream",
     "text": [
      "/tmp/ipykernel_241218/1098171056.py:2: FutureWarning: Setting the `book` attribute is not part of the public API, usage can give unexpected or corrupted results and will be removed in a future version\n",
      "  writer.book = writer.book\n"
     ]
    }
   ],
   "source": [
    "with pd.ExcelWriter('../../data_for_modeling/filter_data/all_data/HDAC2_all_data_filtered.xlsx', engine='openpyxl') as writer:\n",
    "    writer.book = writer.book \n",
    "    dataset_c.to_excel(writer, sheet_name='original_data', index=False)\n",
    "    new_data.to_excel(writer, sheet_name='filter_data', index=False)\n",
    "    dup_result.to_excel(writer, sheet_name='duplicate_smiles', index=False)\n",
    "    # data_before_cannon_smiles.to_excel(writer, sheet_name='data_before_cannon_smiles', index=False)\n",
    "    data_ic50_processed.to_excel(writer, sheet_name=\"data_ic50_process\", index=False)"
   ]
  }
 ],
 "metadata": {
  "kernelspec": {
   "display_name": "Python 3",
   "language": "python",
   "name": "python3"
  },
  "language_info": {
   "codemirror_mode": {
    "name": "ipython",
    "version": 3
   },
   "file_extension": ".py",
   "mimetype": "text/x-python",
   "name": "python",
   "nbconvert_exporter": "python",
   "pygments_lexer": "ipython3",
   "version": "3.11.3"
  },
  "orig_nbformat": 4
 },
 "nbformat": 4,
 "nbformat_minor": 2
}
