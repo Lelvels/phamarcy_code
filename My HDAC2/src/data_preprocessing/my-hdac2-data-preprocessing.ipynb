{
 "cells": [
  {
   "cell_type": "code",
   "execution_count": 2,
   "metadata": {},
   "outputs": [],
   "source": [
    "from rdkit.Chem import AllChem\n",
    "from rdkit import Chem\n",
    "from rdkit.Chem import Descriptors, MACCSkeys\n",
    "from rdkit.ML.Descriptors import MoleculeDescriptors\n",
    "\n",
    "import pandas as pd\n",
    "import numpy as np\n",
    "import matplotlib.pyplot as plt\n",
    "import seaborn as sns\n",
    "from tabulate import tabulate\n",
    "\n",
    "from mordred import Calculator, descriptors"
   ]
  },
  {
   "attachments": {},
   "cell_type": "markdown",
   "metadata": {},
   "source": [
    "# Thông tin ban đầu về bộ dữ liệu"
   ]
  },
  {
   "attachments": {},
   "cell_type": "markdown",
   "metadata": {},
   "source": [
    "## 1. Đọc dữ liệu"
   ]
  },
  {
   "cell_type": "code",
   "execution_count": 4,
   "metadata": {},
   "outputs": [],
   "source": [
    "all_data_path = \"../../data_for_modeling/raw_data/all_data/HDAC2_ALL_DATA.xlsx\"\n",
    "dataset = pd.read_excel(all_data_path, sheet_name='original_data')"
   ]
  },
  {
   "cell_type": "code",
   "execution_count": 6,
   "metadata": {},
   "outputs": [
    {
     "name": "stdout",
     "output_type": "stream",
     "text": [
      "4086\n"
     ]
    },
    {
     "data": {
      "text/html": [
       "<div>\n",
       "<style scoped>\n",
       "    .dataframe tbody tr th:only-of-type {\n",
       "        vertical-align: middle;\n",
       "    }\n",
       "\n",
       "    .dataframe tbody tr th {\n",
       "        vertical-align: top;\n",
       "    }\n",
       "\n",
       "    .dataframe thead th {\n",
       "        text-align: right;\n",
       "    }\n",
       "</style>\n",
       "<table border=\"1\" class=\"dataframe\">\n",
       "  <thead>\n",
       "    <tr style=\"text-align: right;\">\n",
       "      <th></th>\n",
       "      <th>CID</th>\n",
       "      <th>SMILES</th>\n",
       "      <th>IC50(uM)</th>\n",
       "      <th>Activity</th>\n",
       "    </tr>\n",
       "  </thead>\n",
       "  <tbody>\n",
       "    <tr>\n",
       "      <th>0</th>\n",
       "      <td>264</td>\n",
       "      <td>CCCC(=O)O</td>\n",
       "      <td>12</td>\n",
       "      <td>Unspecified</td>\n",
       "    </tr>\n",
       "    <tr>\n",
       "      <th>1</th>\n",
       "      <td>2662</td>\n",
       "      <td>CCCC(=O)O</td>\n",
       "      <td>NaN</td>\n",
       "      <td>Inconclusive</td>\n",
       "    </tr>\n",
       "    <tr>\n",
       "      <th>2</th>\n",
       "      <td>2746</td>\n",
       "      <td>CC(=O)NC1=CC=C(C=C1)C(=O)NC2=CC=CC=C2N</td>\n",
       "      <td>3.81</td>\n",
       "      <td>Active</td>\n",
       "    </tr>\n",
       "    <tr>\n",
       "      <th>3</th>\n",
       "      <td>2746</td>\n",
       "      <td>CC(=O)NC1=CC=C(C=C1)C(=O)NC2=CC=CC=C2N</td>\n",
       "      <td>1.2</td>\n",
       "      <td>Active</td>\n",
       "    </tr>\n",
       "    <tr>\n",
       "      <th>4</th>\n",
       "      <td>2746</td>\n",
       "      <td>CC(=O)NC1=CC=C(C=C1)C(=O)NC2=CC=CC=C2N</td>\n",
       "      <td>6</td>\n",
       "      <td>Active</td>\n",
       "    </tr>\n",
       "  </tbody>\n",
       "</table>\n",
       "</div>"
      ],
      "text/plain": [
       "    CID                                  SMILES IC50(uM)      Activity\n",
       "0   264                               CCCC(=O)O       12   Unspecified\n",
       "1  2662                               CCCC(=O)O      NaN  Inconclusive\n",
       "2  2746  CC(=O)NC1=CC=C(C=C1)C(=O)NC2=CC=CC=C2N     3.81        Active\n",
       "3  2746  CC(=O)NC1=CC=C(C=C1)C(=O)NC2=CC=CC=C2N      1.2        Active\n",
       "4  2746  CC(=O)NC1=CC=C(C=C1)C(=O)NC2=CC=CC=C2N        6        Active"
      ]
     },
     "execution_count": 6,
     "metadata": {},
     "output_type": "execute_result"
    }
   ],
   "source": [
    "print(len(dataset))\n",
    "dataset.head()"
   ]
  },
  {
   "cell_type": "code",
   "execution_count": 7,
   "metadata": {},
   "outputs": [],
   "source": [
    "def show_activity_distribution(label, dataset):\n",
    "    #Rows for specific labels\n",
    "    active_rows = dataset.loc[dataset[label] == \"Active\"]\n",
    "    inactive_rows = dataset.loc[dataset[label] == \"Inactive\"]\n",
    "    inconclusive_rows = dataset.loc[dataset[label] == \"Inconclusive\"]\n",
    "    unspecified_rows = dataset.loc[dataset[label] == \"Unspecified\"]\n",
    "    dataset_length = len(dataset)\n",
    "    print(\"Total dataset\")\n",
    "    table = [['', 'Active', 'Inactive', 'Inconclusive', 'Unspecified'], \n",
    "            ['Number', len(active_rows), len(inactive_rows), len(inconclusive_rows), len(unspecified_rows)],\n",
    "            ['Percentage (%)', len(active_rows)/dataset_length*100, len(inactive_rows)/dataset_length*100,\n",
    "            len(inconclusive_rows)/dataset_length*100, len(unspecified_rows)/dataset_length*100]]\n",
    "    print(tabulate(table, headers='firstrow', tablefmt='fancy_grid'))"
   ]
  },
  {
   "attachments": {},
   "cell_type": "markdown",
   "metadata": {},
   "source": [
    "## 2. Phân bố Activity"
   ]
  },
  {
   "cell_type": "code",
   "execution_count": 8,
   "metadata": {},
   "outputs": [
    {
     "name": "stdout",
     "output_type": "stream",
     "text": [
      "Total dataset\n",
      "╒════════════════╤═══════════╤════════════╤════════════════╤═══════════════╕\n",
      "│                │    Active │   Inactive │   Inconclusive │   Unspecified │\n",
      "╞════════════════╪═══════════╪════════════╪════════════════╪═══════════════╡\n",
      "│ Number         │ 2873      │  25        │      117       │     1071      │\n",
      "├────────────────┼───────────┼────────────┼────────────────┼───────────────┤\n",
      "│ Percentage (%) │   70.3133 │   0.611845 │        2.86344 │       26.2115 │\n",
      "╘════════════════╧═══════════╧════════════╧════════════════╧═══════════════╛\n"
     ]
    }
   ],
   "source": [
    "show_activity_distribution(dataset=dataset, label='Activity')"
   ]
  },
  {
   "attachments": {},
   "cell_type": "markdown",
   "metadata": {},
   "source": [
    "## 3. IC50 lỗi"
   ]
  },
  {
   "cell_type": "code",
   "execution_count": 9,
   "metadata": {},
   "outputs": [],
   "source": [
    "def find_non_float_ic50(dataset, ic50_col_name):\n",
    "    # Use to_numeric to identify non-float values\n",
    "    is_float = pd.to_numeric(dataset[ic50_col_name], errors='coerce').notna()\n",
    "    # Find the rows where 'IC50 (uM)' is not a float\n",
    "    non_float_rows = dataset[~is_float]\n",
    "    return non_float_rows"
   ]
  },
  {
   "cell_type": "code",
   "execution_count": 10,
   "metadata": {},
   "outputs": [
    {
     "name": "stdout",
     "output_type": "stream",
     "text": [
      "853\n"
     ]
    },
    {
     "data": {
      "text/html": [
       "<div>\n",
       "<style scoped>\n",
       "    .dataframe tbody tr th:only-of-type {\n",
       "        vertical-align: middle;\n",
       "    }\n",
       "\n",
       "    .dataframe tbody tr th {\n",
       "        vertical-align: top;\n",
       "    }\n",
       "\n",
       "    .dataframe thead th {\n",
       "        text-align: right;\n",
       "    }\n",
       "</style>\n",
       "<table border=\"1\" class=\"dataframe\">\n",
       "  <thead>\n",
       "    <tr style=\"text-align: right;\">\n",
       "      <th></th>\n",
       "      <th>CID</th>\n",
       "      <th>SMILES</th>\n",
       "      <th>IC50(uM)</th>\n",
       "      <th>Activity</th>\n",
       "    </tr>\n",
       "  </thead>\n",
       "  <tbody>\n",
       "    <tr>\n",
       "      <th>1</th>\n",
       "      <td>2662</td>\n",
       "      <td>CCCC(=O)O</td>\n",
       "      <td>NaN</td>\n",
       "      <td>Inconclusive</td>\n",
       "    </tr>\n",
       "    <tr>\n",
       "      <th>16</th>\n",
       "      <td>3810</td>\n",
       "      <td>CN(C)C1=CC=C(C=C1)C(=O)NCCCCC(=O)NO</td>\n",
       "      <td>&gt;10</td>\n",
       "      <td>Unspecified</td>\n",
       "    </tr>\n",
       "    <tr>\n",
       "      <th>17</th>\n",
       "      <td>3810</td>\n",
       "      <td>CN(C)C1=CC=C(C=C1)C(=O)NCCCCC(=O)NO</td>\n",
       "      <td>&gt;10</td>\n",
       "      <td>Unspecified</td>\n",
       "    </tr>\n",
       "    <tr>\n",
       "      <th>18</th>\n",
       "      <td>3811</td>\n",
       "      <td>CN(C)C1=CC=C(C=C1)C(=O)NCCCCCC(=O)NO</td>\n",
       "      <td>&gt;10</td>\n",
       "      <td>Unspecified</td>\n",
       "    </tr>\n",
       "    <tr>\n",
       "      <th>26</th>\n",
       "      <td>4261</td>\n",
       "      <td>C1=CC=C(C(=C1)N)NC(=O)C2=CC=C(C=C2)CNC(=O)OCC3...</td>\n",
       "      <td>NaN</td>\n",
       "      <td>Inconclusive</td>\n",
       "    </tr>\n",
       "  </tbody>\n",
       "</table>\n",
       "</div>"
      ],
      "text/plain": [
       "     CID                                             SMILES IC50(uM)  \\\n",
       "1   2662                                          CCCC(=O)O      NaN   \n",
       "16  3810                CN(C)C1=CC=C(C=C1)C(=O)NCCCCC(=O)NO      >10   \n",
       "17  3810                CN(C)C1=CC=C(C=C1)C(=O)NCCCCC(=O)NO      >10   \n",
       "18  3811               CN(C)C1=CC=C(C=C1)C(=O)NCCCCCC(=O)NO      >10   \n",
       "26  4261  C1=CC=C(C(=C1)N)NC(=O)C2=CC=C(C=C2)CNC(=O)OCC3...      NaN   \n",
       "\n",
       "        Activity  \n",
       "1   Inconclusive  \n",
       "16   Unspecified  \n",
       "17   Unspecified  \n",
       "18   Unspecified  \n",
       "26  Inconclusive  "
      ]
     },
     "execution_count": 10,
     "metadata": {},
     "output_type": "execute_result"
    }
   ],
   "source": [
    "non_float_rows = find_non_float_ic50(dataset, 'IC50(uM)')\n",
    "print(len(non_float_rows))\n",
    "non_float_rows.head()"
   ]
  },
  {
   "cell_type": "code",
   "execution_count": 11,
   "metadata": {},
   "outputs": [
    {
     "name": "stdout",
     "output_type": "stream",
     "text": [
      "Total dataset\n",
      "╒════════════════╤══════════╤════════════╤════════════════╤═══════════════╕\n",
      "│                │   Active │   Inactive │   Inconclusive │   Unspecified │\n",
      "╞════════════════╪══════════╪════════════╪════════════════╪═══════════════╡\n",
      "│ Number         │        0 │   8        │        98      │      747      │\n",
      "├────────────────┼──────────┼────────────┼────────────────┼───────────────┤\n",
      "│ Percentage (%) │        0 │   0.937866 │        11.4889 │       87.5733 │\n",
      "╘════════════════╧══════════╧════════════╧════════════════╧═══════════════╛\n"
     ]
    }
   ],
   "source": [
    "show_activity_distribution(dataset=non_float_rows, label='Activity')"
   ]
  },
  {
   "attachments": {},
   "cell_type": "markdown",
   "metadata": {},
   "source": [
    "Các xử lý IC50 với từng loại nhãn\n",
    "- Active: nếu chứa (<, >), ta sẽ loại bỏ những dấu này đi, nếu chất đó là ô trống, hoặc bằng 0 thì ta loại bỏ.\n",
    "- Inactive: nếu chứa (<, >), ta sẽ loại bỏ những dấu này đi, nếu chất đó là ô trống, hoặc bằng 0 thì ta loại bỏ.\n",
    "- Inconclusive: những chất này thường có IC50 bị lỗi, ta loại thẳng những chất này đi.\n",
    "- Unspecified: Những chất này sẽ được chuyển sang nhãn mới là Inactive, tuy nhiên, những chất không có IC50 vẫn bị loại bỏ."
   ]
  },
  {
   "attachments": {},
   "cell_type": "markdown",
   "metadata": {},
   "source": [
    "## 4. Nhãn bị mâu thuẫn"
   ]
  },
  {
   "cell_type": "code",
   "execution_count": 12,
   "metadata": {},
   "outputs": [],
   "source": [
    "def check_label_intersection(dataset, col_name):\n",
    "    active_rows = dataset.loc[dataset[col_name] == \"Active\"]\n",
    "    inactive_rows = dataset.loc[dataset[col_name] == \"Inactive\"]\n",
    "    inconclusive_rows = dataset.loc[dataset[col_name] == \"Inconclusive\"]\n",
    "    unspecified_rows = dataset.loc[dataset[col_name] == \"Unspecified\"]\n",
    "    \n",
    "    cid_active = active_rows.loc[:, 'CID']\n",
    "    cid_inactive = inactive_rows.loc[:, 'CID']\n",
    "    cid_incon = inconclusive_rows.loc[:, 'CID']\n",
    "    cid_unspec = unspecified_rows.loc[:, 'CID']\n",
    "\n",
    "    ac_inac_cid = np.intersect1d(cid_active, cid_inactive)\n",
    "    ac_incon_cid = np.intersect1d(cid_active, cid_incon)\n",
    "    ac_unspec_cid = np.intersect1d(cid_active, cid_unspec)\n",
    "\n",
    "    inac_incon_cid = np.intersect1d(cid_inactive, cid_incon)\n",
    "    incon_unspec_cid = np.intersect1d(cid_incon, cid_unspec)\n",
    "    inac_unspec_cid = np.intersect1d(cid_inactive, cid_unspec)\n",
    "    \n",
    "    print(\"Activity intersection:\")\n",
    "    table = [['Active-Inactive', 'Active-Inconclusive', 'Active-Unspecified', 'Inactive-Inconclusive', 'Inactive-Unspecified', 'Inconclusive-Unspecifid'], \n",
    "             [len(ac_inac_cid), len(ac_incon_cid), len(ac_unspec_cid), len(inac_incon_cid), len(inac_unspec_cid), len(incon_unspec_cid)]]\n",
    "    print(tabulate(table, headers='firstrow', tablefmt='fancy_grid'))"
   ]
  },
  {
   "cell_type": "code",
   "execution_count": 13,
   "metadata": {},
   "outputs": [
    {
     "name": "stdout",
     "output_type": "stream",
     "text": [
      "Activity intersection:\n",
      "╒═══════════════════╤═══════════════════════╤══════════════════════╤═════════════════════════╤════════════════════════╤═══════════════════════════╕\n",
      "│   Active-Inactive │   Active-Inconclusive │   Active-Unspecified │   Inactive-Inconclusive │   Inactive-Unspecified │   Inconclusive-Unspecifid │\n",
      "╞═══════════════════╪═══════════════════════╪══════════════════════╪═════════════════════════╪════════════════════════╪═══════════════════════════╡\n",
      "│                 0 │                    13 │                   74 │                       2 │                      2 │                         5 │\n",
      "╘═══════════════════╧═══════════════════════╧══════════════════════╧═════════════════════════╧════════════════════════╧═══════════════════════════╛\n"
     ]
    }
   ],
   "source": [
    "check_label_intersection(dataset=dataset, col_name='Activity')"
   ]
  },
  {
   "attachments": {},
   "cell_type": "markdown",
   "metadata": {},
   "source": [
    "# Loại bỏ, ghép chất và tính trung bình từng chất"
   ]
  },
  {
   "attachments": {},
   "cell_type": "markdown",
   "metadata": {},
   "source": [
    "## Loại bỏ các chất Inconclusive"
   ]
  },
  {
   "cell_type": "code",
   "execution_count": 14,
   "metadata": {},
   "outputs": [
    {
     "data": {
      "text/html": [
       "<div>\n",
       "<style scoped>\n",
       "    .dataframe tbody tr th:only-of-type {\n",
       "        vertical-align: middle;\n",
       "    }\n",
       "\n",
       "    .dataframe tbody tr th {\n",
       "        vertical-align: top;\n",
       "    }\n",
       "\n",
       "    .dataframe thead th {\n",
       "        text-align: right;\n",
       "    }\n",
       "</style>\n",
       "<table border=\"1\" class=\"dataframe\">\n",
       "  <thead>\n",
       "    <tr style=\"text-align: right;\">\n",
       "      <th></th>\n",
       "      <th>CID</th>\n",
       "      <th>SMILES</th>\n",
       "      <th>IC50(uM)</th>\n",
       "      <th>Activity</th>\n",
       "    </tr>\n",
       "  </thead>\n",
       "  <tbody>\n",
       "    <tr>\n",
       "      <th>0</th>\n",
       "      <td>264</td>\n",
       "      <td>CCCC(=O)O</td>\n",
       "      <td>12</td>\n",
       "      <td>Unspecified</td>\n",
       "    </tr>\n",
       "    <tr>\n",
       "      <th>1</th>\n",
       "      <td>2662</td>\n",
       "      <td>CCCC(=O)O</td>\n",
       "      <td>NaN</td>\n",
       "      <td>Inconclusive</td>\n",
       "    </tr>\n",
       "    <tr>\n",
       "      <th>2</th>\n",
       "      <td>2746</td>\n",
       "      <td>CC(=O)NC1=CC=C(C=C1)C(=O)NC2=CC=CC=C2N</td>\n",
       "      <td>3.81</td>\n",
       "      <td>Active</td>\n",
       "    </tr>\n",
       "    <tr>\n",
       "      <th>3</th>\n",
       "      <td>2746</td>\n",
       "      <td>CC(=O)NC1=CC=C(C=C1)C(=O)NC2=CC=CC=C2N</td>\n",
       "      <td>1.2</td>\n",
       "      <td>Active</td>\n",
       "    </tr>\n",
       "    <tr>\n",
       "      <th>4</th>\n",
       "      <td>2746</td>\n",
       "      <td>CC(=O)NC1=CC=C(C=C1)C(=O)NC2=CC=CC=C2N</td>\n",
       "      <td>6</td>\n",
       "      <td>Active</td>\n",
       "    </tr>\n",
       "  </tbody>\n",
       "</table>\n",
       "</div>"
      ],
      "text/plain": [
       "    CID                                  SMILES IC50(uM)      Activity\n",
       "0   264                               CCCC(=O)O       12   Unspecified\n",
       "1  2662                               CCCC(=O)O      NaN  Inconclusive\n",
       "2  2746  CC(=O)NC1=CC=C(C=C1)C(=O)NC2=CC=CC=C2N     3.81        Active\n",
       "3  2746  CC(=O)NC1=CC=C(C=C1)C(=O)NC2=CC=CC=C2N      1.2        Active\n",
       "4  2746  CC(=O)NC1=CC=C(C=C1)C(=O)NC2=CC=CC=C2N        6        Active"
      ]
     },
     "execution_count": 14,
     "metadata": {},
     "output_type": "execute_result"
    }
   ],
   "source": [
    "dataset_c = dataset.copy()\n",
    "dataset_c.head()"
   ]
  },
  {
   "cell_type": "code",
   "execution_count": 15,
   "metadata": {},
   "outputs": [],
   "source": [
    "def drop_by_activity(dataset, activity_type, col_name):\n",
    "    drop_rows = dataset.loc[dataset[col_name] == activity_type]\n",
    "    dataset.drop(drop_rows.index, inplace=True)\n",
    "    return dataset"
   ]
  },
  {
   "cell_type": "code",
   "execution_count": 16,
   "metadata": {},
   "outputs": [],
   "source": [
    "dataset = drop_by_activity(dataset=dataset, activity_type='Inconclusive', col_name='Activity')"
   ]
  },
  {
   "cell_type": "code",
   "execution_count": 17,
   "metadata": {},
   "outputs": [
    {
     "name": "stdout",
     "output_type": "stream",
     "text": [
      "Total dataset\n",
      "╒════════════════╤══════════╤════════════╤════════════════╤═══════════════╕\n",
      "│                │   Active │   Inactive │   Inconclusive │   Unspecified │\n",
      "╞════════════════╪══════════╪════════════╪════════════════╪═══════════════╡\n",
      "│ Number         │ 2873     │  25        │              0 │     1071      │\n",
      "├────────────────┼──────────┼────────────┼────────────────┼───────────────┤\n",
      "│ Percentage (%) │   72.386 │   0.629882 │              0 │       26.9841 │\n",
      "╘════════════════╧══════════╧════════════╧════════════════╧═══════════════╛\n"
     ]
    }
   ],
   "source": [
    "show_activity_distribution(dataset=dataset, label='Activity')"
   ]
  },
  {
   "attachments": {},
   "cell_type": "markdown",
   "metadata": {},
   "source": [
    "## Loại bỏ những chất không có IC50"
   ]
  },
  {
   "attachments": {},
   "cell_type": "markdown",
   "metadata": {},
   "source": [
    "Những chất không có IC50 là những chất có IC50 trống hoặc bằng 0"
   ]
  },
  {
   "cell_type": "code",
   "execution_count": 18,
   "metadata": {},
   "outputs": [],
   "source": [
    "# Replace 0 and blank values with NaN\n",
    "dataset['IC50(uM)'].replace(['0', ''], float('nan'), inplace=True)\n",
    "dataset = dataset.dropna(subset=['IC50(uM)'])"
   ]
  },
  {
   "cell_type": "code",
   "execution_count": 19,
   "metadata": {},
   "outputs": [
    {
     "data": {
      "text/plain": [
       "3956"
      ]
     },
     "execution_count": 19,
     "metadata": {},
     "output_type": "execute_result"
    }
   ],
   "source": [
    "len(dataset)"
   ]
  },
  {
   "cell_type": "code",
   "execution_count": 20,
   "metadata": {},
   "outputs": [
    {
     "name": "stdout",
     "output_type": "stream",
     "text": [
      "Total dataset\n",
      "╒════════════════╤═══════════╤════════════╤════════════════╤═══════════════╕\n",
      "│                │    Active │   Inactive │   Inconclusive │   Unspecified │\n",
      "╞════════════════╪═══════════╪════════════╪════════════════╪═══════════════╡\n",
      "│ Number         │ 2873      │  17        │              0 │     1066      │\n",
      "├────────────────┼───────────┼────────────┼────────────────┼───────────────┤\n",
      "│ Percentage (%) │   72.6239 │   0.429727 │              0 │       26.9464 │\n",
      "╘════════════════╧═══════════╧════════════╧════════════════╧═══════════════╛\n"
     ]
    }
   ],
   "source": [
    "show_activity_distribution(dataset=dataset, label='Activity')"
   ]
  },
  {
   "cell_type": "code",
   "execution_count": 21,
   "metadata": {},
   "outputs": [
    {
     "data": {
      "text/html": [
       "<div>\n",
       "<style scoped>\n",
       "    .dataframe tbody tr th:only-of-type {\n",
       "        vertical-align: middle;\n",
       "    }\n",
       "\n",
       "    .dataframe tbody tr th {\n",
       "        vertical-align: top;\n",
       "    }\n",
       "\n",
       "    .dataframe thead th {\n",
       "        text-align: right;\n",
       "    }\n",
       "</style>\n",
       "<table border=\"1\" class=\"dataframe\">\n",
       "  <thead>\n",
       "    <tr style=\"text-align: right;\">\n",
       "      <th></th>\n",
       "      <th>CID</th>\n",
       "      <th>SMILES</th>\n",
       "      <th>IC50(uM)</th>\n",
       "      <th>Activity</th>\n",
       "    </tr>\n",
       "  </thead>\n",
       "  <tbody>\n",
       "    <tr>\n",
       "      <th>16</th>\n",
       "      <td>3810</td>\n",
       "      <td>CN(C)C1=CC=C(C=C1)C(=O)NCCCCC(=O)NO</td>\n",
       "      <td>&gt;10</td>\n",
       "      <td>Unspecified</td>\n",
       "    </tr>\n",
       "    <tr>\n",
       "      <th>17</th>\n",
       "      <td>3810</td>\n",
       "      <td>CN(C)C1=CC=C(C=C1)C(=O)NCCCCC(=O)NO</td>\n",
       "      <td>&gt;10</td>\n",
       "      <td>Unspecified</td>\n",
       "    </tr>\n",
       "    <tr>\n",
       "      <th>18</th>\n",
       "      <td>3811</td>\n",
       "      <td>CN(C)C1=CC=C(C=C1)C(=O)NCCCCCC(=O)NO</td>\n",
       "      <td>&gt;10</td>\n",
       "      <td>Unspecified</td>\n",
       "    </tr>\n",
       "    <tr>\n",
       "      <th>48</th>\n",
       "      <td>4996</td>\n",
       "      <td>C1=CC(=CN=C1)NC(=O)CCCCCCC(=O)NO</td>\n",
       "      <td>&gt;10</td>\n",
       "      <td>Unspecified</td>\n",
       "    </tr>\n",
       "    <tr>\n",
       "      <th>273</th>\n",
       "      <td>211808</td>\n",
       "      <td>C1=CC=C(C=C1)CNCCC(=O)NO</td>\n",
       "      <td>&gt;100</td>\n",
       "      <td>Unspecified</td>\n",
       "    </tr>\n",
       "  </tbody>\n",
       "</table>\n",
       "</div>"
      ],
      "text/plain": [
       "        CID                                SMILES IC50(uM)     Activity\n",
       "16     3810   CN(C)C1=CC=C(C=C1)C(=O)NCCCCC(=O)NO      >10  Unspecified\n",
       "17     3810   CN(C)C1=CC=C(C=C1)C(=O)NCCCCC(=O)NO      >10  Unspecified\n",
       "18     3811  CN(C)C1=CC=C(C=C1)C(=O)NCCCCCC(=O)NO      >10  Unspecified\n",
       "48     4996      C1=CC(=CN=C1)NC(=O)CCCCCCC(=O)NO      >10  Unspecified\n",
       "273  211808              C1=CC=C(C=C1)CNCCC(=O)NO     >100  Unspecified"
      ]
     },
     "execution_count": 21,
     "metadata": {},
     "output_type": "execute_result"
    }
   ],
   "source": [
    "non_float_rows = find_non_float_ic50(dataset=dataset, ic50_col_name='IC50(uM)')\n",
    "non_float_rows.head()"
   ]
  },
  {
   "cell_type": "code",
   "execution_count": 22,
   "metadata": {},
   "outputs": [
    {
     "name": "stdout",
     "output_type": "stream",
     "text": [
      "Total dataset\n",
      "╒════════════════╤══════════╤════════════╤════════════════╤═══════════════╕\n",
      "│                │   Active │   Inactive │   Inconclusive │   Unspecified │\n",
      "╞════════════════╪══════════╪════════════╪════════════════╪═══════════════╡\n",
      "│ Number         │        0 │          0 │              0 │           742 │\n",
      "├────────────────┼──────────┼────────────┼────────────────┼───────────────┤\n",
      "│ Percentage (%) │        0 │          0 │              0 │           100 │\n",
      "╘════════════════╧══════════╧════════════╧════════════════╧═══════════════╛\n"
     ]
    }
   ],
   "source": [
    "show_activity_distribution(dataset=non_float_rows, label='Activity')"
   ]
  },
  {
   "attachments": {},
   "cell_type": "markdown",
   "metadata": {},
   "source": [
    "## Ghép chất và tính trung bình từng chất"
   ]
  },
  {
   "attachments": {},
   "cell_type": "markdown",
   "metadata": {},
   "source": [
    "__Kiểm tra nhãn mâu thuẫn__"
   ]
  },
  {
   "cell_type": "code",
   "execution_count": 23,
   "metadata": {},
   "outputs": [
    {
     "name": "stdout",
     "output_type": "stream",
     "text": [
      "Activity intersection:\n",
      "╒═══════════════════╤═══════════════════════╤══════════════════════╤═════════════════════════╤════════════════════════╤═══════════════════════════╕\n",
      "│   Active-Inactive │   Active-Inconclusive │   Active-Unspecified │   Inactive-Inconclusive │   Inactive-Unspecified │   Inconclusive-Unspecifid │\n",
      "╞═══════════════════╪═══════════════════════╪══════════════════════╪═════════════════════════╪════════════════════════╪═══════════════════════════╡\n",
      "│                 0 │                     0 │                   74 │                       0 │                      2 │                         0 │\n",
      "╘═══════════════════╧═══════════════════════╧══════════════════════╧═════════════════════════╧════════════════════════╧═══════════════════════════╛\n"
     ]
    }
   ],
   "source": [
    "check_label_intersection(dataset=dataset, col_name='Activity')"
   ]
  },
  {
   "attachments": {},
   "cell_type": "markdown",
   "metadata": {},
   "source": [
    "Cách xử lý:\n",
    "- Nhãn mới: mốc 1uM, nếu lớn hơn thì là Inactive, nếu nhỏ hơn thì là Active. \n",
    "- Với những chất Active, ta sẽ thực hiện việc ghép chất xong tính trung bình bình thường, sau đó gán nhãn mới.\n",
    "- Với những chất Inactive, ta sẽ thực hiện việc ghép chất xong tính trung bình bình thường, sau đó gán nhãn mới.\n",
    "- Với những chất Unspecified, ta chuyển thẳng nhãn mới thành Inactive"
   ]
  },
  {
   "attachments": {},
   "cell_type": "markdown",
   "metadata": {},
   "source": [
    "__Active row__"
   ]
  },
  {
   "cell_type": "code",
   "execution_count": 24,
   "metadata": {},
   "outputs": [],
   "source": [
    "def get_new_data_by_activity(dataset, activity, col_name, new_columns):\n",
    "    #Handling the active rows first\n",
    "    data_rows = dataset.loc[dataset[col_name] == activity]\n",
    "    new_rows = pd.DataFrame(columns=new_columns)\n",
    "    for cid in data_rows.CID.unique():\n",
    "        sub_dataset = data_rows.loc[data_rows.CID == cid]\n",
    "        avg_ic50, dup_count = 0, 0\n",
    "        for index, row in sub_dataset.iterrows():\n",
    "            avg_ic50 = avg_ic50 + float(row[\"IC50(uM)\"])/len(sub_dataset)\n",
    "            dup_count = dup_count + 1\n",
    "        new_rows.loc[len(new_rows)] = [row.CID, row.SMILES ,avg_ic50, activity,\n",
    "                                            {True: 'Active', False: 'Inactive'} [avg_ic50 < 1],\n",
    "                                            dup_count]\n",
    "    return new_rows"
   ]
  },
  {
   "cell_type": "code",
   "execution_count": 25,
   "metadata": {},
   "outputs": [],
   "source": [
    "new_columns = [\"CID\", \"SMILES\", \"AVG_IC50_uM\", \"FIRST_LABEL\", \"FINAL_LABEL\", \"DUPLICATE_COUNTS\"]"
   ]
  },
  {
   "cell_type": "code",
   "execution_count": 26,
   "metadata": {},
   "outputs": [
    {
     "name": "stdout",
     "output_type": "stream",
     "text": [
      "1601\n"
     ]
    },
    {
     "data": {
      "text/html": [
       "<div>\n",
       "<style scoped>\n",
       "    .dataframe tbody tr th:only-of-type {\n",
       "        vertical-align: middle;\n",
       "    }\n",
       "\n",
       "    .dataframe tbody tr th {\n",
       "        vertical-align: top;\n",
       "    }\n",
       "\n",
       "    .dataframe thead th {\n",
       "        text-align: right;\n",
       "    }\n",
       "</style>\n",
       "<table border=\"1\" class=\"dataframe\">\n",
       "  <thead>\n",
       "    <tr style=\"text-align: right;\">\n",
       "      <th></th>\n",
       "      <th>CID</th>\n",
       "      <th>SMILES</th>\n",
       "      <th>AVG_IC50_uM</th>\n",
       "      <th>FIRST_LABEL</th>\n",
       "      <th>FINAL_LABEL</th>\n",
       "      <th>DUPLICATE_COUNTS</th>\n",
       "    </tr>\n",
       "  </thead>\n",
       "  <tbody>\n",
       "    <tr>\n",
       "      <th>0</th>\n",
       "      <td>2746</td>\n",
       "      <td>CC(=O)NC1=CC=C(C=C1)C(=O)NC2=CC=CC=C2N</td>\n",
       "      <td>2.232250</td>\n",
       "      <td>Active</td>\n",
       "      <td>Inactive</td>\n",
       "      <td>12</td>\n",
       "    </tr>\n",
       "    <tr>\n",
       "      <th>1</th>\n",
       "      <td>3811</td>\n",
       "      <td>CN(C)C1=CC=C(C=C1)C(=O)NCCCCCC(=O)NO</td>\n",
       "      <td>0.244000</td>\n",
       "      <td>Active</td>\n",
       "      <td>Active</td>\n",
       "      <td>1</td>\n",
       "    </tr>\n",
       "    <tr>\n",
       "      <th>2</th>\n",
       "      <td>3812</td>\n",
       "      <td>CN(C)C1=CC=C(C=C1)C(=O)NCCCCCCCC(=O)NO</td>\n",
       "      <td>1.308333</td>\n",
       "      <td>Active</td>\n",
       "      <td>Inactive</td>\n",
       "      <td>3</td>\n",
       "    </tr>\n",
       "    <tr>\n",
       "      <th>3</th>\n",
       "      <td>3994</td>\n",
       "      <td>CN(C)C1=CC=C(C=C1)C(=O)NCCCCCCC(=O)NO</td>\n",
       "      <td>1.255333</td>\n",
       "      <td>Active</td>\n",
       "      <td>Inactive</td>\n",
       "      <td>3</td>\n",
       "    </tr>\n",
       "    <tr>\n",
       "      <th>4</th>\n",
       "      <td>4261</td>\n",
       "      <td>C1=CC=C(C(=C1)N)NC(=O)C2=CC=C(C=C2)CNC(=O)OCC3...</td>\n",
       "      <td>1.526116</td>\n",
       "      <td>Active</td>\n",
       "      <td>Inactive</td>\n",
       "      <td>19</td>\n",
       "    </tr>\n",
       "  </tbody>\n",
       "</table>\n",
       "</div>"
      ],
      "text/plain": [
       "    CID                                             SMILES  AVG_IC50_uM  \\\n",
       "0  2746             CC(=O)NC1=CC=C(C=C1)C(=O)NC2=CC=CC=C2N     2.232250   \n",
       "1  3811               CN(C)C1=CC=C(C=C1)C(=O)NCCCCCC(=O)NO     0.244000   \n",
       "2  3812             CN(C)C1=CC=C(C=C1)C(=O)NCCCCCCCC(=O)NO     1.308333   \n",
       "3  3994              CN(C)C1=CC=C(C=C1)C(=O)NCCCCCCC(=O)NO     1.255333   \n",
       "4  4261  C1=CC=C(C(=C1)N)NC(=O)C2=CC=C(C=C2)CNC(=O)OCC3...     1.526116   \n",
       "\n",
       "  FIRST_LABEL FINAL_LABEL  DUPLICATE_COUNTS  \n",
       "0      Active    Inactive                12  \n",
       "1      Active      Active                 1  \n",
       "2      Active    Inactive                 3  \n",
       "3      Active    Inactive                 3  \n",
       "4      Active    Inactive                19  "
      ]
     },
     "execution_count": 26,
     "metadata": {},
     "output_type": "execute_result"
    }
   ],
   "source": [
    "new_active_rows = get_new_data_by_activity(dataset=dataset, activity='Active', col_name='Activity', new_columns=new_columns)\n",
    "print(len(new_active_rows))\n",
    "new_active_rows.head()"
   ]
  },
  {
   "attachments": {},
   "cell_type": "markdown",
   "metadata": {},
   "source": [
    "__Inactive rows__"
   ]
  },
  {
   "cell_type": "code",
   "execution_count": 27,
   "metadata": {},
   "outputs": [
    {
     "data": {
      "text/plain": [
       "15"
      ]
     },
     "execution_count": 27,
     "metadata": {},
     "output_type": "execute_result"
    }
   ],
   "source": [
    "inactive_cid_unique = dataset.loc[dataset['Activity'] == 'Inactive']\n",
    "len(inactive_cid_unique.CID.unique())"
   ]
  },
  {
   "cell_type": "code",
   "execution_count": 28,
   "metadata": {},
   "outputs": [
    {
     "name": "stdout",
     "output_type": "stream",
     "text": [
      "15\n"
     ]
    },
    {
     "data": {
      "text/html": [
       "<div>\n",
       "<style scoped>\n",
       "    .dataframe tbody tr th:only-of-type {\n",
       "        vertical-align: middle;\n",
       "    }\n",
       "\n",
       "    .dataframe tbody tr th {\n",
       "        vertical-align: top;\n",
       "    }\n",
       "\n",
       "    .dataframe thead th {\n",
       "        text-align: right;\n",
       "    }\n",
       "</style>\n",
       "<table border=\"1\" class=\"dataframe\">\n",
       "  <thead>\n",
       "    <tr style=\"text-align: right;\">\n",
       "      <th></th>\n",
       "      <th>CID</th>\n",
       "      <th>SMILES</th>\n",
       "      <th>AVG_IC50_uM</th>\n",
       "      <th>FIRST_LABEL</th>\n",
       "      <th>FINAL_LABEL</th>\n",
       "      <th>DUPLICATE_COUNTS</th>\n",
       "    </tr>\n",
       "  </thead>\n",
       "  <tbody>\n",
       "    <tr>\n",
       "      <th>0</th>\n",
       "      <td>6917365</td>\n",
       "      <td>COC(=O)[C@H](CC1=CC=CC=C1)N2C(=C(N=N2)C3=CC=CC...</td>\n",
       "      <td>0.0</td>\n",
       "      <td>Inactive</td>\n",
       "      <td>Active</td>\n",
       "      <td>1</td>\n",
       "    </tr>\n",
       "    <tr>\n",
       "      <th>1</th>\n",
       "      <td>60198344</td>\n",
       "      <td>CN1C=C(C=N1)/C=C/C(=O)NC2=CC=CC=C2N</td>\n",
       "      <td>15.0</td>\n",
       "      <td>Inactive</td>\n",
       "      <td>Inactive</td>\n",
       "      <td>2</td>\n",
       "    </tr>\n",
       "    <tr>\n",
       "      <th>2</th>\n",
       "      <td>60198346</td>\n",
       "      <td>CC1=NC(=CO1)/C=C/C(=O)NC2=CC=CC=C2N</td>\n",
       "      <td>20.0</td>\n",
       "      <td>Inactive</td>\n",
       "      <td>Inactive</td>\n",
       "      <td>1</td>\n",
       "    </tr>\n",
       "    <tr>\n",
       "      <th>3</th>\n",
       "      <td>60198412</td>\n",
       "      <td>CC1=NOC(=C1)/C=C/C(=O)NC2=CC=CC=C2N</td>\n",
       "      <td>15.0</td>\n",
       "      <td>Inactive</td>\n",
       "      <td>Inactive</td>\n",
       "      <td>2</td>\n",
       "    </tr>\n",
       "    <tr>\n",
       "      <th>4</th>\n",
       "      <td>60198482</td>\n",
       "      <td>CN1C=C(C=N1)/C=C/C(=O)NC2=C(C=C(C=C2)F)N</td>\n",
       "      <td>20.0</td>\n",
       "      <td>Inactive</td>\n",
       "      <td>Inactive</td>\n",
       "      <td>1</td>\n",
       "    </tr>\n",
       "  </tbody>\n",
       "</table>\n",
       "</div>"
      ],
      "text/plain": [
       "        CID                                             SMILES  AVG_IC50_uM  \\\n",
       "0   6917365  COC(=O)[C@H](CC1=CC=CC=C1)N2C(=C(N=N2)C3=CC=CC...          0.0   \n",
       "1  60198344                CN1C=C(C=N1)/C=C/C(=O)NC2=CC=CC=C2N         15.0   \n",
       "2  60198346                CC1=NC(=CO1)/C=C/C(=O)NC2=CC=CC=C2N         20.0   \n",
       "3  60198412                CC1=NOC(=C1)/C=C/C(=O)NC2=CC=CC=C2N         15.0   \n",
       "4  60198482           CN1C=C(C=N1)/C=C/C(=O)NC2=C(C=C(C=C2)F)N         20.0   \n",
       "\n",
       "  FIRST_LABEL FINAL_LABEL  DUPLICATE_COUNTS  \n",
       "0    Inactive      Active                 1  \n",
       "1    Inactive    Inactive                 2  \n",
       "2    Inactive    Inactive                 1  \n",
       "3    Inactive    Inactive                 2  \n",
       "4    Inactive    Inactive                 1  "
      ]
     },
     "execution_count": 28,
     "metadata": {},
     "output_type": "execute_result"
    }
   ],
   "source": [
    "new_inactive_rows = get_new_data_by_activity(dataset=dataset, activity='Inactive', col_name='Activity', new_columns=new_columns)\n",
    "print(len(new_inactive_rows))\n",
    "new_inactive_rows.head()"
   ]
  },
  {
   "attachments": {},
   "cell_type": "markdown",
   "metadata": {},
   "source": [
    "__Unspecified rows__"
   ]
  },
  {
   "cell_type": "code",
   "execution_count": 29,
   "metadata": {},
   "outputs": [],
   "source": [
    "def get_new_data_for_unspecfied(dataset, col_name, new_columns):\n",
    "    #Handling the active rows first\n",
    "    data_rows = dataset.loc[dataset[col_name] == 'Unspecified']\n",
    "    new_rows = pd.DataFrame(columns=new_columns)\n",
    "    for cid in data_rows.CID.unique():\n",
    "        sub_dataset = data_rows.loc[data_rows.CID == cid]\n",
    "        dup_count = 0\n",
    "        for index, row in sub_dataset.iterrows():\n",
    "            dup_count = dup_count + 1\n",
    "        new_rows.loc[len(new_rows)] = [row.CID, row.SMILES ,'', 'Unspecified', 'Inactive', dup_count]\n",
    "    return new_rows"
   ]
  },
  {
   "cell_type": "code",
   "execution_count": 30,
   "metadata": {},
   "outputs": [
    {
     "name": "stdout",
     "output_type": "stream",
     "text": [
      "674\n"
     ]
    },
    {
     "data": {
      "text/html": [
       "<div>\n",
       "<style scoped>\n",
       "    .dataframe tbody tr th:only-of-type {\n",
       "        vertical-align: middle;\n",
       "    }\n",
       "\n",
       "    .dataframe tbody tr th {\n",
       "        vertical-align: top;\n",
       "    }\n",
       "\n",
       "    .dataframe thead th {\n",
       "        text-align: right;\n",
       "    }\n",
       "</style>\n",
       "<table border=\"1\" class=\"dataframe\">\n",
       "  <thead>\n",
       "    <tr style=\"text-align: right;\">\n",
       "      <th></th>\n",
       "      <th>CID</th>\n",
       "      <th>SMILES</th>\n",
       "      <th>AVG_IC50_uM</th>\n",
       "      <th>FIRST_LABEL</th>\n",
       "      <th>FINAL_LABEL</th>\n",
       "      <th>DUPLICATE_COUNTS</th>\n",
       "    </tr>\n",
       "  </thead>\n",
       "  <tbody>\n",
       "    <tr>\n",
       "      <th>0</th>\n",
       "      <td>264</td>\n",
       "      <td>CCCC(=O)O</td>\n",
       "      <td></td>\n",
       "      <td>Unspecified</td>\n",
       "      <td>Inactive</td>\n",
       "      <td>1</td>\n",
       "    </tr>\n",
       "    <tr>\n",
       "      <th>1</th>\n",
       "      <td>3121</td>\n",
       "      <td>CCCC(CCC)C(=O)O</td>\n",
       "      <td></td>\n",
       "      <td>Unspecified</td>\n",
       "      <td>Inactive</td>\n",
       "      <td>2</td>\n",
       "    </tr>\n",
       "    <tr>\n",
       "      <th>2</th>\n",
       "      <td>3810</td>\n",
       "      <td>CN(C)C1=CC=C(C=C1)C(=O)NCCCCC(=O)NO</td>\n",
       "      <td></td>\n",
       "      <td>Unspecified</td>\n",
       "      <td>Inactive</td>\n",
       "      <td>2</td>\n",
       "    </tr>\n",
       "    <tr>\n",
       "      <th>3</th>\n",
       "      <td>3811</td>\n",
       "      <td>CN(C)C1=CC=C(C=C1)C(=O)NCCCCCC(=O)NO</td>\n",
       "      <td></td>\n",
       "      <td>Unspecified</td>\n",
       "      <td>Inactive</td>\n",
       "      <td>1</td>\n",
       "    </tr>\n",
       "    <tr>\n",
       "      <th>4</th>\n",
       "      <td>4775</td>\n",
       "      <td>C1=CC=C(C=C1)CCCC(=O)O</td>\n",
       "      <td></td>\n",
       "      <td>Unspecified</td>\n",
       "      <td>Inactive</td>\n",
       "      <td>1</td>\n",
       "    </tr>\n",
       "  </tbody>\n",
       "</table>\n",
       "</div>"
      ],
      "text/plain": [
       "    CID                                SMILES AVG_IC50_uM  FIRST_LABEL  \\\n",
       "0   264                             CCCC(=O)O              Unspecified   \n",
       "1  3121                       CCCC(CCC)C(=O)O              Unspecified   \n",
       "2  3810   CN(C)C1=CC=C(C=C1)C(=O)NCCCCC(=O)NO              Unspecified   \n",
       "3  3811  CN(C)C1=CC=C(C=C1)C(=O)NCCCCCC(=O)NO              Unspecified   \n",
       "4  4775                C1=CC=C(C=C1)CCCC(=O)O              Unspecified   \n",
       "\n",
       "  FINAL_LABEL  DUPLICATE_COUNTS  \n",
       "0    Inactive                 1  \n",
       "1    Inactive                 2  \n",
       "2    Inactive                 2  \n",
       "3    Inactive                 1  \n",
       "4    Inactive                 1  "
      ]
     },
     "execution_count": 30,
     "metadata": {},
     "output_type": "execute_result"
    }
   ],
   "source": [
    "new_unspecified_rows = get_new_data_for_unspecfied(dataset=dataset, col_name='Activity', new_columns=new_columns)\n",
    "print(len(new_unspecified_rows))\n",
    "new_unspecified_rows.head()"
   ]
  },
  {
   "attachments": {},
   "cell_type": "markdown",
   "metadata": {},
   "source": [
    "__Combine all three to create a new data__"
   ]
  },
  {
   "cell_type": "code",
   "execution_count": 31,
   "metadata": {},
   "outputs": [
    {
     "name": "stdout",
     "output_type": "stream",
     "text": [
      "1601 15 674 2290\n"
     ]
    }
   ],
   "source": [
    "new_data = pd.DataFrame(columns=new_columns)\n",
    "new_data = pd.concat([new_data, new_active_rows], axis=0)\n",
    "new_data = pd.concat([new_data, new_inactive_rows], axis=0)\n",
    "new_data = pd.concat([new_data, new_unspecified_rows], axis=0)\n",
    "print(len(new_active_rows), len(new_inactive_rows), len(new_unspecified_rows), len(new_data))"
   ]
  },
  {
   "cell_type": "code",
   "execution_count": 32,
   "metadata": {},
   "outputs": [
    {
     "data": {
      "text/html": [
       "<div>\n",
       "<style scoped>\n",
       "    .dataframe tbody tr th:only-of-type {\n",
       "        vertical-align: middle;\n",
       "    }\n",
       "\n",
       "    .dataframe tbody tr th {\n",
       "        vertical-align: top;\n",
       "    }\n",
       "\n",
       "    .dataframe thead th {\n",
       "        text-align: right;\n",
       "    }\n",
       "</style>\n",
       "<table border=\"1\" class=\"dataframe\">\n",
       "  <thead>\n",
       "    <tr style=\"text-align: right;\">\n",
       "      <th></th>\n",
       "      <th>CID</th>\n",
       "      <th>SMILES</th>\n",
       "      <th>AVG_IC50_uM</th>\n",
       "      <th>FIRST_LABEL</th>\n",
       "      <th>FINAL_LABEL</th>\n",
       "      <th>DUPLICATE_COUNTS</th>\n",
       "    </tr>\n",
       "  </thead>\n",
       "  <tbody>\n",
       "    <tr>\n",
       "      <th>0</th>\n",
       "      <td>2746</td>\n",
       "      <td>CC(=O)NC1=CC=C(C=C1)C(=O)NC2=CC=CC=C2N</td>\n",
       "      <td>2.23225</td>\n",
       "      <td>Active</td>\n",
       "      <td>Inactive</td>\n",
       "      <td>12</td>\n",
       "    </tr>\n",
       "    <tr>\n",
       "      <th>1</th>\n",
       "      <td>3811</td>\n",
       "      <td>CN(C)C1=CC=C(C=C1)C(=O)NCCCCCC(=O)NO</td>\n",
       "      <td>0.244</td>\n",
       "      <td>Active</td>\n",
       "      <td>Active</td>\n",
       "      <td>1</td>\n",
       "    </tr>\n",
       "    <tr>\n",
       "      <th>2</th>\n",
       "      <td>3812</td>\n",
       "      <td>CN(C)C1=CC=C(C=C1)C(=O)NCCCCCCCC(=O)NO</td>\n",
       "      <td>1.308333</td>\n",
       "      <td>Active</td>\n",
       "      <td>Inactive</td>\n",
       "      <td>3</td>\n",
       "    </tr>\n",
       "    <tr>\n",
       "      <th>3</th>\n",
       "      <td>3994</td>\n",
       "      <td>CN(C)C1=CC=C(C=C1)C(=O)NCCCCCCC(=O)NO</td>\n",
       "      <td>1.255333</td>\n",
       "      <td>Active</td>\n",
       "      <td>Inactive</td>\n",
       "      <td>3</td>\n",
       "    </tr>\n",
       "    <tr>\n",
       "      <th>4</th>\n",
       "      <td>4261</td>\n",
       "      <td>C1=CC=C(C(=C1)N)NC(=O)C2=CC=C(C=C2)CNC(=O)OCC3...</td>\n",
       "      <td>1.526116</td>\n",
       "      <td>Active</td>\n",
       "      <td>Inactive</td>\n",
       "      <td>19</td>\n",
       "    </tr>\n",
       "  </tbody>\n",
       "</table>\n",
       "</div>"
      ],
      "text/plain": [
       "    CID                                             SMILES AVG_IC50_uM  \\\n",
       "0  2746             CC(=O)NC1=CC=C(C=C1)C(=O)NC2=CC=CC=C2N     2.23225   \n",
       "1  3811               CN(C)C1=CC=C(C=C1)C(=O)NCCCCCC(=O)NO       0.244   \n",
       "2  3812             CN(C)C1=CC=C(C=C1)C(=O)NCCCCCCCC(=O)NO    1.308333   \n",
       "3  3994              CN(C)C1=CC=C(C=C1)C(=O)NCCCCCCC(=O)NO    1.255333   \n",
       "4  4261  C1=CC=C(C(=C1)N)NC(=O)C2=CC=C(C=C2)CNC(=O)OCC3...    1.526116   \n",
       "\n",
       "  FIRST_LABEL FINAL_LABEL DUPLICATE_COUNTS  \n",
       "0      Active    Inactive               12  \n",
       "1      Active      Active                1  \n",
       "2      Active    Inactive                3  \n",
       "3      Active    Inactive                3  \n",
       "4      Active    Inactive               19  "
      ]
     },
     "execution_count": 32,
     "metadata": {},
     "output_type": "execute_result"
    }
   ],
   "source": [
    "new_data.head()"
   ]
  },
  {
   "cell_type": "code",
   "execution_count": 33,
   "metadata": {},
   "outputs": [
    {
     "name": "stdout",
     "output_type": "stream",
     "text": [
      "Total dataset\n",
      "╒════════════════╤═══════════╤════════════╤════════════════╤═══════════════╕\n",
      "│                │    Active │   Inactive │   Inconclusive │   Unspecified │\n",
      "╞════════════════╪═══════════╪════════════╪════════════════╪═══════════════╡\n",
      "│ Number         │ 1087      │  1203      │              0 │             0 │\n",
      "├────────────────┼───────────┼────────────┼────────────────┼───────────────┤\n",
      "│ Percentage (%) │   47.4672 │    52.5328 │              0 │             0 │\n",
      "╘════════════════╧═══════════╧════════════╧════════════════╧═══════════════╛\n"
     ]
    }
   ],
   "source": [
    "show_activity_distribution(dataset=new_data, label='FINAL_LABEL')"
   ]
  },
  {
   "cell_type": "code",
   "execution_count": 34,
   "metadata": {},
   "outputs": [
    {
     "name": "stdout",
     "output_type": "stream",
     "text": [
      "Total dataset\n",
      "╒════════════════╤═══════════╤════════════╤════════════════╤═══════════════╕\n",
      "│                │    Active │   Inactive │   Inconclusive │   Unspecified │\n",
      "╞════════════════╪═══════════╪════════════╪════════════════╪═══════════════╡\n",
      "│ Number         │ 1601      │  15        │              0 │      674      │\n",
      "├────────────────┼───────────┼────────────┼────────────────┼───────────────┤\n",
      "│ Percentage (%) │   69.9127 │   0.655022 │              0 │       29.4323 │\n",
      "╘════════════════╧═══════════╧════════════╧════════════════╧═══════════════╛\n"
     ]
    }
   ],
   "source": [
    "show_activity_distribution(dataset=new_data, label='FIRST_LABEL')"
   ]
  },
  {
   "cell_type": "code",
   "execution_count": 35,
   "metadata": {},
   "outputs": [
    {
     "name": "stdout",
     "output_type": "stream",
     "text": [
      "Activity intersection:\n",
      "╒═══════════════════╤═══════════════════════╤══════════════════════╤═════════════════════════╤════════════════════════╤═══════════════════════════╕\n",
      "│   Active-Inactive │   Active-Inconclusive │   Active-Unspecified │   Inactive-Inconclusive │   Inactive-Unspecified │   Inconclusive-Unspecifid │\n",
      "╞═══════════════════╪═══════════════════════╪══════════════════════╪═════════════════════════╪════════════════════════╪═══════════════════════════╡\n",
      "│                 0 │                     0 │                   74 │                       0 │                      2 │                         0 │\n",
      "╘═══════════════════╧═══════════════════════╧══════════════════════╧═════════════════════════╧════════════════════════╧═══════════════════════════╛\n"
     ]
    }
   ],
   "source": [
    "check_label_intersection(dataset=new_data, col_name='FIRST_LABEL')"
   ]
  },
  {
   "cell_type": "code",
   "execution_count": 36,
   "metadata": {},
   "outputs": [
    {
     "name": "stdout",
     "output_type": "stream",
     "text": [
      "Activity intersection:\n",
      "╒═══════════════════╤═══════════════════════╤══════════════════════╤═════════════════════════╤════════════════════════╤═══════════════════════════╕\n",
      "│   Active-Inactive │   Active-Inconclusive │   Active-Unspecified │   Inactive-Inconclusive │   Inactive-Unspecified │   Inconclusive-Unspecifid │\n",
      "╞═══════════════════╪═══════════════════════╪══════════════════════╪═════════════════════════╪════════════════════════╪═══════════════════════════╡\n",
      "│                44 │                     0 │                    0 │                       0 │                      0 │                         0 │\n",
      "╘═══════════════════╧═══════════════════════╧══════════════════════╧═════════════════════════╧════════════════════════╧═══════════════════════════╛\n"
     ]
    }
   ],
   "source": [
    "check_label_intersection(dataset=new_data, col_name='FINAL_LABEL')"
   ]
  },
  {
   "cell_type": "code",
   "execution_count": 37,
   "metadata": {},
   "outputs": [],
   "source": [
    "new_data.to_excel('../../data_for_modeling/filter_data/all_data/HDAC2_all_data_before_canon_smiles.xlsx')"
   ]
  },
  {
   "attachments": {},
   "cell_type": "markdown",
   "metadata": {},
   "source": [
    "# Lọc trùng sử dụng Cannon SMILES"
   ]
  },
  {
   "cell_type": "code",
   "execution_count": 38,
   "metadata": {},
   "outputs": [
    {
     "data": {
      "text/plain": [
       "array([3811, 4996, 5311, 298878, 403373, 444732, 9800555, 9862144,\n",
       "       9943996, 9965141, 10902481, 10967421, 10968817, 11086699, 11747496,\n",
       "       11810423, 15986509, 24757913, 24938735, 24944851, 24944855,\n",
       "       24944856, 24944935, 24945115, 24945204, 24945368, 24945689,\n",
       "       25155955, 45140150, 45140153, 45140347, 45140348, 45140349,\n",
       "       46887439, 46887476, 49850262, 56650312, 62706005, 62706006,\n",
       "       62706167, 62706168, 72734543, 72946782, 102514716, 126650038,\n",
       "       127031793, 130345472, 134283799, 137634156, 141733188, 146317396,\n",
       "       148289288, 155513116, 155515488, 155518327, 155518496, 155518725,\n",
       "       155521283, 155525782, 155532640, 155538765, 155545380, 155564400,\n",
       "       155907155, 156018320, 156021459, 162658937, 162660161, 162661061,\n",
       "       162665019, 162667559, 162673723, 164625443, 164625922],\n",
       "      dtype=object)"
      ]
     },
     "execution_count": 38,
     "metadata": {},
     "output_type": "execute_result"
    }
   ],
   "source": [
    "active_rows = new_data.loc[new_data['FIRST_LABEL'] == \"Active\"]\n",
    "unspecified_rows = new_data.loc[new_data['FIRST_LABEL'] == \"Unspecified\"]\n",
    "cid_active = active_rows.loc[:, 'CID']\n",
    "cid_unspec = unspecified_rows.loc[:, 'CID']\n",
    "ac_unspec_cid = np.intersect1d(cid_active, cid_unspec)\n",
    "ac_unspec_cid"
   ]
  },
  {
   "cell_type": "code",
   "execution_count": 39,
   "metadata": {},
   "outputs": [],
   "source": [
    "def make_canonical_smiles(smiles):\n",
    "    mols = [Chem.MolFromSmiles(smi) for smi in smiles]\n",
    "    smiles = [Chem.MolToSmiles(mol) for mol in mols]\n",
    "    return smiles"
   ]
  },
  {
   "cell_type": "code",
   "execution_count": 40,
   "metadata": {},
   "outputs": [],
   "source": [
    "cannon_smiles = make_canonical_smiles(dataset.SMILES)\n",
    "dataset['SMILES'] = cannon_smiles"
   ]
  },
  {
   "cell_type": "code",
   "execution_count": 41,
   "metadata": {},
   "outputs": [
    {
     "data": {
      "text/plain": [
       "['NC(Cl)(Br)C(=O)O', 'NC(Cl)(Br)C(=O)O', 'NC(Cl)(Br)C(=O)O', 'CCO']"
      ]
     },
     "execution_count": 41,
     "metadata": {},
     "output_type": "execute_result"
    }
   ],
   "source": [
    "smiles_data = [\"OC(=O)C(Br)(Cl)N\", \"ClC(Br)(N)C(=O)O\", \"O=C(O)C(N)(Br)Cl\", \"[CH3][CH2][OH]\"]\n",
    "smiles_data = make_canonical_smiles(smiles=smiles_data)\n",
    "smiles_data"
   ]
  },
  {
   "cell_type": "code",
   "execution_count": 42,
   "metadata": {},
   "outputs": [],
   "source": [
    "def remove_dup_smiles(dataset, smile_col_name):\n",
    "    unique_result = pd.DataFrame(columns=dataset.columns)\n",
    "    dup_result = pd.DataFrame(columns=dataset.columns)\n",
    "    error_result = pd.DataFrame(columns=dataset.columns)\n",
    "    #Start iteration\n",
    "    unique_smiles = dataset[smile_col_name].unique()\n",
    "    for smile in unique_smiles:\n",
    "        sub_dataset = new_data.loc[new_data.SMILES == smile]\n",
    "        if(len(sub_dataset) == 1):\n",
    "            unique_result = pd.concat([unique_result, sub_dataset], axis=0)\n",
    "        elif(len(sub_dataset) > 1):\n",
    "            dup_result = pd.concat([dup_result, sub_dataset], axis=0)\n",
    "        else:\n",
    "            error_result = pd.concat([error_result, sub_dataset], axis=0)\n",
    "    return unique_result, dup_result, error_result"
   ]
  },
  {
   "cell_type": "code",
   "execution_count": 43,
   "metadata": {},
   "outputs": [],
   "source": [
    "unique_result, dup_result, error_result = remove_dup_smiles(dataset=new_data, smile_col_name='SMILES')"
   ]
  },
  {
   "cell_type": "code",
   "execution_count": 44,
   "metadata": {},
   "outputs": [
    {
     "name": "stdout",
     "output_type": "stream",
     "text": [
      "2138 152 0\n"
     ]
    }
   ],
   "source": [
    "print(len(unique_result), len(dup_result), len(error_result))"
   ]
  },
  {
   "cell_type": "code",
   "execution_count": 45,
   "metadata": {},
   "outputs": [
    {
     "name": "stdout",
     "output_type": "stream",
     "text": [
      "2138\n"
     ]
    },
    {
     "data": {
      "text/html": [
       "<div>\n",
       "<style scoped>\n",
       "    .dataframe tbody tr th:only-of-type {\n",
       "        vertical-align: middle;\n",
       "    }\n",
       "\n",
       "    .dataframe tbody tr th {\n",
       "        vertical-align: top;\n",
       "    }\n",
       "\n",
       "    .dataframe thead th {\n",
       "        text-align: right;\n",
       "    }\n",
       "</style>\n",
       "<table border=\"1\" class=\"dataframe\">\n",
       "  <thead>\n",
       "    <tr style=\"text-align: right;\">\n",
       "      <th></th>\n",
       "      <th>CID</th>\n",
       "      <th>SMILES</th>\n",
       "      <th>AVG_IC50_uM</th>\n",
       "      <th>FIRST_LABEL</th>\n",
       "      <th>FINAL_LABEL</th>\n",
       "      <th>DUPLICATE_COUNTS</th>\n",
       "    </tr>\n",
       "  </thead>\n",
       "  <tbody>\n",
       "    <tr>\n",
       "      <th>0</th>\n",
       "      <td>2746</td>\n",
       "      <td>CC(=O)NC1=CC=C(C=C1)C(=O)NC2=CC=CC=C2N</td>\n",
       "      <td>2.23225</td>\n",
       "      <td>Active</td>\n",
       "      <td>Inactive</td>\n",
       "      <td>12</td>\n",
       "    </tr>\n",
       "    <tr>\n",
       "      <th>2</th>\n",
       "      <td>3812</td>\n",
       "      <td>CN(C)C1=CC=C(C=C1)C(=O)NCCCCCCCC(=O)NO</td>\n",
       "      <td>1.308333</td>\n",
       "      <td>Active</td>\n",
       "      <td>Inactive</td>\n",
       "      <td>3</td>\n",
       "    </tr>\n",
       "    <tr>\n",
       "      <th>3</th>\n",
       "      <td>3994</td>\n",
       "      <td>CN(C)C1=CC=C(C=C1)C(=O)NCCCCCCC(=O)NO</td>\n",
       "      <td>1.255333</td>\n",
       "      <td>Active</td>\n",
       "      <td>Inactive</td>\n",
       "      <td>3</td>\n",
       "    </tr>\n",
       "    <tr>\n",
       "      <th>4</th>\n",
       "      <td>4261</td>\n",
       "      <td>C1=CC=C(C(=C1)N)NC(=O)C2=CC=C(C=C2)CNC(=O)OCC3...</td>\n",
       "      <td>1.526116</td>\n",
       "      <td>Active</td>\n",
       "      <td>Inactive</td>\n",
       "      <td>19</td>\n",
       "    </tr>\n",
       "    <tr>\n",
       "      <th>6</th>\n",
       "      <td>5173</td>\n",
       "      <td>C(CCCC(=O)NO)CCC(=O)NO</td>\n",
       "      <td>8.23</td>\n",
       "      <td>Active</td>\n",
       "      <td>Inactive</td>\n",
       "      <td>1</td>\n",
       "    </tr>\n",
       "  </tbody>\n",
       "</table>\n",
       "</div>"
      ],
      "text/plain": [
       "    CID                                             SMILES AVG_IC50_uM  \\\n",
       "0  2746             CC(=O)NC1=CC=C(C=C1)C(=O)NC2=CC=CC=C2N     2.23225   \n",
       "2  3812             CN(C)C1=CC=C(C=C1)C(=O)NCCCCCCCC(=O)NO    1.308333   \n",
       "3  3994              CN(C)C1=CC=C(C=C1)C(=O)NCCCCCCC(=O)NO    1.255333   \n",
       "4  4261  C1=CC=C(C(=C1)N)NC(=O)C2=CC=C(C=C2)CNC(=O)OCC3...    1.526116   \n",
       "6  5173                             C(CCCC(=O)NO)CCC(=O)NO        8.23   \n",
       "\n",
       "  FIRST_LABEL FINAL_LABEL DUPLICATE_COUNTS  \n",
       "0      Active    Inactive               12  \n",
       "2      Active    Inactive                3  \n",
       "3      Active    Inactive                3  \n",
       "4      Active    Inactive               19  \n",
       "6      Active    Inactive                1  "
      ]
     },
     "execution_count": 45,
     "metadata": {},
     "output_type": "execute_result"
    }
   ],
   "source": [
    "new_data = unique_result\n",
    "print(len(new_data))\n",
    "new_data.head()"
   ]
  },
  {
   "cell_type": "code",
   "execution_count": 46,
   "metadata": {},
   "outputs": [
    {
     "data": {
      "text/html": [
       "<div>\n",
       "<style scoped>\n",
       "    .dataframe tbody tr th:only-of-type {\n",
       "        vertical-align: middle;\n",
       "    }\n",
       "\n",
       "    .dataframe tbody tr th {\n",
       "        vertical-align: top;\n",
       "    }\n",
       "\n",
       "    .dataframe thead th {\n",
       "        text-align: right;\n",
       "    }\n",
       "</style>\n",
       "<table border=\"1\" class=\"dataframe\">\n",
       "  <thead>\n",
       "    <tr style=\"text-align: right;\">\n",
       "      <th></th>\n",
       "      <th>CID</th>\n",
       "      <th>SMILES</th>\n",
       "      <th>AVG_IC50_uM</th>\n",
       "      <th>FIRST_LABEL</th>\n",
       "      <th>FINAL_LABEL</th>\n",
       "      <th>DUPLICATE_COUNTS</th>\n",
       "    </tr>\n",
       "  </thead>\n",
       "  <tbody>\n",
       "    <tr>\n",
       "      <th>0</th>\n",
       "      <td>2746</td>\n",
       "      <td>CC(=O)NC1=CC=C(C=C1)C(=O)NC2=CC=CC=C2N</td>\n",
       "      <td>2.23225</td>\n",
       "      <td>Active</td>\n",
       "      <td>Inactive</td>\n",
       "      <td>12</td>\n",
       "    </tr>\n",
       "    <tr>\n",
       "      <th>2</th>\n",
       "      <td>3812</td>\n",
       "      <td>CN(C)C1=CC=C(C=C1)C(=O)NCCCCCCCC(=O)NO</td>\n",
       "      <td>1.308333</td>\n",
       "      <td>Active</td>\n",
       "      <td>Inactive</td>\n",
       "      <td>3</td>\n",
       "    </tr>\n",
       "    <tr>\n",
       "      <th>3</th>\n",
       "      <td>3994</td>\n",
       "      <td>CN(C)C1=CC=C(C=C1)C(=O)NCCCCCCC(=O)NO</td>\n",
       "      <td>1.255333</td>\n",
       "      <td>Active</td>\n",
       "      <td>Inactive</td>\n",
       "      <td>3</td>\n",
       "    </tr>\n",
       "    <tr>\n",
       "      <th>4</th>\n",
       "      <td>4261</td>\n",
       "      <td>C1=CC=C(C(=C1)N)NC(=O)C2=CC=C(C=C2)CNC(=O)OCC3...</td>\n",
       "      <td>1.526116</td>\n",
       "      <td>Active</td>\n",
       "      <td>Inactive</td>\n",
       "      <td>19</td>\n",
       "    </tr>\n",
       "    <tr>\n",
       "      <th>6</th>\n",
       "      <td>5173</td>\n",
       "      <td>C(CCCC(=O)NO)CCC(=O)NO</td>\n",
       "      <td>8.23</td>\n",
       "      <td>Active</td>\n",
       "      <td>Inactive</td>\n",
       "      <td>1</td>\n",
       "    </tr>\n",
       "  </tbody>\n",
       "</table>\n",
       "</div>"
      ],
      "text/plain": [
       "    CID                                             SMILES AVG_IC50_uM  \\\n",
       "0  2746             CC(=O)NC1=CC=C(C=C1)C(=O)NC2=CC=CC=C2N     2.23225   \n",
       "2  3812             CN(C)C1=CC=C(C=C1)C(=O)NCCCCCCCC(=O)NO    1.308333   \n",
       "3  3994              CN(C)C1=CC=C(C=C1)C(=O)NCCCCCCC(=O)NO    1.255333   \n",
       "4  4261  C1=CC=C(C(=C1)N)NC(=O)C2=CC=C(C=C2)CNC(=O)OCC3...    1.526116   \n",
       "6  5173                             C(CCCC(=O)NO)CCC(=O)NO        8.23   \n",
       "\n",
       "  FIRST_LABEL FINAL_LABEL DUPLICATE_COUNTS  \n",
       "0      Active    Inactive               12  \n",
       "2      Active    Inactive                3  \n",
       "3      Active    Inactive                3  \n",
       "4      Active    Inactive               19  \n",
       "6      Active    Inactive                1  "
      ]
     },
     "execution_count": 46,
     "metadata": {},
     "output_type": "execute_result"
    }
   ],
   "source": [
    "unique_result.head()"
   ]
  },
  {
   "cell_type": "code",
   "execution_count": 47,
   "metadata": {},
   "outputs": [
    {
     "data": {
      "text/html": [
       "<div>\n",
       "<style scoped>\n",
       "    .dataframe tbody tr th:only-of-type {\n",
       "        vertical-align: middle;\n",
       "    }\n",
       "\n",
       "    .dataframe tbody tr th {\n",
       "        vertical-align: top;\n",
       "    }\n",
       "\n",
       "    .dataframe thead th {\n",
       "        text-align: right;\n",
       "    }\n",
       "</style>\n",
       "<table border=\"1\" class=\"dataframe\">\n",
       "  <thead>\n",
       "    <tr style=\"text-align: right;\">\n",
       "      <th></th>\n",
       "      <th>CID</th>\n",
       "      <th>SMILES</th>\n",
       "      <th>AVG_IC50_uM</th>\n",
       "      <th>FIRST_LABEL</th>\n",
       "      <th>FINAL_LABEL</th>\n",
       "      <th>DUPLICATE_COUNTS</th>\n",
       "    </tr>\n",
       "  </thead>\n",
       "  <tbody>\n",
       "    <tr>\n",
       "      <th>1</th>\n",
       "      <td>3811</td>\n",
       "      <td>CN(C)C1=CC=C(C=C1)C(=O)NCCCCCC(=O)NO</td>\n",
       "      <td>0.244</td>\n",
       "      <td>Active</td>\n",
       "      <td>Active</td>\n",
       "      <td>1</td>\n",
       "    </tr>\n",
       "    <tr>\n",
       "      <th>3</th>\n",
       "      <td>3811</td>\n",
       "      <td>CN(C)C1=CC=C(C=C1)C(=O)NCCCCCC(=O)NO</td>\n",
       "      <td></td>\n",
       "      <td>Unspecified</td>\n",
       "      <td>Inactive</td>\n",
       "      <td>1</td>\n",
       "    </tr>\n",
       "    <tr>\n",
       "      <th>5</th>\n",
       "      <td>4996</td>\n",
       "      <td>C1=CC(=CN=C1)NC(=O)CCCCCCC(=O)NO</td>\n",
       "      <td>4.05</td>\n",
       "      <td>Active</td>\n",
       "      <td>Inactive</td>\n",
       "      <td>2</td>\n",
       "    </tr>\n",
       "    <tr>\n",
       "      <th>5</th>\n",
       "      <td>4996</td>\n",
       "      <td>C1=CC(=CN=C1)NC(=O)CCCCCCC(=O)NO</td>\n",
       "      <td></td>\n",
       "      <td>Unspecified</td>\n",
       "      <td>Inactive</td>\n",
       "      <td>1</td>\n",
       "    </tr>\n",
       "    <tr>\n",
       "      <th>8</th>\n",
       "      <td>5311</td>\n",
       "      <td>C1=CC=C(C=C1)NC(=O)CCCCCCC(=O)NO</td>\n",
       "      <td>0.329001</td>\n",
       "      <td>Active</td>\n",
       "      <td>Active</td>\n",
       "      <td>209</td>\n",
       "    </tr>\n",
       "  </tbody>\n",
       "</table>\n",
       "</div>"
      ],
      "text/plain": [
       "    CID                                SMILES AVG_IC50_uM  FIRST_LABEL  \\\n",
       "1  3811  CN(C)C1=CC=C(C=C1)C(=O)NCCCCCC(=O)NO       0.244       Active   \n",
       "3  3811  CN(C)C1=CC=C(C=C1)C(=O)NCCCCCC(=O)NO              Unspecified   \n",
       "5  4996      C1=CC(=CN=C1)NC(=O)CCCCCCC(=O)NO        4.05       Active   \n",
       "5  4996      C1=CC(=CN=C1)NC(=O)CCCCCCC(=O)NO              Unspecified   \n",
       "8  5311      C1=CC=C(C=C1)NC(=O)CCCCCCC(=O)NO    0.329001       Active   \n",
       "\n",
       "  FINAL_LABEL DUPLICATE_COUNTS  \n",
       "1      Active                1  \n",
       "3    Inactive                1  \n",
       "5    Inactive                2  \n",
       "5    Inactive                1  \n",
       "8      Active              209  "
      ]
     },
     "execution_count": 47,
     "metadata": {},
     "output_type": "execute_result"
    }
   ],
   "source": [
    "dup_result.head()"
   ]
  },
  {
   "attachments": {},
   "cell_type": "markdown",
   "metadata": {},
   "source": [
    "# Đánh giá bộ dữ liệu"
   ]
  },
  {
   "cell_type": "code",
   "execution_count": 48,
   "metadata": {},
   "outputs": [
    {
     "name": "stdout",
     "output_type": "stream",
     "text": [
      "Activity intersection:\n",
      "╒═══════════════════╤═══════════════════════╤══════════════════════╤═════════════════════════╤════════════════════════╤═══════════════════════════╕\n",
      "│   Active-Inactive │   Active-Inconclusive │   Active-Unspecified │   Inactive-Inconclusive │   Inactive-Unspecified │   Inconclusive-Unspecifid │\n",
      "╞═══════════════════╪═══════════════════════╪══════════════════════╪═════════════════════════╪════════════════════════╪═══════════════════════════╡\n",
      "│                 0 │                     0 │                    0 │                       0 │                      0 │                         0 │\n",
      "╘═══════════════════╧═══════════════════════╧══════════════════════╧═════════════════════════╧════════════════════════╧═══════════════════════════╛\n"
     ]
    }
   ],
   "source": [
    "check_label_intersection(dataset=new_data, col_name='FIRST_LABEL')"
   ]
  },
  {
   "cell_type": "code",
   "execution_count": 49,
   "metadata": {},
   "outputs": [
    {
     "name": "stdout",
     "output_type": "stream",
     "text": [
      "Activity intersection:\n",
      "╒═══════════════════╤═══════════════════════╤══════════════════════╤═════════════════════════╤════════════════════════╤═══════════════════════════╕\n",
      "│   Active-Inactive │   Active-Inconclusive │   Active-Unspecified │   Inactive-Inconclusive │   Inactive-Unspecified │   Inconclusive-Unspecifid │\n",
      "╞═══════════════════╪═══════════════════════╪══════════════════════╪═════════════════════════╪════════════════════════╪═══════════════════════════╡\n",
      "│                 0 │                     0 │                    0 │                       0 │                      0 │                         0 │\n",
      "╘═══════════════════╧═══════════════════════╧══════════════════════╧═════════════════════════╧════════════════════════╧═══════════════════════════╛\n"
     ]
    }
   ],
   "source": [
    "check_label_intersection(dataset=new_data, col_name='FINAL_LABEL')"
   ]
  },
  {
   "cell_type": "code",
   "execution_count": 50,
   "metadata": {},
   "outputs": [
    {
     "name": "stdout",
     "output_type": "stream",
     "text": [
      "Label for first label:\n",
      "Total dataset\n",
      "╒════════════════╤═══════════╤════════════╤════════════════╤═══════════════╕\n",
      "│                │    Active │   Inactive │   Inconclusive │   Unspecified │\n",
      "╞════════════════╪═══════════╪════════════╪════════════════╪═══════════════╡\n",
      "│ Number         │ 1527      │  13        │              0 │      598      │\n",
      "├────────────────┼───────────┼────────────┼────────────────┼───────────────┤\n",
      "│ Percentage (%) │   71.4219 │   0.608045 │              0 │       27.9701 │\n",
      "╘════════════════╧═══════════╧════════════╧════════════════╧═══════════════╛\n",
      "\n",
      "Label for final label:\n",
      "Total dataset\n",
      "╒════════════════╤═══════════╤════════════╤════════════════╤═══════════════╕\n",
      "│                │    Active │   Inactive │   Inconclusive │   Unspecified │\n",
      "╞════════════════╪═══════════╪════════════╪════════════════╪═══════════════╡\n",
      "│ Number         │ 1043      │  1095      │              0 │             0 │\n",
      "├────────────────┼───────────┼────────────┼────────────────┼───────────────┤\n",
      "│ Percentage (%) │   48.7839 │    51.2161 │              0 │             0 │\n",
      "╘════════════════╧═══════════╧════════════╧════════════════╧═══════════════╛\n"
     ]
    }
   ],
   "source": [
    "print(\"Label for first label:\")\n",
    "show_activity_distribution(dataset=new_data, label='FIRST_LABEL')\n",
    "print()\n",
    "print(\"Label for final label:\")\n",
    "show_activity_distribution(dataset=new_data, label='FINAL_LABEL')"
   ]
  },
  {
   "cell_type": "code",
   "execution_count": 52,
   "metadata": {},
   "outputs": [
    {
     "name": "stderr",
     "output_type": "stream",
     "text": [
      "/tmp/ipykernel_190939/2965386203.py:2: FutureWarning: Setting the `book` attribute is not part of the public API, usage can give unexpected or corrupted results and will be removed in a future version\n",
      "  writer.book = writer.book\n"
     ]
    }
   ],
   "source": [
    "with pd.ExcelWriter('../../data_for_modeling/filter_data/all_data/HDAC2_all_final_data.xlsx', engine='openpyxl') as writer:\n",
    "    writer.book = writer.book \n",
    "    dataset_c.to_excel(writer, sheet_name='original_data', index=True)\n",
    "    new_data.to_excel(writer, sheet_name='filter_data', index=True)\n",
    "    dup_result.to_excel(writer, sheet_name='duplicate_smiles', index=True)"
   ]
  }
 ],
 "metadata": {
  "kernelspec": {
   "display_name": "Python 3",
   "language": "python",
   "name": "python3"
  },
  "language_info": {
   "codemirror_mode": {
    "name": "ipython",
    "version": 3
   },
   "file_extension": ".py",
   "mimetype": "text/x-python",
   "name": "python",
   "nbconvert_exporter": "python",
   "pygments_lexer": "ipython3",
   "version": "3.11.3"
  },
  "orig_nbformat": 4
 },
 "nbformat": 4,
 "nbformat_minor": 2
}
