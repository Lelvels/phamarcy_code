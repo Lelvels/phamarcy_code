{
 "cells": [
  {
   "cell_type": "code",
   "execution_count": 1,
   "metadata": {},
   "outputs": [],
   "source": [
    "from rdkit.Chem import AllChem\n",
    "from rdkit import Chem\n",
    "from rdkit.Chem import Descriptors, MACCSkeys\n",
    "from rdkit.ML.Descriptors import MoleculeDescriptors\n",
    "\n",
    "import pandas as pd\n",
    "import numpy as np\n",
    "import matplotlib.pyplot as plt\n",
    "from tabulate import tabulate"
   ]
  },
  {
   "attachments": {},
   "cell_type": "markdown",
   "metadata": {},
   "source": [
    "# Read the data"
   ]
  },
  {
   "cell_type": "code",
   "execution_count": 2,
   "metadata": {},
   "outputs": [
    {
     "data": {
      "text/plain": [
       "993"
      ]
     },
     "execution_count": 2,
     "metadata": {},
     "output_type": "execute_result"
    }
   ],
   "source": [
    "data_version_1_path = \"../data_for_modeling/raw_data/v1/Original Data - v1 - Merge.xlsx\"\n",
    "dataset = pd.read_excel(data_version_1_path, sheet_name='original_data')\n",
    "dataset_length = len(dataset)\n",
    "dataset_length"
   ]
  },
  {
   "attachments": {},
   "cell_type": "markdown",
   "metadata": {},
   "source": [
    "## For training with first label"
   ]
  },
  {
   "cell_type": "code",
   "execution_count": 3,
   "metadata": {},
   "outputs": [],
   "source": [
    "# test_dataset_path = \"../data_for_modeling/filter_data/v1/old_data/HDAC2_test_unspec_removed.csv\"\n",
    "# train_dataset_path = \"../data_for_modeling/filter_data/v1/old_data/HDAC2_train_unspec_removed.csv\"\n",
    "# test_dataset = pd.read_csv(test_dataset_path)\n",
    "# train_dataset = pd.read_csv(train_dataset_path)\n",
    "# dataset = pd.concat([train_dataset, test_dataset], ignore_index=True)"
   ]
  },
  {
   "cell_type": "code",
   "execution_count": 4,
   "metadata": {},
   "outputs": [
    {
     "data": {
      "text/html": [
       "<div>\n",
       "<style scoped>\n",
       "    .dataframe tbody tr th:only-of-type {\n",
       "        vertical-align: middle;\n",
       "    }\n",
       "\n",
       "    .dataframe tbody tr th {\n",
       "        vertical-align: top;\n",
       "    }\n",
       "\n",
       "    .dataframe thead th {\n",
       "        text-align: right;\n",
       "    }\n",
       "</style>\n",
       "<table border=\"1\" class=\"dataframe\">\n",
       "  <thead>\n",
       "    <tr style=\"text-align: right;\">\n",
       "      <th></th>\n",
       "      <th>STT</th>\n",
       "      <th>SMILES</th>\n",
       "      <th>CID</th>\n",
       "      <th>IC50 (uM)</th>\n",
       "      <th>FIRST_LABEL</th>\n",
       "      <th>ACTIVITY</th>\n",
       "      <th>DUPLICATE_COUNTS</th>\n",
       "    </tr>\n",
       "  </thead>\n",
       "  <tbody>\n",
       "    <tr>\n",
       "      <th>0</th>\n",
       "      <td>0</td>\n",
       "      <td>CSC1=CC2=C(C=C1)SC3=CC=CC=C3N2CC4=CC=C(C=C4)C(...</td>\n",
       "      <td>164629157</td>\n",
       "      <td>0.68000</td>\n",
       "      <td>Active</td>\n",
       "      <td>Active</td>\n",
       "      <td>1</td>\n",
       "    </tr>\n",
       "    <tr>\n",
       "      <th>1</th>\n",
       "      <td>1</td>\n",
       "      <td>CC1=C(C2=CC=CC=C2N1)CCNCC3=CC=C(C=C3)C=CC(=O)N...</td>\n",
       "      <td>155525662</td>\n",
       "      <td>4.21400</td>\n",
       "      <td>Active</td>\n",
       "      <td>Inactive</td>\n",
       "      <td>1</td>\n",
       "    </tr>\n",
       "    <tr>\n",
       "      <th>2</th>\n",
       "      <td>2</td>\n",
       "      <td>C1=CC=C2C(=C1)N(C3=C(S2=O)C=CC(=C3)C(F)(F)F)CC...</td>\n",
       "      <td>164627475</td>\n",
       "      <td>2.12000</td>\n",
       "      <td>Active</td>\n",
       "      <td>Inactive</td>\n",
       "      <td>1</td>\n",
       "    </tr>\n",
       "    <tr>\n",
       "      <th>3</th>\n",
       "      <td>3</td>\n",
       "      <td>CC(C)(C)OC(=O)NC1=CC=C(C=C1)C2=CC(=NO2)NC(=O)C...</td>\n",
       "      <td>164627446</td>\n",
       "      <td>0.25200</td>\n",
       "      <td>Active</td>\n",
       "      <td>Active</td>\n",
       "      <td>1</td>\n",
       "    </tr>\n",
       "    <tr>\n",
       "      <th>4</th>\n",
       "      <td>4</td>\n",
       "      <td>CCCC[C@@H](C1=NC=C(N1)C2=CC3=CC=CC=C3N=C2OC)NC...</td>\n",
       "      <td>164627330</td>\n",
       "      <td>2.00525</td>\n",
       "      <td>Active</td>\n",
       "      <td>Inactive</td>\n",
       "      <td>4</td>\n",
       "    </tr>\n",
       "  </tbody>\n",
       "</table>\n",
       "</div>"
      ],
      "text/plain": [
       "   STT                                             SMILES        CID  \\\n",
       "0    0  CSC1=CC2=C(C=C1)SC3=CC=CC=C3N2CC4=CC=C(C=C4)C(...  164629157   \n",
       "1    1  CC1=C(C2=CC=CC=C2N1)CCNCC3=CC=C(C=C3)C=CC(=O)N...  155525662   \n",
       "2    2  C1=CC=C2C(=C1)N(C3=C(S2=O)C=CC(=C3)C(F)(F)F)CC...  164627475   \n",
       "3    3  CC(C)(C)OC(=O)NC1=CC=C(C=C1)C2=CC(=NO2)NC(=O)C...  164627446   \n",
       "4    4  CCCC[C@@H](C1=NC=C(N1)C2=CC3=CC=CC=C3N=C2OC)NC...  164627330   \n",
       "\n",
       "   IC50 (uM) FIRST_LABEL  ACTIVITY  DUPLICATE_COUNTS  \n",
       "0    0.68000      Active    Active                 1  \n",
       "1    4.21400      Active  Inactive                 1  \n",
       "2    2.12000      Active  Inactive                 1  \n",
       "3    0.25200      Active    Active                 1  \n",
       "4    2.00525      Active  Inactive                 4  "
      ]
     },
     "execution_count": 4,
     "metadata": {},
     "output_type": "execute_result"
    }
   ],
   "source": [
    "dataset.head()"
   ]
  },
  {
   "attachments": {},
   "cell_type": "markdown",
   "metadata": {},
   "source": [
    "# 1. Profile of the data"
   ]
  },
  {
   "attachments": {},
   "cell_type": "markdown",
   "metadata": {},
   "source": [
    "## 1.1. Group by original activity"
   ]
  },
  {
   "cell_type": "code",
   "execution_count": 3,
   "metadata": {},
   "outputs": [],
   "source": [
    "def check_activity_distribution(dataset, col_name):\n",
    "    active_rows = dataset.loc[dataset[col_name] == \"Active\"]\n",
    "    inactive_rows = dataset.loc[dataset[col_name] == \"Inactive\"]\n",
    "    inconclusive_rows = dataset.loc[dataset[col_name] == \"Inconclusive\"]\n",
    "    unspecified_rows = dataset.loc[dataset[col_name] == \"Unspecified\"]\n",
    "\n",
    "    dataset_length = len(dataset)\n",
    "\n",
    "    print(\"Total dataset\")\n",
    "    table = [['', 'Active', 'Inactive', 'Inconclusive', 'Unspecified'], \n",
    "            ['Number', len(active_rows), len(inactive_rows), len(inconclusive_rows), len(unspecified_rows)],\n",
    "            ['Percentage (%)', len(active_rows)/dataset_length*100, len(inactive_rows)/dataset_length*100,\n",
    "            len(inconclusive_rows)/dataset_length*100, len(unspecified_rows)/dataset_length*100]]\n",
    "    print(tabulate(table, headers='firstrow', tablefmt='fancy_grid'))"
   ]
  },
  {
   "cell_type": "code",
   "execution_count": 4,
   "metadata": {},
   "outputs": [
    {
     "name": "stdout",
     "output_type": "stream",
     "text": [
      "Total dataset\n",
      "╒════════════════╤══════════╤════════════╤════════════════╤═══════════════╕\n",
      "│                │   Active │   Inactive │   Inconclusive │   Unspecified │\n",
      "╞════════════════╪══════════╪════════════╪════════════════╪═══════════════╡\n",
      "│ Number         │ 769      │   10       │              0 │      214      │\n",
      "├────────────────┼──────────┼────────────┼────────────────┼───────────────┤\n",
      "│ Percentage (%) │  77.4421 │    1.00705 │              0 │       21.5509 │\n",
      "╘════════════════╧══════════╧════════════╧════════════════╧═══════════════╛\n"
     ]
    }
   ],
   "source": [
    "check_activity_distribution(dataset=dataset, col_name='FIRST_LABEL')"
   ]
  },
  {
   "attachments": {},
   "cell_type": "markdown",
   "metadata": {},
   "source": [
    "## 1.2. Group by the new activity"
   ]
  },
  {
   "cell_type": "code",
   "execution_count": 5,
   "metadata": {},
   "outputs": [
    {
     "name": "stdout",
     "output_type": "stream",
     "text": [
      "Total dataset\n",
      "╒════════════════╤══════════╤════════════╤════════════════╤═══════════════╕\n",
      "│                │   Active │   Inactive │   Inconclusive │   Unspecified │\n",
      "╞════════════════╪══════════╪════════════╪════════════════╪═══════════════╡\n",
      "│ Number         │ 501      │   492      │              0 │             0 │\n",
      "├────────────────┼──────────┼────────────┼────────────────┼───────────────┤\n",
      "│ Percentage (%) │  50.4532 │    49.5468 │              0 │             0 │\n",
      "╘════════════════╧══════════╧════════════╧════════════════╧═══════════════╛\n"
     ]
    }
   ],
   "source": [
    "check_activity_distribution(dataset=dataset, col_name='ACTIVITY')"
   ]
  },
  {
   "attachments": {},
   "cell_type": "markdown",
   "metadata": {},
   "source": [
    "# 2. Filtering the data"
   ]
  },
  {
   "attachments": {},
   "cell_type": "markdown",
   "metadata": {},
   "source": [
    "## 2.1. Cannonical Smiles and remove duplicates"
   ]
  },
  {
   "cell_type": "code",
   "execution_count": 9,
   "metadata": {},
   "outputs": [],
   "source": [
    "def make_canonical_smiles(smiles):\n",
    "    mols = [Chem.MolFromSmiles(smi) for smi in smiles]\n",
    "    smiles = [Chem.MolToSmiles(mol) for mol in mols]\n",
    "    return smiles"
   ]
  },
  {
   "cell_type": "code",
   "execution_count": 10,
   "metadata": {},
   "outputs": [
    {
     "data": {
      "text/plain": [
       "array(['CC(Nc1ccccc1)c1ccc(C(=O)Nc2ccccc2N)cc1',\n",
       "       'CC(Nc1ccccc1)c1ccc(C(=O)Nc2ccccc2N)cc1',\n",
       "       'O=C1CCC=CCCC(=O)N(Cc2cccc(C=NNC(=O)c3cccc(C(=O)NO)c3)c2)CC(c2ccccc2)O1',\n",
       "       'CC(C)C1NC(=O)C2(C)CSC(=N2)c2csc(n2)CNC(=O)CC(C(F)=CCCS)OC1=O',\n",
       "       'O=C(CCC(CCCC(=O)Nc1ccccc1)Cc1ccccc1)NO',\n",
       "       'O=C(CCC(CCCC(=O)Nc1ccccc1)Cc1ccccc1)NO',\n",
       "       'CCCCCCC(CCCCCC(=O)Nc1ccccc1)C(=O)NO',\n",
       "       'COc1ccc(COC(CCCCCC(=O)NO)C(=O)Nc2ccccc2)cc1',\n",
       "       'COc1ccc(COC(CCCCCC(=O)NO)C(=O)Nc2ccccc2)cc1'], dtype=object)"
      ]
     },
     "execution_count": 10,
     "metadata": {},
     "output_type": "execute_result"
    }
   ],
   "source": [
    "cannon_smiles = make_canonical_smiles(dataset.SMILES)\n",
    "dataset['SMILES'] = cannon_smiles\n",
    "duplicates_smiles = dataset[dataset['SMILES'].duplicated()]['SMILES'].values\n",
    "duplicate_index = dataset[dataset['SMILES'].duplicated()]['SMILES'].index\n",
    "duplicates_smiles"
   ]
  },
  {
   "cell_type": "code",
   "execution_count": 11,
   "metadata": {},
   "outputs": [
    {
     "data": {
      "text/plain": [
       "STT                                                    270\n",
       "SMILES              CC(Nc1ccccc1)c1ccc(C(=O)Nc2ccccc2N)cc1\n",
       "CID                                              155555330\n",
       "IC50 (uM)                                              4.2\n",
       "FIRST_LABEL                                         Active\n",
       "ACTIVITY                                          Inactive\n",
       "DUPLICATE_COUNTS                                         1\n",
       "Name: 270, dtype: object"
      ]
     },
     "execution_count": 11,
     "metadata": {},
     "output_type": "execute_result"
    }
   ],
   "source": [
    "dataset.loc[270]"
   ]
  },
  {
   "cell_type": "code",
   "execution_count": 12,
   "metadata": {},
   "outputs": [
    {
     "data": {
      "text/plain": [
       "Int64Index([252, 270, 290, 706, 912, 913, 917, 975, 977], dtype='int64')"
      ]
     },
     "execution_count": 12,
     "metadata": {},
     "output_type": "execute_result"
    }
   ],
   "source": [
    "duplicate_index"
   ]
  },
  {
   "cell_type": "code",
   "execution_count": 13,
   "metadata": {},
   "outputs": [
    {
     "name": "stdout",
     "output_type": "stream",
     "text": [
      "[249, 252, 270, 249, 252, 270, 260, 290, 704, 706, 910, 912, 913, 910, 912, 913, 915, 917, 974, 975, 977, 974, 975, 977]\n",
      "24\n"
     ]
    }
   ],
   "source": [
    "dup_smiles_idxs = []\n",
    "for smiles in duplicates_smiles:\n",
    "    sub_dataset_dup_smiles = dataset[dataset.SMILES == smiles].copy()\n",
    "    for idx, _ in sub_dataset_dup_smiles.iterrows():\n",
    "        dup_smiles_idxs.append(idx)\n",
    "print(dup_smiles_idxs)\n",
    "print(len(dup_smiles_idxs))"
   ]
  },
  {
   "cell_type": "code",
   "execution_count": 14,
   "metadata": {},
   "outputs": [],
   "source": [
    "dataset = dataset.drop(dup_smiles_idxs)"
   ]
  },
  {
   "cell_type": "code",
   "execution_count": 15,
   "metadata": {},
   "outputs": [
    {
     "data": {
      "text/plain": [
       "array([], dtype=object)"
      ]
     },
     "execution_count": 15,
     "metadata": {},
     "output_type": "execute_result"
    }
   ],
   "source": [
    "#check again\n",
    "duplicates_smiles = dataset[dataset['SMILES'].duplicated()]['SMILES'].values\n",
    "duplicates_smiles"
   ]
  },
  {
   "cell_type": "code",
   "execution_count": 16,
   "metadata": {},
   "outputs": [
    {
     "data": {
      "text/plain": [
       "978"
      ]
     },
     "execution_count": 16,
     "metadata": {},
     "output_type": "execute_result"
    }
   ],
   "source": [
    "len(dataset)"
   ]
  },
  {
   "attachments": {},
   "cell_type": "markdown",
   "metadata": {},
   "source": [
    "## 2.2. Check for label intersection"
   ]
  },
  {
   "cell_type": "code",
   "execution_count": 17,
   "metadata": {},
   "outputs": [],
   "source": [
    "def check_label_intersection(dataset, col_name):\n",
    "      active_rows = dataset.loc[dataset[col_name] == \"Active\"]\n",
    "      inactive_rows = dataset.loc[dataset[col_name] == \"Inactive\"]\n",
    "      inconclusive_rows = dataset.loc[dataset[col_name] == \"Inconclusive\"]\n",
    "      unspecified_rows = dataset.loc[dataset[col_name] == \"Unspecified\"]\n",
    "      \n",
    "      cid_active = active_rows.loc[:, 'CID']\n",
    "      cid_inactive = inactive_rows.loc[:, 'CID']\n",
    "      cid_incon = inconclusive_rows.loc[:, 'CID']\n",
    "      cid_unspec = unspecified_rows.loc[:, 'CID']\n",
    "\n",
    "      ac_inac_cid = np.intersect1d(cid_active, cid_inactive)\n",
    "      ac_incon_cid = np.intersect1d(cid_active, cid_incon)\n",
    "      ac_unspec_cid = np.intersect1d(cid_active, cid_unspec)\n",
    "\n",
    "      inac_incon_cid = np.intersect1d(cid_inactive, cid_incon)\n",
    "      incon_unspec_cid = np.intersect1d(cid_incon, cid_unspec)\n",
    "      inac_unspec_cid = np.intersect1d(cid_inactive, cid_unspec)\n",
    "      print(len(ac_inac_cid), \n",
    "            len(ac_incon_cid), \n",
    "            len(ac_unspec_cid), \n",
    "            len(inac_incon_cid), \n",
    "            len(incon_unspec_cid), \n",
    "            len(inac_unspec_cid))"
   ]
  },
  {
   "cell_type": "code",
   "execution_count": 18,
   "metadata": {},
   "outputs": [
    {
     "name": "stdout",
     "output_type": "stream",
     "text": [
      "0 0 0 0 0 0\n"
     ]
    }
   ],
   "source": [
    "check_label_intersection(dataset=dataset, col_name='ACTIVITY')"
   ]
  },
  {
   "cell_type": "code",
   "execution_count": 19,
   "metadata": {},
   "outputs": [
    {
     "name": "stdout",
     "output_type": "stream",
     "text": [
      "0 0 0 0 0 0\n"
     ]
    }
   ],
   "source": [
    "check_label_intersection(dataset=dataset, col_name='FIRST_LABEL')"
   ]
  },
  {
   "cell_type": "code",
   "execution_count": 20,
   "metadata": {},
   "outputs": [
    {
     "data": {
      "text/html": [
       "<div>\n",
       "<style scoped>\n",
       "    .dataframe tbody tr th:only-of-type {\n",
       "        vertical-align: middle;\n",
       "    }\n",
       "\n",
       "    .dataframe tbody tr th {\n",
       "        vertical-align: top;\n",
       "    }\n",
       "\n",
       "    .dataframe thead th {\n",
       "        text-align: right;\n",
       "    }\n",
       "</style>\n",
       "<table border=\"1\" class=\"dataframe\">\n",
       "  <thead>\n",
       "    <tr style=\"text-align: right;\">\n",
       "      <th></th>\n",
       "      <th>STT</th>\n",
       "      <th>SMILES</th>\n",
       "      <th>CID</th>\n",
       "      <th>IC50 (uM)</th>\n",
       "      <th>FIRST_LABEL</th>\n",
       "      <th>ACTIVITY</th>\n",
       "      <th>DUPLICATE_COUNTS</th>\n",
       "    </tr>\n",
       "  </thead>\n",
       "  <tbody>\n",
       "    <tr>\n",
       "      <th>0</th>\n",
       "      <td>0</td>\n",
       "      <td>CSc1ccc2c(c1)N(Cc1ccc(C(=O)NO)cc1)c1ccccc1S2</td>\n",
       "      <td>164629157</td>\n",
       "      <td>0.68000</td>\n",
       "      <td>Active</td>\n",
       "      <td>Active</td>\n",
       "      <td>1</td>\n",
       "    </tr>\n",
       "    <tr>\n",
       "      <th>1</th>\n",
       "      <td>1</td>\n",
       "      <td>COC(=O)CCNNC(=O)C=Cc1ccc(CNCCc2c(C)[nH]c3ccccc...</td>\n",
       "      <td>155525662</td>\n",
       "      <td>4.21400</td>\n",
       "      <td>Active</td>\n",
       "      <td>Inactive</td>\n",
       "      <td>1</td>\n",
       "    </tr>\n",
       "    <tr>\n",
       "      <th>2</th>\n",
       "      <td>2</td>\n",
       "      <td>O=C(NO)c1ccc(CN2c3ccccc3S(=O)c3ccc(C(F)(F)F)cc...</td>\n",
       "      <td>164627475</td>\n",
       "      <td>2.12000</td>\n",
       "      <td>Active</td>\n",
       "      <td>Inactive</td>\n",
       "      <td>1</td>\n",
       "    </tr>\n",
       "    <tr>\n",
       "      <th>3</th>\n",
       "      <td>3</td>\n",
       "      <td>CC(C)(C)OC(=O)Nc1ccc(-c2cc(NC(=O)CCCCCCC(=O)NO...</td>\n",
       "      <td>164627446</td>\n",
       "      <td>0.25200</td>\n",
       "      <td>Active</td>\n",
       "      <td>Active</td>\n",
       "      <td>1</td>\n",
       "    </tr>\n",
       "    <tr>\n",
       "      <th>4</th>\n",
       "      <td>4</td>\n",
       "      <td>CCCC[C@H](NC(=O)[C@H](CN)c1c(C)[nH]c2ccc(OC)cc...</td>\n",
       "      <td>164627330</td>\n",
       "      <td>2.00525</td>\n",
       "      <td>Active</td>\n",
       "      <td>Inactive</td>\n",
       "      <td>4</td>\n",
       "    </tr>\n",
       "  </tbody>\n",
       "</table>\n",
       "</div>"
      ],
      "text/plain": [
       "   STT                                             SMILES        CID  \\\n",
       "0    0       CSc1ccc2c(c1)N(Cc1ccc(C(=O)NO)cc1)c1ccccc1S2  164629157   \n",
       "1    1  COC(=O)CCNNC(=O)C=Cc1ccc(CNCCc2c(C)[nH]c3ccccc...  155525662   \n",
       "2    2  O=C(NO)c1ccc(CN2c3ccccc3S(=O)c3ccc(C(F)(F)F)cc...  164627475   \n",
       "3    3  CC(C)(C)OC(=O)Nc1ccc(-c2cc(NC(=O)CCCCCCC(=O)NO...  164627446   \n",
       "4    4  CCCC[C@H](NC(=O)[C@H](CN)c1c(C)[nH]c2ccc(OC)cc...  164627330   \n",
       "\n",
       "   IC50 (uM) FIRST_LABEL  ACTIVITY  DUPLICATE_COUNTS  \n",
       "0    0.68000      Active    Active                 1  \n",
       "1    4.21400      Active  Inactive                 1  \n",
       "2    2.12000      Active  Inactive                 1  \n",
       "3    0.25200      Active    Active                 1  \n",
       "4    2.00525      Active  Inactive                 4  "
      ]
     },
     "execution_count": 20,
     "metadata": {},
     "output_type": "execute_result"
    }
   ],
   "source": [
    "dataset = dataset.reset_index(drop=True)\n",
    "dataset.head()"
   ]
  },
  {
   "cell_type": "code",
   "execution_count": 21,
   "metadata": {},
   "outputs": [
    {
     "name": "stdout",
     "output_type": "stream",
     "text": [
      "Total dataset\n",
      "╒════════════════╤══════════╤════════════╤════════════════╤═══════════════╕\n",
      "│                │   Active │   Inactive │   Inconclusive │   Unspecified │\n",
      "╞════════════════╪══════════╪════════════╪════════════════╪═══════════════╡\n",
      "│ Number         │ 762      │   10       │              0 │      206      │\n",
      "├────────────────┼──────────┼────────────┼────────────────┼───────────────┤\n",
      "│ Percentage (%) │  77.9141 │    1.02249 │              0 │       21.0634 │\n",
      "╘════════════════╧══════════╧════════════╧════════════════╧═══════════════╛\n"
     ]
    }
   ],
   "source": [
    "check_activity_distribution(dataset=dataset, col_name='FIRST_LABEL')"
   ]
  },
  {
   "cell_type": "code",
   "execution_count": 22,
   "metadata": {},
   "outputs": [
    {
     "name": "stdout",
     "output_type": "stream",
     "text": [
      "Total dataset\n",
      "╒════════════════╤══════════╤════════════╤════════════════╤═══════════════╕\n",
      "│                │   Active │   Inactive │   Inconclusive │   Unspecified │\n",
      "╞════════════════╪══════════╪════════════╪════════════════╪═══════════════╡\n",
      "│ Number         │ 499      │   479      │              0 │             0 │\n",
      "├────────────────┼──────────┼────────────┼────────────────┼───────────────┤\n",
      "│ Percentage (%) │  51.0225 │    48.9775 │              0 │             0 │\n",
      "╘════════════════╧══════════╧════════════╧════════════════╧═══════════════╛\n"
     ]
    }
   ],
   "source": [
    "check_activity_distribution(dataset=dataset, col_name='ACTIVITY')"
   ]
  },
  {
   "cell_type": "code",
   "execution_count": 23,
   "metadata": {},
   "outputs": [],
   "source": [
    "# dataset.to_excel(\"../output/other/Original_dataset_after_remove_dup_smiles.xlsx\")"
   ]
  },
  {
   "attachments": {},
   "cell_type": "markdown",
   "metadata": {},
   "source": [
    "## 2.3. Remove the unspecified rows"
   ]
  },
  {
   "attachments": {},
   "cell_type": "markdown",
   "metadata": {},
   "source": [
    "## 2.4. Write data to file before running label errors"
   ]
  },
  {
   "cell_type": "code",
   "execution_count": 24,
   "metadata": {},
   "outputs": [
    {
     "data": {
      "text/plain": [
       "978"
      ]
     },
     "execution_count": 24,
     "metadata": {},
     "output_type": "execute_result"
    }
   ],
   "source": [
    "len(dataset)"
   ]
  },
  {
   "cell_type": "code",
   "execution_count": 25,
   "metadata": {},
   "outputs": [],
   "source": [
    "# dataset.to_excel(\"../data_for_modeling/filter_data/v1/before_clean_data/HDAC2_before_labels_errors.xlsx\")"
   ]
  },
  {
   "attachments": {},
   "cell_type": "markdown",
   "metadata": {},
   "source": [
    "## 3. Labels errors"
   ]
  },
  {
   "attachments": {},
   "cell_type": "markdown",
   "metadata": {},
   "source": [
    "### 3.0. Encoding labels"
   ]
  },
  {
   "cell_type": "code",
   "execution_count": 26,
   "metadata": {},
   "outputs": [
    {
     "data": {
      "text/html": [
       "<div>\n",
       "<style scoped>\n",
       "    .dataframe tbody tr th:only-of-type {\n",
       "        vertical-align: middle;\n",
       "    }\n",
       "\n",
       "    .dataframe tbody tr th {\n",
       "        vertical-align: top;\n",
       "    }\n",
       "\n",
       "    .dataframe thead th {\n",
       "        text-align: right;\n",
       "    }\n",
       "</style>\n",
       "<table border=\"1\" class=\"dataframe\">\n",
       "  <thead>\n",
       "    <tr style=\"text-align: right;\">\n",
       "      <th></th>\n",
       "      <th>STT</th>\n",
       "      <th>SMILES</th>\n",
       "      <th>CID</th>\n",
       "      <th>IC50 (uM)</th>\n",
       "      <th>FIRST_LABEL</th>\n",
       "      <th>ACTIVITY</th>\n",
       "      <th>DUPLICATE_COUNTS</th>\n",
       "    </tr>\n",
       "  </thead>\n",
       "  <tbody>\n",
       "    <tr>\n",
       "      <th>0</th>\n",
       "      <td>0</td>\n",
       "      <td>CSc1ccc2c(c1)N(Cc1ccc(C(=O)NO)cc1)c1ccccc1S2</td>\n",
       "      <td>164629157</td>\n",
       "      <td>0.68000</td>\n",
       "      <td>Active</td>\n",
       "      <td>0</td>\n",
       "      <td>1</td>\n",
       "    </tr>\n",
       "    <tr>\n",
       "      <th>1</th>\n",
       "      <td>1</td>\n",
       "      <td>COC(=O)CCNNC(=O)C=Cc1ccc(CNCCc2c(C)[nH]c3ccccc...</td>\n",
       "      <td>155525662</td>\n",
       "      <td>4.21400</td>\n",
       "      <td>Active</td>\n",
       "      <td>1</td>\n",
       "      <td>1</td>\n",
       "    </tr>\n",
       "    <tr>\n",
       "      <th>2</th>\n",
       "      <td>2</td>\n",
       "      <td>O=C(NO)c1ccc(CN2c3ccccc3S(=O)c3ccc(C(F)(F)F)cc...</td>\n",
       "      <td>164627475</td>\n",
       "      <td>2.12000</td>\n",
       "      <td>Active</td>\n",
       "      <td>1</td>\n",
       "      <td>1</td>\n",
       "    </tr>\n",
       "    <tr>\n",
       "      <th>3</th>\n",
       "      <td>3</td>\n",
       "      <td>CC(C)(C)OC(=O)Nc1ccc(-c2cc(NC(=O)CCCCCCC(=O)NO...</td>\n",
       "      <td>164627446</td>\n",
       "      <td>0.25200</td>\n",
       "      <td>Active</td>\n",
       "      <td>0</td>\n",
       "      <td>1</td>\n",
       "    </tr>\n",
       "    <tr>\n",
       "      <th>4</th>\n",
       "      <td>4</td>\n",
       "      <td>CCCC[C@H](NC(=O)[C@H](CN)c1c(C)[nH]c2ccc(OC)cc...</td>\n",
       "      <td>164627330</td>\n",
       "      <td>2.00525</td>\n",
       "      <td>Active</td>\n",
       "      <td>1</td>\n",
       "      <td>4</td>\n",
       "    </tr>\n",
       "  </tbody>\n",
       "</table>\n",
       "</div>"
      ],
      "text/plain": [
       "   STT                                             SMILES        CID  \\\n",
       "0    0       CSc1ccc2c(c1)N(Cc1ccc(C(=O)NO)cc1)c1ccccc1S2  164629157   \n",
       "1    1  COC(=O)CCNNC(=O)C=Cc1ccc(CNCCc2c(C)[nH]c3ccccc...  155525662   \n",
       "2    2  O=C(NO)c1ccc(CN2c3ccccc3S(=O)c3ccc(C(F)(F)F)cc...  164627475   \n",
       "3    3  CC(C)(C)OC(=O)Nc1ccc(-c2cc(NC(=O)CCCCCCC(=O)NO...  164627446   \n",
       "4    4  CCCC[C@H](NC(=O)[C@H](CN)c1c(C)[nH]c2ccc(OC)cc...  164627330   \n",
       "\n",
       "   IC50 (uM) FIRST_LABEL  ACTIVITY  DUPLICATE_COUNTS  \n",
       "0    0.68000      Active         0                 1  \n",
       "1    4.21400      Active         1                 1  \n",
       "2    2.12000      Active         1                 1  \n",
       "3    0.25200      Active         0                 1  \n",
       "4    2.00525      Active         1                 4  "
      ]
     },
     "execution_count": 26,
     "metadata": {},
     "output_type": "execute_result"
    }
   ],
   "source": [
    "from xgboost import XGBClassifier\n",
    "from sklearn import preprocessing\n",
    "from sklearn.model_selection import cross_val_predict\n",
    "from sklearn.metrics import accuracy_score\n",
    "import pandas as pd\n",
    "import numpy as np\n",
    "\n",
    "#Encoding labels\n",
    "dataset_c = dataset.copy()\n",
    "# Transform letter grades and notes to categorical numbers.\n",
    "# Necessary for XGBoost.\n",
    "dataset['ACTIVITY'] = preprocessing.LabelEncoder().fit_transform(dataset['ACTIVITY'])\n",
    "dataset.head()"
   ]
  },
  {
   "cell_type": "code",
   "execution_count": 27,
   "metadata": {},
   "outputs": [
    {
     "data": {
      "text/html": [
       "<div>\n",
       "<style scoped>\n",
       "    .dataframe tbody tr th:only-of-type {\n",
       "        vertical-align: middle;\n",
       "    }\n",
       "\n",
       "    .dataframe tbody tr th {\n",
       "        vertical-align: top;\n",
       "    }\n",
       "\n",
       "    .dataframe thead th {\n",
       "        text-align: right;\n",
       "    }\n",
       "</style>\n",
       "<table border=\"1\" class=\"dataframe\">\n",
       "  <thead>\n",
       "    <tr style=\"text-align: right;\">\n",
       "      <th></th>\n",
       "      <th>STT</th>\n",
       "      <th>SMILES</th>\n",
       "      <th>CID</th>\n",
       "      <th>IC50 (uM)</th>\n",
       "      <th>FIRST_LABEL</th>\n",
       "      <th>ACTIVITY</th>\n",
       "      <th>DUPLICATE_COUNTS</th>\n",
       "    </tr>\n",
       "  </thead>\n",
       "  <tbody>\n",
       "    <tr>\n",
       "      <th>0</th>\n",
       "      <td>0</td>\n",
       "      <td>CSc1ccc2c(c1)N(Cc1ccc(C(=O)NO)cc1)c1ccccc1S2</td>\n",
       "      <td>164629157</td>\n",
       "      <td>0.68000</td>\n",
       "      <td>Active</td>\n",
       "      <td>Active</td>\n",
       "      <td>1</td>\n",
       "    </tr>\n",
       "    <tr>\n",
       "      <th>1</th>\n",
       "      <td>1</td>\n",
       "      <td>COC(=O)CCNNC(=O)C=Cc1ccc(CNCCc2c(C)[nH]c3ccccc...</td>\n",
       "      <td>155525662</td>\n",
       "      <td>4.21400</td>\n",
       "      <td>Active</td>\n",
       "      <td>Inactive</td>\n",
       "      <td>1</td>\n",
       "    </tr>\n",
       "    <tr>\n",
       "      <th>2</th>\n",
       "      <td>2</td>\n",
       "      <td>O=C(NO)c1ccc(CN2c3ccccc3S(=O)c3ccc(C(F)(F)F)cc...</td>\n",
       "      <td>164627475</td>\n",
       "      <td>2.12000</td>\n",
       "      <td>Active</td>\n",
       "      <td>Inactive</td>\n",
       "      <td>1</td>\n",
       "    </tr>\n",
       "    <tr>\n",
       "      <th>3</th>\n",
       "      <td>3</td>\n",
       "      <td>CC(C)(C)OC(=O)Nc1ccc(-c2cc(NC(=O)CCCCCCC(=O)NO...</td>\n",
       "      <td>164627446</td>\n",
       "      <td>0.25200</td>\n",
       "      <td>Active</td>\n",
       "      <td>Active</td>\n",
       "      <td>1</td>\n",
       "    </tr>\n",
       "    <tr>\n",
       "      <th>4</th>\n",
       "      <td>4</td>\n",
       "      <td>CCCC[C@H](NC(=O)[C@H](CN)c1c(C)[nH]c2ccc(OC)cc...</td>\n",
       "      <td>164627330</td>\n",
       "      <td>2.00525</td>\n",
       "      <td>Active</td>\n",
       "      <td>Inactive</td>\n",
       "      <td>4</td>\n",
       "    </tr>\n",
       "  </tbody>\n",
       "</table>\n",
       "</div>"
      ],
      "text/plain": [
       "   STT                                             SMILES        CID  \\\n",
       "0    0       CSc1ccc2c(c1)N(Cc1ccc(C(=O)NO)cc1)c1ccccc1S2  164629157   \n",
       "1    1  COC(=O)CCNNC(=O)C=Cc1ccc(CNCCc2c(C)[nH]c3ccccc...  155525662   \n",
       "2    2  O=C(NO)c1ccc(CN2c3ccccc3S(=O)c3ccc(C(F)(F)F)cc...  164627475   \n",
       "3    3  CC(C)(C)OC(=O)Nc1ccc(-c2cc(NC(=O)CCCCCCC(=O)NO...  164627446   \n",
       "4    4  CCCC[C@H](NC(=O)[C@H](CN)c1c(C)[nH]c2ccc(OC)cc...  164627330   \n",
       "\n",
       "   IC50 (uM) FIRST_LABEL  ACTIVITY  DUPLICATE_COUNTS  \n",
       "0    0.68000      Active    Active                 1  \n",
       "1    4.21400      Active  Inactive                 1  \n",
       "2    2.12000      Active  Inactive                 1  \n",
       "3    0.25200      Active    Active                 1  \n",
       "4    2.00525      Active  Inactive                 4  "
      ]
     },
     "execution_count": 27,
     "metadata": {},
     "output_type": "execute_result"
    }
   ],
   "source": [
    "dataset_c.head()"
   ]
  },
  {
   "attachments": {},
   "cell_type": "markdown",
   "metadata": {},
   "source": [
    "**We will do this in the MACCS keys**"
   ]
  },
  {
   "cell_type": "code",
   "execution_count": 28,
   "metadata": {},
   "outputs": [],
   "source": [
    "def maccs_fpts(data):\n",
    "    Maccs_fpts = []\n",
    "    for i in data:\n",
    "        mol = Chem.MolFromSmiles(i)\n",
    "        fpts = MACCSkeys.GenMACCSKeys(mol)\n",
    "        mfpts = np.array(fpts)\n",
    "        Maccs_fpts.append(mfpts)\n",
    "    return np.array(Maccs_fpts)"
   ]
  },
  {
   "cell_type": "code",
   "execution_count": 29,
   "metadata": {},
   "outputs": [
    {
     "data": {
      "text/html": [
       "<div>\n",
       "<style scoped>\n",
       "    .dataframe tbody tr th:only-of-type {\n",
       "        vertical-align: middle;\n",
       "    }\n",
       "\n",
       "    .dataframe tbody tr th {\n",
       "        vertical-align: top;\n",
       "    }\n",
       "\n",
       "    .dataframe thead th {\n",
       "        text-align: right;\n",
       "    }\n",
       "</style>\n",
       "<table border=\"1\" class=\"dataframe\">\n",
       "  <thead>\n",
       "    <tr style=\"text-align: right;\">\n",
       "      <th></th>\n",
       "      <th>0</th>\n",
       "      <th>1</th>\n",
       "      <th>2</th>\n",
       "      <th>3</th>\n",
       "      <th>4</th>\n",
       "      <th>5</th>\n",
       "      <th>6</th>\n",
       "      <th>7</th>\n",
       "      <th>8</th>\n",
       "      <th>9</th>\n",
       "      <th>...</th>\n",
       "      <th>157</th>\n",
       "      <th>158</th>\n",
       "      <th>159</th>\n",
       "      <th>160</th>\n",
       "      <th>161</th>\n",
       "      <th>162</th>\n",
       "      <th>163</th>\n",
       "      <th>164</th>\n",
       "      <th>165</th>\n",
       "      <th>166</th>\n",
       "    </tr>\n",
       "  </thead>\n",
       "  <tbody>\n",
       "    <tr>\n",
       "      <th>0</th>\n",
       "      <td>0</td>\n",
       "      <td>0</td>\n",
       "      <td>0</td>\n",
       "      <td>0</td>\n",
       "      <td>0</td>\n",
       "      <td>0</td>\n",
       "      <td>0</td>\n",
       "      <td>0</td>\n",
       "      <td>0</td>\n",
       "      <td>0</td>\n",
       "      <td>...</td>\n",
       "      <td>0</td>\n",
       "      <td>1</td>\n",
       "      <td>1</td>\n",
       "      <td>1</td>\n",
       "      <td>1</td>\n",
       "      <td>1</td>\n",
       "      <td>1</td>\n",
       "      <td>1</td>\n",
       "      <td>1</td>\n",
       "      <td>0</td>\n",
       "    </tr>\n",
       "    <tr>\n",
       "      <th>1</th>\n",
       "      <td>0</td>\n",
       "      <td>0</td>\n",
       "      <td>0</td>\n",
       "      <td>0</td>\n",
       "      <td>0</td>\n",
       "      <td>0</td>\n",
       "      <td>0</td>\n",
       "      <td>0</td>\n",
       "      <td>0</td>\n",
       "      <td>0</td>\n",
       "      <td>...</td>\n",
       "      <td>1</td>\n",
       "      <td>1</td>\n",
       "      <td>1</td>\n",
       "      <td>1</td>\n",
       "      <td>1</td>\n",
       "      <td>1</td>\n",
       "      <td>1</td>\n",
       "      <td>1</td>\n",
       "      <td>1</td>\n",
       "      <td>1</td>\n",
       "    </tr>\n",
       "    <tr>\n",
       "      <th>2</th>\n",
       "      <td>0</td>\n",
       "      <td>0</td>\n",
       "      <td>0</td>\n",
       "      <td>0</td>\n",
       "      <td>0</td>\n",
       "      <td>0</td>\n",
       "      <td>0</td>\n",
       "      <td>0</td>\n",
       "      <td>0</td>\n",
       "      <td>0</td>\n",
       "      <td>...</td>\n",
       "      <td>0</td>\n",
       "      <td>1</td>\n",
       "      <td>1</td>\n",
       "      <td>0</td>\n",
       "      <td>1</td>\n",
       "      <td>1</td>\n",
       "      <td>1</td>\n",
       "      <td>1</td>\n",
       "      <td>1</td>\n",
       "      <td>0</td>\n",
       "    </tr>\n",
       "    <tr>\n",
       "      <th>3</th>\n",
       "      <td>0</td>\n",
       "      <td>0</td>\n",
       "      <td>0</td>\n",
       "      <td>0</td>\n",
       "      <td>0</td>\n",
       "      <td>0</td>\n",
       "      <td>0</td>\n",
       "      <td>0</td>\n",
       "      <td>0</td>\n",
       "      <td>0</td>\n",
       "      <td>...</td>\n",
       "      <td>1</td>\n",
       "      <td>1</td>\n",
       "      <td>1</td>\n",
       "      <td>1</td>\n",
       "      <td>1</td>\n",
       "      <td>1</td>\n",
       "      <td>1</td>\n",
       "      <td>1</td>\n",
       "      <td>1</td>\n",
       "      <td>0</td>\n",
       "    </tr>\n",
       "    <tr>\n",
       "      <th>4</th>\n",
       "      <td>0</td>\n",
       "      <td>0</td>\n",
       "      <td>0</td>\n",
       "      <td>0</td>\n",
       "      <td>0</td>\n",
       "      <td>0</td>\n",
       "      <td>0</td>\n",
       "      <td>0</td>\n",
       "      <td>0</td>\n",
       "      <td>0</td>\n",
       "      <td>...</td>\n",
       "      <td>1</td>\n",
       "      <td>1</td>\n",
       "      <td>1</td>\n",
       "      <td>1</td>\n",
       "      <td>1</td>\n",
       "      <td>1</td>\n",
       "      <td>1</td>\n",
       "      <td>1</td>\n",
       "      <td>1</td>\n",
       "      <td>0</td>\n",
       "    </tr>\n",
       "  </tbody>\n",
       "</table>\n",
       "<p>5 rows × 167 columns</p>\n",
       "</div>"
      ],
      "text/plain": [
       "   0    1    2    3    4    5    6    7    8    9    ...  157  158  159  160  \\\n",
       "0    0    0    0    0    0    0    0    0    0    0  ...    0    1    1    1   \n",
       "1    0    0    0    0    0    0    0    0    0    0  ...    1    1    1    1   \n",
       "2    0    0    0    0    0    0    0    0    0    0  ...    0    1    1    0   \n",
       "3    0    0    0    0    0    0    0    0    0    0  ...    1    1    1    1   \n",
       "4    0    0    0    0    0    0    0    0    0    0  ...    1    1    1    1   \n",
       "\n",
       "   161  162  163  164  165  166  \n",
       "0    1    1    1    1    1    0  \n",
       "1    1    1    1    1    1    1  \n",
       "2    1    1    1    1    1    0  \n",
       "3    1    1    1    1    1    0  \n",
       "4    1    1    1    1    1    0  \n",
       "\n",
       "[5 rows x 167 columns]"
      ]
     },
     "execution_count": 29,
     "metadata": {},
     "output_type": "execute_result"
    }
   ],
   "source": [
    "smiles = dataset.SMILES\n",
    "data = maccs_fpts(smiles)\n",
    "data = pd.DataFrame(data=data)\n",
    "labels = dataset['ACTIVITY']\n",
    "data.head()"
   ]
  },
  {
   "attachments": {},
   "cell_type": "markdown",
   "metadata": {},
   "source": [
    "### 3.1. Getting out-of-sample predicted probabilities"
   ]
  },
  {
   "cell_type": "code",
   "execution_count": 30,
   "metadata": {},
   "outputs": [
    {
     "name": "stdout",
     "output_type": "stream",
     "text": [
      "978\n",
      "[[0.05645907 0.94354093]\n",
      " [0.9060659  0.0939341 ]\n",
      " [0.9896945  0.01030552]\n",
      " ...\n",
      " [0.00843608 0.9915639 ]\n",
      " [0.06708306 0.93291694]\n",
      " [0.0323478  0.9676522 ]]\n"
     ]
    }
   ],
   "source": [
    "model = XGBClassifier(tree_method=\"hist\", enable_categorical=True)\n",
    "pred_probs = cross_val_predict(model, data, labels, method='predict_proba')\n",
    "print(len(pred_probs))\n",
    "print(pred_probs)"
   ]
  },
  {
   "attachments": {},
   "cell_type": "markdown",
   "metadata": {},
   "source": [
    "### 3.2. Checking model accuracy on original data\n",
    "\n",
    "Now that we have out-of-sample predicted probabilities, we can also check the model's (cross-val) accuracy on the original (noisy) data, so we'll have a baseline to compare our final results."
   ]
  },
  {
   "cell_type": "code",
   "execution_count": 31,
   "metadata": {},
   "outputs": [
    {
     "name": "stdout",
     "output_type": "stream",
     "text": [
      "Accuracy with original data: 63.0%\n"
     ]
    }
   ],
   "source": [
    "preds = np.argmax(pred_probs, axis=1)\n",
    "acc_original = accuracy_score(preds, labels)\n",
    "print(f\"Accuracy with original data: {round(acc_original*100,1)}%\")"
   ]
  },
  {
   "cell_type": "code",
   "execution_count": 32,
   "metadata": {},
   "outputs": [
    {
     "name": "stdout",
     "output_type": "stream",
     "text": [
      "Accuracy with original data: 97.0%\n"
     ]
    }
   ],
   "source": [
    "model.fit(data, labels)\n",
    "preds_by_predict = model.predict(data)\n",
    "acc_pred_by_predict = accuracy_score(preds_by_predict, labels)\n",
    "print(f\"Accuracy with original data: {round(acc_pred_by_predict*100,1)}%\")"
   ]
  },
  {
   "cell_type": "code",
   "execution_count": 33,
   "metadata": {},
   "outputs": [],
   "source": [
    "# k = 158\n",
    "# print(\"Label: \" + str(labels[k]))\n",
    "# print(\"Pred by proba: \" + str(preds[k]))\n",
    "# print(\"Preds by predict: \" + str(preds_by_predict[k]))\n",
    "# print(\"Pred probs: \"+str(pred_probs[k]))"
   ]
  },
  {
   "cell_type": "code",
   "execution_count": 34,
   "metadata": {},
   "outputs": [],
   "source": [
    "# print_pred_probs = pd.DataFrame(pred_probs, columns=[0, 1])\n",
    "# print_pred_probs['labels'] = labels\n",
    "# print_pred_probs['Prediction by predict()'] = preds_by_predict\n",
    "# print_pred_probs['Prediction by predict_proba()'] = preds\n",
    "# print_pred_probs.to_excel(\"../data_for_modeling/filter_data/v1/before_clean_data/Compare_between_preds.xlsx\", index=True)"
   ]
  },
  {
   "attachments": {},
   "cell_type": "markdown",
   "metadata": {},
   "source": [
    "### 3.3. Finding the class threshold"
   ]
  },
  {
   "cell_type": "code",
   "execution_count": 35,
   "metadata": {},
   "outputs": [],
   "source": [
    "def compute_class_thresholds(pred_probs: np.ndarray, labels: np.ndarray) -> np.ndarray:\n",
    "    n_examples, n_classes = pred_probs.shape\n",
    "    thresholds = np.zeros(n_classes)\n",
    "    for k in range(n_classes):\n",
    "        count = 0\n",
    "        p_sum = 0\n",
    "        for i in range(n_examples):\n",
    "            if labels[i] == k:\n",
    "                count += 1\n",
    "                p_sum += pred_probs[i, k]\n",
    "        thresholds[k] = p_sum / count\n",
    "    return thresholds"
   ]
  },
  {
   "attachments": {},
   "cell_type": "markdown",
   "metadata": {},
   "source": [
    "<b>Check the data and its label was right</b>"
   ]
  },
  {
   "cell_type": "code",
   "execution_count": 36,
   "metadata": {},
   "outputs": [
    {
     "name": "stdout",
     "output_type": "stream",
     "text": [
      "Active\n",
      "label: 0\n"
     ]
    }
   ],
   "source": [
    "print(dataset_c.loc[230]['ACTIVITY'])\n",
    "print(\"label: \" + str(labels.to_numpy()[230]))"
   ]
  },
  {
   "cell_type": "code",
   "execution_count": 37,
   "metadata": {},
   "outputs": [
    {
     "data": {
      "text/plain": [
       "array([0.61792817, 0.61778003])"
      ]
     },
     "execution_count": 37,
     "metadata": {},
     "output_type": "execute_result"
    }
   ],
   "source": [
    "# should be a numpy array of length 5\n",
    "thresholds = compute_class_thresholds(pred_probs, labels.to_numpy())\n",
    "thresholds"
   ]
  },
  {
   "attachments": {},
   "cell_type": "markdown",
   "metadata": {},
   "source": [
    "### 3.4. Constructing the confident joint"
   ]
  },
  {
   "cell_type": "code",
   "execution_count": 38,
   "metadata": {},
   "outputs": [],
   "source": [
    "def compute_confident_joint(pred_probs: np.ndarray, labels: np.ndarray, thresholds: np.ndarray) -> np.ndarray:\n",
    "    n_examples, n_classes = pred_probs.shape\n",
    "    confident_joint = np.zeros((n_classes, n_classes), dtype=np.int64)\n",
    "    positions = np.array([[-1, -1]])\n",
    "    for data_idx in range(n_examples):\n",
    "        i = labels[data_idx]    #y_noise\n",
    "        j = None                #y_true -> to find\n",
    "        #Lưu ý điểm mình bị sai: vị trí của chúng không ứng với label\n",
    "        p_j = -1\n",
    "        for candidate_j in range(n_classes):\n",
    "            p = pred_probs[data_idx, candidate_j]\n",
    "            if p >= thresholds[candidate_j] and p > p_j:\n",
    "                j = candidate_j\n",
    "                p_j = p\n",
    "        if j is not None:\n",
    "            confident_joint[i][j] += 1\n",
    "        positions = np.append(positions, np.array([[i, j]]), axis=0)\n",
    "    return confident_joint, positions"
   ]
  },
  {
   "cell_type": "code",
   "execution_count": 39,
   "metadata": {},
   "outputs": [
    {
     "name": "stdout",
     "output_type": "stream",
     "text": [
      "[[290 165]\n",
      " [163 278]]\n",
      "[[-1 -1]\n",
      " [0 1]\n",
      " [1 0]\n",
      " ...\n",
      " [1 1]\n",
      " [1 1]\n",
      " [1 1]]\n"
     ]
    }
   ],
   "source": [
    "C, positions = compute_confident_joint(pred_probs, labels.to_numpy(), thresholds)\n",
    "print(C)\n",
    "# print(positions)"
   ]
  },
  {
   "cell_type": "code",
   "execution_count": 40,
   "metadata": {},
   "outputs": [],
   "source": [
    "positions = pd.DataFrame(positions, columns=[\"i\", \"j\"]).to_excel(\"../data_for_modeling/filter_data/v1/before_clean_data/positions.xlsx\")"
   ]
  },
  {
   "attachments": {},
   "cell_type": "markdown",
   "metadata": {},
   "source": [
    "### 3.5 Count the number of label issues"
   ]
  },
  {
   "cell_type": "code",
   "execution_count": 41,
   "metadata": {},
   "outputs": [
    {
     "data": {
      "text/plain": [
       "328"
      ]
     },
     "execution_count": 41,
     "metadata": {},
     "output_type": "execute_result"
    }
   ],
   "source": [
    "num_label_issues = C.sum() - C.trace()\n",
    "num_label_issues"
   ]
  },
  {
   "cell_type": "code",
   "execution_count": 42,
   "metadata": {},
   "outputs": [
    {
     "name": "stdout",
     "output_type": "stream",
     "text": [
      "Estimated noise rate: 33.5%\n"
     ]
    }
   ],
   "source": [
    "print('Estimated noise rate: {:.1f}%'.format(100*num_label_issues / pred_probs.shape[0]))"
   ]
  },
  {
   "attachments": {},
   "cell_type": "markdown",
   "metadata": {},
   "source": [
    "### 3.6. Filter out label issues"
   ]
  },
  {
   "cell_type": "code",
   "execution_count": 43,
   "metadata": {},
   "outputs": [
    {
     "data": {
      "text/plain": [
       "(978, 2)"
      ]
     },
     "execution_count": 43,
     "metadata": {},
     "output_type": "execute_result"
    }
   ],
   "source": [
    "pred_probs.shape"
   ]
  },
  {
   "cell_type": "code",
   "execution_count": 44,
   "metadata": {},
   "outputs": [],
   "source": [
    "self_confidences = []\n",
    "for i in range(pred_probs.shape[0]):\n",
    "    self_confidences.append(pred_probs[i, labels[i]])\n",
    "self_confidences = np.array(self_confidences)"
   ]
  },
  {
   "cell_type": "code",
   "execution_count": 45,
   "metadata": {},
   "outputs": [
    {
     "data": {
      "text/plain": [
       "array([158,  45,  13, 159, 727])"
      ]
     },
     "execution_count": 45,
     "metadata": {},
     "output_type": "execute_result"
    }
   ],
   "source": [
    "ranked_indices = np.argsort(self_confidences)\n",
    "ranked_indices[0:5]"
   ]
  },
  {
   "cell_type": "code",
   "execution_count": 46,
   "metadata": {},
   "outputs": [
    {
     "name": "stdout",
     "output_type": "stream",
     "text": [
      "328\n"
     ]
    },
    {
     "data": {
      "text/plain": [
       "158"
      ]
     },
     "execution_count": 46,
     "metadata": {},
     "output_type": "execute_result"
    }
   ],
   "source": [
    "issue_idx = ranked_indices[:num_label_issues]\n",
    "print(len(issue_idx))\n",
    "issue_idx[0]"
   ]
  },
  {
   "cell_type": "code",
   "execution_count": 47,
   "metadata": {},
   "outputs": [
    {
     "name": "stdout",
     "output_type": "stream",
     "text": [
      "(array([187]),)\n"
     ]
    }
   ],
   "source": [
    "print(np.where(issue_idx == 649))"
   ]
  },
  {
   "cell_type": "code",
   "execution_count": 48,
   "metadata": {},
   "outputs": [],
   "source": [
    "print_issue_index = pd.DataFrame(issue_idx)\n",
    "print_issue_index.to_csv(\"../output/other/issue_idx.csv\")"
   ]
  },
  {
   "cell_type": "code",
   "execution_count": 49,
   "metadata": {},
   "outputs": [
    {
     "data": {
      "text/html": [
       "<div>\n",
       "<style scoped>\n",
       "    .dataframe tbody tr th:only-of-type {\n",
       "        vertical-align: middle;\n",
       "    }\n",
       "\n",
       "    .dataframe tbody tr th {\n",
       "        vertical-align: top;\n",
       "    }\n",
       "\n",
       "    .dataframe thead th {\n",
       "        text-align: right;\n",
       "    }\n",
       "</style>\n",
       "<table border=\"1\" class=\"dataframe\">\n",
       "  <thead>\n",
       "    <tr style=\"text-align: right;\">\n",
       "      <th></th>\n",
       "      <th>STT</th>\n",
       "      <th>SMILES</th>\n",
       "      <th>CID</th>\n",
       "      <th>IC50 (uM)</th>\n",
       "      <th>FIRST_LABEL</th>\n",
       "      <th>ACTIVITY</th>\n",
       "      <th>DUPLICATE_COUNTS</th>\n",
       "    </tr>\n",
       "  </thead>\n",
       "  <tbody>\n",
       "    <tr>\n",
       "      <th>158</th>\n",
       "      <td>158</td>\n",
       "      <td>CC1(C)C(=O)C(C#N)=C[C@]2(C)[C@H]3C(=O)C=C4[C@@...</td>\n",
       "      <td>162651274</td>\n",
       "      <td>4.830000</td>\n",
       "      <td>Active</td>\n",
       "      <td>Inactive</td>\n",
       "      <td>1</td>\n",
       "    </tr>\n",
       "    <tr>\n",
       "      <th>45</th>\n",
       "      <td>45</td>\n",
       "      <td>CCC(=O)CCCCC[C@H](NC(=O)[C@H]1CC12CCN(CC)CC2)c...</td>\n",
       "      <td>162676857</td>\n",
       "      <td>1.553000</td>\n",
       "      <td>Active</td>\n",
       "      <td>Inactive</td>\n",
       "      <td>1</td>\n",
       "    </tr>\n",
       "    <tr>\n",
       "      <th>13</th>\n",
       "      <td>13</td>\n",
       "      <td>O=C(O)CCCCCSc1nnc(-c2ccncc2)n1-c1ccccc1</td>\n",
       "      <td>164621264</td>\n",
       "      <td>0.640000</td>\n",
       "      <td>Active</td>\n",
       "      <td>Active</td>\n",
       "      <td>1</td>\n",
       "    </tr>\n",
       "    <tr>\n",
       "      <th>159</th>\n",
       "      <td>159</td>\n",
       "      <td>CCC(=O)CCCCC[C@H](NC(=O)[C@H]1CC12CCN(C)CC2)c1...</td>\n",
       "      <td>162651205</td>\n",
       "      <td>1.336667</td>\n",
       "      <td>Active</td>\n",
       "      <td>Inactive</td>\n",
       "      <td>3</td>\n",
       "    </tr>\n",
       "    <tr>\n",
       "      <th>727</th>\n",
       "      <td>734</td>\n",
       "      <td>Nc1ccc(-c2cccs2)cc1NC(=O)c1ccc2nccnc2c1</td>\n",
       "      <td>11393847</td>\n",
       "      <td>0.200000</td>\n",
       "      <td>Active</td>\n",
       "      <td>Active</td>\n",
       "      <td>1</td>\n",
       "    </tr>\n",
       "  </tbody>\n",
       "</table>\n",
       "</div>"
      ],
      "text/plain": [
       "     STT                                             SMILES        CID  \\\n",
       "158  158  CC1(C)C(=O)C(C#N)=C[C@]2(C)[C@H]3C(=O)C=C4[C@@...  162651274   \n",
       "45    45  CCC(=O)CCCCC[C@H](NC(=O)[C@H]1CC12CCN(CC)CC2)c...  162676857   \n",
       "13    13            O=C(O)CCCCCSc1nnc(-c2ccncc2)n1-c1ccccc1  164621264   \n",
       "159  159  CCC(=O)CCCCC[C@H](NC(=O)[C@H]1CC12CCN(C)CC2)c1...  162651205   \n",
       "727  734            Nc1ccc(-c2cccs2)cc1NC(=O)c1ccc2nccnc2c1   11393847   \n",
       "\n",
       "     IC50 (uM) FIRST_LABEL  ACTIVITY  DUPLICATE_COUNTS  \n",
       "158   4.830000      Active  Inactive                 1  \n",
       "45    1.553000      Active  Inactive                 1  \n",
       "13    0.640000      Active    Active                 1  \n",
       "159   1.336667      Active  Inactive                 3  \n",
       "727   0.200000      Active    Active                 1  "
      ]
     },
     "execution_count": 49,
     "metadata": {},
     "output_type": "execute_result"
    }
   ],
   "source": [
    "dataset_c.iloc[ranked_indices[:5]]"
   ]
  },
  {
   "attachments": {},
   "cell_type": "markdown",
   "metadata": {},
   "source": [
    "# Train a More Robust Model\n",
    "\n",
    "Now that we have the indices of potential label errors within our data, let's remove them from our data, retrain our model, and see what improvement we can gain.\n",
    "\n",
    "Keep in mind that our baseline model from above, trained on the original data using the `noisy_letter_grade` as the prediction label, achieved a cross-validation accuracy of 67%.\n",
    "\n",
    "Let's use a very simple method to handle these label errors and just drop them entirely from the data and retrain our exact same `XGBClassifier`. In a real-world application, a better approach might be to have humans review the issues and _correct_ the labels rather than dropping the data points."
   ]
  },
  {
   "cell_type": "code",
   "execution_count": 50,
   "metadata": {},
   "outputs": [],
   "source": [
    "# Remove the label errors found by Confident Learning\n",
    "data_rm = dataset.drop(issue_idx)\n",
    "# encoding the label\n",
    "clean_labels = preprocessing.LabelEncoder().fit_transform(data_rm['ACTIVITY'])\n",
    "# encoding the smiles\n",
    "data = maccs_fpts(data_rm.SMILES)\n",
    "data = pd.DataFrame(data=data)"
   ]
  },
  {
   "cell_type": "code",
   "execution_count": 51,
   "metadata": {},
   "outputs": [
    {
     "data": {
      "text/plain": [
       "650"
      ]
     },
     "execution_count": 51,
     "metadata": {},
     "output_type": "execute_result"
    }
   ],
   "source": [
    "len(data)"
   ]
  },
  {
   "cell_type": "code",
   "execution_count": 52,
   "metadata": {},
   "outputs": [
    {
     "data": {
      "text/plain": [
       "650"
      ]
     },
     "execution_count": 52,
     "metadata": {},
     "output_type": "execute_result"
    }
   ],
   "source": [
    "len(clean_labels)"
   ]
  },
  {
   "cell_type": "code",
   "execution_count": 53,
   "metadata": {},
   "outputs": [
    {
     "name": "stdout",
     "output_type": "stream",
     "text": [
      "Accuracy with original data: 63.0%\n",
      "Accuracy with errors found by Confident Learning removed: 89.2%\n",
      "Reduction in error: 70.9%\n"
     ]
    }
   ],
   "source": [
    "# Train a more robust classifier with less erroneous data\n",
    "model = XGBClassifier(tree_method=\"hist\", enable_categorical=True)\n",
    "clean_pred_probs = cross_val_predict(model, data, clean_labels, method='predict_proba')\n",
    "clean_preds = np.argmax(clean_pred_probs, axis=1)\n",
    "\n",
    "acc_clean = accuracy_score(clean_preds, clean_labels)\n",
    "print(f\"Accuracy with original data: {round(acc_original*100, 1)}%\")\n",
    "print(f\"Accuracy with errors found by Confident Learning removed: {round(acc_clean*100, 1)}%\")\n",
    "\n",
    "# Compute reduction in error.\n",
    "err = ((1-acc_original)-(1-acc_clean))/(1-acc_original)\n",
    "print(f\"Reduction in error: {round(err*100,1)}%\")"
   ]
  },
  {
   "attachments": {},
   "cell_type": "markdown",
   "metadata": {},
   "source": [
    "# 4. Using clean lab to find the label issues"
   ]
  },
  {
   "cell_type": "code",
   "execution_count": 54,
   "metadata": {},
   "outputs": [],
   "source": [
    "import cleanlab\n",
    "cl_issue_idx = cleanlab.filter.find_label_issues(labels, pred_probs, return_indices_ranked_by='self_confidence')"
   ]
  },
  {
   "cell_type": "code",
   "execution_count": 55,
   "metadata": {},
   "outputs": [
    {
     "data": {
      "text/plain": [
       "358"
      ]
     },
     "execution_count": 55,
     "metadata": {},
     "output_type": "execute_result"
    }
   ],
   "source": [
    "len(cl_issue_idx)"
   ]
  },
  {
   "attachments": {},
   "cell_type": "markdown",
   "metadata": {},
   "source": [
    "# 5. Output the new data after filter"
   ]
  },
  {
   "cell_type": "code",
   "execution_count": 56,
   "metadata": {},
   "outputs": [],
   "source": [
    "clean_dataset = dataset_c.drop(issue_idx)\n",
    "issue_dataset = dataset_c.loc[issue_idx]"
   ]
  },
  {
   "cell_type": "code",
   "execution_count": 57,
   "metadata": {},
   "outputs": [
    {
     "data": {
      "text/html": [
       "<div>\n",
       "<style scoped>\n",
       "    .dataframe tbody tr th:only-of-type {\n",
       "        vertical-align: middle;\n",
       "    }\n",
       "\n",
       "    .dataframe tbody tr th {\n",
       "        vertical-align: top;\n",
       "    }\n",
       "\n",
       "    .dataframe thead th {\n",
       "        text-align: right;\n",
       "    }\n",
       "</style>\n",
       "<table border=\"1\" class=\"dataframe\">\n",
       "  <thead>\n",
       "    <tr style=\"text-align: right;\">\n",
       "      <th></th>\n",
       "      <th>STT</th>\n",
       "      <th>SMILES</th>\n",
       "      <th>CID</th>\n",
       "      <th>IC50 (uM)</th>\n",
       "      <th>FIRST_LABEL</th>\n",
       "      <th>ACTIVITY</th>\n",
       "      <th>DUPLICATE_COUNTS</th>\n",
       "    </tr>\n",
       "  </thead>\n",
       "  <tbody>\n",
       "    <tr>\n",
       "      <th>158</th>\n",
       "      <td>158</td>\n",
       "      <td>CC1(C)C(=O)C(C#N)=C[C@]2(C)[C@H]3C(=O)C=C4[C@@...</td>\n",
       "      <td>162651274</td>\n",
       "      <td>4.830000</td>\n",
       "      <td>Active</td>\n",
       "      <td>Inactive</td>\n",
       "      <td>1</td>\n",
       "    </tr>\n",
       "    <tr>\n",
       "      <th>45</th>\n",
       "      <td>45</td>\n",
       "      <td>CCC(=O)CCCCC[C@H](NC(=O)[C@H]1CC12CCN(CC)CC2)c...</td>\n",
       "      <td>162676857</td>\n",
       "      <td>1.553000</td>\n",
       "      <td>Active</td>\n",
       "      <td>Inactive</td>\n",
       "      <td>1</td>\n",
       "    </tr>\n",
       "    <tr>\n",
       "      <th>13</th>\n",
       "      <td>13</td>\n",
       "      <td>O=C(O)CCCCCSc1nnc(-c2ccncc2)n1-c1ccccc1</td>\n",
       "      <td>164621264</td>\n",
       "      <td>0.640000</td>\n",
       "      <td>Active</td>\n",
       "      <td>Active</td>\n",
       "      <td>1</td>\n",
       "    </tr>\n",
       "    <tr>\n",
       "      <th>159</th>\n",
       "      <td>159</td>\n",
       "      <td>CCC(=O)CCCCC[C@H](NC(=O)[C@H]1CC12CCN(C)CC2)c1...</td>\n",
       "      <td>162651205</td>\n",
       "      <td>1.336667</td>\n",
       "      <td>Active</td>\n",
       "      <td>Inactive</td>\n",
       "      <td>3</td>\n",
       "    </tr>\n",
       "    <tr>\n",
       "      <th>727</th>\n",
       "      <td>734</td>\n",
       "      <td>Nc1ccc(-c2cccs2)cc1NC(=O)c1ccc2nccnc2c1</td>\n",
       "      <td>11393847</td>\n",
       "      <td>0.200000</td>\n",
       "      <td>Active</td>\n",
       "      <td>Active</td>\n",
       "      <td>1</td>\n",
       "    </tr>\n",
       "    <tr>\n",
       "      <th>...</th>\n",
       "      <td>...</td>\n",
       "      <td>...</td>\n",
       "      <td>...</td>\n",
       "      <td>...</td>\n",
       "      <td>...</td>\n",
       "      <td>...</td>\n",
       "      <td>...</td>\n",
       "    </tr>\n",
       "    <tr>\n",
       "      <th>491</th>\n",
       "      <td>496</td>\n",
       "      <td>Cc1c2ccc(N(C)c3ccnc(Nc4ccc(C(=O)NCCCCCCC(=O)Nc...</td>\n",
       "      <td>141504714</td>\n",
       "      <td>5.000000</td>\n",
       "      <td>Active</td>\n",
       "      <td>Inactive</td>\n",
       "      <td>1</td>\n",
       "    </tr>\n",
       "    <tr>\n",
       "      <th>492</th>\n",
       "      <td>497</td>\n",
       "      <td>Cc1c2ccc(N(C)c3ccnc(Nc4ccc(C(=O)NCCCCCCCC(=O)N...</td>\n",
       "      <td>141504704</td>\n",
       "      <td>4.980000</td>\n",
       "      <td>Active</td>\n",
       "      <td>Inactive</td>\n",
       "      <td>2</td>\n",
       "    </tr>\n",
       "    <tr>\n",
       "      <th>946</th>\n",
       "      <td>958</td>\n",
       "      <td>COC(=O)N(O)CCCCCCC(=O)Nc1ccccc1</td>\n",
       "      <td>44359814</td>\n",
       "      <td>NaN</td>\n",
       "      <td>Unspecified</td>\n",
       "      <td>Inactive</td>\n",
       "      <td>1</td>\n",
       "    </tr>\n",
       "    <tr>\n",
       "      <th>602</th>\n",
       "      <td>607</td>\n",
       "      <td>COc1ccc(S(=O)(=O)n2ccc3cc(C=CC(=O)NO)ccc32)cc1OC</td>\n",
       "      <td>53464638</td>\n",
       "      <td>0.002300</td>\n",
       "      <td>Active</td>\n",
       "      <td>Active</td>\n",
       "      <td>1</td>\n",
       "    </tr>\n",
       "    <tr>\n",
       "      <th>123</th>\n",
       "      <td>123</td>\n",
       "      <td>CCCCN(Cc1ccc(C(=O)NO)cc1)C(=O)Nc1ccc(CN)cc1</td>\n",
       "      <td>162657468</td>\n",
       "      <td>0.281000</td>\n",
       "      <td>Active</td>\n",
       "      <td>Active</td>\n",
       "      <td>1</td>\n",
       "    </tr>\n",
       "  </tbody>\n",
       "</table>\n",
       "<p>328 rows × 7 columns</p>\n",
       "</div>"
      ],
      "text/plain": [
       "     STT                                             SMILES        CID  \\\n",
       "158  158  CC1(C)C(=O)C(C#N)=C[C@]2(C)[C@H]3C(=O)C=C4[C@@...  162651274   \n",
       "45    45  CCC(=O)CCCCC[C@H](NC(=O)[C@H]1CC12CCN(CC)CC2)c...  162676857   \n",
       "13    13            O=C(O)CCCCCSc1nnc(-c2ccncc2)n1-c1ccccc1  164621264   \n",
       "159  159  CCC(=O)CCCCC[C@H](NC(=O)[C@H]1CC12CCN(C)CC2)c1...  162651205   \n",
       "727  734            Nc1ccc(-c2cccs2)cc1NC(=O)c1ccc2nccnc2c1   11393847   \n",
       "..   ...                                                ...        ...   \n",
       "491  496  Cc1c2ccc(N(C)c3ccnc(Nc4ccc(C(=O)NCCCCCCC(=O)Nc...  141504714   \n",
       "492  497  Cc1c2ccc(N(C)c3ccnc(Nc4ccc(C(=O)NCCCCCCCC(=O)N...  141504704   \n",
       "946  958                    COC(=O)N(O)CCCCCCC(=O)Nc1ccccc1   44359814   \n",
       "602  607   COc1ccc(S(=O)(=O)n2ccc3cc(C=CC(=O)NO)ccc32)cc1OC   53464638   \n",
       "123  123        CCCCN(Cc1ccc(C(=O)NO)cc1)C(=O)Nc1ccc(CN)cc1  162657468   \n",
       "\n",
       "     IC50 (uM)  FIRST_LABEL  ACTIVITY  DUPLICATE_COUNTS  \n",
       "158   4.830000       Active  Inactive                 1  \n",
       "45    1.553000       Active  Inactive                 1  \n",
       "13    0.640000       Active    Active                 1  \n",
       "159   1.336667       Active  Inactive                 3  \n",
       "727   0.200000       Active    Active                 1  \n",
       "..         ...          ...       ...               ...  \n",
       "491   5.000000       Active  Inactive                 1  \n",
       "492   4.980000       Active  Inactive                 2  \n",
       "946        NaN  Unspecified  Inactive                 1  \n",
       "602   0.002300       Active    Active                 1  \n",
       "123   0.281000       Active    Active                 1  \n",
       "\n",
       "[328 rows x 7 columns]"
      ]
     },
     "execution_count": 57,
     "metadata": {},
     "output_type": "execute_result"
    }
   ],
   "source": [
    "issue_dataset"
   ]
  },
  {
   "attachments": {},
   "cell_type": "markdown",
   "metadata": {},
   "source": [
    "## 5.1. Check the profile of the clean data"
   ]
  },
  {
   "cell_type": "code",
   "execution_count": 58,
   "metadata": {},
   "outputs": [
    {
     "name": "stdout",
     "output_type": "stream",
     "text": [
      "Total dataset\n",
      "╒════════════════╤══════════╤════════════╤════════════════╤═══════════════╕\n",
      "│                │   Active │   Inactive │   Inconclusive │   Unspecified │\n",
      "╞════════════════╪══════════╪════════════╪════════════════╪═══════════════╡\n",
      "│ Number         │ 469      │   10       │              0 │      171      │\n",
      "├────────────────┼──────────┼────────────┼────────────────┼───────────────┤\n",
      "│ Percentage (%) │  72.1538 │    1.53846 │              0 │       26.3077 │\n",
      "╘════════════════╧══════════╧════════════╧════════════════╧═══════════════╛\n"
     ]
    }
   ],
   "source": [
    "check_activity_distribution(dataset=clean_dataset, col_name='FIRST_LABEL')"
   ]
  },
  {
   "cell_type": "code",
   "execution_count": 59,
   "metadata": {},
   "outputs": [
    {
     "name": "stdout",
     "output_type": "stream",
     "text": [
      "Total dataset\n",
      "╒════════════════╤══════════╤════════════╤════════════════╤═══════════════╕\n",
      "│                │   Active │   Inactive │   Inconclusive │   Unspecified │\n",
      "╞════════════════╪══════════╪════════════╪════════════════╪═══════════════╡\n",
      "│ Number         │ 334      │   316      │              0 │             0 │\n",
      "├────────────────┼──────────┼────────────┼────────────────┼───────────────┤\n",
      "│ Percentage (%) │  51.3846 │    48.6154 │              0 │             0 │\n",
      "╘════════════════╧══════════╧════════════╧════════════════╧═══════════════╛\n"
     ]
    }
   ],
   "source": [
    "check_activity_distribution(dataset=clean_dataset, col_name='ACTIVITY')"
   ]
  },
  {
   "cell_type": "code",
   "execution_count": 60,
   "metadata": {},
   "outputs": [
    {
     "name": "stdout",
     "output_type": "stream",
     "text": [
      "Total dataset\n",
      "╒════════════════╤══════════╤════════════╤════════════════╤═══════════════╕\n",
      "│                │   Active │   Inactive │   Inconclusive │   Unspecified │\n",
      "╞════════════════╪══════════╪════════════╪════════════════╪═══════════════╡\n",
      "│ Number         │ 293      │          0 │              0 │       35      │\n",
      "├────────────────┼──────────┼────────────┼────────────────┼───────────────┤\n",
      "│ Percentage (%) │  89.3293 │          0 │              0 │       10.6707 │\n",
      "╘════════════════╧══════════╧════════════╧════════════════╧═══════════════╛\n"
     ]
    }
   ],
   "source": [
    "check_activity_distribution(dataset=issue_dataset, col_name='FIRST_LABEL')"
   ]
  },
  {
   "cell_type": "code",
   "execution_count": 61,
   "metadata": {},
   "outputs": [
    {
     "name": "stdout",
     "output_type": "stream",
     "text": [
      "Total dataset\n",
      "╒════════════════╤══════════╤════════════╤════════════════╤═══════════════╕\n",
      "│                │   Active │   Inactive │   Inconclusive │   Unspecified │\n",
      "╞════════════════╪══════════╪════════════╪════════════════╪═══════════════╡\n",
      "│ Number         │ 165      │   163      │              0 │             0 │\n",
      "├────────────────┼──────────┼────────────┼────────────────┼───────────────┤\n",
      "│ Percentage (%) │  50.3049 │    49.6951 │              0 │             0 │\n",
      "╘════════════════╧══════════╧════════════╧════════════════╧═══════════════╛\n"
     ]
    }
   ],
   "source": [
    "check_activity_distribution(dataset=issue_dataset, col_name='ACTIVITY')"
   ]
  },
  {
   "attachments": {},
   "cell_type": "markdown",
   "metadata": {},
   "source": [
    "## 5.2. Write data to file"
   ]
  },
  {
   "cell_type": "code",
   "execution_count": 62,
   "metadata": {},
   "outputs": [],
   "source": [
    "from openpyxl import Workbook\n",
    "data_path = \"../data_for_modeling/filter_data/v1/clean_data/\"\n",
    "writer = pd.ExcelWriter(data_path + 'HDAC2_clean_data.xlsx', engine='openpyxl')\n",
    "dataset_c.to_excel(writer, sheet_name='all_data', index=False)\n",
    "clean_dataset.to_excel(writer, sheet_name='clean_data', index=False)\n",
    "issue_dataset.to_excel(writer, sheet_name='issue_data', index=False)\n",
    "writer.close()"
   ]
  },
  {
   "attachments": {},
   "cell_type": "markdown",
   "metadata": {},
   "source": [
    "# 6. Create a test set and train set from this"
   ]
  },
  {
   "attachments": {},
   "cell_type": "markdown",
   "metadata": {},
   "source": [
    "## 6.1. Create clean data"
   ]
  },
  {
   "cell_type": "code",
   "execution_count": 73,
   "metadata": {},
   "outputs": [
    {
     "data": {
      "text/plain": [
       "650"
      ]
     },
     "execution_count": 73,
     "metadata": {},
     "output_type": "execute_result"
    }
   ],
   "source": [
    "train_test_data = clean_dataset.drop(['STT', 'FIRST_LABEL', 'DUPLICATE_COUNTS'], axis = 1)\n",
    "len(train_test_data)"
   ]
  },
  {
   "cell_type": "code",
   "execution_count": 64,
   "metadata": {},
   "outputs": [],
   "source": [
    "from sklearn.model_selection import train_test_split\n",
    "random_state = 1\n",
    "train_dataset, test_dataset = train_test_split(train_test_data, test_size=0.2, random_state=random_state)"
   ]
  },
  {
   "cell_type": "code",
   "execution_count": 65,
   "metadata": {},
   "outputs": [
    {
     "name": "stdout",
     "output_type": "stream",
     "text": [
      "Total dataset\n",
      "╒════════════════╤══════════╤════════════╤════════════════╤═══════════════╕\n",
      "│                │   Active │   Inactive │   Inconclusive │   Unspecified │\n",
      "╞════════════════╪══════════╪════════════╪════════════════╪═══════════════╡\n",
      "│ Number         │ 275      │   245      │              0 │             0 │\n",
      "├────────────────┼──────────┼────────────┼────────────────┼───────────────┤\n",
      "│ Percentage (%) │  52.8846 │    47.1154 │              0 │             0 │\n",
      "╘════════════════╧══════════╧════════════╧════════════════╧═══════════════╛\n"
     ]
    }
   ],
   "source": [
    "check_activity_distribution(dataset=train_dataset, col_name='ACTIVITY')"
   ]
  },
  {
   "cell_type": "code",
   "execution_count": 66,
   "metadata": {},
   "outputs": [
    {
     "name": "stdout",
     "output_type": "stream",
     "text": [
      "Total dataset\n",
      "╒════════════════╤══════════╤════════════╤════════════════╤═══════════════╕\n",
      "│                │   Active │   Inactive │   Inconclusive │   Unspecified │\n",
      "╞════════════════╪══════════╪════════════╪════════════════╪═══════════════╡\n",
      "│ Number         │  59      │    71      │              0 │             0 │\n",
      "├────────────────┼──────────┼────────────┼────────────────┼───────────────┤\n",
      "│ Percentage (%) │  45.3846 │    54.6154 │              0 │             0 │\n",
      "╘════════════════╧══════════╧════════════╧════════════════╧═══════════════╛\n"
     ]
    }
   ],
   "source": [
    "check_activity_distribution(dataset=test_dataset, col_name='ACTIVITY')"
   ]
  },
  {
   "cell_type": "code",
   "execution_count": 67,
   "metadata": {},
   "outputs": [],
   "source": [
    "with pd.ExcelWriter(data_path+'HDAC2_train_test_clean_data.xlsx', engine='openpyxl') as writer:\n",
    "    train_dataset.to_excel(writer, sheet_name='train_dataset', index=False)\n",
    "    test_dataset.to_excel(writer, sheet_name='test_dataset', index=False)"
   ]
  },
  {
   "attachments": {},
   "cell_type": "markdown",
   "metadata": {},
   "source": [
    "## 6.2. Create unclean data"
   ]
  },
  {
   "cell_type": "code",
   "execution_count": 68,
   "metadata": {},
   "outputs": [
    {
     "data": {
      "text/plain": [
       "978"
      ]
     },
     "execution_count": 68,
     "metadata": {},
     "output_type": "execute_result"
    }
   ],
   "source": [
    "len(dataset_c)"
   ]
  },
  {
   "cell_type": "code",
   "execution_count": 69,
   "metadata": {},
   "outputs": [],
   "source": [
    "unclean_train_test_data = dataset_c.drop(['STT', 'FIRST_LABEL', 'DUPLICATE_COUNTS'], axis = 1)\n",
    "random_state = 1\n",
    "unclean_train_dataset, unclean_test_dataset = train_test_split(unclean_train_test_data, test_size=0.2, random_state=random_state)"
   ]
  },
  {
   "cell_type": "code",
   "execution_count": 70,
   "metadata": {},
   "outputs": [
    {
     "name": "stdout",
     "output_type": "stream",
     "text": [
      "Total dataset\n",
      "╒════════════════╤══════════╤════════════╤════════════════╤═══════════════╕\n",
      "│                │   Active │   Inactive │   Inconclusive │   Unspecified │\n",
      "╞════════════════╪══════════╪════════════╪════════════════╪═══════════════╡\n",
      "│ Number         │ 408      │   374      │              0 │             0 │\n",
      "├────────────────┼──────────┼────────────┼────────────────┼───────────────┤\n",
      "│ Percentage (%) │  52.1739 │    47.8261 │              0 │             0 │\n",
      "╘════════════════╧══════════╧════════════╧════════════════╧═══════════════╛\n"
     ]
    }
   ],
   "source": [
    "check_activity_distribution(unclean_train_dataset, 'ACTIVITY')"
   ]
  },
  {
   "cell_type": "code",
   "execution_count": 71,
   "metadata": {},
   "outputs": [
    {
     "name": "stdout",
     "output_type": "stream",
     "text": [
      "Total dataset\n",
      "╒════════════════╤══════════╤════════════╤════════════════╤═══════════════╕\n",
      "│                │   Active │   Inactive │   Inconclusive │   Unspecified │\n",
      "╞════════════════╪══════════╪════════════╪════════════════╪═══════════════╡\n",
      "│ Number         │  91      │   105      │              0 │             0 │\n",
      "├────────────────┼──────────┼────────────┼────────────────┼───────────────┤\n",
      "│ Percentage (%) │  46.4286 │    53.5714 │              0 │             0 │\n",
      "╘════════════════╧══════════╧════════════╧════════════════╧═══════════════╛\n"
     ]
    }
   ],
   "source": [
    "check_activity_distribution(unclean_test_dataset, 'ACTIVITY')"
   ]
  },
  {
   "cell_type": "code",
   "execution_count": 72,
   "metadata": {},
   "outputs": [],
   "source": [
    "with pd.ExcelWriter(data_path+'HDAC2_train_test_unclean_data.xlsx', engine='openpyxl') as writer:\n",
    "    unclean_train_dataset.to_excel(writer, sheet_name='train_dataset', index=False)\n",
    "    unclean_test_dataset.to_excel(writer, sheet_name='test_dataset', index=False)"
   ]
  }
 ],
 "metadata": {
  "kernelspec": {
   "display_name": "Python 3",
   "language": "python",
   "name": "python3"
  },
  "language_info": {
   "codemirror_mode": {
    "name": "ipython",
    "version": 3
   },
   "file_extension": ".py",
   "mimetype": "text/x-python",
   "name": "python",
   "nbconvert_exporter": "python",
   "pygments_lexer": "ipython3",
   "version": "3.11.3"
  },
  "orig_nbformat": 4
 },
 "nbformat": 4,
 "nbformat_minor": 2
}
