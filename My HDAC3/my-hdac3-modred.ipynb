{
 "cells": [
  {
   "attachments": {},
   "cell_type": "markdown",
   "metadata": {},
   "source": [
    "# 1. Nhập dữ liệu"
   ]
  },
  {
   "cell_type": "code",
   "execution_count": 1,
   "metadata": {},
   "outputs": [],
   "source": [
    "from rdkit.Chem import AllChem\n",
    "from rdkit import Chem\n",
    "from rdkit.Chem import Descriptors\n",
    "from rdkit.ML.Descriptors import MoleculeDescriptors\n",
    "\n",
    "import pandas as pd\n",
    "import numpy as np\n",
    "import matplotlib.pyplot as plt\n",
    "import seaborn as sns\n",
    "\n",
    "from mordred import Calculator, descriptors"
   ]
  },
  {
   "cell_type": "code",
   "execution_count": 2,
   "metadata": {},
   "outputs": [],
   "source": [
    "#Lấy luôn dữ liệu đã loc của tác giả\n",
    "test_dataset = pd.read_csv(\"data_for_modeling/HDAC3_test.csv\")\n",
    "train_dataset = pd.read_csv(\"data_for_modeling/HDAC3_train.csv\")"
   ]
  },
  {
   "attachments": {},
   "cell_type": "markdown",
   "metadata": {},
   "source": [
    "# 2. Xây dựng mô hình với Modred descriptors"
   ]
  },
  {
   "cell_type": "markdown",
   "metadata": {},
   "source": [
    "## 2.1. Tính toán mordred descriptors"
   ]
  },
  {
   "attachments": {},
   "cell_type": "markdown",
   "metadata": {},
   "source": [
    "__Mã hóa cấu trúc phân tử bằng Modred descriptors__"
   ]
  },
  {
   "cell_type": "code",
   "execution_count": 3,
   "metadata": {},
   "outputs": [],
   "source": [
    "def All_Mordred_descriptors(data):\n",
    "    calc = Calculator(descriptors, ignore_3D=True)\n",
    "    mols = [Chem.MolFromSmiles(smi) for smi in data]\n",
    "    # pandas df\n",
    "    df = calc.pandas(mols)\n",
    "    return df"
   ]
  },
  {
   "cell_type": "code",
   "execution_count": 4,
   "metadata": {},
   "outputs": [
    {
     "name": "stderr",
     "output_type": "stream",
     "text": [
      "100%|██████████| 1/1 [00:00<00:00,  7.94it/s]\n"
     ]
    }
   ],
   "source": [
    "calc = Calculator(descriptors, ignore_3D=True)\n",
    "mols = Chem.MolFromSmiles(\"Cc1csc(C(=O)NCCCCCC(=O)Nc2ccccc2N)n1\")\n",
    "b_des = calc.pandas([mols])\n",
    "b_des = pd.DataFrame(b_des)"
   ]
  },
  {
   "cell_type": "code",
   "execution_count": 5,
   "metadata": {},
   "outputs": [
    {
     "name": "stderr",
     "output_type": "stream",
     "text": [
      "100%|██████████| 790/790 [00:48<00:00, 16.26it/s]\n",
      "100%|██████████| 198/198 [00:12<00:00, 15.35it/s]\n"
     ]
    }
   ],
   "source": [
    "#Tìm các dữ liệu (2'18s) \n",
    "train_modred_descriptors = All_Mordred_descriptors(train_dataset['SMILES'])\n",
    "test_mordred_descriptors = All_Mordred_descriptors(test_dataset['SMILES'])"
   ]
  },
  {
   "cell_type": "code",
   "execution_count": 6,
   "metadata": {},
   "outputs": [],
   "source": [
    "train_modred_descriptors = pd.DataFrame(train_modred_descriptors)\n",
    "test_mordred_descriptors = pd.DataFrame(test_mordred_descriptors)"
   ]
  },
  {
   "attachments": {},
   "cell_type": "markdown",
   "metadata": {},
   "source": [
    "__Làm sạch dữ liệu__"
   ]
  },
  {
   "attachments": {},
   "cell_type": "markdown",
   "metadata": {},
   "source": [
    "- Do thuật toán mã hóa Modred không thể tìm được mọi features của SMILES nên sẽ có một số chỗ không phải là số thực mà là một object báo lỗi, ta sẽ loại bỏ tất cả object báo lỗi này.\n",
    "- Các dữ liệu sau khi xử lý có giá trị khác numpy.float64 và numpy.int64 thì cho bằng 0.\n",
    "- Toàn bộ dữ liệu ta xử lý đều là dữ liệu số, vì vậy ta sẽ đặt những object này với giá trị bằng 0."
   ]
  },
  {
   "cell_type": "code",
   "execution_count": 7,
   "metadata": {},
   "outputs": [],
   "source": [
    "train_np = np.array(train_modred_descriptors)\n",
    "test_np = np.array(test_mordred_descriptors)"
   ]
  },
  {
   "cell_type": "code",
   "execution_count": 8,
   "metadata": {},
   "outputs": [],
   "source": [
    "for (row, col), value in np.ndenumerate(train_np):\n",
    "    if not (value.__class__ in [int, float, np.float64, np.float32, np.int64, np.int32]):\n",
    "        train_np[row, col] = 0\n",
    "        \n",
    "for (row, col), value in np.ndenumerate(test_np):\n",
    "    if not (value.__class__ in [int, float, np.float64, np.float32, np.int64, np.int32]):\n",
    "        test_np[row, col] = 0"
   ]
  },
  {
   "attachments": {},
   "cell_type": "markdown",
   "metadata": {},
   "source": [
    "## 2.2 Tiền xử lý dữ liệu"
   ]
  },
  {
   "cell_type": "markdown",
   "metadata": {},
   "source": [
    "__Sử dụng Standard Scaler nhằm chuẩn hóa dữ liệu__"
   ]
  },
  {
   "cell_type": "code",
   "execution_count": 9,
   "metadata": {},
   "outputs": [
    {
     "data": {
      "text/html": [
       "<div>\n",
       "<style scoped>\n",
       "    .dataframe tbody tr th:only-of-type {\n",
       "        vertical-align: middle;\n",
       "    }\n",
       "\n",
       "    .dataframe tbody tr th {\n",
       "        vertical-align: top;\n",
       "    }\n",
       "\n",
       "    .dataframe thead th {\n",
       "        text-align: right;\n",
       "    }\n",
       "</style>\n",
       "<table border=\"1\" class=\"dataframe\">\n",
       "  <thead>\n",
       "    <tr style=\"text-align: right;\">\n",
       "      <th></th>\n",
       "      <th>ABC</th>\n",
       "      <th>ABCGG</th>\n",
       "      <th>nAcid</th>\n",
       "      <th>nBase</th>\n",
       "      <th>SpAbs_A</th>\n",
       "      <th>SpMax_A</th>\n",
       "      <th>SpDiam_A</th>\n",
       "      <th>SpAD_A</th>\n",
       "      <th>SpMAD_A</th>\n",
       "      <th>LogEE_A</th>\n",
       "      <th>...</th>\n",
       "      <th>SRW10</th>\n",
       "      <th>TSRW10</th>\n",
       "      <th>MW</th>\n",
       "      <th>AMW</th>\n",
       "      <th>WPath</th>\n",
       "      <th>WPol</th>\n",
       "      <th>Zagreb1</th>\n",
       "      <th>Zagreb2</th>\n",
       "      <th>mZagreb1</th>\n",
       "      <th>mZagreb2</th>\n",
       "    </tr>\n",
       "  </thead>\n",
       "  <tbody>\n",
       "    <tr>\n",
       "      <th>0</th>\n",
       "      <td>0</td>\n",
       "      <td>0</td>\n",
       "      <td>0</td>\n",
       "      <td>0</td>\n",
       "      <td>30.372796</td>\n",
       "      <td>2.288307</td>\n",
       "      <td>4.547917</td>\n",
       "      <td>30.372796</td>\n",
       "      <td>1.265533</td>\n",
       "      <td>4.071347</td>\n",
       "      <td>...</td>\n",
       "      <td>9.647369</td>\n",
       "      <td>71.029166</td>\n",
       "      <td>346.146347</td>\n",
       "      <td>7.524921</td>\n",
       "      <td>1791</td>\n",
       "      <td>29</td>\n",
       "      <td>114.0</td>\n",
       "      <td>126.0</td>\n",
       "      <td>8.166667</td>\n",
       "      <td>5.472222</td>\n",
       "    </tr>\n",
       "    <tr>\n",
       "      <th>1</th>\n",
       "      <td>0</td>\n",
       "      <td>0</td>\n",
       "      <td>0</td>\n",
       "      <td>0</td>\n",
       "      <td>29.379569</td>\n",
       "      <td>2.260153</td>\n",
       "      <td>4.519759</td>\n",
       "      <td>29.379569</td>\n",
       "      <td>1.277373</td>\n",
       "      <td>4.027848</td>\n",
       "      <td>...</td>\n",
       "      <td>9.561631</td>\n",
       "      <td>69.283258</td>\n",
       "      <td>314.174276</td>\n",
       "      <td>6.981651</td>\n",
       "      <td>1589</td>\n",
       "      <td>27</td>\n",
       "      <td>108.0</td>\n",
       "      <td>119.0</td>\n",
       "      <td>7.305556</td>\n",
       "      <td>5.305556</td>\n",
       "    </tr>\n",
       "    <tr>\n",
       "      <th>2</th>\n",
       "      <td>0</td>\n",
       "      <td>0</td>\n",
       "      <td>0</td>\n",
       "      <td>0</td>\n",
       "      <td>45.848446</td>\n",
       "      <td>2.412079</td>\n",
       "      <td>4.726466</td>\n",
       "      <td>45.848446</td>\n",
       "      <td>1.309956</td>\n",
       "      <td>4.473155</td>\n",
       "      <td>...</td>\n",
       "      <td>10.261756</td>\n",
       "      <td>84.973605</td>\n",
       "      <td>473.175084</td>\n",
       "      <td>8.019917</td>\n",
       "      <td>4291</td>\n",
       "      <td>50</td>\n",
       "      <td>178.0</td>\n",
       "      <td>204.0</td>\n",
       "      <td>10.361111</td>\n",
       "      <td>7.833333</td>\n",
       "    </tr>\n",
       "    <tr>\n",
       "      <th>3</th>\n",
       "      <td>0</td>\n",
       "      <td>0</td>\n",
       "      <td>0</td>\n",
       "      <td>0</td>\n",
       "      <td>34.997769</td>\n",
       "      <td>2.323458</td>\n",
       "      <td>4.646915</td>\n",
       "      <td>34.997769</td>\n",
       "      <td>1.24992</td>\n",
       "      <td>4.217938</td>\n",
       "      <td>...</td>\n",
       "      <td>9.866253</td>\n",
       "      <td>62.335649</td>\n",
       "      <td>391.170748</td>\n",
       "      <td>7.670015</td>\n",
       "      <td>2673</td>\n",
       "      <td>37</td>\n",
       "      <td>132.0</td>\n",
       "      <td>146.0</td>\n",
       "      <td>9.777778</td>\n",
       "      <td>6.416667</td>\n",
       "    </tr>\n",
       "    <tr>\n",
       "      <th>4</th>\n",
       "      <td>0</td>\n",
       "      <td>0</td>\n",
       "      <td>0</td>\n",
       "      <td>0</td>\n",
       "      <td>29.52991</td>\n",
       "      <td>2.378769</td>\n",
       "      <td>4.757538</td>\n",
       "      <td>29.52991</td>\n",
       "      <td>1.283909</td>\n",
       "      <td>4.026593</td>\n",
       "      <td>...</td>\n",
       "      <td>9.693939</td>\n",
       "      <td>56.377852</td>\n",
       "      <td>331.135448</td>\n",
       "      <td>7.525806</td>\n",
       "      <td>1508</td>\n",
       "      <td>30</td>\n",
       "      <td>108.0</td>\n",
       "      <td>120.0</td>\n",
       "      <td>7.305556</td>\n",
       "      <td>5.388889</td>\n",
       "    </tr>\n",
       "  </tbody>\n",
       "</table>\n",
       "<p>5 rows × 1613 columns</p>\n",
       "</div>"
      ],
      "text/plain": [
       "  ABC ABCGG nAcid nBase    SpAbs_A   SpMax_A  SpDiam_A     SpAD_A   SpMAD_A   \n",
       "0   0     0     0     0  30.372796  2.288307  4.547917  30.372796  1.265533  \\\n",
       "1   0     0     0     0  29.379569  2.260153  4.519759  29.379569  1.277373   \n",
       "2   0     0     0     0  45.848446  2.412079  4.726466  45.848446  1.309956   \n",
       "3   0     0     0     0  34.997769  2.323458  4.646915  34.997769   1.24992   \n",
       "4   0     0     0     0   29.52991  2.378769  4.757538   29.52991  1.283909   \n",
       "\n",
       "    LogEE_A  ...      SRW10     TSRW10          MW       AMW WPath WPol   \n",
       "0  4.071347  ...   9.647369  71.029166  346.146347  7.524921  1791   29  \\\n",
       "1  4.027848  ...   9.561631  69.283258  314.174276  6.981651  1589   27   \n",
       "2  4.473155  ...  10.261756  84.973605  473.175084  8.019917  4291   50   \n",
       "3  4.217938  ...   9.866253  62.335649  391.170748  7.670015  2673   37   \n",
       "4  4.026593  ...   9.693939  56.377852  331.135448  7.525806  1508   30   \n",
       "\n",
       "  Zagreb1 Zagreb2   mZagreb1  mZagreb2  \n",
       "0   114.0   126.0   8.166667  5.472222  \n",
       "1   108.0   119.0   7.305556  5.305556  \n",
       "2   178.0   204.0  10.361111  7.833333  \n",
       "3   132.0   146.0   9.777778  6.416667  \n",
       "4   108.0   120.0   7.305556  5.388889  \n",
       "\n",
       "[5 rows x 1613 columns]"
      ]
     },
     "execution_count": 9,
     "metadata": {},
     "output_type": "execute_result"
    }
   ],
   "source": [
    "train_modred_descriptors = pd.DataFrame(train_np, columns=train_modred_descriptors.columns)\n",
    "train_modred_descriptors.head()"
   ]
  },
  {
   "cell_type": "code",
   "execution_count": 10,
   "metadata": {},
   "outputs": [
    {
     "data": {
      "text/html": [
       "<div>\n",
       "<style scoped>\n",
       "    .dataframe tbody tr th:only-of-type {\n",
       "        vertical-align: middle;\n",
       "    }\n",
       "\n",
       "    .dataframe tbody tr th {\n",
       "        vertical-align: top;\n",
       "    }\n",
       "\n",
       "    .dataframe thead th {\n",
       "        text-align: right;\n",
       "    }\n",
       "</style>\n",
       "<table border=\"1\" class=\"dataframe\">\n",
       "  <thead>\n",
       "    <tr style=\"text-align: right;\">\n",
       "      <th></th>\n",
       "      <th>ABC</th>\n",
       "      <th>ABCGG</th>\n",
       "      <th>nAcid</th>\n",
       "      <th>nBase</th>\n",
       "      <th>SpAbs_A</th>\n",
       "      <th>SpMax_A</th>\n",
       "      <th>SpDiam_A</th>\n",
       "      <th>SpAD_A</th>\n",
       "      <th>SpMAD_A</th>\n",
       "      <th>LogEE_A</th>\n",
       "      <th>...</th>\n",
       "      <th>SRW10</th>\n",
       "      <th>TSRW10</th>\n",
       "      <th>MW</th>\n",
       "      <th>AMW</th>\n",
       "      <th>WPath</th>\n",
       "      <th>WPol</th>\n",
       "      <th>Zagreb1</th>\n",
       "      <th>Zagreb2</th>\n",
       "      <th>mZagreb1</th>\n",
       "      <th>mZagreb2</th>\n",
       "    </tr>\n",
       "  </thead>\n",
       "  <tbody>\n",
       "    <tr>\n",
       "      <th>0</th>\n",
       "      <td>0</td>\n",
       "      <td>0</td>\n",
       "      <td>0</td>\n",
       "      <td>0</td>\n",
       "      <td>42.843236</td>\n",
       "      <td>2.413914</td>\n",
       "      <td>4.761085</td>\n",
       "      <td>42.843236</td>\n",
       "      <td>1.260095</td>\n",
       "      <td>4.431422</td>\n",
       "      <td>...</td>\n",
       "      <td>10.22205</td>\n",
       "      <td>83.400511</td>\n",
       "      <td>475.183124</td>\n",
       "      <td>8.192812</td>\n",
       "      <td>4544</td>\n",
       "      <td>47</td>\n",
       "      <td>170.0</td>\n",
       "      <td>192.0</td>\n",
       "      <td>11.701389</td>\n",
       "      <td>7.555556</td>\n",
       "    </tr>\n",
       "    <tr>\n",
       "      <th>1</th>\n",
       "      <td>0</td>\n",
       "      <td>0</td>\n",
       "      <td>0</td>\n",
       "      <td>0</td>\n",
       "      <td>43.895167</td>\n",
       "      <td>2.417453</td>\n",
       "      <td>4.755385</td>\n",
       "      <td>43.895167</td>\n",
       "      <td>1.291034</td>\n",
       "      <td>4.426338</td>\n",
       "      <td>...</td>\n",
       "      <td>10.147335</td>\n",
       "      <td>83.176405</td>\n",
       "      <td>467.216869</td>\n",
       "      <td>7.416141</td>\n",
       "      <td>4431</td>\n",
       "      <td>47</td>\n",
       "      <td>166.0</td>\n",
       "      <td>188.0</td>\n",
       "      <td>11.0</td>\n",
       "      <td>7.888889</td>\n",
       "    </tr>\n",
       "    <tr>\n",
       "      <th>2</th>\n",
       "      <td>0</td>\n",
       "      <td>0</td>\n",
       "      <td>0</td>\n",
       "      <td>0</td>\n",
       "      <td>39.879848</td>\n",
       "      <td>2.400346</td>\n",
       "      <td>4.707452</td>\n",
       "      <td>39.879848</td>\n",
       "      <td>1.286447</td>\n",
       "      <td>4.337973</td>\n",
       "      <td>...</td>\n",
       "      <td>10.022026</td>\n",
       "      <td>79.673267</td>\n",
       "      <td>533.092388</td>\n",
       "      <td>9.692589</td>\n",
       "      <td>3509</td>\n",
       "      <td>41</td>\n",
       "      <td>152.0</td>\n",
       "      <td>171.0</td>\n",
       "      <td>9.638889</td>\n",
       "      <td>7.055556</td>\n",
       "    </tr>\n",
       "    <tr>\n",
       "      <th>3</th>\n",
       "      <td>0</td>\n",
       "      <td>0</td>\n",
       "      <td>0</td>\n",
       "      <td>0</td>\n",
       "      <td>22.373669</td>\n",
       "      <td>2.232086</td>\n",
       "      <td>4.464173</td>\n",
       "      <td>22.373669</td>\n",
       "      <td>1.242982</td>\n",
       "      <td>3.759201</td>\n",
       "      <td>...</td>\n",
       "      <td>9.163982</td>\n",
       "      <td>49.484848</td>\n",
       "      <td>250.131742</td>\n",
       "      <td>6.948104</td>\n",
       "      <td>775</td>\n",
       "      <td>20</td>\n",
       "      <td>80.0</td>\n",
       "      <td>85.0</td>\n",
       "      <td>6.944444</td>\n",
       "      <td>4.25</td>\n",
       "    </tr>\n",
       "    <tr>\n",
       "      <th>4</th>\n",
       "      <td>0</td>\n",
       "      <td>0</td>\n",
       "      <td>0</td>\n",
       "      <td>0</td>\n",
       "      <td>23.703253</td>\n",
       "      <td>2.245947</td>\n",
       "      <td>4.491894</td>\n",
       "      <td>23.703253</td>\n",
       "      <td>1.24754</td>\n",
       "      <td>3.811176</td>\n",
       "      <td>...</td>\n",
       "      <td>9.229064</td>\n",
       "      <td>50.757434</td>\n",
       "      <td>264.147393</td>\n",
       "      <td>6.77301</td>\n",
       "      <td>908</td>\n",
       "      <td>22</td>\n",
       "      <td>84.0</td>\n",
       "      <td>90.0</td>\n",
       "      <td>7.194444</td>\n",
       "      <td>4.583333</td>\n",
       "    </tr>\n",
       "    <tr>\n",
       "      <th>...</th>\n",
       "      <td>...</td>\n",
       "      <td>...</td>\n",
       "      <td>...</td>\n",
       "      <td>...</td>\n",
       "      <td>...</td>\n",
       "      <td>...</td>\n",
       "      <td>...</td>\n",
       "      <td>...</td>\n",
       "      <td>...</td>\n",
       "      <td>...</td>\n",
       "      <td>...</td>\n",
       "      <td>...</td>\n",
       "      <td>...</td>\n",
       "      <td>...</td>\n",
       "      <td>...</td>\n",
       "      <td>...</td>\n",
       "      <td>...</td>\n",
       "      <td>...</td>\n",
       "      <td>...</td>\n",
       "      <td>...</td>\n",
       "      <td>...</td>\n",
       "    </tr>\n",
       "    <tr>\n",
       "      <th>193</th>\n",
       "      <td>0</td>\n",
       "      <td>0</td>\n",
       "      <td>0</td>\n",
       "      <td>0</td>\n",
       "      <td>31.03436</td>\n",
       "      <td>2.348971</td>\n",
       "      <td>4.697942</td>\n",
       "      <td>31.03436</td>\n",
       "      <td>1.293098</td>\n",
       "      <td>4.06626</td>\n",
       "      <td>...</td>\n",
       "      <td>9.657011</td>\n",
       "      <td>57.429883</td>\n",
       "      <td>327.158292</td>\n",
       "      <td>7.270184</td>\n",
       "      <td>1804</td>\n",
       "      <td>30</td>\n",
       "      <td>112.0</td>\n",
       "      <td>123.0</td>\n",
       "      <td>7.555556</td>\n",
       "      <td>5.611111</td>\n",
       "    </tr>\n",
       "    <tr>\n",
       "      <th>194</th>\n",
       "      <td>0</td>\n",
       "      <td>0</td>\n",
       "      <td>0</td>\n",
       "      <td>0</td>\n",
       "      <td>40.179769</td>\n",
       "      <td>2.398892</td>\n",
       "      <td>4.732494</td>\n",
       "      <td>40.179769</td>\n",
       "      <td>1.296122</td>\n",
       "      <td>4.335185</td>\n",
       "      <td>...</td>\n",
       "      <td>9.976134</td>\n",
       "      <td>79.516538</td>\n",
       "      <td>421.21139</td>\n",
       "      <td>7.262265</td>\n",
       "      <td>3424</td>\n",
       "      <td>40</td>\n",
       "      <td>150.0</td>\n",
       "      <td>168.0</td>\n",
       "      <td>9.027778</td>\n",
       "      <td>7.138889</td>\n",
       "    </tr>\n",
       "    <tr>\n",
       "      <th>195</th>\n",
       "      <td>0</td>\n",
       "      <td>0</td>\n",
       "      <td>0</td>\n",
       "      <td>0</td>\n",
       "      <td>27.6996</td>\n",
       "      <td>2.421535</td>\n",
       "      <td>4.705859</td>\n",
       "      <td>27.6996</td>\n",
       "      <td>1.259073</td>\n",
       "      <td>4.032933</td>\n",
       "      <td>...</td>\n",
       "      <td>9.916354</td>\n",
       "      <td>72.764506</td>\n",
       "      <td>343.990104</td>\n",
       "      <td>11.861728</td>\n",
       "      <td>1169</td>\n",
       "      <td>28</td>\n",
       "      <td>118.0</td>\n",
       "      <td>137.0</td>\n",
       "      <td>7.479167</td>\n",
       "      <td>4.638889</td>\n",
       "    </tr>\n",
       "    <tr>\n",
       "      <th>196</th>\n",
       "      <td>0</td>\n",
       "      <td>0</td>\n",
       "      <td>0</td>\n",
       "      <td>2</td>\n",
       "      <td>42.699322</td>\n",
       "      <td>2.410355</td>\n",
       "      <td>4.78081</td>\n",
       "      <td>42.699322</td>\n",
       "      <td>1.334354</td>\n",
       "      <td>4.414372</td>\n",
       "      <td>...</td>\n",
       "      <td>10.389088</td>\n",
       "      <td>83.587562</td>\n",
       "      <td>446.214033</td>\n",
       "      <td>7.197001</td>\n",
       "      <td>3521</td>\n",
       "      <td>48</td>\n",
       "      <td>174.0</td>\n",
       "      <td>205.0</td>\n",
       "      <td>8.201389</td>\n",
       "      <td>6.916667</td>\n",
       "    </tr>\n",
       "    <tr>\n",
       "      <th>197</th>\n",
       "      <td>0</td>\n",
       "      <td>0</td>\n",
       "      <td>0</td>\n",
       "      <td>0</td>\n",
       "      <td>42.253222</td>\n",
       "      <td>2.523981</td>\n",
       "      <td>4.917029</td>\n",
       "      <td>42.253222</td>\n",
       "      <td>1.320413</td>\n",
       "      <td>4.393915</td>\n",
       "      <td>...</td>\n",
       "      <td>10.385945</td>\n",
       "      <td>84.033619</td>\n",
       "      <td>435.215806</td>\n",
       "      <td>7.134685</td>\n",
       "      <td>2977</td>\n",
       "      <td>52</td>\n",
       "      <td>166.0</td>\n",
       "      <td>199.0</td>\n",
       "      <td>9.611111</td>\n",
       "      <td>7.388889</td>\n",
       "    </tr>\n",
       "  </tbody>\n",
       "</table>\n",
       "<p>198 rows × 1613 columns</p>\n",
       "</div>"
      ],
      "text/plain": [
       "    ABC ABCGG nAcid nBase    SpAbs_A   SpMax_A  SpDiam_A     SpAD_A   SpMAD_A   \n",
       "0     0     0     0     0  42.843236  2.413914  4.761085  42.843236  1.260095  \\\n",
       "1     0     0     0     0  43.895167  2.417453  4.755385  43.895167  1.291034   \n",
       "2     0     0     0     0  39.879848  2.400346  4.707452  39.879848  1.286447   \n",
       "3     0     0     0     0  22.373669  2.232086  4.464173  22.373669  1.242982   \n",
       "4     0     0     0     0  23.703253  2.245947  4.491894  23.703253   1.24754   \n",
       "..   ..   ...   ...   ...        ...       ...       ...        ...       ...   \n",
       "193   0     0     0     0   31.03436  2.348971  4.697942   31.03436  1.293098   \n",
       "194   0     0     0     0  40.179769  2.398892  4.732494  40.179769  1.296122   \n",
       "195   0     0     0     0    27.6996  2.421535  4.705859    27.6996  1.259073   \n",
       "196   0     0     0     2  42.699322  2.410355   4.78081  42.699322  1.334354   \n",
       "197   0     0     0     0  42.253222  2.523981  4.917029  42.253222  1.320413   \n",
       "\n",
       "      LogEE_A  ...      SRW10     TSRW10          MW        AMW WPath WPol   \n",
       "0    4.431422  ...   10.22205  83.400511  475.183124   8.192812  4544   47  \\\n",
       "1    4.426338  ...  10.147335  83.176405  467.216869   7.416141  4431   47   \n",
       "2    4.337973  ...  10.022026  79.673267  533.092388   9.692589  3509   41   \n",
       "3    3.759201  ...   9.163982  49.484848  250.131742   6.948104   775   20   \n",
       "4    3.811176  ...   9.229064  50.757434  264.147393    6.77301   908   22   \n",
       "..        ...  ...        ...        ...         ...        ...   ...  ...   \n",
       "193   4.06626  ...   9.657011  57.429883  327.158292   7.270184  1804   30   \n",
       "194  4.335185  ...   9.976134  79.516538   421.21139   7.262265  3424   40   \n",
       "195  4.032933  ...   9.916354  72.764506  343.990104  11.861728  1169   28   \n",
       "196  4.414372  ...  10.389088  83.587562  446.214033   7.197001  3521   48   \n",
       "197  4.393915  ...  10.385945  84.033619  435.215806   7.134685  2977   52   \n",
       "\n",
       "    Zagreb1 Zagreb2   mZagreb1  mZagreb2  \n",
       "0     170.0   192.0  11.701389  7.555556  \n",
       "1     166.0   188.0       11.0  7.888889  \n",
       "2     152.0   171.0   9.638889  7.055556  \n",
       "3      80.0    85.0   6.944444      4.25  \n",
       "4      84.0    90.0   7.194444  4.583333  \n",
       "..      ...     ...        ...       ...  \n",
       "193   112.0   123.0   7.555556  5.611111  \n",
       "194   150.0   168.0   9.027778  7.138889  \n",
       "195   118.0   137.0   7.479167  4.638889  \n",
       "196   174.0   205.0   8.201389  6.916667  \n",
       "197   166.0   199.0   9.611111  7.388889  \n",
       "\n",
       "[198 rows x 1613 columns]"
      ]
     },
     "execution_count": 10,
     "metadata": {},
     "output_type": "execute_result"
    }
   ],
   "source": [
    "test_mordred_descriptors = pd.DataFrame(test_np, columns=test_mordred_descriptors.columns)\n",
    "test_mordred_descriptors"
   ]
  },
  {
   "attachments": {},
   "cell_type": "markdown",
   "metadata": {},
   "source": [
    "__Ứng dụng Features selection với hàm selectKBest để chọn ra 27 features có ảnh hưởng nhất__\n",
    "- 27 là số features mà tác giả tìm ra sau khi lọc"
   ]
  },
  {
   "cell_type": "code",
   "execution_count": 11,
   "metadata": {},
   "outputs": [],
   "source": [
    "y_Train_des = np.array(train_dataset['Type'])\n",
    "y_Test_des = np.array(test_dataset['Type'])"
   ]
  },
  {
   "attachments": {},
   "cell_type": "markdown",
   "metadata": {},
   "source": [
    "__Sử dụng Variance Threshold nhằm loại bỏ các features có low variance__"
   ]
  },
  {
   "attachments": {},
   "cell_type": "markdown",
   "metadata": {},
   "source": [
    "- Tác giả có nói về việc sử dụng Pearson CC và Recursive features elimination để thực hiện việc lọc features. \n",
    "- Với Recursive features elimination, phần quan trọng nhất là thuật toán để kiểm tra và số lượng Features còn lại sau kiểm tra thì tác giả không nói rõ cho lắm.\n",
    "- Tác giả có ý là \"Following features/descriptors calculation, the descriptors\n",
    "with all the values equal to null or zero, or with all the values less than 0.05, were removed.\" giá trị mà tác giả nhắc đến ở đây là giá trị p-values.\n",
    "- Ở đây có thể tác giả dùng Backward Elimination trước rồi mới dùng Recursive features elimination và sau khi dùng 2 phương pháp đó, tác giả có 27 features cuối cùng có ảnh hưởng lớn nhất.\n",
    "- Thay vì đó, em dùng thẳng Recursive Features Elimination luôn với đầu vào là 27 features và thuật toán để lọc là SVC (support vector classifier)."
   ]
  },
  {
   "attachments": {},
   "cell_type": "markdown",
   "metadata": {},
   "source": [
    "__Tập dữ liệu đầu vào X của tác giả__"
   ]
  },
  {
   "cell_type": "code",
   "execution_count": 12,
   "metadata": {},
   "outputs": [
    {
     "data": {
      "text/html": [
       "<div>\n",
       "<style scoped>\n",
       "    .dataframe tbody tr th:only-of-type {\n",
       "        vertical-align: middle;\n",
       "    }\n",
       "\n",
       "    .dataframe tbody tr th {\n",
       "        vertical-align: top;\n",
       "    }\n",
       "\n",
       "    .dataframe thead th {\n",
       "        text-align: right;\n",
       "    }\n",
       "</style>\n",
       "<table border=\"1\" class=\"dataframe\">\n",
       "  <thead>\n",
       "    <tr style=\"text-align: right;\">\n",
       "      <th></th>\n",
       "      <th>Xc-4dv</th>\n",
       "      <th>MATS4s</th>\n",
       "      <th>GATS1dv</th>\n",
       "      <th>SdssC</th>\n",
       "      <th>BCUTd-1h</th>\n",
       "      <th>GATS1s</th>\n",
       "      <th>GATS1are</th>\n",
       "      <th>AATSC3d</th>\n",
       "      <th>PEOE_VSA2</th>\n",
       "      <th>AATS4v</th>\n",
       "      <th>...</th>\n",
       "      <th>RotRatio</th>\n",
       "      <th>SsNH2</th>\n",
       "      <th>ETA_epsilon_5</th>\n",
       "      <th>SlogP_VSA2</th>\n",
       "      <th>MID_N</th>\n",
       "      <th>EState_VSA5</th>\n",
       "      <th>Xc-5dv</th>\n",
       "      <th>JGI5</th>\n",
       "      <th>GATS5pe</th>\n",
       "      <th>AATSC4d</th>\n",
       "    </tr>\n",
       "  </thead>\n",
       "  <tbody>\n",
       "    <tr>\n",
       "      <th>0</th>\n",
       "      <td>0.0</td>\n",
       "      <td>-0.052057</td>\n",
       "      <td>0.535400</td>\n",
       "      <td>-0.180007</td>\n",
       "      <td>3.177880</td>\n",
       "      <td>0.654108</td>\n",
       "      <td>0.828395</td>\n",
       "      <td>-0.027503</td>\n",
       "      <td>9.589074</td>\n",
       "      <td>152.658120</td>\n",
       "      <td>...</td>\n",
       "      <td>0.320000</td>\n",
       "      <td>5.781840</td>\n",
       "      <td>0.764286</td>\n",
       "      <td>23.343094</td>\n",
       "      <td>7.774896</td>\n",
       "      <td>11.336786</td>\n",
       "      <td>0.052007</td>\n",
       "      <td>0.015857</td>\n",
       "      <td>1.245788</td>\n",
       "      <td>-0.076949</td>\n",
       "    </tr>\n",
       "    <tr>\n",
       "      <th>1</th>\n",
       "      <td>0.0</td>\n",
       "      <td>-0.112439</td>\n",
       "      <td>0.579525</td>\n",
       "      <td>-0.147577</td>\n",
       "      <td>3.177784</td>\n",
       "      <td>0.643966</td>\n",
       "      <td>0.888751</td>\n",
       "      <td>-0.044991</td>\n",
       "      <td>9.589074</td>\n",
       "      <td>147.468189</td>\n",
       "      <td>...</td>\n",
       "      <td>0.333333</td>\n",
       "      <td>5.774247</td>\n",
       "      <td>0.740476</td>\n",
       "      <td>23.343094</td>\n",
       "      <td>7.773338</td>\n",
       "      <td>0.000000</td>\n",
       "      <td>0.038788</td>\n",
       "      <td>0.014722</td>\n",
       "      <td>1.258845</td>\n",
       "      <td>-0.044691</td>\n",
       "    </tr>\n",
       "    <tr>\n",
       "      <th>2</th>\n",
       "      <td>0.0</td>\n",
       "      <td>-0.117329</td>\n",
       "      <td>0.570133</td>\n",
       "      <td>-0.941267</td>\n",
       "      <td>3.240544</td>\n",
       "      <td>0.608689</td>\n",
       "      <td>0.681752</td>\n",
       "      <td>-0.064739</td>\n",
       "      <td>14.796327</td>\n",
       "      <td>177.943807</td>\n",
       "      <td>...</td>\n",
       "      <td>0.236842</td>\n",
       "      <td>0.000000</td>\n",
       "      <td>0.796947</td>\n",
       "      <td>34.654314</td>\n",
       "      <td>5.950304</td>\n",
       "      <td>35.821585</td>\n",
       "      <td>0.067306</td>\n",
       "      <td>0.022102</td>\n",
       "      <td>0.771847</td>\n",
       "      <td>-0.022081</td>\n",
       "    </tr>\n",
       "    <tr>\n",
       "      <th>3</th>\n",
       "      <td>0.0</td>\n",
       "      <td>-0.019351</td>\n",
       "      <td>0.491297</td>\n",
       "      <td>-0.603188</td>\n",
       "      <td>3.205761</td>\n",
       "      <td>0.611490</td>\n",
       "      <td>0.667880</td>\n",
       "      <td>-0.027892</td>\n",
       "      <td>9.589074</td>\n",
       "      <td>163.950162</td>\n",
       "      <td>...</td>\n",
       "      <td>0.344828</td>\n",
       "      <td>5.771268</td>\n",
       "      <td>0.829018</td>\n",
       "      <td>24.970621</td>\n",
       "      <td>5.785050</td>\n",
       "      <td>18.199101</td>\n",
       "      <td>0.055798</td>\n",
       "      <td>0.021886</td>\n",
       "      <td>1.083923</td>\n",
       "      <td>-0.065241</td>\n",
       "    </tr>\n",
       "    <tr>\n",
       "      <th>4</th>\n",
       "      <td>0.0</td>\n",
       "      <td>-0.080804</td>\n",
       "      <td>0.498483</td>\n",
       "      <td>-0.072149</td>\n",
       "      <td>3.239290</td>\n",
       "      <td>0.520989</td>\n",
       "      <td>0.724921</td>\n",
       "      <td>0.021639</td>\n",
       "      <td>14.573053</td>\n",
       "      <td>162.150826</td>\n",
       "      <td>...</td>\n",
       "      <td>0.333333</td>\n",
       "      <td>0.000000</td>\n",
       "      <td>0.769231</td>\n",
       "      <td>29.095948</td>\n",
       "      <td>6.051658</td>\n",
       "      <td>0.000000</td>\n",
       "      <td>0.034771</td>\n",
       "      <td>0.018720</td>\n",
       "      <td>1.140079</td>\n",
       "      <td>-0.033385</td>\n",
       "    </tr>\n",
       "  </tbody>\n",
       "</table>\n",
       "<p>5 rows × 27 columns</p>\n",
       "</div>"
      ],
      "text/plain": [
       "   Xc-4dv    MATS4s   GATS1dv     SdssC  BCUTd-1h    GATS1s  GATS1are   \n",
       "0     0.0 -0.052057  0.535400 -0.180007  3.177880  0.654108  0.828395  \\\n",
       "1     0.0 -0.112439  0.579525 -0.147577  3.177784  0.643966  0.888751   \n",
       "2     0.0 -0.117329  0.570133 -0.941267  3.240544  0.608689  0.681752   \n",
       "3     0.0 -0.019351  0.491297 -0.603188  3.205761  0.611490  0.667880   \n",
       "4     0.0 -0.080804  0.498483 -0.072149  3.239290  0.520989  0.724921   \n",
       "\n",
       "    AATSC3d  PEOE_VSA2      AATS4v  ...  RotRatio     SsNH2  ETA_epsilon_5   \n",
       "0 -0.027503   9.589074  152.658120  ...  0.320000  5.781840       0.764286  \\\n",
       "1 -0.044991   9.589074  147.468189  ...  0.333333  5.774247       0.740476   \n",
       "2 -0.064739  14.796327  177.943807  ...  0.236842  0.000000       0.796947   \n",
       "3 -0.027892   9.589074  163.950162  ...  0.344828  5.771268       0.829018   \n",
       "4  0.021639  14.573053  162.150826  ...  0.333333  0.000000       0.769231   \n",
       "\n",
       "   SlogP_VSA2     MID_N  EState_VSA5    Xc-5dv      JGI5   GATS5pe   AATSC4d  \n",
       "0   23.343094  7.774896    11.336786  0.052007  0.015857  1.245788 -0.076949  \n",
       "1   23.343094  7.773338     0.000000  0.038788  0.014722  1.258845 -0.044691  \n",
       "2   34.654314  5.950304    35.821585  0.067306  0.022102  0.771847 -0.022081  \n",
       "3   24.970621  5.785050    18.199101  0.055798  0.021886  1.083923 -0.065241  \n",
       "4   29.095948  6.051658     0.000000  0.034771  0.018720  1.140079 -0.033385  \n",
       "\n",
       "[5 rows x 27 columns]"
      ]
     },
     "execution_count": 12,
     "metadata": {},
     "output_type": "execute_result"
    }
   ],
   "source": [
    "authors_features = ['Xc-4dv', 'MATS4s', 'GATS1dv', 'SdssC', 'BCUTd-1h', 'GATS1s', 'GATS1are', 'AATSC3d'\n",
    "                    , 'PEOE_VSA2', 'AATS4v', 'AATS4Z', 'GATS3d', 'MATS3m', 'AXp-5dv', 'EState_VSA4',\n",
    "                    'ETA_eta_L', 'ATSC5m', 'RotRatio', 'SsNH2', 'ETA_epsilon_5', 'SlogP_VSA2',\n",
    "                    'MID_N', 'EState_VSA5', 'Xc-5dv', 'JGI5', 'GATS5pe', 'AATSC4d']\n",
    "X_Train_author = pd.DataFrame()\n",
    "for feature in authors_features:\n",
    "    X_Train_author[feature] = train_modred_descriptors[feature]\n",
    "X_Train_author = X_Train_author.astype(float)\n",
    "X_Train_author.head()"
   ]
  },
  {
   "cell_type": "code",
   "execution_count": 13,
   "metadata": {},
   "outputs": [],
   "source": [
    "X_Train_author.to_csv(\"data_for_modeling/x_train_author.csv\")"
   ]
  },
  {
   "cell_type": "code",
   "execution_count": 14,
   "metadata": {},
   "outputs": [
    {
     "data": {
      "text/html": [
       "<div>\n",
       "<style scoped>\n",
       "    .dataframe tbody tr th:only-of-type {\n",
       "        vertical-align: middle;\n",
       "    }\n",
       "\n",
       "    .dataframe tbody tr th {\n",
       "        vertical-align: top;\n",
       "    }\n",
       "\n",
       "    .dataframe thead th {\n",
       "        text-align: right;\n",
       "    }\n",
       "</style>\n",
       "<table border=\"1\" class=\"dataframe\">\n",
       "  <thead>\n",
       "    <tr style=\"text-align: right;\">\n",
       "      <th></th>\n",
       "      <th>Xc-4dv</th>\n",
       "      <th>MATS4s</th>\n",
       "      <th>GATS1dv</th>\n",
       "      <th>SdssC</th>\n",
       "      <th>BCUTd-1h</th>\n",
       "      <th>GATS1s</th>\n",
       "      <th>GATS1are</th>\n",
       "      <th>AATSC3d</th>\n",
       "      <th>PEOE_VSA2</th>\n",
       "      <th>AATS4v</th>\n",
       "      <th>...</th>\n",
       "      <th>RotRatio</th>\n",
       "      <th>SsNH2</th>\n",
       "      <th>ETA_epsilon_5</th>\n",
       "      <th>SlogP_VSA2</th>\n",
       "      <th>MID_N</th>\n",
       "      <th>EState_VSA5</th>\n",
       "      <th>Xc-5dv</th>\n",
       "      <th>JGI5</th>\n",
       "      <th>GATS5pe</th>\n",
       "      <th>AATSC4d</th>\n",
       "    </tr>\n",
       "  </thead>\n",
       "  <tbody>\n",
       "    <tr>\n",
       "      <th>0</th>\n",
       "      <td>0.013499</td>\n",
       "      <td>-0.083916</td>\n",
       "      <td>0.410369</td>\n",
       "      <td>-0.559558</td>\n",
       "      <td>4.022113</td>\n",
       "      <td>0.593454</td>\n",
       "      <td>0.563236</td>\n",
       "      <td>0.008050</td>\n",
       "      <td>14.796327</td>\n",
       "      <td>168.766654</td>\n",
       "      <td>...</td>\n",
       "      <td>0.277778</td>\n",
       "      <td>0.0</td>\n",
       "      <td>0.874131</td>\n",
       "      <td>32.015482</td>\n",
       "      <td>10.237427</td>\n",
       "      <td>16.814537</td>\n",
       "      <td>0.076476</td>\n",
       "      <td>0.027521</td>\n",
       "      <td>1.024323</td>\n",
       "      <td>0.047708</td>\n",
       "    </tr>\n",
       "    <tr>\n",
       "      <th>1</th>\n",
       "      <td>0.000000</td>\n",
       "      <td>-0.076596</td>\n",
       "      <td>0.578619</td>\n",
       "      <td>-0.488424</td>\n",
       "      <td>3.159998</td>\n",
       "      <td>0.757642</td>\n",
       "      <td>0.769347</td>\n",
       "      <td>0.046683</td>\n",
       "      <td>14.796327</td>\n",
       "      <td>164.754716</td>\n",
       "      <td>...</td>\n",
       "      <td>0.333333</td>\n",
       "      <td>0.0</td>\n",
       "      <td>0.798291</td>\n",
       "      <td>42.228537</td>\n",
       "      <td>10.243573</td>\n",
       "      <td>0.000000</td>\n",
       "      <td>0.040762</td>\n",
       "      <td>0.021377</td>\n",
       "      <td>1.012374</td>\n",
       "      <td>0.004987</td>\n",
       "    </tr>\n",
       "    <tr>\n",
       "      <th>2</th>\n",
       "      <td>0.000000</td>\n",
       "      <td>-0.069403</td>\n",
       "      <td>0.519489</td>\n",
       "      <td>-0.426858</td>\n",
       "      <td>3.157040</td>\n",
       "      <td>0.599495</td>\n",
       "      <td>0.646809</td>\n",
       "      <td>0.033570</td>\n",
       "      <td>14.796327</td>\n",
       "      <td>171.253682</td>\n",
       "      <td>...</td>\n",
       "      <td>0.303030</td>\n",
       "      <td>0.0</td>\n",
       "      <td>0.784034</td>\n",
       "      <td>32.015482</td>\n",
       "      <td>10.230525</td>\n",
       "      <td>0.000000</td>\n",
       "      <td>0.040762</td>\n",
       "      <td>0.023063</td>\n",
       "      <td>1.181877</td>\n",
       "      <td>0.040606</td>\n",
       "    </tr>\n",
       "    <tr>\n",
       "      <th>3</th>\n",
       "      <td>0.000000</td>\n",
       "      <td>-0.101899</td>\n",
       "      <td>0.551676</td>\n",
       "      <td>-0.488701</td>\n",
       "      <td>3.063907</td>\n",
       "      <td>0.632254</td>\n",
       "      <td>0.717525</td>\n",
       "      <td>-0.025000</td>\n",
       "      <td>14.796327</td>\n",
       "      <td>137.148882</td>\n",
       "      <td>...</td>\n",
       "      <td>0.333333</td>\n",
       "      <td>0.0</td>\n",
       "      <td>0.790476</td>\n",
       "      <td>17.021612</td>\n",
       "      <td>3.858575</td>\n",
       "      <td>0.000000</td>\n",
       "      <td>0.000000</td>\n",
       "      <td>0.015278</td>\n",
       "      <td>1.183343</td>\n",
       "      <td>-0.012500</td>\n",
       "    </tr>\n",
       "    <tr>\n",
       "      <th>4</th>\n",
       "      <td>0.000000</td>\n",
       "      <td>-0.109545</td>\n",
       "      <td>0.544393</td>\n",
       "      <td>-0.482206</td>\n",
       "      <td>3.064908</td>\n",
       "      <td>0.627388</td>\n",
       "      <td>0.717298</td>\n",
       "      <td>-0.029726</td>\n",
       "      <td>14.796327</td>\n",
       "      <td>144.711588</td>\n",
       "      <td>...</td>\n",
       "      <td>0.368421</td>\n",
       "      <td>0.0</td>\n",
       "      <td>0.786364</td>\n",
       "      <td>17.021612</td>\n",
       "      <td>3.862657</td>\n",
       "      <td>5.563451</td>\n",
       "      <td>0.000000</td>\n",
       "      <td>0.018229</td>\n",
       "      <td>1.099493</td>\n",
       "      <td>-0.023539</td>\n",
       "    </tr>\n",
       "  </tbody>\n",
       "</table>\n",
       "<p>5 rows × 27 columns</p>\n",
       "</div>"
      ],
      "text/plain": [
       "     Xc-4dv    MATS4s   GATS1dv     SdssC  BCUTd-1h    GATS1s  GATS1are   \n",
       "0  0.013499 -0.083916  0.410369 -0.559558  4.022113  0.593454  0.563236  \\\n",
       "1  0.000000 -0.076596  0.578619 -0.488424  3.159998  0.757642  0.769347   \n",
       "2  0.000000 -0.069403  0.519489 -0.426858  3.157040  0.599495  0.646809   \n",
       "3  0.000000 -0.101899  0.551676 -0.488701  3.063907  0.632254  0.717525   \n",
       "4  0.000000 -0.109545  0.544393 -0.482206  3.064908  0.627388  0.717298   \n",
       "\n",
       "    AATSC3d  PEOE_VSA2      AATS4v  ...  RotRatio  SsNH2  ETA_epsilon_5   \n",
       "0  0.008050  14.796327  168.766654  ...  0.277778    0.0       0.874131  \\\n",
       "1  0.046683  14.796327  164.754716  ...  0.333333    0.0       0.798291   \n",
       "2  0.033570  14.796327  171.253682  ...  0.303030    0.0       0.784034   \n",
       "3 -0.025000  14.796327  137.148882  ...  0.333333    0.0       0.790476   \n",
       "4 -0.029726  14.796327  144.711588  ...  0.368421    0.0       0.786364   \n",
       "\n",
       "   SlogP_VSA2      MID_N  EState_VSA5    Xc-5dv      JGI5   GATS5pe   AATSC4d  \n",
       "0   32.015482  10.237427    16.814537  0.076476  0.027521  1.024323  0.047708  \n",
       "1   42.228537  10.243573     0.000000  0.040762  0.021377  1.012374  0.004987  \n",
       "2   32.015482  10.230525     0.000000  0.040762  0.023063  1.181877  0.040606  \n",
       "3   17.021612   3.858575     0.000000  0.000000  0.015278  1.183343 -0.012500  \n",
       "4   17.021612   3.862657     5.563451  0.000000  0.018229  1.099493 -0.023539  \n",
       "\n",
       "[5 rows x 27 columns]"
      ]
     },
     "execution_count": 14,
     "metadata": {},
     "output_type": "execute_result"
    }
   ],
   "source": [
    "X_Test_author_des = pd.DataFrame()\n",
    "for feature in X_Train_author.columns:\n",
    "    X_Test_author_des[feature] = test_mordred_descriptors[feature]\n",
    "X_Test_author_des = X_Test_author_des.astype(float)\n",
    "X_Test_author_des.head()"
   ]
  },
  {
   "cell_type": "code",
   "execution_count": 15,
   "metadata": {},
   "outputs": [],
   "source": [
    "from sklearn.preprocessing import StandardScaler\n",
    "sc = StandardScaler()\n",
    "X_train_np = sc.fit_transform(X_Train_author)\n",
    "X_test_np = sc.transform(X_Test_author_des)\n",
    "X_Train_author = pd.DataFrame(X_train_np, columns = X_Train_author.columns)\n",
    "X_Test_author_des = pd.DataFrame(X_test_np, columns = X_Train_author.columns)"
   ]
  },
  {
   "cell_type": "code",
   "execution_count": 16,
   "metadata": {},
   "outputs": [
    {
     "data": {
      "text/plain": [
       "<Axes: >"
      ]
     },
     "execution_count": 16,
     "metadata": {},
     "output_type": "execute_result"
    },
    {
     "data": {
      "image/png": "[encoded data removed]",
      "text/plain": [
       "<Figure size 640x480 with 2 Axes>"
      ]
     },
     "metadata": {},
     "output_type": "display_data"
    }
   ],
   "source": [
    "sns.heatmap(X_Train_author.corr())"
   ]
  },
  {
   "cell_type": "code",
   "execution_count": 17,
   "metadata": {},
   "outputs": [
    {
     "data": {
      "text/plain": [
       "(790, 27)"
      ]
     },
     "execution_count": 17,
     "metadata": {},
     "output_type": "execute_result"
    }
   ],
   "source": [
    "X_Train_author.shape"
   ]
  },
  {
   "cell_type": "code",
   "execution_count": 18,
   "metadata": {},
   "outputs": [
    {
     "data": {
      "text/plain": [
       "(790,)"
      ]
     },
     "execution_count": 18,
     "metadata": {},
     "output_type": "execute_result"
    }
   ],
   "source": [
    "y_Train_des.shape"
   ]
  },
  {
   "cell_type": "code",
   "execution_count": 19,
   "metadata": {},
   "outputs": [
    {
     "data": {
      "text/plain": [
       "Index(['Xc-4dv', 'MATS4s', 'GATS1dv', 'SdssC', 'BCUTd-1h', 'GATS1s',\n",
       "       'GATS1are', 'AATSC3d', 'PEOE_VSA2', 'AATS4v', 'AATS4Z', 'GATS3d',\n",
       "       'MATS3m', 'AXp-5dv', 'EState_VSA4', 'ETA_eta_L', 'ATSC5m', 'RotRatio',\n",
       "       'SsNH2', 'ETA_epsilon_5', 'SlogP_VSA2', 'MID_N', 'EState_VSA5',\n",
       "       'Xc-5dv', 'JGI5', 'GATS5pe', 'AATSC4d'],\n",
       "      dtype='object')"
      ]
     },
     "execution_count": 19,
     "metadata": {},
     "output_type": "execute_result"
    }
   ],
   "source": [
    "X_Train_author.columns"
   ]
  },
  {
   "attachments": {},
   "cell_type": "markdown",
   "metadata": {},
   "source": [
    "## 2.3. Xây dựng mô hình"
   ]
  },
  {
   "attachments": {},
   "cell_type": "markdown",
   "metadata": {},
   "source": [
    "- Có 5 mô hình cần được xây dựng đó là Random Forest, K-nearest neighbors, SVM, XGBoost và Deep Neural Network. Nhưng vì chưa học đến phần Deep Learning, nên em tạm thời bỏ qua DNN.\n",
    "- Các đặt tên của các mô hình sau sẽ là <tên mô hình>_<cách mã hóa>\n",
    "- VD: rf_des, XGBoost_morgan2, ..."
   ]
  },
  {
   "attachments": {},
   "cell_type": "markdown",
   "metadata": {},
   "source": [
    "#### Random Forest Classifier"
   ]
  },
  {
   "cell_type": "code",
   "execution_count": 20,
   "metadata": {},
   "outputs": [
    {
     "data": {
      "text/html": [
       "<style>#sk-container-id-1 {color: black;background-color: white;}#sk-container-id-1 pre{padding: 0;}#sk-container-id-1 div.sk-toggleable {background-color: white;}#sk-container-id-1 label.sk-toggleable__label {cursor: pointer;display: block;width: 100%;margin-bottom: 0;padding: 0.3em;box-sizing: border-box;text-align: center;}#sk-container-id-1 label.sk-toggleable__label-arrow:before {content: \"▸\";float: left;margin-right: 0.25em;color: #696969;}#sk-container-id-1 label.sk-toggleable__label-arrow:hover:before {color: black;}#sk-container-id-1 div.sk-estimator:hover label.sk-toggleable__label-arrow:before {color: black;}#sk-container-id-1 div.sk-toggleable__content {max-height: 0;max-width: 0;overflow: hidden;text-align: left;background-color: #f0f8ff;}#sk-container-id-1 div.sk-toggleable__content pre {margin: 0.2em;color: black;border-radius: 0.25em;background-color: #f0f8ff;}#sk-container-id-1 input.sk-toggleable__control:checked~div.sk-toggleable__content {max-height: 200px;max-width: 100%;overflow: auto;}#sk-container-id-1 input.sk-toggleable__control:checked~label.sk-toggleable__label-arrow:before {content: \"▾\";}#sk-container-id-1 div.sk-estimator input.sk-toggleable__control:checked~label.sk-toggleable__label {background-color: #d4ebff;}#sk-container-id-1 div.sk-label input.sk-toggleable__control:checked~label.sk-toggleable__label {background-color: #d4ebff;}#sk-container-id-1 input.sk-hidden--visually {border: 0;clip: rect(1px 1px 1px 1px);clip: rect(1px, 1px, 1px, 1px);height: 1px;margin: -1px;overflow: hidden;padding: 0;position: absolute;width: 1px;}#sk-container-id-1 div.sk-estimator {font-family: monospace;background-color: #f0f8ff;border: 1px dotted black;border-radius: 0.25em;box-sizing: border-box;margin-bottom: 0.5em;}#sk-container-id-1 div.sk-estimator:hover {background-color: #d4ebff;}#sk-container-id-1 div.sk-parallel-item::after {content: \"\";width: 100%;border-bottom: 1px solid gray;flex-grow: 1;}#sk-container-id-1 div.sk-label:hover label.sk-toggleable__label {background-color: #d4ebff;}#sk-container-id-1 div.sk-serial::before {content: \"\";position: absolute;border-left: 1px solid gray;box-sizing: border-box;top: 0;bottom: 0;left: 50%;z-index: 0;}#sk-container-id-1 div.sk-serial {display: flex;flex-direction: column;align-items: center;background-color: white;padding-right: 0.2em;padding-left: 0.2em;position: relative;}#sk-container-id-1 div.sk-item {position: relative;z-index: 1;}#sk-container-id-1 div.sk-parallel {display: flex;align-items: stretch;justify-content: center;background-color: white;position: relative;}#sk-container-id-1 div.sk-item::before, #sk-container-id-1 div.sk-parallel-item::before {content: \"\";position: absolute;border-left: 1px solid gray;box-sizing: border-box;top: 0;bottom: 0;left: 50%;z-index: -1;}#sk-container-id-1 div.sk-parallel-item {display: flex;flex-direction: column;z-index: 1;position: relative;background-color: white;}#sk-container-id-1 div.sk-parallel-item:first-child::after {align-self: flex-end;width: 50%;}#sk-container-id-1 div.sk-parallel-item:last-child::after {align-self: flex-start;width: 50%;}#sk-container-id-1 div.sk-parallel-item:only-child::after {width: 0;}#sk-container-id-1 div.sk-dashed-wrapped {border: 1px dashed gray;margin: 0 0.4em 0.5em 0.4em;box-sizing: border-box;padding-bottom: 0.4em;background-color: white;}#sk-container-id-1 div.sk-label label {font-family: monospace;font-weight: bold;display: inline-block;line-height: 1.2em;}#sk-container-id-1 div.sk-label-container {text-align: center;}#sk-container-id-1 div.sk-container {/* jupyter's `normalize.less` sets `[hidden] { display: none; }` but bootstrap.min.css set `[hidden] { display: none !important; }` so we also need the `!important` here to be able to override the default hidden behavior on the sphinx rendered scikit-learn.org. See: https://github.com/scikit-learn/scikit-learn/issues/21755 */display: inline-block !important;position: relative;}#sk-container-id-1 div.sk-text-repr-fallback {display: none;}</style><div id=\"sk-container-id-1\" class=\"sk-top-container\"><div class=\"sk-text-repr-fallback\"><pre>RandomForestClassifier(criterion=&#x27;entropy&#x27;, random_state=0)</pre><b>In a Jupyter environment, please rerun this cell to show the HTML representation or trust the notebook. <br />On GitHub, the HTML representation is unable to render, please try loading this page with nbviewer.org.</b></div><div class=\"sk-container\" hidden><div class=\"sk-item\"><div class=\"sk-estimator sk-toggleable\"><input class=\"sk-toggleable__control sk-hidden--visually\" id=\"sk-estimator-id-1\" type=\"checkbox\" checked><label for=\"sk-estimator-id-1\" class=\"sk-toggleable__label sk-toggleable__label-arrow\">RandomForestClassifier</label><div class=\"sk-toggleable__content\"><pre>RandomForestClassifier(criterion=&#x27;entropy&#x27;, random_state=0)</pre></div></div></div></div></div>"
      ],
      "text/plain": [
       "RandomForestClassifier(criterion='entropy', random_state=0)"
      ]
     },
     "execution_count": 20,
     "metadata": {},
     "output_type": "execute_result"
    }
   ],
   "source": [
    "from sklearn.ensemble import RandomForestClassifier\n",
    "rf_des_author = RandomForestClassifier(n_estimators=100, criterion='entropy', random_state=0)\n",
    "rf_des_author.fit(X_Train_author, y_Train_des.reshape(len(y_Train_des)))"
   ]
  },
  {
   "attachments": {},
   "cell_type": "markdown",
   "metadata": {},
   "source": [
    "#### K-nearest neighbors"
   ]
  },
  {
   "cell_type": "code",
   "execution_count": 21,
   "metadata": {},
   "outputs": [
    {
     "data": {
      "text/html": [
       "<style>#sk-container-id-2 {color: black;background-color: white;}#sk-container-id-2 pre{padding: 0;}#sk-container-id-2 div.sk-toggleable {background-color: white;}#sk-container-id-2 label.sk-toggleable__label {cursor: pointer;display: block;width: 100%;margin-bottom: 0;padding: 0.3em;box-sizing: border-box;text-align: center;}#sk-container-id-2 label.sk-toggleable__label-arrow:before {content: \"▸\";float: left;margin-right: 0.25em;color: #696969;}#sk-container-id-2 label.sk-toggleable__label-arrow:hover:before {color: black;}#sk-container-id-2 div.sk-estimator:hover label.sk-toggleable__label-arrow:before {color: black;}#sk-container-id-2 div.sk-toggleable__content {max-height: 0;max-width: 0;overflow: hidden;text-align: left;background-color: #f0f8ff;}#sk-container-id-2 div.sk-toggleable__content pre {margin: 0.2em;color: black;border-radius: 0.25em;background-color: #f0f8ff;}#sk-container-id-2 input.sk-toggleable__control:checked~div.sk-toggleable__content {max-height: 200px;max-width: 100%;overflow: auto;}#sk-container-id-2 input.sk-toggleable__control:checked~label.sk-toggleable__label-arrow:before {content: \"▾\";}#sk-container-id-2 div.sk-estimator input.sk-toggleable__control:checked~label.sk-toggleable__label {background-color: #d4ebff;}#sk-container-id-2 div.sk-label input.sk-toggleable__control:checked~label.sk-toggleable__label {background-color: #d4ebff;}#sk-container-id-2 input.sk-hidden--visually {border: 0;clip: rect(1px 1px 1px 1px);clip: rect(1px, 1px, 1px, 1px);height: 1px;margin: -1px;overflow: hidden;padding: 0;position: absolute;width: 1px;}#sk-container-id-2 div.sk-estimator {font-family: monospace;background-color: #f0f8ff;border: 1px dotted black;border-radius: 0.25em;box-sizing: border-box;margin-bottom: 0.5em;}#sk-container-id-2 div.sk-estimator:hover {background-color: #d4ebff;}#sk-container-id-2 div.sk-parallel-item::after {content: \"\";width: 100%;border-bottom: 1px solid gray;flex-grow: 1;}#sk-container-id-2 div.sk-label:hover label.sk-toggleable__label {background-color: #d4ebff;}#sk-container-id-2 div.sk-serial::before {content: \"\";position: absolute;border-left: 1px solid gray;box-sizing: border-box;top: 0;bottom: 0;left: 50%;z-index: 0;}#sk-container-id-2 div.sk-serial {display: flex;flex-direction: column;align-items: center;background-color: white;padding-right: 0.2em;padding-left: 0.2em;position: relative;}#sk-container-id-2 div.sk-item {position: relative;z-index: 1;}#sk-container-id-2 div.sk-parallel {display: flex;align-items: stretch;justify-content: center;background-color: white;position: relative;}#sk-container-id-2 div.sk-item::before, #sk-container-id-2 div.sk-parallel-item::before {content: \"\";position: absolute;border-left: 1px solid gray;box-sizing: border-box;top: 0;bottom: 0;left: 50%;z-index: -1;}#sk-container-id-2 div.sk-parallel-item {display: flex;flex-direction: column;z-index: 1;position: relative;background-color: white;}#sk-container-id-2 div.sk-parallel-item:first-child::after {align-self: flex-end;width: 50%;}#sk-container-id-2 div.sk-parallel-item:last-child::after {align-self: flex-start;width: 50%;}#sk-container-id-2 div.sk-parallel-item:only-child::after {width: 0;}#sk-container-id-2 div.sk-dashed-wrapped {border: 1px dashed gray;margin: 0 0.4em 0.5em 0.4em;box-sizing: border-box;padding-bottom: 0.4em;background-color: white;}#sk-container-id-2 div.sk-label label {font-family: monospace;font-weight: bold;display: inline-block;line-height: 1.2em;}#sk-container-id-2 div.sk-label-container {text-align: center;}#sk-container-id-2 div.sk-container {/* jupyter's `normalize.less` sets `[hidden] { display: none; }` but bootstrap.min.css set `[hidden] { display: none !important; }` so we also need the `!important` here to be able to override the default hidden behavior on the sphinx rendered scikit-learn.org. See: https://github.com/scikit-learn/scikit-learn/issues/21755 */display: inline-block !important;position: relative;}#sk-container-id-2 div.sk-text-repr-fallback {display: none;}</style><div id=\"sk-container-id-2\" class=\"sk-top-container\"><div class=\"sk-text-repr-fallback\"><pre>KNeighborsClassifier()</pre><b>In a Jupyter environment, please rerun this cell to show the HTML representation or trust the notebook. <br />On GitHub, the HTML representation is unable to render, please try loading this page with nbviewer.org.</b></div><div class=\"sk-container\" hidden><div class=\"sk-item\"><div class=\"sk-estimator sk-toggleable\"><input class=\"sk-toggleable__control sk-hidden--visually\" id=\"sk-estimator-id-2\" type=\"checkbox\" checked><label for=\"sk-estimator-id-2\" class=\"sk-toggleable__label sk-toggleable__label-arrow\">KNeighborsClassifier</label><div class=\"sk-toggleable__content\"><pre>KNeighborsClassifier()</pre></div></div></div></div></div>"
      ],
      "text/plain": [
       "KNeighborsClassifier()"
      ]
     },
     "execution_count": 21,
     "metadata": {},
     "output_type": "execute_result"
    }
   ],
   "source": [
    "from sklearn.neighbors import KNeighborsClassifier\n",
    "knn_des_author = KNeighborsClassifier(n_neighbors=5, metric='minkowski', p=2)\n",
    "knn_des_author.fit(X_Train_author, y_Train_des.reshape(len(y_Train_des)))"
   ]
  },
  {
   "attachments": {},
   "cell_type": "markdown",
   "metadata": {},
   "source": [
    "#### Support Vector Machine"
   ]
  },
  {
   "cell_type": "code",
   "execution_count": 22,
   "metadata": {},
   "outputs": [
    {
     "data": {
      "text/html": [
       "<style>#sk-container-id-3 {color: black;background-color: white;}#sk-container-id-3 pre{padding: 0;}#sk-container-id-3 div.sk-toggleable {background-color: white;}#sk-container-id-3 label.sk-toggleable__label {cursor: pointer;display: block;width: 100%;margin-bottom: 0;padding: 0.3em;box-sizing: border-box;text-align: center;}#sk-container-id-3 label.sk-toggleable__label-arrow:before {content: \"▸\";float: left;margin-right: 0.25em;color: #696969;}#sk-container-id-3 label.sk-toggleable__label-arrow:hover:before {color: black;}#sk-container-id-3 div.sk-estimator:hover label.sk-toggleable__label-arrow:before {color: black;}#sk-container-id-3 div.sk-toggleable__content {max-height: 0;max-width: 0;overflow: hidden;text-align: left;background-color: #f0f8ff;}#sk-container-id-3 div.sk-toggleable__content pre {margin: 0.2em;color: black;border-radius: 0.25em;background-color: #f0f8ff;}#sk-container-id-3 input.sk-toggleable__control:checked~div.sk-toggleable__content {max-height: 200px;max-width: 100%;overflow: auto;}#sk-container-id-3 input.sk-toggleable__control:checked~label.sk-toggleable__label-arrow:before {content: \"▾\";}#sk-container-id-3 div.sk-estimator input.sk-toggleable__control:checked~label.sk-toggleable__label {background-color: #d4ebff;}#sk-container-id-3 div.sk-label input.sk-toggleable__control:checked~label.sk-toggleable__label {background-color: #d4ebff;}#sk-container-id-3 input.sk-hidden--visually {border: 0;clip: rect(1px 1px 1px 1px);clip: rect(1px, 1px, 1px, 1px);height: 1px;margin: -1px;overflow: hidden;padding: 0;position: absolute;width: 1px;}#sk-container-id-3 div.sk-estimator {font-family: monospace;background-color: #f0f8ff;border: 1px dotted black;border-radius: 0.25em;box-sizing: border-box;margin-bottom: 0.5em;}#sk-container-id-3 div.sk-estimator:hover {background-color: #d4ebff;}#sk-container-id-3 div.sk-parallel-item::after {content: \"\";width: 100%;border-bottom: 1px solid gray;flex-grow: 1;}#sk-container-id-3 div.sk-label:hover label.sk-toggleable__label {background-color: #d4ebff;}#sk-container-id-3 div.sk-serial::before {content: \"\";position: absolute;border-left: 1px solid gray;box-sizing: border-box;top: 0;bottom: 0;left: 50%;z-index: 0;}#sk-container-id-3 div.sk-serial {display: flex;flex-direction: column;align-items: center;background-color: white;padding-right: 0.2em;padding-left: 0.2em;position: relative;}#sk-container-id-3 div.sk-item {position: relative;z-index: 1;}#sk-container-id-3 div.sk-parallel {display: flex;align-items: stretch;justify-content: center;background-color: white;position: relative;}#sk-container-id-3 div.sk-item::before, #sk-container-id-3 div.sk-parallel-item::before {content: \"\";position: absolute;border-left: 1px solid gray;box-sizing: border-box;top: 0;bottom: 0;left: 50%;z-index: -1;}#sk-container-id-3 div.sk-parallel-item {display: flex;flex-direction: column;z-index: 1;position: relative;background-color: white;}#sk-container-id-3 div.sk-parallel-item:first-child::after {align-self: flex-end;width: 50%;}#sk-container-id-3 div.sk-parallel-item:last-child::after {align-self: flex-start;width: 50%;}#sk-container-id-3 div.sk-parallel-item:only-child::after {width: 0;}#sk-container-id-3 div.sk-dashed-wrapped {border: 1px dashed gray;margin: 0 0.4em 0.5em 0.4em;box-sizing: border-box;padding-bottom: 0.4em;background-color: white;}#sk-container-id-3 div.sk-label label {font-family: monospace;font-weight: bold;display: inline-block;line-height: 1.2em;}#sk-container-id-3 div.sk-label-container {text-align: center;}#sk-container-id-3 div.sk-container {/* jupyter's `normalize.less` sets `[hidden] { display: none; }` but bootstrap.min.css set `[hidden] { display: none !important; }` so we also need the `!important` here to be able to override the default hidden behavior on the sphinx rendered scikit-learn.org. See: https://github.com/scikit-learn/scikit-learn/issues/21755 */display: inline-block !important;position: relative;}#sk-container-id-3 div.sk-text-repr-fallback {display: none;}</style><div id=\"sk-container-id-3\" class=\"sk-top-container\"><div class=\"sk-text-repr-fallback\"><pre>SVC(random_state=0)</pre><b>In a Jupyter environment, please rerun this cell to show the HTML representation or trust the notebook. <br />On GitHub, the HTML representation is unable to render, please try loading this page with nbviewer.org.</b></div><div class=\"sk-container\" hidden><div class=\"sk-item\"><div class=\"sk-estimator sk-toggleable\"><input class=\"sk-toggleable__control sk-hidden--visually\" id=\"sk-estimator-id-3\" type=\"checkbox\" checked><label for=\"sk-estimator-id-3\" class=\"sk-toggleable__label sk-toggleable__label-arrow\">SVC</label><div class=\"sk-toggleable__content\"><pre>SVC(random_state=0)</pre></div></div></div></div></div>"
      ],
      "text/plain": [
       "SVC(random_state=0)"
      ]
     },
     "execution_count": 22,
     "metadata": {},
     "output_type": "execute_result"
    }
   ],
   "source": [
    "from sklearn.svm import SVC\n",
    "svm_des_author = SVC(kernel='rbf', random_state=0)\n",
    "svm_des_author.fit(X_Train_author, y_Train_des)"
   ]
  },
  {
   "attachments": {},
   "cell_type": "markdown",
   "metadata": {},
   "source": [
    "#### XGBoost"
   ]
  },
  {
   "cell_type": "code",
   "execution_count": 23,
   "metadata": {},
   "outputs": [
    {
     "data": {
      "text/html": [
       "<style>#sk-container-id-4 {color: black;background-color: white;}#sk-container-id-4 pre{padding: 0;}#sk-container-id-4 div.sk-toggleable {background-color: white;}#sk-container-id-4 label.sk-toggleable__label {cursor: pointer;display: block;width: 100%;margin-bottom: 0;padding: 0.3em;box-sizing: border-box;text-align: center;}#sk-container-id-4 label.sk-toggleable__label-arrow:before {content: \"▸\";float: left;margin-right: 0.25em;color: #696969;}#sk-container-id-4 label.sk-toggleable__label-arrow:hover:before {color: black;}#sk-container-id-4 div.sk-estimator:hover label.sk-toggleable__label-arrow:before {color: black;}#sk-container-id-4 div.sk-toggleable__content {max-height: 0;max-width: 0;overflow: hidden;text-align: left;background-color: #f0f8ff;}#sk-container-id-4 div.sk-toggleable__content pre {margin: 0.2em;color: black;border-radius: 0.25em;background-color: #f0f8ff;}#sk-container-id-4 input.sk-toggleable__control:checked~div.sk-toggleable__content {max-height: 200px;max-width: 100%;overflow: auto;}#sk-container-id-4 input.sk-toggleable__control:checked~label.sk-toggleable__label-arrow:before {content: \"▾\";}#sk-container-id-4 div.sk-estimator input.sk-toggleable__control:checked~label.sk-toggleable__label {background-color: #d4ebff;}#sk-container-id-4 div.sk-label input.sk-toggleable__control:checked~label.sk-toggleable__label {background-color: #d4ebff;}#sk-container-id-4 input.sk-hidden--visually {border: 0;clip: rect(1px 1px 1px 1px);clip: rect(1px, 1px, 1px, 1px);height: 1px;margin: -1px;overflow: hidden;padding: 0;position: absolute;width: 1px;}#sk-container-id-4 div.sk-estimator {font-family: monospace;background-color: #f0f8ff;border: 1px dotted black;border-radius: 0.25em;box-sizing: border-box;margin-bottom: 0.5em;}#sk-container-id-4 div.sk-estimator:hover {background-color: #d4ebff;}#sk-container-id-4 div.sk-parallel-item::after {content: \"\";width: 100%;border-bottom: 1px solid gray;flex-grow: 1;}#sk-container-id-4 div.sk-label:hover label.sk-toggleable__label {background-color: #d4ebff;}#sk-container-id-4 div.sk-serial::before {content: \"\";position: absolute;border-left: 1px solid gray;box-sizing: border-box;top: 0;bottom: 0;left: 50%;z-index: 0;}#sk-container-id-4 div.sk-serial {display: flex;flex-direction: column;align-items: center;background-color: white;padding-right: 0.2em;padding-left: 0.2em;position: relative;}#sk-container-id-4 div.sk-item {position: relative;z-index: 1;}#sk-container-id-4 div.sk-parallel {display: flex;align-items: stretch;justify-content: center;background-color: white;position: relative;}#sk-container-id-4 div.sk-item::before, #sk-container-id-4 div.sk-parallel-item::before {content: \"\";position: absolute;border-left: 1px solid gray;box-sizing: border-box;top: 0;bottom: 0;left: 50%;z-index: -1;}#sk-container-id-4 div.sk-parallel-item {display: flex;flex-direction: column;z-index: 1;position: relative;background-color: white;}#sk-container-id-4 div.sk-parallel-item:first-child::after {align-self: flex-end;width: 50%;}#sk-container-id-4 div.sk-parallel-item:last-child::after {align-self: flex-start;width: 50%;}#sk-container-id-4 div.sk-parallel-item:only-child::after {width: 0;}#sk-container-id-4 div.sk-dashed-wrapped {border: 1px dashed gray;margin: 0 0.4em 0.5em 0.4em;box-sizing: border-box;padding-bottom: 0.4em;background-color: white;}#sk-container-id-4 div.sk-label label {font-family: monospace;font-weight: bold;display: inline-block;line-height: 1.2em;}#sk-container-id-4 div.sk-label-container {text-align: center;}#sk-container-id-4 div.sk-container {/* jupyter's `normalize.less` sets `[hidden] { display: none; }` but bootstrap.min.css set `[hidden] { display: none !important; }` so we also need the `!important` here to be able to override the default hidden behavior on the sphinx rendered scikit-learn.org. See: https://github.com/scikit-learn/scikit-learn/issues/21755 */display: inline-block !important;position: relative;}#sk-container-id-4 div.sk-text-repr-fallback {display: none;}</style><div id=\"sk-container-id-4\" class=\"sk-top-container\"><div class=\"sk-text-repr-fallback\"><pre>XGBClassifier(base_score=None, booster=None, callbacks=None,\n",
       "              colsample_bylevel=None, colsample_bynode=None,\n",
       "              colsample_bytree=None, early_stopping_rounds=None,\n",
       "              enable_categorical=False, eval_metric=None, feature_types=None,\n",
       "              gamma=None, gpu_id=None, grow_policy=None, importance_type=None,\n",
       "              interaction_constraints=None, learning_rate=None, max_bin=None,\n",
       "              max_cat_threshold=None, max_cat_to_onehot=None,\n",
       "              max_delta_step=None, max_depth=None, max_leaves=None,\n",
       "              min_child_weight=None, missing=nan, monotone_constraints=None,\n",
       "              n_estimators=100, n_jobs=None, num_parallel_tree=None,\n",
       "              predictor=None, random_state=None, ...)</pre><b>In a Jupyter environment, please rerun this cell to show the HTML representation or trust the notebook. <br />On GitHub, the HTML representation is unable to render, please try loading this page with nbviewer.org.</b></div><div class=\"sk-container\" hidden><div class=\"sk-item\"><div class=\"sk-estimator sk-toggleable\"><input class=\"sk-toggleable__control sk-hidden--visually\" id=\"sk-estimator-id-4\" type=\"checkbox\" checked><label for=\"sk-estimator-id-4\" class=\"sk-toggleable__label sk-toggleable__label-arrow\">XGBClassifier</label><div class=\"sk-toggleable__content\"><pre>XGBClassifier(base_score=None, booster=None, callbacks=None,\n",
       "              colsample_bylevel=None, colsample_bynode=None,\n",
       "              colsample_bytree=None, early_stopping_rounds=None,\n",
       "              enable_categorical=False, eval_metric=None, feature_types=None,\n",
       "              gamma=None, gpu_id=None, grow_policy=None, importance_type=None,\n",
       "              interaction_constraints=None, learning_rate=None, max_bin=None,\n",
       "              max_cat_threshold=None, max_cat_to_onehot=None,\n",
       "              max_delta_step=None, max_depth=None, max_leaves=None,\n",
       "              min_child_weight=None, missing=nan, monotone_constraints=None,\n",
       "              n_estimators=100, n_jobs=None, num_parallel_tree=None,\n",
       "              predictor=None, random_state=None, ...)</pre></div></div></div></div></div>"
      ],
      "text/plain": [
       "XGBClassifier(base_score=None, booster=None, callbacks=None,\n",
       "              colsample_bylevel=None, colsample_bynode=None,\n",
       "              colsample_bytree=None, early_stopping_rounds=None,\n",
       "              enable_categorical=False, eval_metric=None, feature_types=None,\n",
       "              gamma=None, gpu_id=None, grow_policy=None, importance_type=None,\n",
       "              interaction_constraints=None, learning_rate=None, max_bin=None,\n",
       "              max_cat_threshold=None, max_cat_to_onehot=None,\n",
       "              max_delta_step=None, max_depth=None, max_leaves=None,\n",
       "              min_child_weight=None, missing=nan, monotone_constraints=None,\n",
       "              n_estimators=100, n_jobs=None, num_parallel_tree=None,\n",
       "              predictor=None, random_state=None, ...)"
      ]
     },
     "execution_count": 23,
     "metadata": {},
     "output_type": "execute_result"
    }
   ],
   "source": [
    "from xgboost import XGBClassifier\n",
    "bst_des_author = XGBClassifier(n_estimators=100, objective='binary:logistic')\n",
    "bst_des_author.fit(X_Train_author, y_Train_des)"
   ]
  },
  {
   "attachments": {},
   "cell_type": "markdown",
   "metadata": {},
   "source": [
    "# 3. Đánh giá mô hình"
   ]
  },
  {
   "attachments": {},
   "cell_type": "markdown",
   "metadata": {},
   "source": [
    "### 10-fold-cross validation"
   ]
  },
  {
   "cell_type": "code",
   "execution_count": 24,
   "metadata": {},
   "outputs": [],
   "source": [
    "from sklearn.model_selection import cross_val_score\n",
    "from sklearn.model_selection import KFold"
   ]
  },
  {
   "cell_type": "code",
   "execution_count": 25,
   "metadata": {},
   "outputs": [],
   "source": [
    "X_Total = np.concatenate((X_Train_author, X_Test_author_des), axis=0)\n",
    "y_Total = np.concatenate((y_Train_des, y_Test_des), axis=0)"
   ]
  },
  {
   "cell_type": "code",
   "execution_count": 26,
   "metadata": {},
   "outputs": [
    {
     "name": "stdout",
     "output_type": "stream",
     "text": [
      "Độ chính xác của 10-fold cross validation: 0.831 (0.029)\n",
      "So sánh với độ chính xác của bài báo là: 0.833\n",
      "Độ chính xác của 10-fold cross validation: 0.830 (0.031)\n",
      "So sánh với độ chính xác của bài báo là: 0.847\n",
      "Độ chính xác của 10-fold cross validation: 0.843 (0.034)\n",
      "So sánh với độ chính xác của bài báo là: 0.857\n",
      "Độ chính xác của 10-fold cross validation: 0.838 (0.029)\n",
      "So sánh với độ chính xác của bài báo là: 0.822\n"
     ]
    }
   ],
   "source": [
    "cv = KFold(n_splits=10, random_state=1, shuffle=True)\n",
    "\n",
    "scores = cross_val_score(knn_des_author, X_Total, y_Total, scoring='accuracy', cv=cv, n_jobs=-1)\n",
    "print('Độ chính xác của 10-fold cross validation: %.3f (%.3f)' % (scores.mean(), scores.std()))\n",
    "print('So sánh với độ chính xác của bài báo là: ' + str(0.833))\n",
    "\n",
    "scores = cross_val_score(svm_des_author, X_Total, y_Total, scoring='accuracy', cv=cv, n_jobs=-1)\n",
    "print('Độ chính xác của 10-fold cross validation: %.3f (%.3f)' % (scores.mean(), scores.std()))\n",
    "print('So sánh với độ chính xác của bài báo là: ' + str(0.847))\n",
    "\n",
    "scores = cross_val_score(rf_des_author, X_Total, y_Total, scoring='accuracy', cv=cv, n_jobs=-1)\n",
    "print('Độ chính xác của 10-fold cross validation: %.3f (%.3f)' % (scores.mean(), scores.std()))\n",
    "print('So sánh với độ chính xác của bài báo là: ' + str(0.857))\n",
    "\n",
    "scores = cross_val_score(bst_des_author, X_Total, y_Total, scoring='accuracy', cv=cv, n_jobs=-1)\n",
    "print('Độ chính xác của 10-fold cross validation: %.3f (%.3f)' % (scores.mean(), scores.std()))\n",
    "print('So sánh với độ chính xác của bài báo là: ' + str(0.822))"
   ]
  },
  {
   "attachments": {},
   "cell_type": "markdown",
   "metadata": {},
   "source": [
    "### Accuracy, Sensitivity, Specificity"
   ]
  },
  {
   "cell_type": "code",
   "execution_count": 28,
   "metadata": {},
   "outputs": [],
   "source": [
    "from sklearn.metrics import confusion_matrix, accuracy_score\n",
    "from tabulate import tabulate\n",
    "import math"
   ]
  },
  {
   "cell_type": "code",
   "execution_count": 29,
   "metadata": {},
   "outputs": [],
   "source": [
    "def model_evaluation_calculation(cm):\n",
    "    tp = cm[0][0]; tn = cm[1][1]; fp = cm[0][1]; fn = cm[1][0]\n",
    "    ac = (tp+tn)/(tp+tn+fp+fn)\n",
    "    se = tp/(tp+fn)\n",
    "    sp = tn/(tn+fp)\n",
    "    mcc = (tp*tn - fp*fn) / math.sqrt((tp+fp)*(tp+fn)*(tn+fp)*(tn+fn))\n",
    "    return ac, se, sp, mcc"
   ]
  },
  {
   "cell_type": "code",
   "execution_count": 30,
   "metadata": {},
   "outputs": [],
   "source": [
    "def me_result(cm, ac1, se1, sp1, mcc1):\n",
    "    print(\"Confusion matrix:\")\n",
    "    print(cm)\n",
    "    ac, se, sp, mcc = model_evaluation_calculation(cm)\n",
    "    print(\"Comparision:\")\n",
    "    table = [[' ' 'AC', 'SE', 'SP', 'MCC'], ['Shin Liu et at', ac1, se1, sp1, mcc1], ['My model', ac, se, sp, mcc]]\n",
    "    print(tabulate(table, headers='firstrow', tablefmt='fancy_grid'))"
   ]
  },
  {
   "attachments": {},
   "cell_type": "markdown",
   "metadata": {},
   "source": [
    "KNN"
   ]
  },
  {
   "cell_type": "code",
   "execution_count": 31,
   "metadata": {},
   "outputs": [
    {
     "name": "stdout",
     "output_type": "stream",
     "text": [
      "Confusion matrix:\n",
      "[[ 38  21]\n",
      " [  7 132]]\n",
      "Comparision:\n",
      "╒════════════════╤══════════╤══════════╤══════════╤══════════╕\n",
      "│                │       AC │       SE │       SP │      MCC │\n",
      "╞════════════════╪══════════╪══════════╪══════════╪══════════╡\n",
      "│ Shin Liu et at │ 0.859    │ 0.95     │ 0.644    │ 0.648    │\n",
      "├────────────────┼──────────┼──────────┼──────────┼──────────┤\n",
      "│ My model       │ 0.858586 │ 0.844444 │ 0.862745 │ 0.647969 │\n",
      "╘════════════════╧══════════╧══════════╧══════════╧══════════╛\n"
     ]
    }
   ],
   "source": [
    "#KNN\n",
    "y_knn_pred = knn_des_author.predict(X_Test_author_des)\n",
    "cm = confusion_matrix(y_Test_des, y_knn_pred)\n",
    "ac1, se1, sp1, mcc1 = 0.859, 0.950, 0.644, 0.648\n",
    "me_result(cm, ac1, se1, sp1, mcc1)"
   ]
  },
  {
   "attachments": {},
   "cell_type": "markdown",
   "metadata": {},
   "source": [
    "SVM"
   ]
  },
  {
   "cell_type": "code",
   "execution_count": 33,
   "metadata": {},
   "outputs": [
    {
     "name": "stdout",
     "output_type": "stream",
     "text": [
      "Confusion matrix:\n",
      "[[ 36  23]\n",
      " [  9 130]]\n",
      "Comparision:\n",
      "╒════════════════╤══════════╤══════╤══════════╤══════════╕\n",
      "│                │       AC │   SE │       SP │      MCC │\n",
      "╞════════════════╪══════════╪══════╪══════════╪══════════╡\n",
      "│ Shin Liu et at │ 0.859    │ 0.95 │ 0.644    │ 0.648    │\n",
      "├────────────────┼──────────┼──────┼──────────┼──────────┤\n",
      "│ My model       │ 0.838384 │ 0.8  │ 0.849673 │ 0.595269 │\n",
      "╘════════════════╧══════════╧══════╧══════════╧══════════╛\n"
     ]
    }
   ],
   "source": [
    "#SVM\n",
    "y_svm_pred = svm_des_author.predict(X_Test_author_des)\n",
    "cm = confusion_matrix(y_Test_des, y_svm_pred)\n",
    "ac1, se1, sp1, mcc1 = 0.859 ,0.950 ,0.644 ,0.648\n",
    "me_result(cm, ac1, se1, sp1, mcc1)"
   ]
  },
  {
   "attachments": {},
   "cell_type": "markdown",
   "metadata": {},
   "source": [
    "RF"
   ]
  },
  {
   "cell_type": "code",
   "execution_count": 34,
   "metadata": {},
   "outputs": [
    {
     "name": "stdout",
     "output_type": "stream",
     "text": [
      "Confusion matrix:\n",
      "[[ 40  19]\n",
      " [  7 132]]\n",
      "Comparision:\n",
      "╒════════════════╤══════════╤══════════╤══════════╤══════════╕\n",
      "│                │       AC │       SE │       SP │      MCC │\n",
      "╞════════════════╪══════════╪══════════╪══════════╪══════════╡\n",
      "│ Shin Liu et at │ 0.798    │ 0.827    │ 0.729    │ 0.538    │\n",
      "├────────────────┼──────────┼──────────┼──────────┼──────────┤\n",
      "│ My model       │ 0.868687 │ 0.851064 │ 0.874172 │ 0.674658 │\n",
      "╘════════════════╧══════════╧══════════╧══════════╧══════════╛\n"
     ]
    }
   ],
   "source": [
    "#SVM\n",
    "y_rf_pred = rf_des_author.predict(X_Test_author_des)\n",
    "cm = confusion_matrix(y_Test_des, y_rf_pred)\n",
    "ac1, se1, sp1, mcc1 = 0.798 ,0.827 ,0.729 ,0.538\n",
    "me_result(cm, ac1, se1, sp1, mcc1)"
   ]
  },
  {
   "attachments": {},
   "cell_type": "markdown",
   "metadata": {},
   "source": [
    "XGboost"
   ]
  },
  {
   "cell_type": "code",
   "execution_count": 35,
   "metadata": {},
   "outputs": [
    {
     "name": "stdout",
     "output_type": "stream",
     "text": [
      "Confusion matrix:\n",
      "[[ 45  14]\n",
      " [  8 131]]\n",
      "Comparision:\n",
      "╒════════════════╤══════════╤══════════╤══════════╤══════════╕\n",
      "│                │       AC │       SE │       SP │      MCC │\n",
      "╞════════════════╪══════════╪══════════╪══════════╪══════════╡\n",
      "│ Shin Liu et at │ 0.773    │ 0.77     │ 0.78     │ 0.514    │\n",
      "├────────────────┼──────────┼──────────┼──────────┼──────────┤\n",
      "│ My model       │ 0.888889 │ 0.849057 │ 0.903448 │ 0.728447 │\n",
      "╘════════════════╧══════════╧══════════╧══════════╧══════════╛\n"
     ]
    }
   ],
   "source": [
    "y_bst_pred = bst_des_author.predict(X_Test_author_des)\n",
    "cm = confusion_matrix(y_Test_des, y_bst_pred)\n",
    "ac1, se1, sp1, mcc1 = 0.773 ,0.770 ,0.780 ,0.514\n",
    "me_result(cm, ac1, se1, sp1, mcc1)"
   ]
  },
  {
   "attachments": {},
   "cell_type": "markdown",
   "metadata": {},
   "source": [
    "### AUC"
   ]
  },
  {
   "cell_type": "code",
   "execution_count": 36,
   "metadata": {},
   "outputs": [
    {
     "data": {
      "image/png": "[encoded data removed]",
      "text/plain": [
       "<Figure size 600x600 with 1 Axes>"
      ]
     },
     "metadata": {},
     "output_type": "display_data"
    }
   ],
   "source": [
    "from sklearn.metrics import RocCurveDisplay\n",
    "fig, ax = plt.subplots(figsize=(6, 6))\n",
    "\n",
    "RocCurveDisplay.from_estimator(\n",
    "    estimator=rf_des_author, \n",
    "    X=X_Test_author_des, \n",
    "    y=y_Test_des,\n",
    "    name=f\"ROC curve for RF\",\n",
    "    color='cornflowerblue',\n",
    "    ax=ax)\n",
    "\n",
    "\n",
    "RocCurveDisplay.from_estimator(\n",
    "    estimator=knn_des_author, \n",
    "    X=X_Test_author_des, \n",
    "    y=y_Test_des,\n",
    "    name=f\"ROC curve for KNN\",\n",
    "    color='darkorange',\n",
    "    ax=ax)\n",
    "\n",
    "RocCurveDisplay.from_estimator(\n",
    "    estimator=bst_des_author, \n",
    "    X=X_Test_author_des, \n",
    "    y=y_Test_des,\n",
    "    name=f\"ROC curve for XGBoost\",\n",
    "    color='aqua',\n",
    "    ax=ax)\n",
    "\n",
    "RocCurveDisplay.from_estimator(\n",
    "    estimator=svm_des_author, \n",
    "    X=X_Test_author_des, \n",
    "    y=y_Test_des,\n",
    "    name=f\"ROC curve for SVM\",\n",
    "    color='red',\n",
    "    ax=ax)\n",
    "\n",
    "plt.plot([0, 1], [0, 1], \"k--\", label=\"chance level (AUC = 0.5)\")\n",
    "plt.axis(\"square\")\n",
    "plt.xlabel(\"False Positive Rate\")\n",
    "plt.ylabel(\"True Positive Rate\")\n",
    "plt.title(\"Modred Descriptors ROC Curves\")\n",
    "plt.legend()\n",
    "plt.show()"
   ]
  }
 ],
 "metadata": {
  "kernelspec": {
   "display_name": "my-rdkit-env",
   "language": "python",
   "name": "python3"
  },
  "language_info": {
   "codemirror_mode": {
    "name": "ipython",
    "version": 3
   },
   "file_extension": ".py",
   "mimetype": "text/x-python",
   "name": "python",
   "nbconvert_exporter": "python",
   "pygments_lexer": "ipython3",
   "version": "3.11.3"
  },
  "orig_nbformat": 4,
  "vscode": {
   "interpreter": {
    "hash": "b9261f96c4a796f57ae4bca1e6085db69d1e98c41d8f6e6360d996db9421903c"
   }
  }
 },
 "nbformat": 4,
 "nbformat_minor": 2
}
